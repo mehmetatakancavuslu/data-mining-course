{
 "cells": [
  {
   "cell_type": "markdown",
   "metadata": {},
   "source": [
    "#  PMLMDM Final Project: The Causal Effects of Economic Development on Human Rights, Democracy and the Rule of Law \n",
    "__Mehmet Atakan Çavuşlu - MMA191<br>\n",
    "Tor Anders Høksås - MMA191__\n",
    "***"
   ]
  },
  {
   "cell_type": "markdown",
   "metadata": {},
   "source": [
    "# Introduction\n",
    "\n",
    "It is a long popular debate whether economic development and human righs, democracy are tied, and is there any causality between these elements in a country-level. We see that often times economically high-performing countries also have more freedom and the human rights are considered to be very importing aspect in the policies of aforementioned countries. There are also some counter-arguements about the same issue. \n",
    "\n",
    "In fact, it became a chicken and an egg problem, often times having no real answer whether economic development brings democracy and human rights, or vice versa: being democratic and putting importance on human rights brings wealth and economic development.\n",
    "\n",
    "This research aims to get statistical insighths about the relationship between economic development and the status of democracy for a country.\n",
    "\n",
    "***\n",
    "\n",
    "### HYPOTHESIS\n",
    "__H1:__ There is a significant correlation between economic development and the status\n",
    "of human rights, democracy, press freedom and the rule of law for a country<br>\n",
    "__H0:__ There is not a significant correlation between economic development and the status of human rights, democracy, press freedom and the rule of law for a country"
   ]
  },
  {
   "cell_type": "code",
   "execution_count": 46,
   "metadata": {},
   "outputs": [],
   "source": [
    "# Import basic statistical and visualization libraries\n",
    "import pandas as pd\n",
    "import numpy as np\n",
    "import matplotlib.pyplot as plt\n",
    "import seaborn as sns\n",
    "import wbdata\n",
    "import datetime\n",
    "from sklearn import linear_model\n",
    "import statsmodels.api as sm\n",
    "from patsy import dmatrices\n",
    "from statsmodels.stats.outliers_influence import variance_inflation_factor"
   ]
  },
  {
   "cell_type": "markdown",
   "metadata": {},
   "source": [
    "# Data Collection\n",
    "To use in the research, following data are collected to be able to assess _Democracy, Human Rights and The Rule of Law_ in a country (mentioned thereafter as _human data_):\n",
    "\n",
    "- __Democracy Index 2018, The Economist Intelligence Unit__<br>\n",
    "https://www.eiu.com/topic/democracy-index<br>\n",
    "Index based on _Electoral Process and Pluralism, Functioning of Government, Political Participation, Political Culture, Civil Liberties_\n",
    "- __World Press Freedom Index 2019, Reporters Without Borders__<br>\n",
    "https://rsf.org/en/ranking<br>\n",
    "Index based on _Pluralism, Media Independence, Environment and Self-censorship, Legislative Framework, Transparency, Infrastructure, Abuses_\n",
    "- __Human Rights Index 2014, Our World In Data University of Oxford__<br>\n",
    "https://ourworldindata.org/human-rights<br>\n",
    "Index based on _Human Rights Protection from Political Oppression, Human Rights Violations_\n",
    "- __Rule of Law Index 2019, World Justice Project__<br>\n",
    "https://worldjusticeproject.org/our- work/research-and-data/wjp-rule-law-index-2019<br>\n",
    "Index based on _Accountability, Just Laws, Open Government, Accessible & Impartial Dispute Resolution_\n",
    "\n",
    "The data about economic development is collected from WorldBank API (https://data.worldbank.org) containing the following indicatiors (mentioned thereafter as _economic data_):\n",
    "\n",
    "- __'NY.GDP.PCAP.CD':__ 'GDP per capita'\n",
    "- __'PA.NUS.PPP':__ 'PPP conversion factor'\n",
    "- __'FP.CPI.TOTL.ZG':__ 'Inflation'\n",
    "- __'SL.UEM.TOTL.ZS':__ 'Unemployment (%)'\n",
    "- __'SP.RUR.TOTL.ZS':__ 'Rural Population (%)'\n",
    "- __'SL.TLF.CACT.NE.ZS':__ 'Labor force participation rate (%)'\n",
    "\n",
    "Variables such as GNI Per Capita, GDP per capita adjusted for PPP, GDP per person employed are not needed and discarded due to high multicollinearity with above variables.\n",
    "***\n",
    "### Collection of Human Data"
   ]
  },
  {
   "cell_type": "code",
   "execution_count": 2,
   "metadata": {},
   "outputs": [
    {
     "data": {
      "text/html": [
       "<div>\n",
       "<style scoped>\n",
       "    .dataframe tbody tr th:only-of-type {\n",
       "        vertical-align: middle;\n",
       "    }\n",
       "\n",
       "    .dataframe tbody tr th {\n",
       "        vertical-align: top;\n",
       "    }\n",
       "\n",
       "    .dataframe thead th {\n",
       "        text-align: right;\n",
       "    }\n",
       "</style>\n",
       "<table border=\"1\" class=\"dataframe\">\n",
       "  <thead>\n",
       "    <tr style=\"text-align: right;\">\n",
       "      <th></th>\n",
       "      <th>Overall Rule of Law Index</th>\n",
       "    </tr>\n",
       "    <tr>\n",
       "      <th>Country</th>\n",
       "      <th></th>\n",
       "    </tr>\n",
       "  </thead>\n",
       "  <tbody>\n",
       "    <tr>\n",
       "      <th>Afghanistan</th>\n",
       "      <td>0.34764</td>\n",
       "    </tr>\n",
       "    <tr>\n",
       "      <th>Albania</th>\n",
       "      <td>0.506076</td>\n",
       "    </tr>\n",
       "    <tr>\n",
       "      <th>Algeria</th>\n",
       "      <td>0.505867</td>\n",
       "    </tr>\n",
       "    <tr>\n",
       "      <th>Angola</th>\n",
       "      <td>0.41263</td>\n",
       "    </tr>\n",
       "    <tr>\n",
       "      <th>Antigua and Barbuda</th>\n",
       "      <td>0.627957</td>\n",
       "    </tr>\n",
       "  </tbody>\n",
       "</table>\n",
       "</div>"
      ],
      "text/plain": [
       "                    Overall Rule of Law Index\n",
       "Country                                      \n",
       "Afghanistan                           0.34764\n",
       "Albania                              0.506076\n",
       "Algeria                              0.505867\n",
       "Angola                                0.41263\n",
       "Antigua and Barbuda                  0.627957"
      ]
     },
     "execution_count": 2,
     "metadata": {},
     "output_type": "execute_result"
    }
   ],
   "source": [
    "# Read Rule of law index data from World Justice Project\n",
    "wjp_data = pd.read_excel('wjp_rule_of_law_index.xlsx', sheet_name='WJP ROL Index 2019 Scores')\n",
    "wjp_data = wjp_data[wjp_data['Country'] == 'WJP Rule of Law Index: Overall Score'].transpose()\n",
    "wjp_data.columns = wjp_data.iloc[0]\n",
    "wjp_data.reset_index(inplace=True)\n",
    "wjp_data = wjp_data.reindex(wjp_data.index.drop(0))\n",
    "wjp_data.reset_index(inplace=True)\n",
    "wjp_data.drop(['level_0'], axis=1, inplace=True)\n",
    "wjp_data.columns = ['Country', 'Overall Rule of Law Index']\n",
    "wjp_data.set_index('Country', inplace=True)\n",
    "wjp_data.head()"
   ]
  },
  {
   "cell_type": "code",
   "execution_count": 3,
   "metadata": {},
   "outputs": [
    {
     "data": {
      "text/html": [
       "<div>\n",
       "<style scoped>\n",
       "    .dataframe tbody tr th:only-of-type {\n",
       "        vertical-align: middle;\n",
       "    }\n",
       "\n",
       "    .dataframe tbody tr th {\n",
       "        vertical-align: top;\n",
       "    }\n",
       "\n",
       "    .dataframe thead th {\n",
       "        text-align: right;\n",
       "    }\n",
       "</style>\n",
       "<table border=\"1\" class=\"dataframe\">\n",
       "  <thead>\n",
       "    <tr style=\"text-align: right;\">\n",
       "      <th></th>\n",
       "      <th>Press Freedom Score</th>\n",
       "    </tr>\n",
       "    <tr>\n",
       "      <th>Country</th>\n",
       "      <th></th>\n",
       "    </tr>\n",
       "  </thead>\n",
       "  <tbody>\n",
       "    <tr>\n",
       "      <th>Norway</th>\n",
       "      <td>7.82</td>\n",
       "    </tr>\n",
       "    <tr>\n",
       "      <th>Finland</th>\n",
       "      <td>7.90</td>\n",
       "    </tr>\n",
       "    <tr>\n",
       "      <th>Sweden</th>\n",
       "      <td>8.31</td>\n",
       "    </tr>\n",
       "    <tr>\n",
       "      <th>Netherlands</th>\n",
       "      <td>8.63</td>\n",
       "    </tr>\n",
       "    <tr>\n",
       "      <th>Denmark</th>\n",
       "      <td>9.87</td>\n",
       "    </tr>\n",
       "  </tbody>\n",
       "</table>\n",
       "</div>"
      ],
      "text/plain": [
       "             Press Freedom Score\n",
       "Country                         \n",
       "Norway                      7.82\n",
       "Finland                     7.90\n",
       "Sweden                      8.31\n",
       "Netherlands                 8.63\n",
       "Denmark                     9.87"
      ]
     },
     "execution_count": 3,
     "metadata": {},
     "output_type": "execute_result"
    }
   ],
   "source": [
    "# Read Press Freedom index data from Reporters Without Borders\n",
    "press_freedom_data = pd.read_csv('press_freedom.csv', decimal=\",\")\n",
    "press_freedom_data = press_freedom_data[[\"EN_country\",\"Score 2019\"]]\n",
    "press_freedom_data.columns = ['Country', 'Press Freedom Score']\n",
    "press_freedom_data.set_index('Country', inplace=True)\n",
    "press_freedom_data.head()"
   ]
  },
  {
   "cell_type": "code",
   "execution_count": 4,
   "metadata": {},
   "outputs": [
    {
     "data": {
      "text/html": [
       "<div>\n",
       "<style scoped>\n",
       "    .dataframe tbody tr th:only-of-type {\n",
       "        vertical-align: middle;\n",
       "    }\n",
       "\n",
       "    .dataframe tbody tr th {\n",
       "        vertical-align: top;\n",
       "    }\n",
       "\n",
       "    .dataframe thead th {\n",
       "        text-align: right;\n",
       "    }\n",
       "</style>\n",
       "<table border=\"1\" class=\"dataframe\">\n",
       "  <thead>\n",
       "    <tr style=\"text-align: right;\">\n",
       "      <th></th>\n",
       "      <th>Human Rights Protection Score</th>\n",
       "    </tr>\n",
       "    <tr>\n",
       "      <th>Country</th>\n",
       "      <th></th>\n",
       "    </tr>\n",
       "  </thead>\n",
       "  <tbody>\n",
       "    <tr>\n",
       "      <th>Afghanistan</th>\n",
       "      <td>-1.281600</td>\n",
       "    </tr>\n",
       "    <tr>\n",
       "      <th>Albania</th>\n",
       "      <td>0.365031</td>\n",
       "    </tr>\n",
       "    <tr>\n",
       "      <th>Algeria</th>\n",
       "      <td>0.015590</td>\n",
       "    </tr>\n",
       "    <tr>\n",
       "      <th>Andorra</th>\n",
       "      <td>3.265850</td>\n",
       "    </tr>\n",
       "    <tr>\n",
       "      <th>Angola</th>\n",
       "      <td>-0.603419</td>\n",
       "    </tr>\n",
       "  </tbody>\n",
       "</table>\n",
       "</div>"
      ],
      "text/plain": [
       "             Human Rights Protection Score\n",
       "Country                                   \n",
       "Afghanistan                      -1.281600\n",
       "Albania                           0.365031\n",
       "Algeria                           0.015590\n",
       "Andorra                           3.265850\n",
       "Angola                           -0.603419"
      ]
     },
     "execution_count": 4,
     "metadata": {},
     "output_type": "execute_result"
    }
   ],
   "source": [
    "# Read Human Rights Protection index data from Our World in Data, provided by Oxford University\n",
    "human_rights_data = pd.read_csv('human_rights_protection.csv')\n",
    "human_rights_data = human_rights_data[human_rights_data['Year'] == 2014]\n",
    "human_rights_data = human_rights_data[[\"Entity\",\"Human Rights Protection Scores – by Christopher Farris and Keith Schnakenberg\"]]\n",
    "human_rights_data.reset_index(inplace=True)\n",
    "human_rights_data.drop(['index'], axis=1, inplace=True)\n",
    "human_rights_data.columns = ['Country', 'Human Rights Protection Score']\n",
    "human_rights_data.set_index('Country', inplace=True)\n",
    "human_rights_data.head()"
   ]
  },
  {
   "cell_type": "code",
   "execution_count": 5,
   "metadata": {},
   "outputs": [
    {
     "data": {
      "text/html": [
       "<div>\n",
       "<style scoped>\n",
       "    .dataframe tbody tr th:only-of-type {\n",
       "        vertical-align: middle;\n",
       "    }\n",
       "\n",
       "    .dataframe tbody tr th {\n",
       "        vertical-align: top;\n",
       "    }\n",
       "\n",
       "    .dataframe thead th {\n",
       "        text-align: right;\n",
       "    }\n",
       "</style>\n",
       "<table border=\"1\" class=\"dataframe\">\n",
       "  <thead>\n",
       "    <tr style=\"text-align: right;\">\n",
       "      <th></th>\n",
       "      <th>Human Rights Violations</th>\n",
       "    </tr>\n",
       "    <tr>\n",
       "      <th>Country</th>\n",
       "      <th></th>\n",
       "    </tr>\n",
       "  </thead>\n",
       "  <tbody>\n",
       "    <tr>\n",
       "      <th>Afghanistan</th>\n",
       "      <td>8.3</td>\n",
       "    </tr>\n",
       "    <tr>\n",
       "      <th>Albania</th>\n",
       "      <td>5.5</td>\n",
       "    </tr>\n",
       "    <tr>\n",
       "      <th>Algeria</th>\n",
       "      <td>7.4</td>\n",
       "    </tr>\n",
       "    <tr>\n",
       "      <th>Angola</th>\n",
       "      <td>7.0</td>\n",
       "    </tr>\n",
       "    <tr>\n",
       "      <th>Antigua and Barbuda</th>\n",
       "      <td>4.7</td>\n",
       "    </tr>\n",
       "  </tbody>\n",
       "</table>\n",
       "</div>"
      ],
      "text/plain": [
       "                     Human Rights Violations\n",
       "Country                                     \n",
       "Afghanistan                              8.3\n",
       "Albania                                  5.5\n",
       "Algeria                                  7.4\n",
       "Angola                                   7.0\n",
       "Antigua and Barbuda                      4.7"
      ]
     },
     "execution_count": 5,
     "metadata": {},
     "output_type": "execute_result"
    }
   ],
   "source": [
    "# Read Human Rights Violations index data from Our World in Data, provided by Oxford University\n",
    "human_rights_violation = pd.read_csv('human_rights_violations.csv')\n",
    "human_rights_violation = human_rights_violation[human_rights_violation['Year'] == 2014]\n",
    "human_rights_violation = human_rights_violation[['Entity', 'Unnamed: 3']]\n",
    "human_rights_violation.reset_index(inplace=True)\n",
    "human_rights_violation.drop(['index'], axis=1, inplace=True)\n",
    "human_rights_violation.columns = ['Country', 'Human Rights Violations']\n",
    "human_rights_violation.set_index('Country', inplace=True)\n",
    "human_rights_violation.head()"
   ]
  },
  {
   "cell_type": "code",
   "execution_count": 6,
   "metadata": {},
   "outputs": [
    {
     "data": {
      "text/html": [
       "<div>\n",
       "<style scoped>\n",
       "    .dataframe tbody tr th:only-of-type {\n",
       "        vertical-align: middle;\n",
       "    }\n",
       "\n",
       "    .dataframe tbody tr th {\n",
       "        vertical-align: top;\n",
       "    }\n",
       "\n",
       "    .dataframe thead th {\n",
       "        text-align: right;\n",
       "    }\n",
       "</style>\n",
       "<table border=\"1\" class=\"dataframe\">\n",
       "  <thead>\n",
       "    <tr style=\"text-align: right;\">\n",
       "      <th></th>\n",
       "      <th>Democracy Index</th>\n",
       "    </tr>\n",
       "    <tr>\n",
       "      <th>Country</th>\n",
       "      <th></th>\n",
       "    </tr>\n",
       "  </thead>\n",
       "  <tbody>\n",
       "    <tr>\n",
       "      <th>Afghanistan</th>\n",
       "      <td>2.97</td>\n",
       "    </tr>\n",
       "    <tr>\n",
       "      <th>Albania</th>\n",
       "      <td>5.98</td>\n",
       "    </tr>\n",
       "    <tr>\n",
       "      <th>Algeria</th>\n",
       "      <td>3.50</td>\n",
       "    </tr>\n",
       "    <tr>\n",
       "      <th>Angola</th>\n",
       "      <td>3.62</td>\n",
       "    </tr>\n",
       "    <tr>\n",
       "      <th>Argentina</th>\n",
       "      <td>7.02</td>\n",
       "    </tr>\n",
       "  </tbody>\n",
       "</table>\n",
       "</div>"
      ],
      "text/plain": [
       "             Democracy Index\n",
       "Country                     \n",
       "Afghanistan             2.97\n",
       "Albania                 5.98\n",
       "Algeria                 3.50\n",
       "Angola                  3.62\n",
       "Argentina               7.02"
      ]
     },
     "execution_count": 6,
     "metadata": {},
     "output_type": "execute_result"
    }
   ],
   "source": [
    "# Read Democracy index data from The Economist Intelligence Unit\n",
    "democracy_data = pd.read_excel('democracy_index.xlsx')\n",
    "democracy_data = democracy_data[['Countries','Overall score ']]\n",
    "democracy_data.reset_index(inplace=True)\n",
    "democracy_data.dropna(inplace=True)\n",
    "democracy_data.drop(['index'], axis=1, inplace=True)\n",
    "democracy_data.columns = ['Country', 'Democracy Index']\n",
    "democracy_data.set_index('Country', inplace=True)\n",
    "democracy_data.head()"
   ]
  },
  {
   "cell_type": "markdown",
   "metadata": {},
   "source": [
    "After reading all the indexes to assess _Democracy, Human Rights and The Rule of Law_ in a country-level, a new dataframe with all these indices called __human_data__ is created."
   ]
  },
  {
   "cell_type": "code",
   "execution_count": 7,
   "metadata": {},
   "outputs": [
    {
     "data": {
      "text/html": [
       "<div>\n",
       "<style scoped>\n",
       "    .dataframe tbody tr th:only-of-type {\n",
       "        vertical-align: middle;\n",
       "    }\n",
       "\n",
       "    .dataframe tbody tr th {\n",
       "        vertical-align: top;\n",
       "    }\n",
       "\n",
       "    .dataframe thead th {\n",
       "        text-align: right;\n",
       "    }\n",
       "</style>\n",
       "<table border=\"1\" class=\"dataframe\">\n",
       "  <thead>\n",
       "    <tr style=\"text-align: right;\">\n",
       "      <th></th>\n",
       "      <th>Overall Rule of Law Index</th>\n",
       "      <th>Press Freedom Score</th>\n",
       "      <th>Human Rights Protection Score</th>\n",
       "      <th>Human Rights Violations</th>\n",
       "      <th>Democracy Index</th>\n",
       "    </tr>\n",
       "  </thead>\n",
       "  <tbody>\n",
       "    <tr>\n",
       "      <th>Afghanistan</th>\n",
       "      <td>0.347640</td>\n",
       "      <td>36.55</td>\n",
       "      <td>-1.281600</td>\n",
       "      <td>8.3</td>\n",
       "      <td>2.97</td>\n",
       "    </tr>\n",
       "    <tr>\n",
       "      <th>Albania</th>\n",
       "      <td>0.506076</td>\n",
       "      <td>29.84</td>\n",
       "      <td>0.365031</td>\n",
       "      <td>5.5</td>\n",
       "      <td>5.98</td>\n",
       "    </tr>\n",
       "    <tr>\n",
       "      <th>Algeria</th>\n",
       "      <td>0.505867</td>\n",
       "      <td>45.75</td>\n",
       "      <td>0.015590</td>\n",
       "      <td>7.4</td>\n",
       "      <td>3.50</td>\n",
       "    </tr>\n",
       "    <tr>\n",
       "      <th>Andorra</th>\n",
       "      <td>NaN</td>\n",
       "      <td>24.63</td>\n",
       "      <td>3.265850</td>\n",
       "      <td>NaN</td>\n",
       "      <td>NaN</td>\n",
       "    </tr>\n",
       "    <tr>\n",
       "      <th>Angola</th>\n",
       "      <td>0.412630</td>\n",
       "      <td>34.96</td>\n",
       "      <td>-0.603419</td>\n",
       "      <td>7.0</td>\n",
       "      <td>3.62</td>\n",
       "    </tr>\n",
       "  </tbody>\n",
       "</table>\n",
       "</div>"
      ],
      "text/plain": [
       "             Overall Rule of Law Index  Press Freedom Score  \\\n",
       "Afghanistan                   0.347640                36.55   \n",
       "Albania                       0.506076                29.84   \n",
       "Algeria                       0.505867                45.75   \n",
       "Andorra                            NaN                24.63   \n",
       "Angola                        0.412630                34.96   \n",
       "\n",
       "             Human Rights Protection Score  Human Rights Violations  \\\n",
       "Afghanistan                      -1.281600                      8.3   \n",
       "Albania                           0.365031                      5.5   \n",
       "Algeria                           0.015590                      7.4   \n",
       "Andorra                           3.265850                      NaN   \n",
       "Angola                           -0.603419                      7.0   \n",
       "\n",
       "             Democracy Index  \n",
       "Afghanistan             2.97  \n",
       "Albania                 5.98  \n",
       "Algeria                 3.50  \n",
       "Andorra                  NaN  \n",
       "Angola                  3.62  "
      ]
     },
     "execution_count": 7,
     "metadata": {},
     "output_type": "execute_result"
    }
   ],
   "source": [
    "human_data = pd.concat([wjp_data, press_freedom_data, human_rights_data, human_rights_violation, democracy_data], axis=1, sort=True)\n",
    "human_data['Overall Rule of Law Index'] = pd.to_numeric(human_data['Overall Rule of Law Index'])\n",
    "human_data.head()"
   ]
  },
  {
   "cell_type": "markdown",
   "metadata": {},
   "source": [
    "### Basic EDA and Data Preprocessing on Human Data"
   ]
  },
  {
   "cell_type": "code",
   "execution_count": 8,
   "metadata": {},
   "outputs": [
    {
     "data": {
      "text/plain": [
       "Overall Rule of Law Index        126\n",
       "Press Freedom Score              180\n",
       "Human Rights Protection Score    196\n",
       "Human Rights Violations          179\n",
       "Democracy Index                  167\n",
       "dtype: int64"
      ]
     },
     "execution_count": 8,
     "metadata": {},
     "output_type": "execute_result"
    }
   ],
   "source": [
    "# Data count for each column\n",
    "human_data.count()"
   ]
  },
  {
   "cell_type": "code",
   "execution_count": 9,
   "metadata": {},
   "outputs": [
    {
     "data": {
      "text/plain": [
       "Overall Rule of Law Index        151\n",
       "Press Freedom Score               97\n",
       "Human Rights Protection Score     81\n",
       "Human Rights Violations           98\n",
       "Democracy Index                  110\n",
       "dtype: int64"
      ]
     },
     "execution_count": 9,
     "metadata": {},
     "output_type": "execute_result"
    }
   ],
   "source": [
    "# Total Missing data per column\n",
    "human_data.isnull().sum()"
   ]
  },
  {
   "cell_type": "markdown",
   "metadata": {},
   "source": [
    "#### Handling Missing Data on Human Data\n",
    "There is lots of missing data for a lot of countries in the table. Omitting NaN values would significantly limit the model implications since it leaves such a small amount of data available.\n",
    "\n",
    "Popular and easier Data Imputation methods such as mean/median would not work in our case, because a lot of the data missing are from edge countries, which means values of not around average but rather on the edges of the scale.\n",
    "\n",
    "To overcome this issue, an imputing method of __KNN Imptuting__ is used. The detailed explanation of such method gathered from scikitlearn docs is:\n",
    "\n",
    "_Each sample’s missing values are imputed using the mean value from n_neighbors nearest neighbors found in the training set. Two samples are close if the features that neither is missing are close. By default, a euclidean distance metric that supports missing values, nan_euclidean_distances, is used to find the nearest neighbors._\n",
    "\n",
    "This would prove useful since it is expected that countries with other given variables similar should perform similarly in the NaN values. \n",
    "\n",
    "To make the imputations better, before KNN imputing, the rows with more than 2 NaN values can be omitted. Since having so much NaNs simply make it hard to make imputations about that country."
   ]
  },
  {
   "cell_type": "code",
   "execution_count": 10,
   "metadata": {},
   "outputs": [],
   "source": [
    "# Omitting rows with more than 2 NaN values\n",
    "human_data_omitted = human_data.dropna(thresh=2)"
   ]
  },
  {
   "cell_type": "code",
   "execution_count": 11,
   "metadata": {},
   "outputs": [
    {
     "data": {
      "text/plain": [
       "Overall Rule of Law Index        0\n",
       "Press Freedom Score              0\n",
       "Human Rights Protection Score    0\n",
       "Human Rights Violations          0\n",
       "Democracy Index                  0\n",
       "dtype: int64"
      ]
     },
     "execution_count": 11,
     "metadata": {},
     "output_type": "execute_result"
    }
   ],
   "source": [
    "# Impute NaN with KNNImputer\n",
    "from sklearn.impute import KNNImputer\n",
    "imputer = KNNImputer(n_neighbors=2)\n",
    "human_data_filled_array = imputer.fit_transform(human_data_omitted)\n",
    "human_data_filled = pd.DataFrame(human_data_filled_array)\n",
    "human_data_filled.columns = ['Overall Rule of Law Index', 'Press Freedom Score', 'Human Rights Protection Score', 'Human Rights Violations', 'Democracy Index']\n",
    "human_data_filled.index = human_data_omitted.index\n",
    "human_data_filled.isnull().sum()"
   ]
  },
  {
   "cell_type": "code",
   "execution_count": 12,
   "metadata": {},
   "outputs": [
    {
     "data": {
      "text/plain": [
       "Overall Rule of Law Index        186\n",
       "Press Freedom Score              186\n",
       "Human Rights Protection Score    186\n",
       "Human Rights Violations          186\n",
       "Democracy Index                  186\n",
       "dtype: int64"
      ]
     },
     "execution_count": 12,
     "metadata": {},
     "output_type": "execute_result"
    }
   ],
   "source": [
    "human_data_filled.count()"
   ]
  },
  {
   "cell_type": "code",
   "execution_count": 13,
   "metadata": {},
   "outputs": [
    {
     "data": {
      "text/html": [
       "<div>\n",
       "<style scoped>\n",
       "    .dataframe tbody tr th:only-of-type {\n",
       "        vertical-align: middle;\n",
       "    }\n",
       "\n",
       "    .dataframe tbody tr th {\n",
       "        vertical-align: top;\n",
       "    }\n",
       "\n",
       "    .dataframe thead th {\n",
       "        text-align: right;\n",
       "    }\n",
       "</style>\n",
       "<table border=\"1\" class=\"dataframe\">\n",
       "  <thead>\n",
       "    <tr style=\"text-align: right;\">\n",
       "      <th></th>\n",
       "      <th>Overall Rule of Law Index</th>\n",
       "      <th>Press Freedom Score</th>\n",
       "      <th>Human Rights Protection Score</th>\n",
       "      <th>Human Rights Violations</th>\n",
       "      <th>Democracy Index</th>\n",
       "    </tr>\n",
       "  </thead>\n",
       "  <tbody>\n",
       "    <tr>\n",
       "      <th>Overall Rule of Law Index</th>\n",
       "      <td>1.000000</td>\n",
       "      <td>-0.613701</td>\n",
       "      <td>0.784069</td>\n",
       "      <td>-0.832201</td>\n",
       "      <td>0.635293</td>\n",
       "    </tr>\n",
       "    <tr>\n",
       "      <th>Press Freedom Score</th>\n",
       "      <td>-0.613701</td>\n",
       "      <td>1.000000</td>\n",
       "      <td>-0.669364</td>\n",
       "      <td>0.760259</td>\n",
       "      <td>-0.710291</td>\n",
       "    </tr>\n",
       "    <tr>\n",
       "      <th>Human Rights Protection Score</th>\n",
       "      <td>0.784069</td>\n",
       "      <td>-0.669364</td>\n",
       "      <td>1.000000</td>\n",
       "      <td>-0.792795</td>\n",
       "      <td>0.589848</td>\n",
       "    </tr>\n",
       "    <tr>\n",
       "      <th>Human Rights Violations</th>\n",
       "      <td>-0.832201</td>\n",
       "      <td>0.760259</td>\n",
       "      <td>-0.792795</td>\n",
       "      <td>1.000000</td>\n",
       "      <td>-0.802528</td>\n",
       "    </tr>\n",
       "    <tr>\n",
       "      <th>Democracy Index</th>\n",
       "      <td>0.635293</td>\n",
       "      <td>-0.710291</td>\n",
       "      <td>0.589848</td>\n",
       "      <td>-0.802528</td>\n",
       "      <td>1.000000</td>\n",
       "    </tr>\n",
       "  </tbody>\n",
       "</table>\n",
       "</div>"
      ],
      "text/plain": [
       "                               Overall Rule of Law Index  Press Freedom Score  \\\n",
       "Overall Rule of Law Index                       1.000000            -0.613701   \n",
       "Press Freedom Score                            -0.613701             1.000000   \n",
       "Human Rights Protection Score                   0.784069            -0.669364   \n",
       "Human Rights Violations                        -0.832201             0.760259   \n",
       "Democracy Index                                 0.635293            -0.710291   \n",
       "\n",
       "                               Human Rights Protection Score  \\\n",
       "Overall Rule of Law Index                           0.784069   \n",
       "Press Freedom Score                                -0.669364   \n",
       "Human Rights Protection Score                       1.000000   \n",
       "Human Rights Violations                            -0.792795   \n",
       "Democracy Index                                     0.589848   \n",
       "\n",
       "                               Human Rights Violations  Democracy Index  \n",
       "Overall Rule of Law Index                    -0.832201         0.635293  \n",
       "Press Freedom Score                           0.760259        -0.710291  \n",
       "Human Rights Protection Score                -0.792795         0.589848  \n",
       "Human Rights Violations                       1.000000        -0.802528  \n",
       "Democracy Index                              -0.802528         1.000000  "
      ]
     },
     "execution_count": 13,
     "metadata": {},
     "output_type": "execute_result"
    }
   ],
   "source": [
    "human_data_filled.corr()"
   ]
  },
  {
   "cell_type": "code",
   "execution_count": 14,
   "metadata": {},
   "outputs": [
    {
     "data": {
      "text/html": [
       "<div>\n",
       "<style scoped>\n",
       "    .dataframe tbody tr th:only-of-type {\n",
       "        vertical-align: middle;\n",
       "    }\n",
       "\n",
       "    .dataframe tbody tr th {\n",
       "        vertical-align: top;\n",
       "    }\n",
       "\n",
       "    .dataframe thead th {\n",
       "        text-align: right;\n",
       "    }\n",
       "</style>\n",
       "<table border=\"1\" class=\"dataframe\">\n",
       "  <thead>\n",
       "    <tr style=\"text-align: right;\">\n",
       "      <th></th>\n",
       "      <th>Overall Rule of Law Index</th>\n",
       "      <th>Press Freedom Score</th>\n",
       "      <th>Human Rights Protection Score</th>\n",
       "      <th>Human Rights Violations</th>\n",
       "      <th>Democracy Index</th>\n",
       "    </tr>\n",
       "  </thead>\n",
       "  <tbody>\n",
       "    <tr>\n",
       "      <th>Overall Rule of Law Index</th>\n",
       "      <td>1.000000</td>\n",
       "      <td>-0.644426</td>\n",
       "      <td>0.830458</td>\n",
       "      <td>-0.841896</td>\n",
       "      <td>0.518674</td>\n",
       "    </tr>\n",
       "    <tr>\n",
       "      <th>Press Freedom Score</th>\n",
       "      <td>-0.644426</td>\n",
       "      <td>1.000000</td>\n",
       "      <td>-0.665240</td>\n",
       "      <td>0.765425</td>\n",
       "      <td>-0.589410</td>\n",
       "    </tr>\n",
       "    <tr>\n",
       "      <th>Human Rights Protection Score</th>\n",
       "      <td>0.830458</td>\n",
       "      <td>-0.665240</td>\n",
       "      <td>1.000000</td>\n",
       "      <td>-0.824914</td>\n",
       "      <td>0.330120</td>\n",
       "    </tr>\n",
       "    <tr>\n",
       "      <th>Human Rights Violations</th>\n",
       "      <td>-0.841896</td>\n",
       "      <td>0.765425</td>\n",
       "      <td>-0.824914</td>\n",
       "      <td>1.000000</td>\n",
       "      <td>-0.737144</td>\n",
       "    </tr>\n",
       "    <tr>\n",
       "      <th>Democracy Index</th>\n",
       "      <td>0.518674</td>\n",
       "      <td>-0.589410</td>\n",
       "      <td>0.330120</td>\n",
       "      <td>-0.737144</td>\n",
       "      <td>1.000000</td>\n",
       "    </tr>\n",
       "  </tbody>\n",
       "</table>\n",
       "</div>"
      ],
      "text/plain": [
       "                               Overall Rule of Law Index  Press Freedom Score  \\\n",
       "Overall Rule of Law Index                       1.000000            -0.644426   \n",
       "Press Freedom Score                            -0.644426             1.000000   \n",
       "Human Rights Protection Score                   0.830458            -0.665240   \n",
       "Human Rights Violations                        -0.841896             0.765425   \n",
       "Democracy Index                                 0.518674            -0.589410   \n",
       "\n",
       "                               Human Rights Protection Score  \\\n",
       "Overall Rule of Law Index                           0.830458   \n",
       "Press Freedom Score                                -0.665240   \n",
       "Human Rights Protection Score                       1.000000   \n",
       "Human Rights Violations                            -0.824914   \n",
       "Democracy Index                                     0.330120   \n",
       "\n",
       "                               Human Rights Violations  Democracy Index  \n",
       "Overall Rule of Law Index                    -0.841896         0.518674  \n",
       "Press Freedom Score                           0.765425        -0.589410  \n",
       "Human Rights Protection Score                -0.824914         0.330120  \n",
       "Human Rights Violations                       1.000000        -0.737144  \n",
       "Democracy Index                              -0.737144         1.000000  "
      ]
     },
     "execution_count": 14,
     "metadata": {},
     "output_type": "execute_result"
    }
   ],
   "source": [
    "human_data_omitted.corr()"
   ]
  },
  {
   "cell_type": "markdown",
   "metadata": {},
   "source": [
    "It can be seen that correlation between variables are not changed significantly after handling NaN values with KNN method. While it can be somewhat safely said it will not affect the results, further checks on the data before and after imputation might be needed, to check for validity. \n",
    "\n",
    "This is left out as future work, for now this filled data is accepted satisfactory enough to use in the following models.\n",
    "\n",
    "From above tables, it seems like theres some high collinearity between some variables, although that is expected it can affect the model inferences if handled bad. Checking VIF also might be good idea after adding outcome variable."
   ]
  },
  {
   "cell_type": "markdown",
   "metadata": {},
   "source": [
    "### Collection of Economic Data"
   ]
  },
  {
   "cell_type": "code",
   "execution_count": 15,
   "metadata": {},
   "outputs": [],
   "source": [
    "# Set indicators and date to read from WorldBank API\n",
    "indicators = {\n",
    "    'NY.GDP.PCAP.CD':'GDP per capita',\n",
    "    'PA.NUS.PPP':'PPP conversion factor',\n",
    "    'FP.CPI.TOTL.ZG':'Inflation',\n",
    "    'SL.UEM.TOTL.ZS':'Unemployment (%)',\n",
    "    'SP.RUR.TOTL.ZS':'Rural Population (%)',\n",
    "    'SL.TLF.CACT.NE.ZS':'Labor force participation rate (%)',\n",
    "            }\n",
    "data_date = datetime.datetime(2017, 1, 1)"
   ]
  },
  {
   "cell_type": "code",
   "execution_count": 16,
   "metadata": {},
   "outputs": [],
   "source": [
    "# Get the economic data as pandas dataframe from WB API, with given indicators and date\n",
    "economic_data = wbdata.get_dataframe(indicators, data_date=data_date)"
   ]
  },
  {
   "cell_type": "markdown",
   "metadata": {},
   "source": [
    "### Basic EDA and Data Preprocessing on Human Data"
   ]
  },
  {
   "cell_type": "code",
   "execution_count": 17,
   "metadata": {},
   "outputs": [
    {
     "data": {
      "text/plain": [
       "GDP per capita                        247\n",
       "PPP conversion factor                 196\n",
       "Inflation                             221\n",
       "Unemployment (%)                      233\n",
       "Rural Population (%)                  260\n",
       "Labor force participation rate (%)    130\n",
       "dtype: int64"
      ]
     },
     "execution_count": 17,
     "metadata": {},
     "output_type": "execute_result"
    }
   ],
   "source": [
    "economic_data.count()"
   ]
  },
  {
   "cell_type": "code",
   "execution_count": 18,
   "metadata": {
    "scrolled": true
   },
   "outputs": [
    {
     "data": {
      "text/plain": [
       "GDP per capita                         17\n",
       "PPP conversion factor                  68\n",
       "Inflation                              43\n",
       "Unemployment (%)                       31\n",
       "Rural Population (%)                    4\n",
       "Labor force participation rate (%)    134\n",
       "dtype: int64"
      ]
     },
     "execution_count": 18,
     "metadata": {},
     "output_type": "execute_result"
    }
   ],
   "source": [
    "# Total Missing data per column\n",
    "economic_data.isnull().sum()"
   ]
  },
  {
   "cell_type": "markdown",
   "metadata": {},
   "source": [
    "Most of the columns have low amount of NaNs, only exception being _Labor force participation rate_. It seems like the same KNN Imputing can be applied here, since we expect countries to behave similar economic wise, if all the other indicators are similar.\n",
    "\n",
    "Similary before KNN imputing, the rows with more than 2 NaN values are omitted."
   ]
  },
  {
   "cell_type": "code",
   "execution_count": 19,
   "metadata": {},
   "outputs": [
    {
     "data": {
      "text/plain": [
       "GDP per capita                        0\n",
       "PPP conversion factor                 0\n",
       "Inflation                             0\n",
       "Unemployment (%)                      0\n",
       "Rural Population (%)                  0\n",
       "Labor force participation rate (%)    0\n",
       "dtype: int64"
      ]
     },
     "execution_count": 19,
     "metadata": {},
     "output_type": "execute_result"
    }
   ],
   "source": [
    "# Omitting rows with more than 2 NaN values\n",
    "economic_data_omitted = economic_data.dropna(thresh=3)\n",
    "# Impute NaN with KNNImputer\n",
    "economic_data_filled_array = imputer.fit_transform(economic_data_omitted)\n",
    "economic_data_filled = pd.DataFrame(economic_data_filled_array)\n",
    "economic_data_filled.columns = ['GDP per capita', 'PPP conversion factor', 'Inflation', 'Unemployment (%)', 'Rural Population (%)', 'Labor force participation rate (%)']\n",
    "economic_data_filled.index = economic_data_omitted.index\n",
    "economic_data_filled.isnull().sum()"
   ]
  },
  {
   "cell_type": "code",
   "execution_count": 20,
   "metadata": {},
   "outputs": [
    {
     "data": {
      "text/plain": [
       "GDP per capita                        244\n",
       "PPP conversion factor                 244\n",
       "Inflation                             244\n",
       "Unemployment (%)                      244\n",
       "Rural Population (%)                  244\n",
       "Labor force participation rate (%)    244\n",
       "dtype: int64"
      ]
     },
     "execution_count": 20,
     "metadata": {},
     "output_type": "execute_result"
    }
   ],
   "source": [
    "economic_data_filled.count()"
   ]
  },
  {
   "cell_type": "code",
   "execution_count": 21,
   "metadata": {},
   "outputs": [
    {
     "data": {
      "text/html": [
       "<div>\n",
       "<style scoped>\n",
       "    .dataframe tbody tr th:only-of-type {\n",
       "        vertical-align: middle;\n",
       "    }\n",
       "\n",
       "    .dataframe tbody tr th {\n",
       "        vertical-align: top;\n",
       "    }\n",
       "\n",
       "    .dataframe thead th {\n",
       "        text-align: right;\n",
       "    }\n",
       "</style>\n",
       "<table border=\"1\" class=\"dataframe\">\n",
       "  <thead>\n",
       "    <tr style=\"text-align: right;\">\n",
       "      <th></th>\n",
       "      <th>GDP per capita</th>\n",
       "      <th>PPP conversion factor</th>\n",
       "      <th>Inflation</th>\n",
       "      <th>Unemployment (%)</th>\n",
       "      <th>Rural Population (%)</th>\n",
       "      <th>Labor force participation rate (%)</th>\n",
       "    </tr>\n",
       "  </thead>\n",
       "  <tbody>\n",
       "    <tr>\n",
       "      <th>GDP per capita</th>\n",
       "      <td>1.000000</td>\n",
       "      <td>-0.136329</td>\n",
       "      <td>-0.062622</td>\n",
       "      <td>-0.118976</td>\n",
       "      <td>-0.623888</td>\n",
       "      <td>0.347456</td>\n",
       "    </tr>\n",
       "    <tr>\n",
       "      <th>PPP conversion factor</th>\n",
       "      <td>-0.136329</td>\n",
       "      <td>1.000000</td>\n",
       "      <td>0.089100</td>\n",
       "      <td>-0.022497</td>\n",
       "      <td>0.083802</td>\n",
       "      <td>-0.041076</td>\n",
       "    </tr>\n",
       "    <tr>\n",
       "      <th>Inflation</th>\n",
       "      <td>-0.062622</td>\n",
       "      <td>0.089100</td>\n",
       "      <td>1.000000</td>\n",
       "      <td>0.034752</td>\n",
       "      <td>0.061299</td>\n",
       "      <td>-0.013710</td>\n",
       "    </tr>\n",
       "    <tr>\n",
       "      <th>Unemployment (%)</th>\n",
       "      <td>-0.118976</td>\n",
       "      <td>-0.022497</td>\n",
       "      <td>0.034752</td>\n",
       "      <td>1.000000</td>\n",
       "      <td>-0.076626</td>\n",
       "      <td>-0.178043</td>\n",
       "    </tr>\n",
       "    <tr>\n",
       "      <th>Rural Population (%)</th>\n",
       "      <td>-0.623888</td>\n",
       "      <td>0.083802</td>\n",
       "      <td>0.061299</td>\n",
       "      <td>-0.076626</td>\n",
       "      <td>1.000000</td>\n",
       "      <td>-0.309196</td>\n",
       "    </tr>\n",
       "    <tr>\n",
       "      <th>Labor force participation rate (%)</th>\n",
       "      <td>0.347456</td>\n",
       "      <td>-0.041076</td>\n",
       "      <td>-0.013710</td>\n",
       "      <td>-0.178043</td>\n",
       "      <td>-0.309196</td>\n",
       "      <td>1.000000</td>\n",
       "    </tr>\n",
       "  </tbody>\n",
       "</table>\n",
       "</div>"
      ],
      "text/plain": [
       "                                    GDP per capita  PPP conversion factor  \\\n",
       "GDP per capita                            1.000000              -0.136329   \n",
       "PPP conversion factor                    -0.136329               1.000000   \n",
       "Inflation                                -0.062622               0.089100   \n",
       "Unemployment (%)                         -0.118976              -0.022497   \n",
       "Rural Population (%)                     -0.623888               0.083802   \n",
       "Labor force participation rate (%)        0.347456              -0.041076   \n",
       "\n",
       "                                    Inflation  Unemployment (%)  \\\n",
       "GDP per capita                      -0.062622         -0.118976   \n",
       "PPP conversion factor                0.089100         -0.022497   \n",
       "Inflation                            1.000000          0.034752   \n",
       "Unemployment (%)                     0.034752          1.000000   \n",
       "Rural Population (%)                 0.061299         -0.076626   \n",
       "Labor force participation rate (%)  -0.013710         -0.178043   \n",
       "\n",
       "                                    Rural Population (%)  \\\n",
       "GDP per capita                                 -0.623888   \n",
       "PPP conversion factor                           0.083802   \n",
       "Inflation                                       0.061299   \n",
       "Unemployment (%)                               -0.076626   \n",
       "Rural Population (%)                            1.000000   \n",
       "Labor force participation rate (%)             -0.309196   \n",
       "\n",
       "                                    Labor force participation rate (%)  \n",
       "GDP per capita                                                0.347456  \n",
       "PPP conversion factor                                        -0.041076  \n",
       "Inflation                                                    -0.013710  \n",
       "Unemployment (%)                                             -0.178043  \n",
       "Rural Population (%)                                         -0.309196  \n",
       "Labor force participation rate (%)                            1.000000  "
      ]
     },
     "execution_count": 21,
     "metadata": {},
     "output_type": "execute_result"
    }
   ],
   "source": [
    "economic_data_filled.corr()"
   ]
  },
  {
   "cell_type": "code",
   "execution_count": 22,
   "metadata": {},
   "outputs": [
    {
     "data": {
      "text/html": [
       "<div>\n",
       "<style scoped>\n",
       "    .dataframe tbody tr th:only-of-type {\n",
       "        vertical-align: middle;\n",
       "    }\n",
       "\n",
       "    .dataframe tbody tr th {\n",
       "        vertical-align: top;\n",
       "    }\n",
       "\n",
       "    .dataframe thead th {\n",
       "        text-align: right;\n",
       "    }\n",
       "</style>\n",
       "<table border=\"1\" class=\"dataframe\">\n",
       "  <thead>\n",
       "    <tr style=\"text-align: right;\">\n",
       "      <th></th>\n",
       "      <th>GDP per capita</th>\n",
       "      <th>PPP conversion factor</th>\n",
       "      <th>Inflation</th>\n",
       "      <th>Unemployment (%)</th>\n",
       "      <th>Rural Population (%)</th>\n",
       "      <th>Labor force participation rate (%)</th>\n",
       "    </tr>\n",
       "  </thead>\n",
       "  <tbody>\n",
       "    <tr>\n",
       "      <th>GDP per capita</th>\n",
       "      <td>1.000000</td>\n",
       "      <td>-0.136904</td>\n",
       "      <td>-0.296855</td>\n",
       "      <td>-0.124348</td>\n",
       "      <td>-0.619396</td>\n",
       "      <td>0.364914</td>\n",
       "    </tr>\n",
       "    <tr>\n",
       "      <th>PPP conversion factor</th>\n",
       "      <td>-0.136904</td>\n",
       "      <td>1.000000</td>\n",
       "      <td>0.082275</td>\n",
       "      <td>-0.033872</td>\n",
       "      <td>0.085750</td>\n",
       "      <td>-0.029130</td>\n",
       "    </tr>\n",
       "    <tr>\n",
       "      <th>Inflation</th>\n",
       "      <td>-0.296855</td>\n",
       "      <td>0.082275</td>\n",
       "      <td>1.000000</td>\n",
       "      <td>0.078810</td>\n",
       "      <td>0.201101</td>\n",
       "      <td>-0.082152</td>\n",
       "    </tr>\n",
       "    <tr>\n",
       "      <th>Unemployment (%)</th>\n",
       "      <td>-0.124348</td>\n",
       "      <td>-0.033872</td>\n",
       "      <td>0.078810</td>\n",
       "      <td>1.000000</td>\n",
       "      <td>-0.092445</td>\n",
       "      <td>-0.344268</td>\n",
       "    </tr>\n",
       "    <tr>\n",
       "      <th>Rural Population (%)</th>\n",
       "      <td>-0.619396</td>\n",
       "      <td>0.085750</td>\n",
       "      <td>0.201101</td>\n",
       "      <td>-0.092445</td>\n",
       "      <td>1.000000</td>\n",
       "      <td>-0.410876</td>\n",
       "    </tr>\n",
       "    <tr>\n",
       "      <th>Labor force participation rate (%)</th>\n",
       "      <td>0.364914</td>\n",
       "      <td>-0.029130</td>\n",
       "      <td>-0.082152</td>\n",
       "      <td>-0.344268</td>\n",
       "      <td>-0.410876</td>\n",
       "      <td>1.000000</td>\n",
       "    </tr>\n",
       "  </tbody>\n",
       "</table>\n",
       "</div>"
      ],
      "text/plain": [
       "                                    GDP per capita  PPP conversion factor  \\\n",
       "GDP per capita                            1.000000              -0.136904   \n",
       "PPP conversion factor                    -0.136904               1.000000   \n",
       "Inflation                                -0.296855               0.082275   \n",
       "Unemployment (%)                         -0.124348              -0.033872   \n",
       "Rural Population (%)                     -0.619396               0.085750   \n",
       "Labor force participation rate (%)        0.364914              -0.029130   \n",
       "\n",
       "                                    Inflation  Unemployment (%)  \\\n",
       "GDP per capita                      -0.296855         -0.124348   \n",
       "PPP conversion factor                0.082275         -0.033872   \n",
       "Inflation                            1.000000          0.078810   \n",
       "Unemployment (%)                     0.078810          1.000000   \n",
       "Rural Population (%)                 0.201101         -0.092445   \n",
       "Labor force participation rate (%)  -0.082152         -0.344268   \n",
       "\n",
       "                                    Rural Population (%)  \\\n",
       "GDP per capita                                 -0.619396   \n",
       "PPP conversion factor                           0.085750   \n",
       "Inflation                                       0.201101   \n",
       "Unemployment (%)                               -0.092445   \n",
       "Rural Population (%)                            1.000000   \n",
       "Labor force participation rate (%)             -0.410876   \n",
       "\n",
       "                                    Labor force participation rate (%)  \n",
       "GDP per capita                                                0.364914  \n",
       "PPP conversion factor                                        -0.029130  \n",
       "Inflation                                                    -0.082152  \n",
       "Unemployment (%)                                             -0.344268  \n",
       "Rural Population (%)                                         -0.410876  \n",
       "Labor force participation rate (%)                            1.000000  "
      ]
     },
     "execution_count": 22,
     "metadata": {},
     "output_type": "execute_result"
    }
   ],
   "source": [
    "economic_data_omitted.corr()"
   ]
  },
  {
   "cell_type": "markdown",
   "metadata": {},
   "source": [
    "Similary, we see correlations did not skewed too much, so again for this research we can safely ignore the unwanted effects of imputing NaNs."
   ]
  },
  {
   "cell_type": "markdown",
   "metadata": {},
   "source": [
    "## Combined table of Human Data and Economic Data\n",
    "A final dataframe is created to be used on the models, with combining imputed human data and the imputed economic data."
   ]
  },
  {
   "cell_type": "code",
   "execution_count": 23,
   "metadata": {},
   "outputs": [
    {
     "data": {
      "text/html": [
       "<div>\n",
       "<style scoped>\n",
       "    .dataframe tbody tr th:only-of-type {\n",
       "        vertical-align: middle;\n",
       "    }\n",
       "\n",
       "    .dataframe tbody tr th {\n",
       "        vertical-align: top;\n",
       "    }\n",
       "\n",
       "    .dataframe thead th {\n",
       "        text-align: right;\n",
       "    }\n",
       "</style>\n",
       "<table border=\"1\" class=\"dataframe\">\n",
       "  <thead>\n",
       "    <tr style=\"text-align: right;\">\n",
       "      <th></th>\n",
       "      <th>Overall Rule of Law Index</th>\n",
       "      <th>Press Freedom Score</th>\n",
       "      <th>Human Rights Protection Score</th>\n",
       "      <th>Human Rights Violations</th>\n",
       "      <th>Democracy Index</th>\n",
       "      <th>GDP per capita</th>\n",
       "      <th>PPP conversion factor</th>\n",
       "      <th>Inflation</th>\n",
       "      <th>Unemployment (%)</th>\n",
       "      <th>Rural Population (%)</th>\n",
       "      <th>Labor force participation rate (%)</th>\n",
       "    </tr>\n",
       "  </thead>\n",
       "  <tbody>\n",
       "    <tr>\n",
       "      <th>Afghanistan</th>\n",
       "      <td>0.347640</td>\n",
       "      <td>36.55</td>\n",
       "      <td>-1.281600</td>\n",
       "      <td>8.3</td>\n",
       "      <td>2.97</td>\n",
       "      <td>556.302139</td>\n",
       "      <td>17.205558</td>\n",
       "      <td>4.975952</td>\n",
       "      <td>11.184</td>\n",
       "      <td>74.750</td>\n",
       "      <td>47.305000</td>\n",
       "    </tr>\n",
       "    <tr>\n",
       "      <th>Albania</th>\n",
       "      <td>0.506076</td>\n",
       "      <td>29.84</td>\n",
       "      <td>0.365031</td>\n",
       "      <td>5.5</td>\n",
       "      <td>5.98</td>\n",
       "      <td>4532.890162</td>\n",
       "      <td>41.231113</td>\n",
       "      <td>1.986661</td>\n",
       "      <td>13.750</td>\n",
       "      <td>40.617</td>\n",
       "      <td>58.299999</td>\n",
       "    </tr>\n",
       "    <tr>\n",
       "      <th>Algeria</th>\n",
       "      <td>0.505867</td>\n",
       "      <td>45.75</td>\n",
       "      <td>0.015590</td>\n",
       "      <td>7.4</td>\n",
       "      <td>3.50</td>\n",
       "      <td>4044.298372</td>\n",
       "      <td>38.855751</td>\n",
       "      <td>5.591116</td>\n",
       "      <td>11.996</td>\n",
       "      <td>27.948</td>\n",
       "      <td>36.910000</td>\n",
       "    </tr>\n",
       "    <tr>\n",
       "      <th>Andorra</th>\n",
       "      <td>0.658829</td>\n",
       "      <td>24.63</td>\n",
       "      <td>3.265850</td>\n",
       "      <td>4.9</td>\n",
       "      <td>6.74</td>\n",
       "      <td>NaN</td>\n",
       "      <td>NaN</td>\n",
       "      <td>NaN</td>\n",
       "      <td>NaN</td>\n",
       "      <td>NaN</td>\n",
       "      <td>NaN</td>\n",
       "    </tr>\n",
       "    <tr>\n",
       "      <th>Angola</th>\n",
       "      <td>0.412630</td>\n",
       "      <td>34.96</td>\n",
       "      <td>-0.603419</td>\n",
       "      <td>7.0</td>\n",
       "      <td>3.62</td>\n",
       "      <td>4095.812942</td>\n",
       "      <td>92.951721</td>\n",
       "      <td>31.691686</td>\n",
       "      <td>7.119</td>\n",
       "      <td>35.161</td>\n",
       "      <td>45.450701</td>\n",
       "    </tr>\n",
       "  </tbody>\n",
       "</table>\n",
       "</div>"
      ],
      "text/plain": [
       "             Overall Rule of Law Index  Press Freedom Score  \\\n",
       "Afghanistan                   0.347640                36.55   \n",
       "Albania                       0.506076                29.84   \n",
       "Algeria                       0.505867                45.75   \n",
       "Andorra                       0.658829                24.63   \n",
       "Angola                        0.412630                34.96   \n",
       "\n",
       "             Human Rights Protection Score  Human Rights Violations  \\\n",
       "Afghanistan                      -1.281600                      8.3   \n",
       "Albania                           0.365031                      5.5   \n",
       "Algeria                           0.015590                      7.4   \n",
       "Andorra                           3.265850                      4.9   \n",
       "Angola                           -0.603419                      7.0   \n",
       "\n",
       "             Democracy Index  GDP per capita  PPP conversion factor  \\\n",
       "Afghanistan             2.97      556.302139              17.205558   \n",
       "Albania                 5.98     4532.890162              41.231113   \n",
       "Algeria                 3.50     4044.298372              38.855751   \n",
       "Andorra                 6.74             NaN                    NaN   \n",
       "Angola                  3.62     4095.812942              92.951721   \n",
       "\n",
       "             Inflation  Unemployment (%)  Rural Population (%)  \\\n",
       "Afghanistan   4.975952            11.184                74.750   \n",
       "Albania       1.986661            13.750                40.617   \n",
       "Algeria       5.591116            11.996                27.948   \n",
       "Andorra            NaN               NaN                   NaN   \n",
       "Angola       31.691686             7.119                35.161   \n",
       "\n",
       "             Labor force participation rate (%)  \n",
       "Afghanistan                           47.305000  \n",
       "Albania                               58.299999  \n",
       "Algeria                               36.910000  \n",
       "Andorra                                     NaN  \n",
       "Angola                                45.450701  "
      ]
     },
     "execution_count": 23,
     "metadata": {},
     "output_type": "execute_result"
    }
   ],
   "source": [
    "combined_data = pd.concat([human_data_filled, economic_data_filled], axis=1, sort=True)\n",
    "combined_data.head()"
   ]
  },
  {
   "cell_type": "code",
   "execution_count": 24,
   "metadata": {},
   "outputs": [
    {
     "data": {
      "text/plain": [
       "Overall Rule of Law Index             186\n",
       "Press Freedom Score                   186\n",
       "Human Rights Protection Score         186\n",
       "Human Rights Violations               186\n",
       "Democracy Index                       186\n",
       "GDP per capita                        244\n",
       "PPP conversion factor                 244\n",
       "Inflation                             244\n",
       "Unemployment (%)                      244\n",
       "Rural Population (%)                  244\n",
       "Labor force participation rate (%)    244\n",
       "dtype: int64"
      ]
     },
     "execution_count": 24,
     "metadata": {},
     "output_type": "execute_result"
    }
   ],
   "source": [
    "combined_data.count()"
   ]
  },
  {
   "cell_type": "markdown",
   "metadata": {},
   "source": [
    "At this point, it harms more than it gives benefits to use imputing on the missin variables, since we have a pattern of NaNs in some rows. The model would do well with 186 country data, so it is decided do emit NaNs here."
   ]
  },
  {
   "cell_type": "code",
   "execution_count": 25,
   "metadata": {},
   "outputs": [],
   "source": [
    "combined_data_omitted = combined_data.dropna()"
   ]
  },
  {
   "cell_type": "code",
   "execution_count": 26,
   "metadata": {},
   "outputs": [
    {
     "data": {
      "text/plain": [
       "Overall Rule of Law Index             159\n",
       "Press Freedom Score                   159\n",
       "Human Rights Protection Score         159\n",
       "Human Rights Violations               159\n",
       "Democracy Index                       159\n",
       "GDP per capita                        159\n",
       "PPP conversion factor                 159\n",
       "Inflation                             159\n",
       "Unemployment (%)                      159\n",
       "Rural Population (%)                  159\n",
       "Labor force participation rate (%)    159\n",
       "dtype: int64"
      ]
     },
     "execution_count": 26,
     "metadata": {},
     "output_type": "execute_result"
    }
   ],
   "source": [
    "combined_data_omitted.count()"
   ]
  },
  {
   "cell_type": "markdown",
   "metadata": {},
   "source": [
    "### Create a Composite Economic Index\n",
    "Right now, the outcome variable of human data consists of 5 variables. To be able to use our models, we need only one outcome variable with several dependent variables.\n",
    "\n",
    "To make it happen, it is tried to create a socalled __composite index__ combining these 5 human data variables into one final outcome variable.\n",
    "\n",
    "In order to prevent unbalance caused by high numbers, all relevant variables are standardized using MinMaxScaler beforehand and the sign and interpretation of the specific indices are taken into account.\n",
    "\n",
    "After these manipulations, the _composite index_ is calculated by basic mean of these 5 human data variables. Some other methods with different weights can be tried out with relevant backing information, but in this research we go with the basic mean."
   ]
  },
  {
   "cell_type": "code",
   "execution_count": 29,
   "metadata": {
    "scrolled": true
   },
   "outputs": [
    {
     "data": {
      "text/html": [
       "<div>\n",
       "<style scoped>\n",
       "    .dataframe tbody tr th:only-of-type {\n",
       "        vertical-align: middle;\n",
       "    }\n",
       "\n",
       "    .dataframe tbody tr th {\n",
       "        vertical-align: top;\n",
       "    }\n",
       "\n",
       "    .dataframe thead th {\n",
       "        text-align: right;\n",
       "    }\n",
       "</style>\n",
       "<table border=\"1\" class=\"dataframe\">\n",
       "  <thead>\n",
       "    <tr style=\"text-align: right;\">\n",
       "      <th></th>\n",
       "      <th>Overall Rule of Law Index</th>\n",
       "      <th>Press Freedom Score</th>\n",
       "      <th>Human Rights Protection Score</th>\n",
       "      <th>Human Rights Violations</th>\n",
       "      <th>Democracy Index</th>\n",
       "      <th>GDP per capita</th>\n",
       "      <th>PPP conversion factor</th>\n",
       "      <th>Inflation</th>\n",
       "      <th>Unemployment (%)</th>\n",
       "      <th>Rural Population (%)</th>\n",
       "      <th>Labor force participation rate (%)</th>\n",
       "      <th>Composite Index</th>\n",
       "    </tr>\n",
       "  </thead>\n",
       "  <tbody>\n",
       "    <tr>\n",
       "      <th>Afghanistan</th>\n",
       "      <td>0.347640</td>\n",
       "      <td>36.550</td>\n",
       "      <td>-1.281600</td>\n",
       "      <td>8.3</td>\n",
       "      <td>2.97</td>\n",
       "      <td>556.302139</td>\n",
       "      <td>17.205558</td>\n",
       "      <td>4.975952</td>\n",
       "      <td>11.1840</td>\n",
       "      <td>74.750</td>\n",
       "      <td>47.305000</td>\n",
       "      <td>0.137464</td>\n",
       "    </tr>\n",
       "    <tr>\n",
       "      <th>Albania</th>\n",
       "      <td>0.506076</td>\n",
       "      <td>29.840</td>\n",
       "      <td>0.365031</td>\n",
       "      <td>5.5</td>\n",
       "      <td>5.98</td>\n",
       "      <td>4532.890162</td>\n",
       "      <td>41.231113</td>\n",
       "      <td>1.986661</td>\n",
       "      <td>13.7500</td>\n",
       "      <td>40.617</td>\n",
       "      <td>58.299999</td>\n",
       "      <td>0.314657</td>\n",
       "    </tr>\n",
       "    <tr>\n",
       "      <th>Algeria</th>\n",
       "      <td>0.505867</td>\n",
       "      <td>45.750</td>\n",
       "      <td>0.015590</td>\n",
       "      <td>7.4</td>\n",
       "      <td>3.50</td>\n",
       "      <td>4044.298372</td>\n",
       "      <td>38.855751</td>\n",
       "      <td>5.591116</td>\n",
       "      <td>11.9960</td>\n",
       "      <td>27.948</td>\n",
       "      <td>36.910000</td>\n",
       "      <td>0.210869</td>\n",
       "    </tr>\n",
       "    <tr>\n",
       "      <th>Angola</th>\n",
       "      <td>0.412630</td>\n",
       "      <td>34.960</td>\n",
       "      <td>-0.603419</td>\n",
       "      <td>7.0</td>\n",
       "      <td>3.62</td>\n",
       "      <td>4095.812942</td>\n",
       "      <td>92.951721</td>\n",
       "      <td>31.691686</td>\n",
       "      <td>7.1190</td>\n",
       "      <td>35.161</td>\n",
       "      <td>45.450701</td>\n",
       "      <td>0.181526</td>\n",
       "    </tr>\n",
       "    <tr>\n",
       "      <th>Antigua and Barbuda</th>\n",
       "      <td>0.627957</td>\n",
       "      <td>27.385</td>\n",
       "      <td>1.129720</td>\n",
       "      <td>4.7</td>\n",
       "      <td>6.06</td>\n",
       "      <td>15383.415188</td>\n",
       "      <td>2.093501</td>\n",
       "      <td>2.432488</td>\n",
       "      <td>6.3075</td>\n",
       "      <td>75.287</td>\n",
       "      <td>61.664150</td>\n",
       "      <td>0.373186</td>\n",
       "    </tr>\n",
       "  </tbody>\n",
       "</table>\n",
       "</div>"
      ],
      "text/plain": [
       "                     Overall Rule of Law Index  Press Freedom Score  \\\n",
       "Afghanistan                           0.347640               36.550   \n",
       "Albania                               0.506076               29.840   \n",
       "Algeria                               0.505867               45.750   \n",
       "Angola                                0.412630               34.960   \n",
       "Antigua and Barbuda                   0.627957               27.385   \n",
       "\n",
       "                     Human Rights Protection Score  Human Rights Violations  \\\n",
       "Afghanistan                              -1.281600                      8.3   \n",
       "Albania                                   0.365031                      5.5   \n",
       "Algeria                                   0.015590                      7.4   \n",
       "Angola                                   -0.603419                      7.0   \n",
       "Antigua and Barbuda                       1.129720                      4.7   \n",
       "\n",
       "                     Democracy Index  GDP per capita  PPP conversion factor  \\\n",
       "Afghanistan                     2.97      556.302139              17.205558   \n",
       "Albania                         5.98     4532.890162              41.231113   \n",
       "Algeria                         3.50     4044.298372              38.855751   \n",
       "Angola                          3.62     4095.812942              92.951721   \n",
       "Antigua and Barbuda             6.06    15383.415188               2.093501   \n",
       "\n",
       "                     Inflation  Unemployment (%)  Rural Population (%)  \\\n",
       "Afghanistan           4.975952           11.1840                74.750   \n",
       "Albania               1.986661           13.7500                40.617   \n",
       "Algeria               5.591116           11.9960                27.948   \n",
       "Angola               31.691686            7.1190                35.161   \n",
       "Antigua and Barbuda   2.432488            6.3075                75.287   \n",
       "\n",
       "                     Labor force participation rate (%)  Composite Index  \n",
       "Afghanistan                                   47.305000         0.137464  \n",
       "Albania                                       58.299999         0.314657  \n",
       "Algeria                                       36.910000         0.210869  \n",
       "Angola                                        45.450701         0.181526  \n",
       "Antigua and Barbuda                           61.664150         0.373186  "
      ]
     },
     "execution_count": 29,
     "metadata": {},
     "output_type": "execute_result"
    }
   ],
   "source": [
    "import warnings\n",
    "warnings.filterwarnings('ignore')\n",
    "# Scale human data indexes to prevent skewing mean from high values\n",
    "## pip install mlxtend\n",
    "from mlxtend.preprocessing import minmax_scaling\n",
    "human_data_scaled = minmax_scaling(combined_data_omitted, columns=[\n",
    "    'Overall Rule of Law Index',\n",
    "    'Press Freedom Score',\n",
    "    'Human Rights Protection Score',\n",
    "    'Human Rights Violations',\n",
    "    'Democracy Index'\n",
    "])\n",
    "human_data_scaled['Press Freedom Score'] = -human_data_scaled['Press Freedom Score']\n",
    "human_data_scaled['Composite Index'] = human_data_scaled.mean(axis=1)\n",
    "combined_data_omitted['Composite Index'] = human_data_scaled['Composite Index']\n",
    "combined_data_omitted.head()"
   ]
  },
  {
   "cell_type": "code",
   "execution_count": 42,
   "metadata": {},
   "outputs": [
    {
     "data": {
      "text/html": [
       "<div>\n",
       "<style scoped>\n",
       "    .dataframe tbody tr th:only-of-type {\n",
       "        vertical-align: middle;\n",
       "    }\n",
       "\n",
       "    .dataframe tbody tr th {\n",
       "        vertical-align: top;\n",
       "    }\n",
       "\n",
       "    .dataframe thead th {\n",
       "        text-align: right;\n",
       "    }\n",
       "</style>\n",
       "<table border=\"1\" class=\"dataframe\">\n",
       "  <thead>\n",
       "    <tr style=\"text-align: right;\">\n",
       "      <th></th>\n",
       "      <th>GDP_per_capita</th>\n",
       "      <th>PPP_conversion_factor</th>\n",
       "      <th>Inflation</th>\n",
       "      <th>Unemployment</th>\n",
       "      <th>Rural_population</th>\n",
       "      <th>Labor_force_participation_rate</th>\n",
       "      <th>Composite_index</th>\n",
       "    </tr>\n",
       "  </thead>\n",
       "  <tbody>\n",
       "    <tr>\n",
       "      <th>Afghanistan</th>\n",
       "      <td>556.302139</td>\n",
       "      <td>17.205558</td>\n",
       "      <td>4.975952</td>\n",
       "      <td>11.1840</td>\n",
       "      <td>74.750</td>\n",
       "      <td>47.305000</td>\n",
       "      <td>0.137464</td>\n",
       "    </tr>\n",
       "    <tr>\n",
       "      <th>Albania</th>\n",
       "      <td>4532.890162</td>\n",
       "      <td>41.231113</td>\n",
       "      <td>1.986661</td>\n",
       "      <td>13.7500</td>\n",
       "      <td>40.617</td>\n",
       "      <td>58.299999</td>\n",
       "      <td>0.314657</td>\n",
       "    </tr>\n",
       "    <tr>\n",
       "      <th>Algeria</th>\n",
       "      <td>4044.298372</td>\n",
       "      <td>38.855751</td>\n",
       "      <td>5.591116</td>\n",
       "      <td>11.9960</td>\n",
       "      <td>27.948</td>\n",
       "      <td>36.910000</td>\n",
       "      <td>0.210869</td>\n",
       "    </tr>\n",
       "    <tr>\n",
       "      <th>Angola</th>\n",
       "      <td>4095.812942</td>\n",
       "      <td>92.951721</td>\n",
       "      <td>31.691686</td>\n",
       "      <td>7.1190</td>\n",
       "      <td>35.161</td>\n",
       "      <td>45.450701</td>\n",
       "      <td>0.181526</td>\n",
       "    </tr>\n",
       "    <tr>\n",
       "      <th>Antigua and Barbuda</th>\n",
       "      <td>15383.415188</td>\n",
       "      <td>2.093501</td>\n",
       "      <td>2.432488</td>\n",
       "      <td>6.3075</td>\n",
       "      <td>75.287</td>\n",
       "      <td>61.664150</td>\n",
       "      <td>0.373186</td>\n",
       "    </tr>\n",
       "  </tbody>\n",
       "</table>\n",
       "</div>"
      ],
      "text/plain": [
       "                     GDP_per_capita  PPP_conversion_factor  Inflation  \\\n",
       "Afghanistan              556.302139              17.205558   4.975952   \n",
       "Albania                 4532.890162              41.231113   1.986661   \n",
       "Algeria                 4044.298372              38.855751   5.591116   \n",
       "Angola                  4095.812942              92.951721  31.691686   \n",
       "Antigua and Barbuda    15383.415188               2.093501   2.432488   \n",
       "\n",
       "                     Unemployment  Rural_population  \\\n",
       "Afghanistan               11.1840            74.750   \n",
       "Albania                   13.7500            40.617   \n",
       "Algeria                   11.9960            27.948   \n",
       "Angola                     7.1190            35.161   \n",
       "Antigua and Barbuda        6.3075            75.287   \n",
       "\n",
       "                     Labor_force_participation_rate  Composite_index  \n",
       "Afghanistan                               47.305000         0.137464  \n",
       "Albania                                   58.299999         0.314657  \n",
       "Algeria                                   36.910000         0.210869  \n",
       "Angola                                    45.450701         0.181526  \n",
       "Antigua and Barbuda                       61.664150         0.373186  "
      ]
     },
     "execution_count": 42,
     "metadata": {},
     "output_type": "execute_result"
    }
   ],
   "source": [
    "# Subsetting the dataframe with relevant features for models.\n",
    "combined_data_subset = combined_data_omitted[['GDP per capita', 'PPP conversion factor', 'Inflation', 'Unemployment (%)', 'Rural Population (%)', 'Labor force participation rate (%)', 'Composite Index']]\n",
    "combined_data_subset.columns = ['GDP_per_capita', 'PPP_conversion_factor', 'Inflation', 'Unemployment', 'Rural_population', 'Labor_force_participation_rate', 'Composite_index']\n",
    "combined_data_subset.head(5)"
   ]
  },
  {
   "cell_type": "markdown",
   "metadata": {},
   "source": [
    "Now the correlations and multicollinearity as well as VIF can be checked, using the full combined data."
   ]
  },
  {
   "cell_type": "code",
   "execution_count": 43,
   "metadata": {},
   "outputs": [
    {
     "data": {
      "text/html": [
       "<div>\n",
       "<style scoped>\n",
       "    .dataframe tbody tr th:only-of-type {\n",
       "        vertical-align: middle;\n",
       "    }\n",
       "\n",
       "    .dataframe tbody tr th {\n",
       "        vertical-align: top;\n",
       "    }\n",
       "\n",
       "    .dataframe thead th {\n",
       "        text-align: right;\n",
       "    }\n",
       "</style>\n",
       "<table border=\"1\" class=\"dataframe\">\n",
       "  <thead>\n",
       "    <tr style=\"text-align: right;\">\n",
       "      <th></th>\n",
       "      <th>GDP_per_capita</th>\n",
       "      <th>PPP_conversion_factor</th>\n",
       "      <th>Inflation</th>\n",
       "      <th>Unemployment</th>\n",
       "      <th>Rural_population</th>\n",
       "      <th>Labor_force_participation_rate</th>\n",
       "      <th>Composite_index</th>\n",
       "    </tr>\n",
       "  </thead>\n",
       "  <tbody>\n",
       "    <tr>\n",
       "      <th>GDP_per_capita</th>\n",
       "      <td>1.000000</td>\n",
       "      <td>-0.161471</td>\n",
       "      <td>-0.196181</td>\n",
       "      <td>-0.116402</td>\n",
       "      <td>-0.586754</td>\n",
       "      <td>0.346534</td>\n",
       "      <td>0.576105</td>\n",
       "    </tr>\n",
       "    <tr>\n",
       "      <th>PPP_conversion_factor</th>\n",
       "      <td>-0.161471</td>\n",
       "      <td>1.000000</td>\n",
       "      <td>0.176185</td>\n",
       "      <td>-0.082598</td>\n",
       "      <td>0.159567</td>\n",
       "      <td>0.111290</td>\n",
       "      <td>-0.236385</td>\n",
       "    </tr>\n",
       "    <tr>\n",
       "      <th>Inflation</th>\n",
       "      <td>-0.196181</td>\n",
       "      <td>0.176185</td>\n",
       "      <td>1.000000</td>\n",
       "      <td>0.030421</td>\n",
       "      <td>0.228833</td>\n",
       "      <td>0.043785</td>\n",
       "      <td>-0.256201</td>\n",
       "    </tr>\n",
       "    <tr>\n",
       "      <th>Unemployment</th>\n",
       "      <td>-0.116402</td>\n",
       "      <td>-0.082598</td>\n",
       "      <td>0.030421</td>\n",
       "      <td>1.000000</td>\n",
       "      <td>-0.129352</td>\n",
       "      <td>-0.155563</td>\n",
       "      <td>0.105061</td>\n",
       "    </tr>\n",
       "    <tr>\n",
       "      <th>Rural_population</th>\n",
       "      <td>-0.586754</td>\n",
       "      <td>0.159567</td>\n",
       "      <td>0.228833</td>\n",
       "      <td>-0.129352</td>\n",
       "      <td>1.000000</td>\n",
       "      <td>-0.354672</td>\n",
       "      <td>-0.318649</td>\n",
       "    </tr>\n",
       "    <tr>\n",
       "      <th>Labor_force_participation_rate</th>\n",
       "      <td>0.346534</td>\n",
       "      <td>0.111290</td>\n",
       "      <td>0.043785</td>\n",
       "      <td>-0.155563</td>\n",
       "      <td>-0.354672</td>\n",
       "      <td>1.000000</td>\n",
       "      <td>0.166852</td>\n",
       "    </tr>\n",
       "    <tr>\n",
       "      <th>Composite_index</th>\n",
       "      <td>0.576105</td>\n",
       "      <td>-0.236385</td>\n",
       "      <td>-0.256201</td>\n",
       "      <td>0.105061</td>\n",
       "      <td>-0.318649</td>\n",
       "      <td>0.166852</td>\n",
       "      <td>1.000000</td>\n",
       "    </tr>\n",
       "  </tbody>\n",
       "</table>\n",
       "</div>"
      ],
      "text/plain": [
       "                                GDP_per_capita  PPP_conversion_factor  \\\n",
       "GDP_per_capita                        1.000000              -0.161471   \n",
       "PPP_conversion_factor                -0.161471               1.000000   \n",
       "Inflation                            -0.196181               0.176185   \n",
       "Unemployment                         -0.116402              -0.082598   \n",
       "Rural_population                     -0.586754               0.159567   \n",
       "Labor_force_participation_rate        0.346534               0.111290   \n",
       "Composite_index                       0.576105              -0.236385   \n",
       "\n",
       "                                Inflation  Unemployment  Rural_population  \\\n",
       "GDP_per_capita                  -0.196181     -0.116402         -0.586754   \n",
       "PPP_conversion_factor            0.176185     -0.082598          0.159567   \n",
       "Inflation                        1.000000      0.030421          0.228833   \n",
       "Unemployment                     0.030421      1.000000         -0.129352   \n",
       "Rural_population                 0.228833     -0.129352          1.000000   \n",
       "Labor_force_participation_rate   0.043785     -0.155563         -0.354672   \n",
       "Composite_index                 -0.256201      0.105061         -0.318649   \n",
       "\n",
       "                                Labor_force_participation_rate  \\\n",
       "GDP_per_capita                                        0.346534   \n",
       "PPP_conversion_factor                                 0.111290   \n",
       "Inflation                                             0.043785   \n",
       "Unemployment                                         -0.155563   \n",
       "Rural_population                                     -0.354672   \n",
       "Labor_force_participation_rate                        1.000000   \n",
       "Composite_index                                       0.166852   \n",
       "\n",
       "                                Composite_index  \n",
       "GDP_per_capita                         0.576105  \n",
       "PPP_conversion_factor                 -0.236385  \n",
       "Inflation                             -0.256201  \n",
       "Unemployment                           0.105061  \n",
       "Rural_population                      -0.318649  \n",
       "Labor_force_participation_rate         0.166852  \n",
       "Composite_index                        1.000000  "
      ]
     },
     "execution_count": 43,
     "metadata": {},
     "output_type": "execute_result"
    }
   ],
   "source": [
    "combined_data_subset.corr()"
   ]
  },
  {
   "cell_type": "markdown",
   "metadata": {},
   "source": [
    "At first glance, it seems like there is no big problem. Let us also check the VIF:"
   ]
  },
  {
   "cell_type": "code",
   "execution_count": 50,
   "metadata": {},
   "outputs": [],
   "source": [
    "%%capture\n",
    "#gather features\n",
    "features = \"+\".join(combined_data_subset.columns)\n",
    "\n",
    "# get y and X dataframes based on this regression:\n",
    "y, X = dmatrices('Composite_index ~' + features, combined_data_subset, return_type='dataframe')\n",
    "\n",
    "# For each X, calculate VIF and save in dataframe\n",
    "vif = pd.DataFrame()\n",
    "vif[\"VIF Factor\"] = [variance_inflation_factor(X.values, i) for i in range(X.shape[1])]\n",
    "vif[\"features\"] = X.columns"
   ]
  },
  {
   "cell_type": "code",
   "execution_count": 52,
   "metadata": {},
   "outputs": [
    {
     "data": {
      "text/html": [
       "<div>\n",
       "<style scoped>\n",
       "    .dataframe tbody tr th:only-of-type {\n",
       "        vertical-align: middle;\n",
       "    }\n",
       "\n",
       "    .dataframe tbody tr th {\n",
       "        vertical-align: top;\n",
       "    }\n",
       "\n",
       "    .dataframe thead th {\n",
       "        text-align: right;\n",
       "    }\n",
       "</style>\n",
       "<table border=\"1\" class=\"dataframe\">\n",
       "  <thead>\n",
       "    <tr style=\"text-align: right;\">\n",
       "      <th></th>\n",
       "      <th>VIF Factor</th>\n",
       "      <th>features</th>\n",
       "    </tr>\n",
       "  </thead>\n",
       "  <tbody>\n",
       "    <tr>\n",
       "      <th>0</th>\n",
       "      <td>78.6</td>\n",
       "      <td>Intercept</td>\n",
       "    </tr>\n",
       "    <tr>\n",
       "      <th>1</th>\n",
       "      <td>2.3</td>\n",
       "      <td>GDP_per_capita</td>\n",
       "    </tr>\n",
       "    <tr>\n",
       "      <th>2</th>\n",
       "      <td>1.1</td>\n",
       "      <td>PPP_conversion_factor</td>\n",
       "    </tr>\n",
       "    <tr>\n",
       "      <th>3</th>\n",
       "      <td>1.1</td>\n",
       "      <td>Inflation</td>\n",
       "    </tr>\n",
       "    <tr>\n",
       "      <th>4</th>\n",
       "      <td>1.2</td>\n",
       "      <td>Unemployment</td>\n",
       "    </tr>\n",
       "    <tr>\n",
       "      <th>5</th>\n",
       "      <td>1.8</td>\n",
       "      <td>Rural_population</td>\n",
       "    </tr>\n",
       "    <tr>\n",
       "      <th>6</th>\n",
       "      <td>1.3</td>\n",
       "      <td>Labor_force_participation_rate</td>\n",
       "    </tr>\n",
       "    <tr>\n",
       "      <th>7</th>\n",
       "      <td>1.7</td>\n",
       "      <td>Composite_index</td>\n",
       "    </tr>\n",
       "  </tbody>\n",
       "</table>\n",
       "</div>"
      ],
      "text/plain": [
       "   VIF Factor                        features\n",
       "0        78.6                       Intercept\n",
       "1         2.3                  GDP_per_capita\n",
       "2         1.1           PPP_conversion_factor\n",
       "3         1.1                       Inflation\n",
       "4         1.2                    Unemployment\n",
       "5         1.8                Rural_population\n",
       "6         1.3  Labor_force_participation_rate\n",
       "7         1.7                 Composite_index"
      ]
     },
     "execution_count": 52,
     "metadata": {},
     "output_type": "execute_result"
    }
   ],
   "source": [
    "vif.round(1)"
   ]
  },
  {
   "cell_type": "markdown",
   "metadata": {},
   "source": [
    "As it can be seen from VIF table, all of the factors are small enough, which means there is no sign of strong collinearity to affect our model performance.\n",
    "\n",
    "There is no need to remove any feature because of collinearity in this case. It is finalized that this subset will be used in the models."
   ]
  },
  {
   "cell_type": "markdown",
   "metadata": {},
   "source": [
    "## Exploratory Data Analysis (EDA) on the Combined Data"
   ]
  },
  {
   "cell_type": "code",
   "execution_count": null,
   "metadata": {},
   "outputs": [],
   "source": []
  },
  {
   "cell_type": "markdown",
   "metadata": {},
   "source": [
    "***\n",
    "****\n",
    "***"
   ]
  },
  {
   "cell_type": "code",
   "execution_count": null,
   "metadata": {},
   "outputs": [],
   "source": [
    "combined_data.corr()"
   ]
  },
  {
   "cell_type": "code",
   "execution_count": null,
   "metadata": {},
   "outputs": [],
   "source": [
    "X = combined_data[[\n",
    "    'GDP per capita',\n",
    "    'PPP conversion factor',\n",
    "    'Inflation',\n",
    "    'Unemployment (%)',\n",
    "    'Rural Population (%)',\n",
    "    'Labor force participation rate (%)'\n",
    "]]\n",
    "Y = combined_data['Composite Index']"
   ]
  },
  {
   "cell_type": "code",
   "execution_count": null,
   "metadata": {},
   "outputs": [],
   "source": [
    "regr = linear_model.LinearRegression()\n",
    "regr.fit(X, Y)"
   ]
  },
  {
   "cell_type": "code",
   "execution_count": null,
   "metadata": {},
   "outputs": [],
   "source": [
    "X = sm.add_constant(X)\n",
    " \n",
    "model = sm.OLS(Y, X).fit()\n",
    "predictions = model.predict(X) \n",
    " \n",
    "print_model = model.summary()\n",
    "print(print_model)"
   ]
  },
  {
   "cell_type": "markdown",
   "metadata": {},
   "source": [
    "Rural Population has very low 't' value, drop it and run OLS again. (Feature selection, elimination)"
   ]
  },
  {
   "cell_type": "code",
   "execution_count": null,
   "metadata": {},
   "outputs": [],
   "source": [
    "X = combined_data[[\n",
    "    'GDP per capita',\n",
    "    'PPP conversion factor',\n",
    "    'Inflation',\n",
    "    'Unemployment (%)',\n",
    "    'Labor force participation rate (%)'\n",
    "]]\n",
    "Y = combined_data['Composite Index']\n",
    "regr = linear_model.LinearRegression()\n",
    "regr.fit(X, Y)\n",
    "X = sm.add_constant(X)\n",
    " \n",
    "model = sm.OLS(Y, X).fit()\n",
    "predictions = model.predict(X) \n",
    " \n",
    "print_model = model.summary()\n",
    "print(print_model)"
   ]
  },
  {
   "cell_type": "markdown",
   "metadata": {},
   "source": [
    "Similarly, dropping lowest 't' value feature: Labor Force Participation Rate"
   ]
  },
  {
   "cell_type": "code",
   "execution_count": null,
   "metadata": {},
   "outputs": [],
   "source": [
    "X = combined_data[[\n",
    "    'GDP per capita',\n",
    "    'PPP conversion factor',\n",
    "    'Inflation',\n",
    "    'Unemployment (%)',\n",
    "]]\n",
    "Y = combined_data['Composite Index']\n",
    "regr = linear_model.LinearRegression()\n",
    "regr.fit(X, Y)\n",
    "X = sm.add_constant(X)\n",
    " \n",
    "model = sm.OLS(Y, X).fit()\n",
    "predictions = model.predict(X) \n",
    " \n",
    "print_model = model.summary()\n",
    "print(print_model)"
   ]
  },
  {
   "cell_type": "markdown",
   "metadata": {},
   "source": [
    "Increase in adjusted R square is seen. One more iteration with dropping lowest 't' value feature."
   ]
  },
  {
   "cell_type": "code",
   "execution_count": null,
   "metadata": {},
   "outputs": [],
   "source": [
    "X = combined_data[[\n",
    "    'GDP per capita',\n",
    "    'Inflation',\n",
    "    'Unemployment (%)',\n",
    "]]\n",
    "Y = combined_data['Composite Index']\n",
    "regr = linear_model.LinearRegression()\n",
    "regr.fit(X, Y)\n",
    "X = sm.add_constant(X)\n",
    " \n",
    "model = sm.OLS(Y, X).fit()\n",
    "predictions = model.predict(X) \n",
    " \n",
    "print_model = model.summary()\n",
    "print(print_model)"
   ]
  },
  {
   "cell_type": "markdown",
   "metadata": {},
   "source": [
    "Adjusted R square decreases again. So the 3rd model will be used. It is applied again below:"
   ]
  },
  {
   "cell_type": "code",
   "execution_count": null,
   "metadata": {},
   "outputs": [],
   "source": [
    "X = combined_data[[\n",
    "    'GDP per capita',\n",
    "    'PPP conversion factor',\n",
    "    'Inflation',\n",
    "    'Unemployment (%)',\n",
    "]]\n",
    "Y = combined_data['Composite Index']\n",
    "regr = linear_model.LinearRegression()\n",
    "regr.fit(X, Y)\n",
    "X = sm.add_constant(X)\n",
    " \n",
    "model = sm.OLS(Y, X).fit()\n",
    "predictions = model.predict(X) \n",
    " \n",
    "print_model = model.summary()\n",
    "print(print_model)"
   ]
  },
  {
   "cell_type": "code",
   "execution_count": null,
   "metadata": {},
   "outputs": [],
   "source": [
    "combined_data.head()"
   ]
  },
  {
   "cell_type": "markdown",
   "metadata": {},
   "source": [
    "To see further optimization (There is a high orders of magnitudes difference in coefficients in GDP and PPP conversion) GDP and PPP features will be scaled down."
   ]
  },
  {
   "cell_type": "code",
   "execution_count": null,
   "metadata": {},
   "outputs": [],
   "source": [
    "combined_data['GDP per capita'].describe()"
   ]
  },
  {
   "cell_type": "code",
   "execution_count": null,
   "metadata": {},
   "outputs": [],
   "source": [
    "combined_data['PPP conversion factor'].describe()"
   ]
  },
  {
   "cell_type": "code",
   "execution_count": null,
   "metadata": {},
   "outputs": [],
   "source": [
    "combined_data['Inflation'].describe()"
   ]
  },
  {
   "cell_type": "code",
   "execution_count": null,
   "metadata": {},
   "outputs": [],
   "source": [
    "combined_data['Unemployment (%)'].describe()"
   ]
  },
  {
   "cell_type": "markdown",
   "metadata": {},
   "source": [
    "The easiest way will be using MinMaxScaling to scale down the features to same level. Though this will cause the data to be more meaningless in raw numbers, it will cause coefficients to be similar."
   ]
  },
  {
   "cell_type": "code",
   "execution_count": null,
   "metadata": {},
   "outputs": [],
   "source": [
    "combined_data_scaled = minmax_scaling(combined_data, columns=[\n",
    "    'GDP per capita',\n",
    "    'PPP conversion factor',\n",
    "    'Inflation',\n",
    "    'Unemployment (%)',\n",
    "])\n",
    "combined_data_scaled['Composite Index'] = combined_data['Composite Index']\n",
    "combined_data_scaled.head(10)"
   ]
  },
  {
   "cell_type": "code",
   "execution_count": null,
   "metadata": {},
   "outputs": [],
   "source": [
    "X = combined_data_scaled[[\n",
    "    'GDP per capita',\n",
    "    'PPP conversion factor',\n",
    "    'Inflation',\n",
    "    'Unemployment (%)',\n",
    "]]\n",
    "Y = combined_data_scaled['Composite Index']\n",
    "regr = linear_model.LinearRegression()\n",
    "regr.fit(X, Y)\n",
    "X = sm.add_constant(X)\n",
    " \n",
    "model = sm.OLS(Y, X).fit()\n",
    "predictions = model.predict(X) \n",
    " \n",
    "print_model = model.summary()\n",
    "print(print_model)"
   ]
  },
  {
   "cell_type": "markdown",
   "metadata": {},
   "source": [
    "It is seen that, statistical values such as 't' and 'F' did not change as expected. Only coefficients are scaled down to the same level."
   ]
  },
  {
   "cell_type": "markdown",
   "metadata": {},
   "source": [
    "The most prominent feature is 'GDP per Capita'. Let's analyse its isolated relation with composite index"
   ]
  },
  {
   "cell_type": "code",
   "execution_count": null,
   "metadata": {},
   "outputs": [],
   "source": [
    "sns.regplot('GDP per capita', 'Composite Index', combined_data_scaled)"
   ]
  },
  {
   "cell_type": "code",
   "execution_count": null,
   "metadata": {},
   "outputs": [],
   "source": [
    "sns.regplot('PPP conversion factor', 'Composite Index', combined_data_scaled)"
   ]
  },
  {
   "cell_type": "markdown",
   "metadata": {},
   "source": [
    "As seen in the graph, 'PPP conversion factor' is significantly skewed thus using it in a regression yields unsatisfactory results. It is eliminated."
   ]
  },
  {
   "cell_type": "code",
   "execution_count": null,
   "metadata": {},
   "outputs": [],
   "source": [
    "X = combined_data_scaled[[\n",
    "    'GDP per capita',\n",
    "    'Inflation',\n",
    "    'Unemployment (%)',\n",
    "]]\n",
    "Y = combined_data_scaled['Composite Index']\n",
    "regr = linear_model.LinearRegression()\n",
    "regr.fit(X, Y)\n",
    "X = sm.add_constant(X)\n",
    " \n",
    "model = sm.OLS(Y, X).fit()\n",
    "predictions = model.predict(X) \n",
    " \n",
    "print_model = model.summary()\n",
    "print(print_model)"
   ]
  },
  {
   "cell_type": "code",
   "execution_count": null,
   "metadata": {},
   "outputs": [],
   "source": [
    "sns.regplot('Unemployment (%)', 'Composite Index', combined_data_scaled)"
   ]
  },
  {
   "cell_type": "code",
   "execution_count": null,
   "metadata": {},
   "outputs": [],
   "source": []
  }
 ],
 "metadata": {
  "kernelspec": {
   "display_name": "Python 3",
   "language": "python",
   "name": "python3"
  },
  "language_info": {
   "codemirror_mode": {
    "name": "ipython",
    "version": 3
   },
   "file_extension": ".py",
   "mimetype": "text/x-python",
   "name": "python",
   "nbconvert_exporter": "python",
   "pygments_lexer": "ipython3",
   "version": "3.7.6"
  }
 },
 "nbformat": 4,
 "nbformat_minor": 2
}
