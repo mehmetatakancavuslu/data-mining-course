{
 "cells": [
  {
   "cell_type": "markdown",
   "metadata": {},
   "source": [
    "#  PMLMDM Final Project: The Causal Effects of Economic Development on Human Rights, Democracy and the Rule of Law \n",
    "__Mehmet Atakan Çavuşlu - MMA191<br>\n",
    "Tor Anders Høksås - MMA191__\n",
    "***"
   ]
  },
  {
   "cell_type": "markdown",
   "metadata": {},
   "source": [
    "# Introduction\n",
    "\n",
    "It is a long popular debate whether economic development and human righs, democracy are tied, and is there any causality between these elements in a country-level. We see that often times economically high-performing countries also have more freedom and the human rights are considered to be very importing aspect in the policies of aforementioned countries. There are also some counter-arguements about the same issue. \n",
    "\n",
    "In fact, it became a chicken and an egg problem, often times having no real answer whether economic development brings democracy and human rights, or vice versa: being democratic and putting importance on human rights brings wealth and economic development.\n",
    "\n",
    "This research aims to get statistical insighths about the relationship between economic development and the status of democracy for a country.\n",
    "\n",
    "***\n",
    "\n",
    "### HYPOTHESIS\n",
    "__H1:__ There is a significant correlation between economic development and the status\n",
    "of human rights, democracy, press freedom and the rule of law for a country<br>\n",
    "__H0:__ There is not a significant correlation between economic development and the status of human rights, democracy, press freedom and the rule of law for a country\n",
    "\n",
    "__We try to come up with working ML models that relates to the hypothesis with satisfactory success__"
   ]
  },
  {
   "cell_type": "code",
   "execution_count": 35,
   "metadata": {},
   "outputs": [],
   "source": [
    "# Import basic statistical and visualization libraries\n",
    "import pandas as pd\n",
    "import numpy as np\n",
    "import matplotlib.pyplot as plt\n",
    "import seaborn as sns\n",
    "import wbdata\n",
    "import datetime\n",
    "from sklearn import linear_model\n",
    "import statsmodels.api as sm\n",
    "from patsy import dmatrices\n",
    "from statsmodels.stats.outliers_influence import variance_inflation_factor\n",
    "%matplotlib inline\n",
    "plt.style.use('seaborn-whitegrid')\n",
    "plt.rcParams['figure.figsize'] = [12, 6]"
   ]
  },
  {
   "cell_type": "markdown",
   "metadata": {},
   "source": [
    "# Data Collection\n",
    "To use in the research, following data are collected to be able to assess _Democracy, Human Rights and The Rule of Law_ in a country (mentioned thereafter as _human data_):\n",
    "\n",
    "- __Democracy Index 2018, The Economist Intelligence Unit__<br>\n",
    "https://www.eiu.com/topic/democracy-index<br>\n",
    "Index based on _Electoral Process and Pluralism, Functioning of Government, Political Participation, Political Culture, Civil Liberties_\n",
    "- __World Press Freedom Index 2019, Reporters Without Borders__<br>\n",
    "https://rsf.org/en/ranking<br>\n",
    "Index based on _Pluralism, Media Independence, Environment and Self-censorship, Legislative Framework, Transparency, Infrastructure, Abuses_\n",
    "- __Human Rights Index 2014, Our World In Data University of Oxford__<br>\n",
    "https://ourworldindata.org/human-rights<br>\n",
    "Index based on _Human Rights Protection from Political Oppression, Human Rights Violations_\n",
    "- __Rule of Law Index 2019, World Justice Project__<br>\n",
    "https://worldjusticeproject.org/our- work/research-and-data/wjp-rule-law-index-2019<br>\n",
    "Index based on _Accountability, Just Laws, Open Government, Accessible & Impartial Dispute Resolution_\n",
    "\n",
    "The data about economic development is collected from WorldBank API (https://data.worldbank.org) containing the following indicatiors (mentioned thereafter as _economic data_):\n",
    "\n",
    "- __'NY.GDP.PCAP.CD':__ 'GDP per capita'\n",
    "- __'PA.NUS.PPP':__ 'PPP conversion factor'\n",
    "- __'FP.CPI.TOTL.ZG':__ 'Inflation'\n",
    "- __'SL.UEM.TOTL.ZS':__ 'Unemployment (%)'\n",
    "- __'SP.RUR.TOTL.ZS':__ 'Rural Population (%)'\n",
    "- __'SL.TLF.CACT.NE.ZS':__ 'Labor force participation rate (%)'\n",
    "\n",
    "Variables such as GNI Per Capita, GDP per capita adjusted for PPP, GDP per person employed are not needed and discarded due to high multicollinearity with above variables.\n",
    "***\n",
    "### Collection of Human Data"
   ]
  },
  {
   "cell_type": "code",
   "execution_count": 2,
   "metadata": {},
   "outputs": [
    {
     "data": {
      "text/html": [
       "<div>\n",
       "<style scoped>\n",
       "    .dataframe tbody tr th:only-of-type {\n",
       "        vertical-align: middle;\n",
       "    }\n",
       "\n",
       "    .dataframe tbody tr th {\n",
       "        vertical-align: top;\n",
       "    }\n",
       "\n",
       "    .dataframe thead th {\n",
       "        text-align: right;\n",
       "    }\n",
       "</style>\n",
       "<table border=\"1\" class=\"dataframe\">\n",
       "  <thead>\n",
       "    <tr style=\"text-align: right;\">\n",
       "      <th></th>\n",
       "      <th>Overall Rule of Law Index</th>\n",
       "    </tr>\n",
       "    <tr>\n",
       "      <th>Country</th>\n",
       "      <th></th>\n",
       "    </tr>\n",
       "  </thead>\n",
       "  <tbody>\n",
       "    <tr>\n",
       "      <th>Afghanistan</th>\n",
       "      <td>0.34764</td>\n",
       "    </tr>\n",
       "    <tr>\n",
       "      <th>Albania</th>\n",
       "      <td>0.506076</td>\n",
       "    </tr>\n",
       "    <tr>\n",
       "      <th>Algeria</th>\n",
       "      <td>0.505867</td>\n",
       "    </tr>\n",
       "    <tr>\n",
       "      <th>Angola</th>\n",
       "      <td>0.41263</td>\n",
       "    </tr>\n",
       "    <tr>\n",
       "      <th>Antigua and Barbuda</th>\n",
       "      <td>0.627957</td>\n",
       "    </tr>\n",
       "  </tbody>\n",
       "</table>\n",
       "</div>"
      ],
      "text/plain": [
       "                    Overall Rule of Law Index\n",
       "Country                                      \n",
       "Afghanistan                           0.34764\n",
       "Albania                              0.506076\n",
       "Algeria                              0.505867\n",
       "Angola                                0.41263\n",
       "Antigua and Barbuda                  0.627957"
      ]
     },
     "execution_count": 2,
     "metadata": {},
     "output_type": "execute_result"
    }
   ],
   "source": [
    "# Read Rule of law index data from World Justice Project\n",
    "wjp_data = pd.read_excel('wjp_rule_of_law_index.xlsx', sheet_name='WJP ROL Index 2019 Scores')\n",
    "wjp_data = wjp_data[wjp_data['Country'] == 'WJP Rule of Law Index: Overall Score'].transpose()\n",
    "wjp_data.columns = wjp_data.iloc[0]\n",
    "wjp_data.reset_index(inplace=True)\n",
    "wjp_data = wjp_data.reindex(wjp_data.index.drop(0))\n",
    "wjp_data.reset_index(inplace=True)\n",
    "wjp_data.drop(['level_0'], axis=1, inplace=True)\n",
    "wjp_data.columns = ['Country', 'Overall Rule of Law Index']\n",
    "wjp_data.set_index('Country', inplace=True)\n",
    "wjp_data.head()"
   ]
  },
  {
   "cell_type": "code",
   "execution_count": 3,
   "metadata": {},
   "outputs": [
    {
     "data": {
      "text/html": [
       "<div>\n",
       "<style scoped>\n",
       "    .dataframe tbody tr th:only-of-type {\n",
       "        vertical-align: middle;\n",
       "    }\n",
       "\n",
       "    .dataframe tbody tr th {\n",
       "        vertical-align: top;\n",
       "    }\n",
       "\n",
       "    .dataframe thead th {\n",
       "        text-align: right;\n",
       "    }\n",
       "</style>\n",
       "<table border=\"1\" class=\"dataframe\">\n",
       "  <thead>\n",
       "    <tr style=\"text-align: right;\">\n",
       "      <th></th>\n",
       "      <th>Press Freedom Score</th>\n",
       "    </tr>\n",
       "    <tr>\n",
       "      <th>Country</th>\n",
       "      <th></th>\n",
       "    </tr>\n",
       "  </thead>\n",
       "  <tbody>\n",
       "    <tr>\n",
       "      <th>Norway</th>\n",
       "      <td>7.82</td>\n",
       "    </tr>\n",
       "    <tr>\n",
       "      <th>Finland</th>\n",
       "      <td>7.90</td>\n",
       "    </tr>\n",
       "    <tr>\n",
       "      <th>Sweden</th>\n",
       "      <td>8.31</td>\n",
       "    </tr>\n",
       "    <tr>\n",
       "      <th>Netherlands</th>\n",
       "      <td>8.63</td>\n",
       "    </tr>\n",
       "    <tr>\n",
       "      <th>Denmark</th>\n",
       "      <td>9.87</td>\n",
       "    </tr>\n",
       "  </tbody>\n",
       "</table>\n",
       "</div>"
      ],
      "text/plain": [
       "             Press Freedom Score\n",
       "Country                         \n",
       "Norway                      7.82\n",
       "Finland                     7.90\n",
       "Sweden                      8.31\n",
       "Netherlands                 8.63\n",
       "Denmark                     9.87"
      ]
     },
     "execution_count": 3,
     "metadata": {},
     "output_type": "execute_result"
    }
   ],
   "source": [
    "# Read Press Freedom index data from Reporters Without Borders\n",
    "press_freedom_data = pd.read_csv('press_freedom.csv', decimal=\",\")\n",
    "press_freedom_data = press_freedom_data[[\"EN_country\",\"Score 2019\"]]\n",
    "press_freedom_data.columns = ['Country', 'Press Freedom Score']\n",
    "press_freedom_data.set_index('Country', inplace=True)\n",
    "press_freedom_data.head()"
   ]
  },
  {
   "cell_type": "code",
   "execution_count": 4,
   "metadata": {},
   "outputs": [
    {
     "data": {
      "text/html": [
       "<div>\n",
       "<style scoped>\n",
       "    .dataframe tbody tr th:only-of-type {\n",
       "        vertical-align: middle;\n",
       "    }\n",
       "\n",
       "    .dataframe tbody tr th {\n",
       "        vertical-align: top;\n",
       "    }\n",
       "\n",
       "    .dataframe thead th {\n",
       "        text-align: right;\n",
       "    }\n",
       "</style>\n",
       "<table border=\"1\" class=\"dataframe\">\n",
       "  <thead>\n",
       "    <tr style=\"text-align: right;\">\n",
       "      <th></th>\n",
       "      <th>Human Rights Protection Score</th>\n",
       "    </tr>\n",
       "    <tr>\n",
       "      <th>Country</th>\n",
       "      <th></th>\n",
       "    </tr>\n",
       "  </thead>\n",
       "  <tbody>\n",
       "    <tr>\n",
       "      <th>Afghanistan</th>\n",
       "      <td>-1.281600</td>\n",
       "    </tr>\n",
       "    <tr>\n",
       "      <th>Albania</th>\n",
       "      <td>0.365031</td>\n",
       "    </tr>\n",
       "    <tr>\n",
       "      <th>Algeria</th>\n",
       "      <td>0.015590</td>\n",
       "    </tr>\n",
       "    <tr>\n",
       "      <th>Andorra</th>\n",
       "      <td>3.265850</td>\n",
       "    </tr>\n",
       "    <tr>\n",
       "      <th>Angola</th>\n",
       "      <td>-0.603419</td>\n",
       "    </tr>\n",
       "  </tbody>\n",
       "</table>\n",
       "</div>"
      ],
      "text/plain": [
       "             Human Rights Protection Score\n",
       "Country                                   \n",
       "Afghanistan                      -1.281600\n",
       "Albania                           0.365031\n",
       "Algeria                           0.015590\n",
       "Andorra                           3.265850\n",
       "Angola                           -0.603419"
      ]
     },
     "execution_count": 4,
     "metadata": {},
     "output_type": "execute_result"
    }
   ],
   "source": [
    "# Read Human Rights Protection index data from Our World in Data, provided by Oxford University\n",
    "human_rights_data = pd.read_csv('human_rights_protection.csv')\n",
    "human_rights_data = human_rights_data[human_rights_data['Year'] == 2014]\n",
    "human_rights_data = human_rights_data[[\"Entity\",\"Human Rights Protection Scores – by Christopher Farris and Keith Schnakenberg\"]]\n",
    "human_rights_data.reset_index(inplace=True)\n",
    "human_rights_data.drop(['index'], axis=1, inplace=True)\n",
    "human_rights_data.columns = ['Country', 'Human Rights Protection Score']\n",
    "human_rights_data.set_index('Country', inplace=True)\n",
    "human_rights_data.head()"
   ]
  },
  {
   "cell_type": "code",
   "execution_count": 5,
   "metadata": {},
   "outputs": [
    {
     "data": {
      "text/html": [
       "<div>\n",
       "<style scoped>\n",
       "    .dataframe tbody tr th:only-of-type {\n",
       "        vertical-align: middle;\n",
       "    }\n",
       "\n",
       "    .dataframe tbody tr th {\n",
       "        vertical-align: top;\n",
       "    }\n",
       "\n",
       "    .dataframe thead th {\n",
       "        text-align: right;\n",
       "    }\n",
       "</style>\n",
       "<table border=\"1\" class=\"dataframe\">\n",
       "  <thead>\n",
       "    <tr style=\"text-align: right;\">\n",
       "      <th></th>\n",
       "      <th>Human Rights Violations</th>\n",
       "    </tr>\n",
       "    <tr>\n",
       "      <th>Country</th>\n",
       "      <th></th>\n",
       "    </tr>\n",
       "  </thead>\n",
       "  <tbody>\n",
       "    <tr>\n",
       "      <th>Afghanistan</th>\n",
       "      <td>8.3</td>\n",
       "    </tr>\n",
       "    <tr>\n",
       "      <th>Albania</th>\n",
       "      <td>5.5</td>\n",
       "    </tr>\n",
       "    <tr>\n",
       "      <th>Algeria</th>\n",
       "      <td>7.4</td>\n",
       "    </tr>\n",
       "    <tr>\n",
       "      <th>Angola</th>\n",
       "      <td>7.0</td>\n",
       "    </tr>\n",
       "    <tr>\n",
       "      <th>Antigua and Barbuda</th>\n",
       "      <td>4.7</td>\n",
       "    </tr>\n",
       "  </tbody>\n",
       "</table>\n",
       "</div>"
      ],
      "text/plain": [
       "                     Human Rights Violations\n",
       "Country                                     \n",
       "Afghanistan                              8.3\n",
       "Albania                                  5.5\n",
       "Algeria                                  7.4\n",
       "Angola                                   7.0\n",
       "Antigua and Barbuda                      4.7"
      ]
     },
     "execution_count": 5,
     "metadata": {},
     "output_type": "execute_result"
    }
   ],
   "source": [
    "# Read Human Rights Violations index data from Our World in Data, provided by Oxford University\n",
    "human_rights_violation = pd.read_csv('human_rights_violations.csv')\n",
    "human_rights_violation = human_rights_violation[human_rights_violation['Year'] == 2014]\n",
    "human_rights_violation = human_rights_violation[['Entity', 'Unnamed: 3']]\n",
    "human_rights_violation.reset_index(inplace=True)\n",
    "human_rights_violation.drop(['index'], axis=1, inplace=True)\n",
    "human_rights_violation.columns = ['Country', 'Human Rights Violations']\n",
    "human_rights_violation.set_index('Country', inplace=True)\n",
    "human_rights_violation.head()"
   ]
  },
  {
   "cell_type": "code",
   "execution_count": 6,
   "metadata": {},
   "outputs": [
    {
     "data": {
      "text/html": [
       "<div>\n",
       "<style scoped>\n",
       "    .dataframe tbody tr th:only-of-type {\n",
       "        vertical-align: middle;\n",
       "    }\n",
       "\n",
       "    .dataframe tbody tr th {\n",
       "        vertical-align: top;\n",
       "    }\n",
       "\n",
       "    .dataframe thead th {\n",
       "        text-align: right;\n",
       "    }\n",
       "</style>\n",
       "<table border=\"1\" class=\"dataframe\">\n",
       "  <thead>\n",
       "    <tr style=\"text-align: right;\">\n",
       "      <th></th>\n",
       "      <th>Democracy Index</th>\n",
       "    </tr>\n",
       "    <tr>\n",
       "      <th>Country</th>\n",
       "      <th></th>\n",
       "    </tr>\n",
       "  </thead>\n",
       "  <tbody>\n",
       "    <tr>\n",
       "      <th>Afghanistan</th>\n",
       "      <td>2.97</td>\n",
       "    </tr>\n",
       "    <tr>\n",
       "      <th>Albania</th>\n",
       "      <td>5.98</td>\n",
       "    </tr>\n",
       "    <tr>\n",
       "      <th>Algeria</th>\n",
       "      <td>3.50</td>\n",
       "    </tr>\n",
       "    <tr>\n",
       "      <th>Angola</th>\n",
       "      <td>3.62</td>\n",
       "    </tr>\n",
       "    <tr>\n",
       "      <th>Argentina</th>\n",
       "      <td>7.02</td>\n",
       "    </tr>\n",
       "  </tbody>\n",
       "</table>\n",
       "</div>"
      ],
      "text/plain": [
       "             Democracy Index\n",
       "Country                     \n",
       "Afghanistan             2.97\n",
       "Albania                 5.98\n",
       "Algeria                 3.50\n",
       "Angola                  3.62\n",
       "Argentina               7.02"
      ]
     },
     "execution_count": 6,
     "metadata": {},
     "output_type": "execute_result"
    }
   ],
   "source": [
    "# Read Democracy index data from The Economist Intelligence Unit\n",
    "democracy_data = pd.read_excel('democracy_index.xlsx')\n",
    "democracy_data = democracy_data[['Countries','Overall score ']]\n",
    "democracy_data.reset_index(inplace=True)\n",
    "democracy_data.dropna(inplace=True)\n",
    "democracy_data.drop(['index'], axis=1, inplace=True)\n",
    "democracy_data.columns = ['Country', 'Democracy Index']\n",
    "democracy_data.set_index('Country', inplace=True)\n",
    "democracy_data.head()"
   ]
  },
  {
   "cell_type": "markdown",
   "metadata": {},
   "source": [
    "After reading all the indexes to assess _Democracy, Human Rights and The Rule of Law_ in a country-level, a new dataframe with all these indices called __human_data__ is created."
   ]
  },
  {
   "cell_type": "code",
   "execution_count": 7,
   "metadata": {},
   "outputs": [
    {
     "data": {
      "text/html": [
       "<div>\n",
       "<style scoped>\n",
       "    .dataframe tbody tr th:only-of-type {\n",
       "        vertical-align: middle;\n",
       "    }\n",
       "\n",
       "    .dataframe tbody tr th {\n",
       "        vertical-align: top;\n",
       "    }\n",
       "\n",
       "    .dataframe thead th {\n",
       "        text-align: right;\n",
       "    }\n",
       "</style>\n",
       "<table border=\"1\" class=\"dataframe\">\n",
       "  <thead>\n",
       "    <tr style=\"text-align: right;\">\n",
       "      <th></th>\n",
       "      <th>Overall Rule of Law Index</th>\n",
       "      <th>Press Freedom Score</th>\n",
       "      <th>Human Rights Protection Score</th>\n",
       "      <th>Human Rights Violations</th>\n",
       "      <th>Democracy Index</th>\n",
       "    </tr>\n",
       "  </thead>\n",
       "  <tbody>\n",
       "    <tr>\n",
       "      <th>Afghanistan</th>\n",
       "      <td>0.347640</td>\n",
       "      <td>36.55</td>\n",
       "      <td>-1.281600</td>\n",
       "      <td>8.3</td>\n",
       "      <td>2.97</td>\n",
       "    </tr>\n",
       "    <tr>\n",
       "      <th>Albania</th>\n",
       "      <td>0.506076</td>\n",
       "      <td>29.84</td>\n",
       "      <td>0.365031</td>\n",
       "      <td>5.5</td>\n",
       "      <td>5.98</td>\n",
       "    </tr>\n",
       "    <tr>\n",
       "      <th>Algeria</th>\n",
       "      <td>0.505867</td>\n",
       "      <td>45.75</td>\n",
       "      <td>0.015590</td>\n",
       "      <td>7.4</td>\n",
       "      <td>3.50</td>\n",
       "    </tr>\n",
       "    <tr>\n",
       "      <th>Andorra</th>\n",
       "      <td>NaN</td>\n",
       "      <td>24.63</td>\n",
       "      <td>3.265850</td>\n",
       "      <td>NaN</td>\n",
       "      <td>NaN</td>\n",
       "    </tr>\n",
       "    <tr>\n",
       "      <th>Angola</th>\n",
       "      <td>0.412630</td>\n",
       "      <td>34.96</td>\n",
       "      <td>-0.603419</td>\n",
       "      <td>7.0</td>\n",
       "      <td>3.62</td>\n",
       "    </tr>\n",
       "  </tbody>\n",
       "</table>\n",
       "</div>"
      ],
      "text/plain": [
       "             Overall Rule of Law Index  Press Freedom Score  \\\n",
       "Afghanistan                   0.347640                36.55   \n",
       "Albania                       0.506076                29.84   \n",
       "Algeria                       0.505867                45.75   \n",
       "Andorra                            NaN                24.63   \n",
       "Angola                        0.412630                34.96   \n",
       "\n",
       "             Human Rights Protection Score  Human Rights Violations  \\\n",
       "Afghanistan                      -1.281600                      8.3   \n",
       "Albania                           0.365031                      5.5   \n",
       "Algeria                           0.015590                      7.4   \n",
       "Andorra                           3.265850                      NaN   \n",
       "Angola                           -0.603419                      7.0   \n",
       "\n",
       "             Democracy Index  \n",
       "Afghanistan             2.97  \n",
       "Albania                 5.98  \n",
       "Algeria                 3.50  \n",
       "Andorra                  NaN  \n",
       "Angola                  3.62  "
      ]
     },
     "execution_count": 7,
     "metadata": {},
     "output_type": "execute_result"
    }
   ],
   "source": [
    "human_data = pd.concat([wjp_data, press_freedom_data, human_rights_data, human_rights_violation, democracy_data], axis=1, sort=True)\n",
    "human_data['Overall Rule of Law Index'] = pd.to_numeric(human_data['Overall Rule of Law Index'])\n",
    "human_data.head()"
   ]
  },
  {
   "cell_type": "markdown",
   "metadata": {},
   "source": [
    "### EDA and Data Preprocessing on Human Data"
   ]
  },
  {
   "cell_type": "code",
   "execution_count": 8,
   "metadata": {},
   "outputs": [
    {
     "data": {
      "text/plain": [
       "Overall Rule of Law Index        126\n",
       "Press Freedom Score              180\n",
       "Human Rights Protection Score    196\n",
       "Human Rights Violations          179\n",
       "Democracy Index                  167\n",
       "dtype: int64"
      ]
     },
     "execution_count": 8,
     "metadata": {},
     "output_type": "execute_result"
    }
   ],
   "source": [
    "# Data count for each column\n",
    "human_data.count()"
   ]
  },
  {
   "cell_type": "code",
   "execution_count": 9,
   "metadata": {},
   "outputs": [
    {
     "data": {
      "text/plain": [
       "Overall Rule of Law Index        151\n",
       "Press Freedom Score               97\n",
       "Human Rights Protection Score     81\n",
       "Human Rights Violations           98\n",
       "Democracy Index                  110\n",
       "dtype: int64"
      ]
     },
     "execution_count": 9,
     "metadata": {},
     "output_type": "execute_result"
    }
   ],
   "source": [
    "# Total Missing data per column\n",
    "human_data.isnull().sum()"
   ]
  },
  {
   "cell_type": "markdown",
   "metadata": {},
   "source": [
    "#### Handling Missing Data on Human Data\n",
    "There is lots of missing data for a lot of countries in the table. Omitting NaN values would significantly limit the model implications since it leaves such a small amount of data available.\n",
    "\n",
    "Popular and easier Data Imputation methods such as mean/median would not work in our case, because a lot of the data missing are from edge countries, which means values of not around average but rather on the edges of the scale.\n",
    "\n",
    "To overcome this issue, an imputing method of __KNN Imptuting__ is used. The detailed explanation of such method gathered from scikitlearn docs is:\n",
    "\n",
    "_Each sample’s missing values are imputed using the mean value from n_neighbors nearest neighbors found in the training set. Two samples are close if the features that neither is missing are close. By default, a euclidean distance metric that supports missing values, nan_euclidean_distances, is used to find the nearest neighbors._\n",
    "\n",
    "This would prove useful since it is expected that countries with other given variables similar should perform similarly in the NaN values. \n",
    "\n",
    "To make the imputations better, before KNN imputing, the rows with more than 2 NaN values can be omitted. Since having so much NaNs simply make it hard to make imputations about that country."
   ]
  },
  {
   "cell_type": "code",
   "execution_count": 10,
   "metadata": {},
   "outputs": [],
   "source": [
    "# Omitting rows with more than 2 NaN values\n",
    "human_data_omitted = human_data.dropna(thresh=2)"
   ]
  },
  {
   "cell_type": "code",
   "execution_count": 11,
   "metadata": {},
   "outputs": [
    {
     "data": {
      "text/plain": [
       "Overall Rule of Law Index        0\n",
       "Press Freedom Score              0\n",
       "Human Rights Protection Score    0\n",
       "Human Rights Violations          0\n",
       "Democracy Index                  0\n",
       "dtype: int64"
      ]
     },
     "execution_count": 11,
     "metadata": {},
     "output_type": "execute_result"
    }
   ],
   "source": [
    "# Impute NaN with KNNImputer\n",
    "from sklearn.impute import KNNImputer\n",
    "imputer = KNNImputer(n_neighbors=2)\n",
    "human_data_filled_array = imputer.fit_transform(human_data_omitted)\n",
    "human_data_filled = pd.DataFrame(human_data_filled_array)\n",
    "human_data_filled.columns = ['Overall Rule of Law Index', 'Press Freedom Score', 'Human Rights Protection Score', 'Human Rights Violations', 'Democracy Index']\n",
    "human_data_filled.index = human_data_omitted.index\n",
    "human_data_filled.isnull().sum()"
   ]
  },
  {
   "cell_type": "code",
   "execution_count": 12,
   "metadata": {},
   "outputs": [
    {
     "data": {
      "text/plain": [
       "Overall Rule of Law Index        186\n",
       "Press Freedom Score              186\n",
       "Human Rights Protection Score    186\n",
       "Human Rights Violations          186\n",
       "Democracy Index                  186\n",
       "dtype: int64"
      ]
     },
     "execution_count": 12,
     "metadata": {},
     "output_type": "execute_result"
    }
   ],
   "source": [
    "human_data_filled.count()"
   ]
  },
  {
   "cell_type": "code",
   "execution_count": 13,
   "metadata": {},
   "outputs": [
    {
     "data": {
      "text/html": [
       "<div>\n",
       "<style scoped>\n",
       "    .dataframe tbody tr th:only-of-type {\n",
       "        vertical-align: middle;\n",
       "    }\n",
       "\n",
       "    .dataframe tbody tr th {\n",
       "        vertical-align: top;\n",
       "    }\n",
       "\n",
       "    .dataframe thead th {\n",
       "        text-align: right;\n",
       "    }\n",
       "</style>\n",
       "<table border=\"1\" class=\"dataframe\">\n",
       "  <thead>\n",
       "    <tr style=\"text-align: right;\">\n",
       "      <th></th>\n",
       "      <th>Overall Rule of Law Index</th>\n",
       "      <th>Press Freedom Score</th>\n",
       "      <th>Human Rights Protection Score</th>\n",
       "      <th>Human Rights Violations</th>\n",
       "      <th>Democracy Index</th>\n",
       "    </tr>\n",
       "  </thead>\n",
       "  <tbody>\n",
       "    <tr>\n",
       "      <th>Overall Rule of Law Index</th>\n",
       "      <td>1.000000</td>\n",
       "      <td>-0.613701</td>\n",
       "      <td>0.784069</td>\n",
       "      <td>-0.832201</td>\n",
       "      <td>0.635293</td>\n",
       "    </tr>\n",
       "    <tr>\n",
       "      <th>Press Freedom Score</th>\n",
       "      <td>-0.613701</td>\n",
       "      <td>1.000000</td>\n",
       "      <td>-0.669364</td>\n",
       "      <td>0.760259</td>\n",
       "      <td>-0.710291</td>\n",
       "    </tr>\n",
       "    <tr>\n",
       "      <th>Human Rights Protection Score</th>\n",
       "      <td>0.784069</td>\n",
       "      <td>-0.669364</td>\n",
       "      <td>1.000000</td>\n",
       "      <td>-0.792795</td>\n",
       "      <td>0.589848</td>\n",
       "    </tr>\n",
       "    <tr>\n",
       "      <th>Human Rights Violations</th>\n",
       "      <td>-0.832201</td>\n",
       "      <td>0.760259</td>\n",
       "      <td>-0.792795</td>\n",
       "      <td>1.000000</td>\n",
       "      <td>-0.802528</td>\n",
       "    </tr>\n",
       "    <tr>\n",
       "      <th>Democracy Index</th>\n",
       "      <td>0.635293</td>\n",
       "      <td>-0.710291</td>\n",
       "      <td>0.589848</td>\n",
       "      <td>-0.802528</td>\n",
       "      <td>1.000000</td>\n",
       "    </tr>\n",
       "  </tbody>\n",
       "</table>\n",
       "</div>"
      ],
      "text/plain": [
       "                               Overall Rule of Law Index  Press Freedom Score  \\\n",
       "Overall Rule of Law Index                       1.000000            -0.613701   \n",
       "Press Freedom Score                            -0.613701             1.000000   \n",
       "Human Rights Protection Score                   0.784069            -0.669364   \n",
       "Human Rights Violations                        -0.832201             0.760259   \n",
       "Democracy Index                                 0.635293            -0.710291   \n",
       "\n",
       "                               Human Rights Protection Score  \\\n",
       "Overall Rule of Law Index                           0.784069   \n",
       "Press Freedom Score                                -0.669364   \n",
       "Human Rights Protection Score                       1.000000   \n",
       "Human Rights Violations                            -0.792795   \n",
       "Democracy Index                                     0.589848   \n",
       "\n",
       "                               Human Rights Violations  Democracy Index  \n",
       "Overall Rule of Law Index                    -0.832201         0.635293  \n",
       "Press Freedom Score                           0.760259        -0.710291  \n",
       "Human Rights Protection Score                -0.792795         0.589848  \n",
       "Human Rights Violations                       1.000000        -0.802528  \n",
       "Democracy Index                              -0.802528         1.000000  "
      ]
     },
     "execution_count": 13,
     "metadata": {},
     "output_type": "execute_result"
    }
   ],
   "source": [
    "human_data_filled.corr()"
   ]
  },
  {
   "cell_type": "code",
   "execution_count": 14,
   "metadata": {},
   "outputs": [
    {
     "data": {
      "text/html": [
       "<div>\n",
       "<style scoped>\n",
       "    .dataframe tbody tr th:only-of-type {\n",
       "        vertical-align: middle;\n",
       "    }\n",
       "\n",
       "    .dataframe tbody tr th {\n",
       "        vertical-align: top;\n",
       "    }\n",
       "\n",
       "    .dataframe thead th {\n",
       "        text-align: right;\n",
       "    }\n",
       "</style>\n",
       "<table border=\"1\" class=\"dataframe\">\n",
       "  <thead>\n",
       "    <tr style=\"text-align: right;\">\n",
       "      <th></th>\n",
       "      <th>Overall Rule of Law Index</th>\n",
       "      <th>Press Freedom Score</th>\n",
       "      <th>Human Rights Protection Score</th>\n",
       "      <th>Human Rights Violations</th>\n",
       "      <th>Democracy Index</th>\n",
       "    </tr>\n",
       "  </thead>\n",
       "  <tbody>\n",
       "    <tr>\n",
       "      <th>Overall Rule of Law Index</th>\n",
       "      <td>1.000000</td>\n",
       "      <td>-0.644426</td>\n",
       "      <td>0.830458</td>\n",
       "      <td>-0.841896</td>\n",
       "      <td>0.518674</td>\n",
       "    </tr>\n",
       "    <tr>\n",
       "      <th>Press Freedom Score</th>\n",
       "      <td>-0.644426</td>\n",
       "      <td>1.000000</td>\n",
       "      <td>-0.665240</td>\n",
       "      <td>0.765425</td>\n",
       "      <td>-0.589410</td>\n",
       "    </tr>\n",
       "    <tr>\n",
       "      <th>Human Rights Protection Score</th>\n",
       "      <td>0.830458</td>\n",
       "      <td>-0.665240</td>\n",
       "      <td>1.000000</td>\n",
       "      <td>-0.824914</td>\n",
       "      <td>0.330120</td>\n",
       "    </tr>\n",
       "    <tr>\n",
       "      <th>Human Rights Violations</th>\n",
       "      <td>-0.841896</td>\n",
       "      <td>0.765425</td>\n",
       "      <td>-0.824914</td>\n",
       "      <td>1.000000</td>\n",
       "      <td>-0.737144</td>\n",
       "    </tr>\n",
       "    <tr>\n",
       "      <th>Democracy Index</th>\n",
       "      <td>0.518674</td>\n",
       "      <td>-0.589410</td>\n",
       "      <td>0.330120</td>\n",
       "      <td>-0.737144</td>\n",
       "      <td>1.000000</td>\n",
       "    </tr>\n",
       "  </tbody>\n",
       "</table>\n",
       "</div>"
      ],
      "text/plain": [
       "                               Overall Rule of Law Index  Press Freedom Score  \\\n",
       "Overall Rule of Law Index                       1.000000            -0.644426   \n",
       "Press Freedom Score                            -0.644426             1.000000   \n",
       "Human Rights Protection Score                   0.830458            -0.665240   \n",
       "Human Rights Violations                        -0.841896             0.765425   \n",
       "Democracy Index                                 0.518674            -0.589410   \n",
       "\n",
       "                               Human Rights Protection Score  \\\n",
       "Overall Rule of Law Index                           0.830458   \n",
       "Press Freedom Score                                -0.665240   \n",
       "Human Rights Protection Score                       1.000000   \n",
       "Human Rights Violations                            -0.824914   \n",
       "Democracy Index                                     0.330120   \n",
       "\n",
       "                               Human Rights Violations  Democracy Index  \n",
       "Overall Rule of Law Index                    -0.841896         0.518674  \n",
       "Press Freedom Score                           0.765425        -0.589410  \n",
       "Human Rights Protection Score                -0.824914         0.330120  \n",
       "Human Rights Violations                       1.000000        -0.737144  \n",
       "Democracy Index                              -0.737144         1.000000  "
      ]
     },
     "execution_count": 14,
     "metadata": {},
     "output_type": "execute_result"
    }
   ],
   "source": [
    "human_data_omitted.corr()"
   ]
  },
  {
   "cell_type": "markdown",
   "metadata": {},
   "source": [
    "It can be seen that correlation between variables are not changed significantly after handling NaN values with KNN method. While it can be somewhat safely said it will not affect the results, further checks on the data before and after imputation might be needed, to check for validity. \n",
    "\n",
    "This is left out as future work, for now this filled data is accepted satisfactory enough to use in the following models.\n",
    "\n",
    "From above tables, it seems like theres some high collinearity between some variables, although that is expected it can affect the model inferences if handled bad. Checking VIF also might be good idea after adding outcome variable."
   ]
  },
  {
   "cell_type": "markdown",
   "metadata": {},
   "source": [
    "### Collection of Economic Data"
   ]
  },
  {
   "cell_type": "code",
   "execution_count": 15,
   "metadata": {},
   "outputs": [],
   "source": [
    "# Set indicators and date to read from WorldBank API\n",
    "indicators = {\n",
    "    'NY.GDP.PCAP.CD':'GDP per capita',\n",
    "    'PA.NUS.PPP':'PPP conversion factor',\n",
    "    'FP.CPI.TOTL.ZG':'Inflation',\n",
    "    'SL.UEM.TOTL.ZS':'Unemployment (%)',\n",
    "    'SP.RUR.TOTL.ZS':'Rural Population (%)',\n",
    "    'SL.TLF.CACT.NE.ZS':'Labor force participation rate (%)',\n",
    "            }\n",
    "data_date = datetime.datetime(2017, 1, 1)"
   ]
  },
  {
   "cell_type": "code",
   "execution_count": 16,
   "metadata": {},
   "outputs": [],
   "source": [
    "# Get the economic data as pandas dataframe from WB API, with given indicators and date\n",
    "economic_data = wbdata.get_dataframe(indicators, data_date=data_date)"
   ]
  },
  {
   "cell_type": "markdown",
   "metadata": {},
   "source": [
    "### EDA and Data Preprocessing on Human Data"
   ]
  },
  {
   "cell_type": "code",
   "execution_count": 17,
   "metadata": {},
   "outputs": [
    {
     "data": {
      "text/plain": [
       "GDP per capita                        247\n",
       "PPP conversion factor                 196\n",
       "Inflation                             221\n",
       "Unemployment (%)                      233\n",
       "Rural Population (%)                  260\n",
       "Labor force participation rate (%)    130\n",
       "dtype: int64"
      ]
     },
     "execution_count": 17,
     "metadata": {},
     "output_type": "execute_result"
    }
   ],
   "source": [
    "economic_data.count()"
   ]
  },
  {
   "cell_type": "code",
   "execution_count": 18,
   "metadata": {
    "scrolled": true
   },
   "outputs": [
    {
     "data": {
      "text/plain": [
       "GDP per capita                         17\n",
       "PPP conversion factor                  68\n",
       "Inflation                              43\n",
       "Unemployment (%)                       31\n",
       "Rural Population (%)                    4\n",
       "Labor force participation rate (%)    134\n",
       "dtype: int64"
      ]
     },
     "execution_count": 18,
     "metadata": {},
     "output_type": "execute_result"
    }
   ],
   "source": [
    "# Total Missing data per column\n",
    "economic_data.isnull().sum()"
   ]
  },
  {
   "cell_type": "markdown",
   "metadata": {},
   "source": [
    "Most of the columns have low amount of NaNs, only exception being _Labor force participation rate_. It seems like the same KNN Imputing can be applied here, since we expect countries to behave similar economic wise, if all the other indicators are similar.\n",
    "\n",
    "Similary before KNN imputing, the rows with more than 2 NaN values are omitted."
   ]
  },
  {
   "cell_type": "code",
   "execution_count": 19,
   "metadata": {},
   "outputs": [
    {
     "data": {
      "text/plain": [
       "GDP per capita                        0\n",
       "PPP conversion factor                 0\n",
       "Inflation                             0\n",
       "Unemployment (%)                      0\n",
       "Rural Population (%)                  0\n",
       "Labor force participation rate (%)    0\n",
       "dtype: int64"
      ]
     },
     "execution_count": 19,
     "metadata": {},
     "output_type": "execute_result"
    }
   ],
   "source": [
    "# Omitting rows with more than 2 NaN values\n",
    "economic_data_omitted = economic_data.dropna(thresh=3)\n",
    "# Impute NaN with KNNImputer\n",
    "economic_data_filled_array = imputer.fit_transform(economic_data_omitted)\n",
    "economic_data_filled = pd.DataFrame(economic_data_filled_array)\n",
    "economic_data_filled.columns = ['GDP per capita', 'PPP conversion factor', 'Inflation', 'Unemployment (%)', 'Rural Population (%)', 'Labor force participation rate (%)']\n",
    "economic_data_filled.index = economic_data_omitted.index\n",
    "economic_data_filled.isnull().sum()"
   ]
  },
  {
   "cell_type": "code",
   "execution_count": 20,
   "metadata": {},
   "outputs": [
    {
     "data": {
      "text/plain": [
       "GDP per capita                        244\n",
       "PPP conversion factor                 244\n",
       "Inflation                             244\n",
       "Unemployment (%)                      244\n",
       "Rural Population (%)                  244\n",
       "Labor force participation rate (%)    244\n",
       "dtype: int64"
      ]
     },
     "execution_count": 20,
     "metadata": {},
     "output_type": "execute_result"
    }
   ],
   "source": [
    "economic_data_filled.count()"
   ]
  },
  {
   "cell_type": "code",
   "execution_count": 21,
   "metadata": {},
   "outputs": [
    {
     "data": {
      "text/html": [
       "<div>\n",
       "<style scoped>\n",
       "    .dataframe tbody tr th:only-of-type {\n",
       "        vertical-align: middle;\n",
       "    }\n",
       "\n",
       "    .dataframe tbody tr th {\n",
       "        vertical-align: top;\n",
       "    }\n",
       "\n",
       "    .dataframe thead th {\n",
       "        text-align: right;\n",
       "    }\n",
       "</style>\n",
       "<table border=\"1\" class=\"dataframe\">\n",
       "  <thead>\n",
       "    <tr style=\"text-align: right;\">\n",
       "      <th></th>\n",
       "      <th>GDP per capita</th>\n",
       "      <th>PPP conversion factor</th>\n",
       "      <th>Inflation</th>\n",
       "      <th>Unemployment (%)</th>\n",
       "      <th>Rural Population (%)</th>\n",
       "      <th>Labor force participation rate (%)</th>\n",
       "    </tr>\n",
       "  </thead>\n",
       "  <tbody>\n",
       "    <tr>\n",
       "      <th>GDP per capita</th>\n",
       "      <td>1.000000</td>\n",
       "      <td>-0.136329</td>\n",
       "      <td>-0.062622</td>\n",
       "      <td>-0.118976</td>\n",
       "      <td>-0.623888</td>\n",
       "      <td>0.347456</td>\n",
       "    </tr>\n",
       "    <tr>\n",
       "      <th>PPP conversion factor</th>\n",
       "      <td>-0.136329</td>\n",
       "      <td>1.000000</td>\n",
       "      <td>0.089100</td>\n",
       "      <td>-0.022497</td>\n",
       "      <td>0.083802</td>\n",
       "      <td>-0.041076</td>\n",
       "    </tr>\n",
       "    <tr>\n",
       "      <th>Inflation</th>\n",
       "      <td>-0.062622</td>\n",
       "      <td>0.089100</td>\n",
       "      <td>1.000000</td>\n",
       "      <td>0.034752</td>\n",
       "      <td>0.061299</td>\n",
       "      <td>-0.013710</td>\n",
       "    </tr>\n",
       "    <tr>\n",
       "      <th>Unemployment (%)</th>\n",
       "      <td>-0.118976</td>\n",
       "      <td>-0.022497</td>\n",
       "      <td>0.034752</td>\n",
       "      <td>1.000000</td>\n",
       "      <td>-0.076626</td>\n",
       "      <td>-0.178043</td>\n",
       "    </tr>\n",
       "    <tr>\n",
       "      <th>Rural Population (%)</th>\n",
       "      <td>-0.623888</td>\n",
       "      <td>0.083802</td>\n",
       "      <td>0.061299</td>\n",
       "      <td>-0.076626</td>\n",
       "      <td>1.000000</td>\n",
       "      <td>-0.309196</td>\n",
       "    </tr>\n",
       "    <tr>\n",
       "      <th>Labor force participation rate (%)</th>\n",
       "      <td>0.347456</td>\n",
       "      <td>-0.041076</td>\n",
       "      <td>-0.013710</td>\n",
       "      <td>-0.178043</td>\n",
       "      <td>-0.309196</td>\n",
       "      <td>1.000000</td>\n",
       "    </tr>\n",
       "  </tbody>\n",
       "</table>\n",
       "</div>"
      ],
      "text/plain": [
       "                                    GDP per capita  PPP conversion factor  \\\n",
       "GDP per capita                            1.000000              -0.136329   \n",
       "PPP conversion factor                    -0.136329               1.000000   \n",
       "Inflation                                -0.062622               0.089100   \n",
       "Unemployment (%)                         -0.118976              -0.022497   \n",
       "Rural Population (%)                     -0.623888               0.083802   \n",
       "Labor force participation rate (%)        0.347456              -0.041076   \n",
       "\n",
       "                                    Inflation  Unemployment (%)  \\\n",
       "GDP per capita                      -0.062622         -0.118976   \n",
       "PPP conversion factor                0.089100         -0.022497   \n",
       "Inflation                            1.000000          0.034752   \n",
       "Unemployment (%)                     0.034752          1.000000   \n",
       "Rural Population (%)                 0.061299         -0.076626   \n",
       "Labor force participation rate (%)  -0.013710         -0.178043   \n",
       "\n",
       "                                    Rural Population (%)  \\\n",
       "GDP per capita                                 -0.623888   \n",
       "PPP conversion factor                           0.083802   \n",
       "Inflation                                       0.061299   \n",
       "Unemployment (%)                               -0.076626   \n",
       "Rural Population (%)                            1.000000   \n",
       "Labor force participation rate (%)             -0.309196   \n",
       "\n",
       "                                    Labor force participation rate (%)  \n",
       "GDP per capita                                                0.347456  \n",
       "PPP conversion factor                                        -0.041076  \n",
       "Inflation                                                    -0.013710  \n",
       "Unemployment (%)                                             -0.178043  \n",
       "Rural Population (%)                                         -0.309196  \n",
       "Labor force participation rate (%)                            1.000000  "
      ]
     },
     "execution_count": 21,
     "metadata": {},
     "output_type": "execute_result"
    }
   ],
   "source": [
    "economic_data_filled.corr()"
   ]
  },
  {
   "cell_type": "code",
   "execution_count": 22,
   "metadata": {},
   "outputs": [
    {
     "data": {
      "text/html": [
       "<div>\n",
       "<style scoped>\n",
       "    .dataframe tbody tr th:only-of-type {\n",
       "        vertical-align: middle;\n",
       "    }\n",
       "\n",
       "    .dataframe tbody tr th {\n",
       "        vertical-align: top;\n",
       "    }\n",
       "\n",
       "    .dataframe thead th {\n",
       "        text-align: right;\n",
       "    }\n",
       "</style>\n",
       "<table border=\"1\" class=\"dataframe\">\n",
       "  <thead>\n",
       "    <tr style=\"text-align: right;\">\n",
       "      <th></th>\n",
       "      <th>GDP per capita</th>\n",
       "      <th>PPP conversion factor</th>\n",
       "      <th>Inflation</th>\n",
       "      <th>Unemployment (%)</th>\n",
       "      <th>Rural Population (%)</th>\n",
       "      <th>Labor force participation rate (%)</th>\n",
       "    </tr>\n",
       "  </thead>\n",
       "  <tbody>\n",
       "    <tr>\n",
       "      <th>GDP per capita</th>\n",
       "      <td>1.000000</td>\n",
       "      <td>-0.136904</td>\n",
       "      <td>-0.296855</td>\n",
       "      <td>-0.124348</td>\n",
       "      <td>-0.619396</td>\n",
       "      <td>0.364914</td>\n",
       "    </tr>\n",
       "    <tr>\n",
       "      <th>PPP conversion factor</th>\n",
       "      <td>-0.136904</td>\n",
       "      <td>1.000000</td>\n",
       "      <td>0.082275</td>\n",
       "      <td>-0.033872</td>\n",
       "      <td>0.085750</td>\n",
       "      <td>-0.029130</td>\n",
       "    </tr>\n",
       "    <tr>\n",
       "      <th>Inflation</th>\n",
       "      <td>-0.296855</td>\n",
       "      <td>0.082275</td>\n",
       "      <td>1.000000</td>\n",
       "      <td>0.078810</td>\n",
       "      <td>0.201101</td>\n",
       "      <td>-0.082152</td>\n",
       "    </tr>\n",
       "    <tr>\n",
       "      <th>Unemployment (%)</th>\n",
       "      <td>-0.124348</td>\n",
       "      <td>-0.033872</td>\n",
       "      <td>0.078810</td>\n",
       "      <td>1.000000</td>\n",
       "      <td>-0.092445</td>\n",
       "      <td>-0.344268</td>\n",
       "    </tr>\n",
       "    <tr>\n",
       "      <th>Rural Population (%)</th>\n",
       "      <td>-0.619396</td>\n",
       "      <td>0.085750</td>\n",
       "      <td>0.201101</td>\n",
       "      <td>-0.092445</td>\n",
       "      <td>1.000000</td>\n",
       "      <td>-0.410876</td>\n",
       "    </tr>\n",
       "    <tr>\n",
       "      <th>Labor force participation rate (%)</th>\n",
       "      <td>0.364914</td>\n",
       "      <td>-0.029130</td>\n",
       "      <td>-0.082152</td>\n",
       "      <td>-0.344268</td>\n",
       "      <td>-0.410876</td>\n",
       "      <td>1.000000</td>\n",
       "    </tr>\n",
       "  </tbody>\n",
       "</table>\n",
       "</div>"
      ],
      "text/plain": [
       "                                    GDP per capita  PPP conversion factor  \\\n",
       "GDP per capita                            1.000000              -0.136904   \n",
       "PPP conversion factor                    -0.136904               1.000000   \n",
       "Inflation                                -0.296855               0.082275   \n",
       "Unemployment (%)                         -0.124348              -0.033872   \n",
       "Rural Population (%)                     -0.619396               0.085750   \n",
       "Labor force participation rate (%)        0.364914              -0.029130   \n",
       "\n",
       "                                    Inflation  Unemployment (%)  \\\n",
       "GDP per capita                      -0.296855         -0.124348   \n",
       "PPP conversion factor                0.082275         -0.033872   \n",
       "Inflation                            1.000000          0.078810   \n",
       "Unemployment (%)                     0.078810          1.000000   \n",
       "Rural Population (%)                 0.201101         -0.092445   \n",
       "Labor force participation rate (%)  -0.082152         -0.344268   \n",
       "\n",
       "                                    Rural Population (%)  \\\n",
       "GDP per capita                                 -0.619396   \n",
       "PPP conversion factor                           0.085750   \n",
       "Inflation                                       0.201101   \n",
       "Unemployment (%)                               -0.092445   \n",
       "Rural Population (%)                            1.000000   \n",
       "Labor force participation rate (%)             -0.410876   \n",
       "\n",
       "                                    Labor force participation rate (%)  \n",
       "GDP per capita                                                0.364914  \n",
       "PPP conversion factor                                        -0.029130  \n",
       "Inflation                                                    -0.082152  \n",
       "Unemployment (%)                                             -0.344268  \n",
       "Rural Population (%)                                         -0.410876  \n",
       "Labor force participation rate (%)                            1.000000  "
      ]
     },
     "execution_count": 22,
     "metadata": {},
     "output_type": "execute_result"
    }
   ],
   "source": [
    "economic_data_omitted.corr()"
   ]
  },
  {
   "cell_type": "markdown",
   "metadata": {},
   "source": [
    "Similary, we see correlations did not skewed too much, so again for this research we can safely ignore the unwanted effects of imputing NaNs."
   ]
  },
  {
   "cell_type": "markdown",
   "metadata": {},
   "source": [
    "## Combined table of Human Data and Economic Data\n",
    "A final dataframe is created to be used on the models, with combining imputed human data and the imputed economic data."
   ]
  },
  {
   "cell_type": "code",
   "execution_count": 23,
   "metadata": {},
   "outputs": [
    {
     "data": {
      "text/html": [
       "<div>\n",
       "<style scoped>\n",
       "    .dataframe tbody tr th:only-of-type {\n",
       "        vertical-align: middle;\n",
       "    }\n",
       "\n",
       "    .dataframe tbody tr th {\n",
       "        vertical-align: top;\n",
       "    }\n",
       "\n",
       "    .dataframe thead th {\n",
       "        text-align: right;\n",
       "    }\n",
       "</style>\n",
       "<table border=\"1\" class=\"dataframe\">\n",
       "  <thead>\n",
       "    <tr style=\"text-align: right;\">\n",
       "      <th></th>\n",
       "      <th>Overall Rule of Law Index</th>\n",
       "      <th>Press Freedom Score</th>\n",
       "      <th>Human Rights Protection Score</th>\n",
       "      <th>Human Rights Violations</th>\n",
       "      <th>Democracy Index</th>\n",
       "      <th>GDP per capita</th>\n",
       "      <th>PPP conversion factor</th>\n",
       "      <th>Inflation</th>\n",
       "      <th>Unemployment (%)</th>\n",
       "      <th>Rural Population (%)</th>\n",
       "      <th>Labor force participation rate (%)</th>\n",
       "    </tr>\n",
       "  </thead>\n",
       "  <tbody>\n",
       "    <tr>\n",
       "      <th>Afghanistan</th>\n",
       "      <td>0.347640</td>\n",
       "      <td>36.55</td>\n",
       "      <td>-1.281600</td>\n",
       "      <td>8.3</td>\n",
       "      <td>2.97</td>\n",
       "      <td>556.302139</td>\n",
       "      <td>17.205558</td>\n",
       "      <td>4.975952</td>\n",
       "      <td>11.184</td>\n",
       "      <td>74.750</td>\n",
       "      <td>47.305000</td>\n",
       "    </tr>\n",
       "    <tr>\n",
       "      <th>Albania</th>\n",
       "      <td>0.506076</td>\n",
       "      <td>29.84</td>\n",
       "      <td>0.365031</td>\n",
       "      <td>5.5</td>\n",
       "      <td>5.98</td>\n",
       "      <td>4532.890162</td>\n",
       "      <td>41.231113</td>\n",
       "      <td>1.986661</td>\n",
       "      <td>13.750</td>\n",
       "      <td>40.617</td>\n",
       "      <td>58.299999</td>\n",
       "    </tr>\n",
       "    <tr>\n",
       "      <th>Algeria</th>\n",
       "      <td>0.505867</td>\n",
       "      <td>45.75</td>\n",
       "      <td>0.015590</td>\n",
       "      <td>7.4</td>\n",
       "      <td>3.50</td>\n",
       "      <td>4044.298372</td>\n",
       "      <td>38.855751</td>\n",
       "      <td>5.591116</td>\n",
       "      <td>11.996</td>\n",
       "      <td>27.948</td>\n",
       "      <td>36.910000</td>\n",
       "    </tr>\n",
       "    <tr>\n",
       "      <th>Andorra</th>\n",
       "      <td>0.658829</td>\n",
       "      <td>24.63</td>\n",
       "      <td>3.265850</td>\n",
       "      <td>4.9</td>\n",
       "      <td>6.74</td>\n",
       "      <td>NaN</td>\n",
       "      <td>NaN</td>\n",
       "      <td>NaN</td>\n",
       "      <td>NaN</td>\n",
       "      <td>NaN</td>\n",
       "      <td>NaN</td>\n",
       "    </tr>\n",
       "    <tr>\n",
       "      <th>Angola</th>\n",
       "      <td>0.412630</td>\n",
       "      <td>34.96</td>\n",
       "      <td>-0.603419</td>\n",
       "      <td>7.0</td>\n",
       "      <td>3.62</td>\n",
       "      <td>4095.812942</td>\n",
       "      <td>92.951721</td>\n",
       "      <td>31.691686</td>\n",
       "      <td>7.119</td>\n",
       "      <td>35.161</td>\n",
       "      <td>45.450701</td>\n",
       "    </tr>\n",
       "  </tbody>\n",
       "</table>\n",
       "</div>"
      ],
      "text/plain": [
       "             Overall Rule of Law Index  Press Freedom Score  \\\n",
       "Afghanistan                   0.347640                36.55   \n",
       "Albania                       0.506076                29.84   \n",
       "Algeria                       0.505867                45.75   \n",
       "Andorra                       0.658829                24.63   \n",
       "Angola                        0.412630                34.96   \n",
       "\n",
       "             Human Rights Protection Score  Human Rights Violations  \\\n",
       "Afghanistan                      -1.281600                      8.3   \n",
       "Albania                           0.365031                      5.5   \n",
       "Algeria                           0.015590                      7.4   \n",
       "Andorra                           3.265850                      4.9   \n",
       "Angola                           -0.603419                      7.0   \n",
       "\n",
       "             Democracy Index  GDP per capita  PPP conversion factor  \\\n",
       "Afghanistan             2.97      556.302139              17.205558   \n",
       "Albania                 5.98     4532.890162              41.231113   \n",
       "Algeria                 3.50     4044.298372              38.855751   \n",
       "Andorra                 6.74             NaN                    NaN   \n",
       "Angola                  3.62     4095.812942              92.951721   \n",
       "\n",
       "             Inflation  Unemployment (%)  Rural Population (%)  \\\n",
       "Afghanistan   4.975952            11.184                74.750   \n",
       "Albania       1.986661            13.750                40.617   \n",
       "Algeria       5.591116            11.996                27.948   \n",
       "Andorra            NaN               NaN                   NaN   \n",
       "Angola       31.691686             7.119                35.161   \n",
       "\n",
       "             Labor force participation rate (%)  \n",
       "Afghanistan                           47.305000  \n",
       "Albania                               58.299999  \n",
       "Algeria                               36.910000  \n",
       "Andorra                                     NaN  \n",
       "Angola                                45.450701  "
      ]
     },
     "execution_count": 23,
     "metadata": {},
     "output_type": "execute_result"
    }
   ],
   "source": [
    "combined_data = pd.concat([human_data_filled, economic_data_filled], axis=1, sort=True)\n",
    "combined_data.head()"
   ]
  },
  {
   "cell_type": "code",
   "execution_count": 24,
   "metadata": {},
   "outputs": [
    {
     "data": {
      "text/plain": [
       "Overall Rule of Law Index             186\n",
       "Press Freedom Score                   186\n",
       "Human Rights Protection Score         186\n",
       "Human Rights Violations               186\n",
       "Democracy Index                       186\n",
       "GDP per capita                        244\n",
       "PPP conversion factor                 244\n",
       "Inflation                             244\n",
       "Unemployment (%)                      244\n",
       "Rural Population (%)                  244\n",
       "Labor force participation rate (%)    244\n",
       "dtype: int64"
      ]
     },
     "execution_count": 24,
     "metadata": {},
     "output_type": "execute_result"
    }
   ],
   "source": [
    "combined_data.count()"
   ]
  },
  {
   "cell_type": "markdown",
   "metadata": {},
   "source": [
    "At this point, it harms more than it gives benefits to use imputing on the missin variables, since we have a pattern of NaNs in some rows. The model would do well with 186 country data, so it is decided do emit NaNs here."
   ]
  },
  {
   "cell_type": "code",
   "execution_count": 25,
   "metadata": {},
   "outputs": [],
   "source": [
    "combined_data_omitted = combined_data.dropna()"
   ]
  },
  {
   "cell_type": "code",
   "execution_count": 26,
   "metadata": {},
   "outputs": [
    {
     "data": {
      "text/plain": [
       "Overall Rule of Law Index             159\n",
       "Press Freedom Score                   159\n",
       "Human Rights Protection Score         159\n",
       "Human Rights Violations               159\n",
       "Democracy Index                       159\n",
       "GDP per capita                        159\n",
       "PPP conversion factor                 159\n",
       "Inflation                             159\n",
       "Unemployment (%)                      159\n",
       "Rural Population (%)                  159\n",
       "Labor force participation rate (%)    159\n",
       "dtype: int64"
      ]
     },
     "execution_count": 26,
     "metadata": {},
     "output_type": "execute_result"
    }
   ],
   "source": [
    "combined_data_omitted.count()"
   ]
  },
  {
   "cell_type": "markdown",
   "metadata": {},
   "source": [
    "### Create a Composite Economic Index\n",
    "Right now, the outcome variable of human data consists of 5 variables. To be able to use our models, we need only one outcome variable with several dependent variables.\n",
    "\n",
    "To make it happen, it is tried to create a socalled __composite index__ combining these 5 human data variables into one final outcome variable.\n",
    "\n",
    "In order to prevent unbalance caused by high numbers, all relevant variables are standardized using MinMaxScaler beforehand and the sign and interpretation of the specific indices are taken into account.\n",
    "\n",
    "After these manipulations, the _composite index_ is calculated by basic mean of these 5 human data variables. Some other methods with different weights can be tried out with relevant backing information, but in this research we go with the basic mean."
   ]
  },
  {
   "cell_type": "code",
   "execution_count": 27,
   "metadata": {
    "scrolled": true
   },
   "outputs": [
    {
     "data": {
      "text/html": [
       "<div>\n",
       "<style scoped>\n",
       "    .dataframe tbody tr th:only-of-type {\n",
       "        vertical-align: middle;\n",
       "    }\n",
       "\n",
       "    .dataframe tbody tr th {\n",
       "        vertical-align: top;\n",
       "    }\n",
       "\n",
       "    .dataframe thead th {\n",
       "        text-align: right;\n",
       "    }\n",
       "</style>\n",
       "<table border=\"1\" class=\"dataframe\">\n",
       "  <thead>\n",
       "    <tr style=\"text-align: right;\">\n",
       "      <th></th>\n",
       "      <th>Overall Rule of Law Index</th>\n",
       "      <th>Press Freedom Score</th>\n",
       "      <th>Human Rights Protection Score</th>\n",
       "      <th>Human Rights Violations</th>\n",
       "      <th>Democracy Index</th>\n",
       "      <th>GDP per capita</th>\n",
       "      <th>PPP conversion factor</th>\n",
       "      <th>Inflation</th>\n",
       "      <th>Unemployment (%)</th>\n",
       "      <th>Rural Population (%)</th>\n",
       "      <th>Labor force participation rate (%)</th>\n",
       "      <th>Composite Index</th>\n",
       "    </tr>\n",
       "  </thead>\n",
       "  <tbody>\n",
       "    <tr>\n",
       "      <th>Afghanistan</th>\n",
       "      <td>0.347640</td>\n",
       "      <td>36.550</td>\n",
       "      <td>-1.281600</td>\n",
       "      <td>8.3</td>\n",
       "      <td>2.97</td>\n",
       "      <td>556.302139</td>\n",
       "      <td>17.205558</td>\n",
       "      <td>4.975952</td>\n",
       "      <td>11.1840</td>\n",
       "      <td>74.750</td>\n",
       "      <td>47.305000</td>\n",
       "      <td>0.137464</td>\n",
       "    </tr>\n",
       "    <tr>\n",
       "      <th>Albania</th>\n",
       "      <td>0.506076</td>\n",
       "      <td>29.840</td>\n",
       "      <td>0.365031</td>\n",
       "      <td>5.5</td>\n",
       "      <td>5.98</td>\n",
       "      <td>4532.890162</td>\n",
       "      <td>41.231113</td>\n",
       "      <td>1.986661</td>\n",
       "      <td>13.7500</td>\n",
       "      <td>40.617</td>\n",
       "      <td>58.299999</td>\n",
       "      <td>0.314657</td>\n",
       "    </tr>\n",
       "    <tr>\n",
       "      <th>Algeria</th>\n",
       "      <td>0.505867</td>\n",
       "      <td>45.750</td>\n",
       "      <td>0.015590</td>\n",
       "      <td>7.4</td>\n",
       "      <td>3.50</td>\n",
       "      <td>4044.298372</td>\n",
       "      <td>38.855751</td>\n",
       "      <td>5.591116</td>\n",
       "      <td>11.9960</td>\n",
       "      <td>27.948</td>\n",
       "      <td>36.910000</td>\n",
       "      <td>0.210869</td>\n",
       "    </tr>\n",
       "    <tr>\n",
       "      <th>Angola</th>\n",
       "      <td>0.412630</td>\n",
       "      <td>34.960</td>\n",
       "      <td>-0.603419</td>\n",
       "      <td>7.0</td>\n",
       "      <td>3.62</td>\n",
       "      <td>4095.812942</td>\n",
       "      <td>92.951721</td>\n",
       "      <td>31.691686</td>\n",
       "      <td>7.1190</td>\n",
       "      <td>35.161</td>\n",
       "      <td>45.450701</td>\n",
       "      <td>0.181526</td>\n",
       "    </tr>\n",
       "    <tr>\n",
       "      <th>Antigua and Barbuda</th>\n",
       "      <td>0.627957</td>\n",
       "      <td>27.385</td>\n",
       "      <td>1.129720</td>\n",
       "      <td>4.7</td>\n",
       "      <td>6.06</td>\n",
       "      <td>15383.415188</td>\n",
       "      <td>2.093501</td>\n",
       "      <td>2.432488</td>\n",
       "      <td>6.3075</td>\n",
       "      <td>75.287</td>\n",
       "      <td>61.664150</td>\n",
       "      <td>0.373186</td>\n",
       "    </tr>\n",
       "  </tbody>\n",
       "</table>\n",
       "</div>"
      ],
      "text/plain": [
       "                     Overall Rule of Law Index  Press Freedom Score  \\\n",
       "Afghanistan                           0.347640               36.550   \n",
       "Albania                               0.506076               29.840   \n",
       "Algeria                               0.505867               45.750   \n",
       "Angola                                0.412630               34.960   \n",
       "Antigua and Barbuda                   0.627957               27.385   \n",
       "\n",
       "                     Human Rights Protection Score  Human Rights Violations  \\\n",
       "Afghanistan                              -1.281600                      8.3   \n",
       "Albania                                   0.365031                      5.5   \n",
       "Algeria                                   0.015590                      7.4   \n",
       "Angola                                   -0.603419                      7.0   \n",
       "Antigua and Barbuda                       1.129720                      4.7   \n",
       "\n",
       "                     Democracy Index  GDP per capita  PPP conversion factor  \\\n",
       "Afghanistan                     2.97      556.302139              17.205558   \n",
       "Albania                         5.98     4532.890162              41.231113   \n",
       "Algeria                         3.50     4044.298372              38.855751   \n",
       "Angola                          3.62     4095.812942              92.951721   \n",
       "Antigua and Barbuda             6.06    15383.415188               2.093501   \n",
       "\n",
       "                     Inflation  Unemployment (%)  Rural Population (%)  \\\n",
       "Afghanistan           4.975952           11.1840                74.750   \n",
       "Albania               1.986661           13.7500                40.617   \n",
       "Algeria               5.591116           11.9960                27.948   \n",
       "Angola               31.691686            7.1190                35.161   \n",
       "Antigua and Barbuda   2.432488            6.3075                75.287   \n",
       "\n",
       "                     Labor force participation rate (%)  Composite Index  \n",
       "Afghanistan                                   47.305000         0.137464  \n",
       "Albania                                       58.299999         0.314657  \n",
       "Algeria                                       36.910000         0.210869  \n",
       "Angola                                        45.450701         0.181526  \n",
       "Antigua and Barbuda                           61.664150         0.373186  "
      ]
     },
     "execution_count": 27,
     "metadata": {},
     "output_type": "execute_result"
    }
   ],
   "source": [
    "import warnings\n",
    "warnings.filterwarnings('ignore')\n",
    "# Scale human data indexes to prevent skewing mean from high values\n",
    "## pip install mlxtend\n",
    "from mlxtend.preprocessing import minmax_scaling\n",
    "human_data_scaled = minmax_scaling(combined_data_omitted, columns=[\n",
    "    'Overall Rule of Law Index',\n",
    "    'Press Freedom Score',\n",
    "    'Human Rights Protection Score',\n",
    "    'Human Rights Violations',\n",
    "    'Democracy Index'\n",
    "])\n",
    "human_data_scaled['Press Freedom Score'] = -human_data_scaled['Press Freedom Score']\n",
    "human_data_scaled['Composite Index'] = human_data_scaled.mean(axis=1)\n",
    "combined_data_omitted['Composite Index'] = human_data_scaled['Composite Index']\n",
    "combined_data_omitted.head()"
   ]
  },
  {
   "cell_type": "code",
   "execution_count": 28,
   "metadata": {},
   "outputs": [
    {
     "data": {
      "text/html": [
       "<div>\n",
       "<style scoped>\n",
       "    .dataframe tbody tr th:only-of-type {\n",
       "        vertical-align: middle;\n",
       "    }\n",
       "\n",
       "    .dataframe tbody tr th {\n",
       "        vertical-align: top;\n",
       "    }\n",
       "\n",
       "    .dataframe thead th {\n",
       "        text-align: right;\n",
       "    }\n",
       "</style>\n",
       "<table border=\"1\" class=\"dataframe\">\n",
       "  <thead>\n",
       "    <tr style=\"text-align: right;\">\n",
       "      <th></th>\n",
       "      <th>GDP_per_capita</th>\n",
       "      <th>PPP_conversion_factor</th>\n",
       "      <th>Inflation</th>\n",
       "      <th>Unemployment</th>\n",
       "      <th>Rural_population</th>\n",
       "      <th>Labor_force_participation_rate</th>\n",
       "      <th>Composite_index</th>\n",
       "    </tr>\n",
       "  </thead>\n",
       "  <tbody>\n",
       "    <tr>\n",
       "      <th>Afghanistan</th>\n",
       "      <td>556.302139</td>\n",
       "      <td>17.205558</td>\n",
       "      <td>4.975952</td>\n",
       "      <td>11.1840</td>\n",
       "      <td>74.750</td>\n",
       "      <td>47.305000</td>\n",
       "      <td>0.137464</td>\n",
       "    </tr>\n",
       "    <tr>\n",
       "      <th>Albania</th>\n",
       "      <td>4532.890162</td>\n",
       "      <td>41.231113</td>\n",
       "      <td>1.986661</td>\n",
       "      <td>13.7500</td>\n",
       "      <td>40.617</td>\n",
       "      <td>58.299999</td>\n",
       "      <td>0.314657</td>\n",
       "    </tr>\n",
       "    <tr>\n",
       "      <th>Algeria</th>\n",
       "      <td>4044.298372</td>\n",
       "      <td>38.855751</td>\n",
       "      <td>5.591116</td>\n",
       "      <td>11.9960</td>\n",
       "      <td>27.948</td>\n",
       "      <td>36.910000</td>\n",
       "      <td>0.210869</td>\n",
       "    </tr>\n",
       "    <tr>\n",
       "      <th>Angola</th>\n",
       "      <td>4095.812942</td>\n",
       "      <td>92.951721</td>\n",
       "      <td>31.691686</td>\n",
       "      <td>7.1190</td>\n",
       "      <td>35.161</td>\n",
       "      <td>45.450701</td>\n",
       "      <td>0.181526</td>\n",
       "    </tr>\n",
       "    <tr>\n",
       "      <th>Antigua and Barbuda</th>\n",
       "      <td>15383.415188</td>\n",
       "      <td>2.093501</td>\n",
       "      <td>2.432488</td>\n",
       "      <td>6.3075</td>\n",
       "      <td>75.287</td>\n",
       "      <td>61.664150</td>\n",
       "      <td>0.373186</td>\n",
       "    </tr>\n",
       "  </tbody>\n",
       "</table>\n",
       "</div>"
      ],
      "text/plain": [
       "                     GDP_per_capita  PPP_conversion_factor  Inflation  \\\n",
       "Afghanistan              556.302139              17.205558   4.975952   \n",
       "Albania                 4532.890162              41.231113   1.986661   \n",
       "Algeria                 4044.298372              38.855751   5.591116   \n",
       "Angola                  4095.812942              92.951721  31.691686   \n",
       "Antigua and Barbuda    15383.415188               2.093501   2.432488   \n",
       "\n",
       "                     Unemployment  Rural_population  \\\n",
       "Afghanistan               11.1840            74.750   \n",
       "Albania                   13.7500            40.617   \n",
       "Algeria                   11.9960            27.948   \n",
       "Angola                     7.1190            35.161   \n",
       "Antigua and Barbuda        6.3075            75.287   \n",
       "\n",
       "                     Labor_force_participation_rate  Composite_index  \n",
       "Afghanistan                               47.305000         0.137464  \n",
       "Albania                                   58.299999         0.314657  \n",
       "Algeria                                   36.910000         0.210869  \n",
       "Angola                                    45.450701         0.181526  \n",
       "Antigua and Barbuda                       61.664150         0.373186  "
      ]
     },
     "execution_count": 28,
     "metadata": {},
     "output_type": "execute_result"
    }
   ],
   "source": [
    "# Subsetting the dataframe with relevant features for models.\n",
    "combined_data_subset = combined_data_omitted[['GDP per capita', 'PPP conversion factor', 'Inflation', 'Unemployment (%)', 'Rural Population (%)', 'Labor force participation rate (%)', 'Composite Index']]\n",
    "combined_data_subset.columns = ['GDP_per_capita', 'PPP_conversion_factor', 'Inflation', 'Unemployment', 'Rural_population', 'Labor_force_participation_rate', 'Composite_index']\n",
    "combined_data_subset.head(5)"
   ]
  },
  {
   "cell_type": "markdown",
   "metadata": {},
   "source": [
    "## Further Exploratory Data Analysis (EDA) on the Combined Data"
   ]
  },
  {
   "cell_type": "code",
   "execution_count": 32,
   "metadata": {},
   "outputs": [
    {
     "data": {
      "text/html": [
       "<div>\n",
       "<style scoped>\n",
       "    .dataframe tbody tr th:only-of-type {\n",
       "        vertical-align: middle;\n",
       "    }\n",
       "\n",
       "    .dataframe tbody tr th {\n",
       "        vertical-align: top;\n",
       "    }\n",
       "\n",
       "    .dataframe thead th {\n",
       "        text-align: right;\n",
       "    }\n",
       "</style>\n",
       "<table border=\"1\" class=\"dataframe\">\n",
       "  <thead>\n",
       "    <tr style=\"text-align: right;\">\n",
       "      <th></th>\n",
       "      <th>GDP_per_capita</th>\n",
       "      <th>PPP_conversion_factor</th>\n",
       "      <th>Inflation</th>\n",
       "      <th>Unemployment</th>\n",
       "      <th>Rural_population</th>\n",
       "      <th>Labor_force_participation_rate</th>\n",
       "      <th>Composite_index</th>\n",
       "    </tr>\n",
       "  </thead>\n",
       "  <tbody>\n",
       "    <tr>\n",
       "      <th>count</th>\n",
       "      <td>159.000000</td>\n",
       "      <td>159.000000</td>\n",
       "      <td>159.000000</td>\n",
       "      <td>159.000000</td>\n",
       "      <td>159.000000</td>\n",
       "      <td>159.000000</td>\n",
       "      <td>159.000000</td>\n",
       "    </tr>\n",
       "    <tr>\n",
       "      <th>mean</th>\n",
       "      <td>13886.534230</td>\n",
       "      <td>285.971381</td>\n",
       "      <td>10.585294</td>\n",
       "      <td>7.038023</td>\n",
       "      <td>41.427204</td>\n",
       "      <td>58.634072</td>\n",
       "      <td>0.298709</td>\n",
       "    </tr>\n",
       "    <tr>\n",
       "      <th>std</th>\n",
       "      <td>19282.191854</td>\n",
       "      <td>1024.977634</td>\n",
       "      <td>26.070298</td>\n",
       "      <td>5.173049</td>\n",
       "      <td>22.850927</td>\n",
       "      <td>9.428400</td>\n",
       "      <td>0.106427</td>\n",
       "    </tr>\n",
       "    <tr>\n",
       "      <th>min</th>\n",
       "      <td>292.997631</td>\n",
       "      <td>0.177484</td>\n",
       "      <td>-1.537100</td>\n",
       "      <td>0.140000</td>\n",
       "      <td>0.000000</td>\n",
       "      <td>26.486700</td>\n",
       "      <td>0.074373</td>\n",
       "    </tr>\n",
       "    <tr>\n",
       "      <th>25%</th>\n",
       "      <td>1897.563254</td>\n",
       "      <td>1.089958</td>\n",
       "      <td>1.485617</td>\n",
       "      <td>3.440000</td>\n",
       "      <td>22.316000</td>\n",
       "      <td>53.980850</td>\n",
       "      <td>0.218840</td>\n",
       "    </tr>\n",
       "    <tr>\n",
       "      <th>50%</th>\n",
       "      <td>5680.580768</td>\n",
       "      <td>6.426701</td>\n",
       "      <td>2.853188</td>\n",
       "      <td>5.591000</td>\n",
       "      <td>41.701000</td>\n",
       "      <td>59.621450</td>\n",
       "      <td>0.304501</td>\n",
       "    </tr>\n",
       "    <tr>\n",
       "      <th>75%</th>\n",
       "      <td>15615.869406</td>\n",
       "      <td>111.000267</td>\n",
       "      <td>5.698579</td>\n",
       "      <td>9.543500</td>\n",
       "      <td>58.929000</td>\n",
       "      <td>63.691648</td>\n",
       "      <td>0.382688</td>\n",
       "    </tr>\n",
       "    <tr>\n",
       "      <th>max</th>\n",
       "      <td>107361.306947</td>\n",
       "      <td>8229.531086</td>\n",
       "      <td>187.851626</td>\n",
       "      <td>27.070999</td>\n",
       "      <td>87.294000</td>\n",
       "      <td>88.050003</td>\n",
       "      <td>0.532520</td>\n",
       "    </tr>\n",
       "  </tbody>\n",
       "</table>\n",
       "</div>"
      ],
      "text/plain": [
       "      GDP_per_capita PPP_conversion_factor   Inflation Unemployment  \\\n",
       "count     159.000000            159.000000  159.000000   159.000000   \n",
       "mean    13886.534230            285.971381   10.585294     7.038023   \n",
       "std     19282.191854           1024.977634   26.070298     5.173049   \n",
       "min       292.997631              0.177484   -1.537100     0.140000   \n",
       "25%      1897.563254              1.089958    1.485617     3.440000   \n",
       "50%      5680.580768              6.426701    2.853188     5.591000   \n",
       "75%     15615.869406            111.000267    5.698579     9.543500   \n",
       "max    107361.306947           8229.531086  187.851626    27.070999   \n",
       "\n",
       "      Rural_population Labor_force_participation_rate Composite_index  \n",
       "count       159.000000                     159.000000      159.000000  \n",
       "mean         41.427204                      58.634072        0.298709  \n",
       "std          22.850927                       9.428400        0.106427  \n",
       "min           0.000000                      26.486700        0.074373  \n",
       "25%          22.316000                      53.980850        0.218840  \n",
       "50%          41.701000                      59.621450        0.304501  \n",
       "75%          58.929000                      63.691648        0.382688  \n",
       "max          87.294000                      88.050003        0.532520  "
      ]
     },
     "execution_count": 32,
     "metadata": {},
     "output_type": "execute_result"
    }
   ],
   "source": [
    "combined_data_subset.describe().apply(lambda s: s.apply(lambda x: format(x, 'f')))"
   ]
  },
  {
   "cell_type": "markdown",
   "metadata": {},
   "source": [
    "Upon first look on the description table, it seems like there might be major ourliers in the _GDP_per_capita_ and _PPP_conversion_factor_.\n",
    "\n",
    "Before that, let us check the outcome variable _Composite_index_ to see if the distribution is normal and without any skew that would affect the model, by uneven treatment on relative errors."
   ]
  },
  {
   "cell_type": "code",
   "execution_count": 40,
   "metadata": {},
   "outputs": [
    {
     "data": {
      "text/plain": [
       "<matplotlib.axes._subplots.AxesSubplot at 0x7fbd6214ded0>"
      ]
     },
     "execution_count": 40,
     "metadata": {},
     "output_type": "execute_result"
    },
    {
     "data": {
      "image/png": "[encoded data removed]",
      "text/plain": [
       "<Figure size 864x432 with 1 Axes>"
      ]
     },
     "metadata": {},
     "output_type": "display_data"
    }
   ],
   "source": [
    "sns.distplot(combined_data_subset['Composite_index'])"
   ]
  },
  {
   "cell_type": "markdown",
   "metadata": {},
   "source": [
    "Outcome variable _Composite_index_ seems good enough. Now the correlations and multicollinearity as well as VIF can be checked, using the full combined data."
   ]
  },
  {
   "cell_type": "code",
   "execution_count": 41,
   "metadata": {},
   "outputs": [
    {
     "data": {
      "text/html": [
       "<div>\n",
       "<style scoped>\n",
       "    .dataframe tbody tr th:only-of-type {\n",
       "        vertical-align: middle;\n",
       "    }\n",
       "\n",
       "    .dataframe tbody tr th {\n",
       "        vertical-align: top;\n",
       "    }\n",
       "\n",
       "    .dataframe thead th {\n",
       "        text-align: right;\n",
       "    }\n",
       "</style>\n",
       "<table border=\"1\" class=\"dataframe\">\n",
       "  <thead>\n",
       "    <tr style=\"text-align: right;\">\n",
       "      <th></th>\n",
       "      <th>GDP_per_capita</th>\n",
       "      <th>PPP_conversion_factor</th>\n",
       "      <th>Inflation</th>\n",
       "      <th>Unemployment</th>\n",
       "      <th>Rural_population</th>\n",
       "      <th>Labor_force_participation_rate</th>\n",
       "      <th>Composite_index</th>\n",
       "    </tr>\n",
       "  </thead>\n",
       "  <tbody>\n",
       "    <tr>\n",
       "      <th>GDP_per_capita</th>\n",
       "      <td>1.000000</td>\n",
       "      <td>-0.161471</td>\n",
       "      <td>-0.196181</td>\n",
       "      <td>-0.116402</td>\n",
       "      <td>-0.586754</td>\n",
       "      <td>0.346534</td>\n",
       "      <td>0.576105</td>\n",
       "    </tr>\n",
       "    <tr>\n",
       "      <th>PPP_conversion_factor</th>\n",
       "      <td>-0.161471</td>\n",
       "      <td>1.000000</td>\n",
       "      <td>0.176185</td>\n",
       "      <td>-0.082598</td>\n",
       "      <td>0.159567</td>\n",
       "      <td>0.111290</td>\n",
       "      <td>-0.236385</td>\n",
       "    </tr>\n",
       "    <tr>\n",
       "      <th>Inflation</th>\n",
       "      <td>-0.196181</td>\n",
       "      <td>0.176185</td>\n",
       "      <td>1.000000</td>\n",
       "      <td>0.030421</td>\n",
       "      <td>0.228833</td>\n",
       "      <td>0.043785</td>\n",
       "      <td>-0.256201</td>\n",
       "    </tr>\n",
       "    <tr>\n",
       "      <th>Unemployment</th>\n",
       "      <td>-0.116402</td>\n",
       "      <td>-0.082598</td>\n",
       "      <td>0.030421</td>\n",
       "      <td>1.000000</td>\n",
       "      <td>-0.129352</td>\n",
       "      <td>-0.155563</td>\n",
       "      <td>0.105061</td>\n",
       "    </tr>\n",
       "    <tr>\n",
       "      <th>Rural_population</th>\n",
       "      <td>-0.586754</td>\n",
       "      <td>0.159567</td>\n",
       "      <td>0.228833</td>\n",
       "      <td>-0.129352</td>\n",
       "      <td>1.000000</td>\n",
       "      <td>-0.354672</td>\n",
       "      <td>-0.318649</td>\n",
       "    </tr>\n",
       "    <tr>\n",
       "      <th>Labor_force_participation_rate</th>\n",
       "      <td>0.346534</td>\n",
       "      <td>0.111290</td>\n",
       "      <td>0.043785</td>\n",
       "      <td>-0.155563</td>\n",
       "      <td>-0.354672</td>\n",
       "      <td>1.000000</td>\n",
       "      <td>0.166852</td>\n",
       "    </tr>\n",
       "    <tr>\n",
       "      <th>Composite_index</th>\n",
       "      <td>0.576105</td>\n",
       "      <td>-0.236385</td>\n",
       "      <td>-0.256201</td>\n",
       "      <td>0.105061</td>\n",
       "      <td>-0.318649</td>\n",
       "      <td>0.166852</td>\n",
       "      <td>1.000000</td>\n",
       "    </tr>\n",
       "  </tbody>\n",
       "</table>\n",
       "</div>"
      ],
      "text/plain": [
       "                                GDP_per_capita  PPP_conversion_factor  \\\n",
       "GDP_per_capita                        1.000000              -0.161471   \n",
       "PPP_conversion_factor                -0.161471               1.000000   \n",
       "Inflation                            -0.196181               0.176185   \n",
       "Unemployment                         -0.116402              -0.082598   \n",
       "Rural_population                     -0.586754               0.159567   \n",
       "Labor_force_participation_rate        0.346534               0.111290   \n",
       "Composite_index                       0.576105              -0.236385   \n",
       "\n",
       "                                Inflation  Unemployment  Rural_population  \\\n",
       "GDP_per_capita                  -0.196181     -0.116402         -0.586754   \n",
       "PPP_conversion_factor            0.176185     -0.082598          0.159567   \n",
       "Inflation                        1.000000      0.030421          0.228833   \n",
       "Unemployment                     0.030421      1.000000         -0.129352   \n",
       "Rural_population                 0.228833     -0.129352          1.000000   \n",
       "Labor_force_participation_rate   0.043785     -0.155563         -0.354672   \n",
       "Composite_index                 -0.256201      0.105061         -0.318649   \n",
       "\n",
       "                                Labor_force_participation_rate  \\\n",
       "GDP_per_capita                                        0.346534   \n",
       "PPP_conversion_factor                                 0.111290   \n",
       "Inflation                                             0.043785   \n",
       "Unemployment                                         -0.155563   \n",
       "Rural_population                                     -0.354672   \n",
       "Labor_force_participation_rate                        1.000000   \n",
       "Composite_index                                       0.166852   \n",
       "\n",
       "                                Composite_index  \n",
       "GDP_per_capita                         0.576105  \n",
       "PPP_conversion_factor                 -0.236385  \n",
       "Inflation                             -0.256201  \n",
       "Unemployment                           0.105061  \n",
       "Rural_population                      -0.318649  \n",
       "Labor_force_participation_rate         0.166852  \n",
       "Composite_index                        1.000000  "
      ]
     },
     "execution_count": 41,
     "metadata": {},
     "output_type": "execute_result"
    }
   ],
   "source": [
    "combined_data_subset.corr()"
   ]
  },
  {
   "cell_type": "code",
   "execution_count": 48,
   "metadata": {},
   "outputs": [
    {
     "data": {
      "text/plain": [
       "<matplotlib.axes._subplots.AxesSubplot at 0x7fbd64b26f90>"
      ]
     },
     "execution_count": 48,
     "metadata": {},
     "output_type": "execute_result"
    },
    {
     "data": {
      "image/png": "[encoded data removed]",
      "text/plain": [
       "<Figure size 864x432 with 2 Axes>"
      ]
     },
     "metadata": {},
     "output_type": "display_data"
    }
   ],
   "source": [
    "# calculate correlation matrix\n",
    "corr = combined_data_subset.corr()\n",
    "sns.heatmap(corr, xticklabels=corr.columns, yticklabels=corr.columns, annot=True, cmap=sns.diverging_palette(220, 20, as_cmap=True))"
   ]
  },
  {
   "cell_type": "markdown",
   "metadata": {},
   "source": [
    "At first glance, it seems like there is no big problem. Let us also check the VIF:"
   ]
  },
  {
   "cell_type": "code",
   "execution_count": 30,
   "metadata": {},
   "outputs": [],
   "source": [
    "%%capture\n",
    "#gather features\n",
    "features = \"+\".join(combined_data_subset.columns)\n",
    "\n",
    "# get y and X dataframes based on this regression:\n",
    "y, X = dmatrices('Composite_index ~' + features, combined_data_subset, return_type='dataframe')\n",
    "\n",
    "# For each X, calculate VIF and save in dataframe\n",
    "vif = pd.DataFrame()\n",
    "vif[\"VIF Factor\"] = [variance_inflation_factor(X.values, i) for i in range(X.shape[1])]\n",
    "vif[\"features\"] = X.columns"
   ]
  },
  {
   "cell_type": "code",
   "execution_count": 31,
   "metadata": {},
   "outputs": [
    {
     "data": {
      "text/html": [
       "<div>\n",
       "<style scoped>\n",
       "    .dataframe tbody tr th:only-of-type {\n",
       "        vertical-align: middle;\n",
       "    }\n",
       "\n",
       "    .dataframe tbody tr th {\n",
       "        vertical-align: top;\n",
       "    }\n",
       "\n",
       "    .dataframe thead th {\n",
       "        text-align: right;\n",
       "    }\n",
       "</style>\n",
       "<table border=\"1\" class=\"dataframe\">\n",
       "  <thead>\n",
       "    <tr style=\"text-align: right;\">\n",
       "      <th></th>\n",
       "      <th>VIF Factor</th>\n",
       "      <th>features</th>\n",
       "    </tr>\n",
       "  </thead>\n",
       "  <tbody>\n",
       "    <tr>\n",
       "      <th>0</th>\n",
       "      <td>78.6</td>\n",
       "      <td>Intercept</td>\n",
       "    </tr>\n",
       "    <tr>\n",
       "      <th>1</th>\n",
       "      <td>2.3</td>\n",
       "      <td>GDP_per_capita</td>\n",
       "    </tr>\n",
       "    <tr>\n",
       "      <th>2</th>\n",
       "      <td>1.1</td>\n",
       "      <td>PPP_conversion_factor</td>\n",
       "    </tr>\n",
       "    <tr>\n",
       "      <th>3</th>\n",
       "      <td>1.1</td>\n",
       "      <td>Inflation</td>\n",
       "    </tr>\n",
       "    <tr>\n",
       "      <th>4</th>\n",
       "      <td>1.2</td>\n",
       "      <td>Unemployment</td>\n",
       "    </tr>\n",
       "    <tr>\n",
       "      <th>5</th>\n",
       "      <td>1.8</td>\n",
       "      <td>Rural_population</td>\n",
       "    </tr>\n",
       "    <tr>\n",
       "      <th>6</th>\n",
       "      <td>1.3</td>\n",
       "      <td>Labor_force_participation_rate</td>\n",
       "    </tr>\n",
       "    <tr>\n",
       "      <th>7</th>\n",
       "      <td>1.7</td>\n",
       "      <td>Composite_index</td>\n",
       "    </tr>\n",
       "  </tbody>\n",
       "</table>\n",
       "</div>"
      ],
      "text/plain": [
       "   VIF Factor                        features\n",
       "0        78.6                       Intercept\n",
       "1         2.3                  GDP_per_capita\n",
       "2         1.1           PPP_conversion_factor\n",
       "3         1.1                       Inflation\n",
       "4         1.2                    Unemployment\n",
       "5         1.8                Rural_population\n",
       "6         1.3  Labor_force_participation_rate\n",
       "7         1.7                 Composite_index"
      ]
     },
     "execution_count": 31,
     "metadata": {},
     "output_type": "execute_result"
    }
   ],
   "source": [
    "vif.round(1)"
   ]
  },
  {
   "cell_type": "markdown",
   "metadata": {},
   "source": [
    "As it can be seen from VIF table, all of the factors are small enough, which means there is no sign of strong collinearity to affect our model performance.\n",
    "\n",
    "There is no need to remove any feature because of collinearity in this case. It is finalized that this subset will be used in the models.\n",
    "\n",
    "Before finishing, to be able to see general picture, create a pairplot showing one-on-one relations of every variable we have, as well as their individual distributions:"
   ]
  },
  {
   "cell_type": "code",
   "execution_count": 51,
   "metadata": {},
   "outputs": [
    {
     "data": {
      "image/png": "[encoded data removed]",
      "text/plain": [
       "<Figure size 1260x1260 with 56 Axes>"
      ]
     },
     "metadata": {},
     "output_type": "display_data"
    }
   ],
   "source": [
    "#scatter plots\n",
    "sns.pairplot(combined_data_subset, height = 2.5)\n",
    "plt.show()"
   ]
  },
  {
   "cell_type": "markdown",
   "metadata": {},
   "source": [
    "# Model Building and Selection"
   ]
  },
  {
   "cell_type": "markdown",
   "metadata": {},
   "source": [
    "Considering the nature of the data and given the outcome variable is numerical, regression models seems suitable. Basically we have the following three algorithms in our disposal for such analysis:\n",
    "\n",
    "- Linear and Polynomial Regression\n",
    "- Neural Networks\n",
    "- Regression Trees and Random Forests\n",
    "\n",
    "The analysis will start with basic linear regression model and with each iteration more complexity will be added until a satisfactory model is come up with. It is not easy to apply polynomial regression in our case, since it requires deeper understanding of the underlying data and inter-relations, which is beyond the scope of this project.\n",
    "\n",
    "Regression Tree will also be tried to check in case there is no satisfactory linear model and relationship in the data.\n",
    "\n",
    "### OLS Linear Regression"
   ]
  },
  {
   "cell_type": "code",
   "execution_count": 70,
   "metadata": {},
   "outputs": [
    {
     "data": {
      "text/plain": [
       "LinearRegression(copy_X=True, fit_intercept=True, n_jobs=None, normalize=False)"
      ]
     },
     "execution_count": 70,
     "metadata": {},
     "output_type": "execute_result"
    }
   ],
   "source": [
    "from sklearn.linear_model import LinearRegression\n",
    "lr = LinearRegression() #initiate the model with default parameters\n",
    "X = combined_data_subset.loc[:,['GDP_per_capita', 'PPP_conversion_factor', 'Inflation', 'Unemployment', 'Rural_population', 'Labor_force_participation_rate']]\n",
    "y = combined_data_subset.loc[:,'Composite_index'] \n",
    "lr.fit(X,y)"
   ]
  },
  {
   "cell_type": "code",
   "execution_count": 71,
   "metadata": {},
   "outputs": [
    {
     "data": {
      "text/plain": [
       "GDP_per_capita                    0.000003\n",
       "PPP_conversion_factor            -0.000013\n",
       "Inflation                        -0.000634\n",
       "Unemployment                      0.004072\n",
       "Rural_population                  0.000657\n",
       "Labor_force_participation_rate    0.000632\n",
       "dtype: float64"
      ]
     },
     "execution_count": 71,
     "metadata": {},
     "output_type": "execute_result"
    }
   ],
   "source": [
    "# View the coefficients for each feature\n",
    "pd.Series(lr.coef_, index=X.columns)"
   ]
  },
  {
   "cell_type": "code",
   "execution_count": 72,
   "metadata": {},
   "outputs": [
    {
     "data": {
      "text/plain": [
       "0.4066608425397289"
      ]
     },
     "execution_count": 72,
     "metadata": {},
     "output_type": "execute_result"
    }
   ],
   "source": [
    "# The coefficient of determination R^2 of the prediction (training set)\n",
    "lr.score(X,y)"
   ]
  },
  {
   "cell_type": "markdown",
   "metadata": {},
   "source": [
    "To check model performance let's apply cross-validation. 5-fold cross-validation is used. For evaluation, Both the default scoring from estimator (R^2) and RMSE is used (Note that we expect RMSE to be close to zero and R^2 to be high)."
   ]
  },
  {
   "cell_type": "code",
   "execution_count": 73,
   "metadata": {},
   "outputs": [
    {
     "name": "stdout",
     "output_type": "stream",
     "text": [
      "Mean score (LR): 0.30\n",
      "Mean RMSE score (LR): 0.09\n"
     ]
    }
   ],
   "source": [
    "from sklearn.model_selection import cross_val_score\n",
    "from sklearn.metrics import mean_squared_error, make_scorer\n",
    "sk_r2 = cross_val_score(lr, X, y, cv=5)\n",
    "sk_rmse = cross_val_score(lr, X, y, cv=5, scoring = make_scorer(mean_squared_error,greater_is_better=False))\n",
    "print(\"Mean score (LR): {:.2f}\".format(np.mean(sk_r2)))\n",
    "print(\"Mean RMSE score (LR): {:.2f}\".format(np.mean(np.sqrt(np.abs(sk_rmse)))))"
   ]
  },
  {
   "cell_type": "markdown",
   "metadata": {},
   "source": [
    "#### Hyptohesis Testing\n",
    "Apart from our journet to find a feasible model, let's pause here a bit to check the __statistical significance__ of our regression, whether to see if it is enough to reject or not the null hypothesis provided in the introduction:"
   ]
  },
  {
   "cell_type": "code",
   "execution_count": 75,
   "metadata": {},
   "outputs": [
    {
     "name": "stdout",
     "output_type": "stream",
     "text": [
      "                            OLS Regression Results                            \n",
      "==============================================================================\n",
      "Dep. Variable:        Composite_index   R-squared:                       0.407\n",
      "Model:                            OLS   Adj. R-squared:                  0.383\n",
      "Method:                 Least Squares   F-statistic:                     17.36\n",
      "Date:                Sun, 31 May 2020   Prob (F-statistic):           3.04e-15\n",
      "Time:                        17:58:44   Log-Likelihood:                 172.59\n",
      "No. Observations:                 159   AIC:                            -331.2\n",
      "Df Residuals:                     152   BIC:                            -309.7\n",
      "Df Model:                           6                                         \n",
      "Covariance Type:            nonrobust                                         \n",
      "==================================================================================================\n",
      "                                     coef    std err          t      P>|t|      [0.025      0.975]\n",
      "--------------------------------------------------------------------------------------------------\n",
      "const                              0.1692      0.057      2.962      0.004       0.056       0.282\n",
      "GDP_per_capita                   3.38e-06   4.48e-07      7.546      0.000    2.49e-06    4.26e-06\n",
      "PPP_conversion_factor          -1.273e-05   6.79e-06     -1.875      0.063   -2.61e-05    6.86e-07\n",
      "Inflation                         -0.0006      0.000     -2.360      0.020      -0.001      -0.000\n",
      "Unemployment                       0.0041      0.001      2.985      0.003       0.001       0.007\n",
      "Rural_population                   0.0007      0.000      1.687      0.094      -0.000       0.001\n",
      "Labor_force_participation_rate     0.0006      0.001      0.787      0.433      -0.001       0.002\n",
      "==============================================================================\n",
      "Omnibus:                        8.755   Durbin-Watson:                   2.200\n",
      "Prob(Omnibus):                  0.013   Jarque-Bera (JB):                9.232\n",
      "Skew:                          -0.570   Prob(JB):                      0.00989\n",
      "Kurtosis:                       2.696   Cond. No.                     2.04e+05\n",
      "==============================================================================\n",
      "\n",
      "Warnings:\n",
      "[1] Standard Errors assume that the covariance matrix of the errors is correctly specified.\n",
      "[2] The condition number is large, 2.04e+05. This might indicate that there are\n",
      "strong multicollinearity or other numerical problems.\n"
     ]
    }
   ],
   "source": [
    "X_sm = sm.add_constant(X)\n",
    "model = sm.OLS(y, X_sm).fit()\n",
    "predictions = model.predict(X_sm) \n",
    "print_model = model.summary()\n",
    "print(print_model)"
   ]
  },
  {
   "cell_type": "markdown",
   "metadata": {},
   "source": [
    "All from above we can say: _Unemployment_, _Inflation_ and _GDP per capita_ __significantly__ affects _Composite Index_ on their own at 95% confidence level with _Inflation_ is a bit lesser significant determinant. The other variables fails to give significant relevance with high p-values, way above our confidence interval of 95%, majority even at 90%. Good approach would be step-wise feature elimination, starting from high p-value ones, to see if any substantial changes happen in the regression.\n",
    "\n",
    "The probability of F-statistic on this regression is smaller than critical value of 0.05 by a large margin, therefore we __reject the null hypothesis__ and we conclude that statistically at least some of the regression parameters are nonzero and that the regression equation does have some validity in fitting the data, hinting that indeed a relationship might be there statistically.\n",
    "***\n",
    "__Back to model building__, since one of the aims of the project was building a feasible ML model. The OLS model give non-satisfactory R^2 scores so we keep trying to increase score with changing regression model and parameters. If it still fails, we will try decision trees.\n",
    "\n",
    "### Ridge Linear Regression"
   ]
  },
  {
   "cell_type": "code",
   "execution_count": 76,
   "metadata": {},
   "outputs": [
    {
     "data": {
      "text/plain": [
       "0.3530242706101425"
      ]
     },
     "execution_count": 76,
     "metadata": {},
     "output_type": "execute_result"
    }
   ],
   "source": [
    "from sklearn.linear_model import Ridge\n",
    "# Use 'lsrq', regularized least squares iterative estimator, with other parameters as default\n",
    "r = Ridge(solver='lsqr') \n",
    "r.fit(X,y)\n",
    "r.score(X,y)"
   ]
  },
  {
   "cell_type": "code",
   "execution_count": 77,
   "metadata": {},
   "outputs": [
    {
     "data": {
      "text/plain": [
       "<bound method BaseEstimator.get_params of Ridge(alpha=1.0, copy_X=True, fit_intercept=True, max_iter=None,\n",
       "      normalize=False, random_state=None, solver='lsqr', tol=0.001)>"
      ]
     },
     "execution_count": 77,
     "metadata": {},
     "output_type": "execute_result"
    }
   ],
   "source": [
    "r.get_params"
   ]
  },
  {
   "cell_type": "markdown",
   "metadata": {},
   "source": [
    "LSQR solver shows worse model fit for the training set than OLS. Since LSQR uses an iterative method to approximate the solution. The number of iterations required to reach a certain accuracy depends strongly on the scaling of the problem. \n",
    "\n",
    "We need to scale features to improve model accuracy"
   ]
  },
  {
   "cell_type": "code",
   "execution_count": 78,
   "metadata": {},
   "outputs": [],
   "source": [
    "from sklearn.preprocessing import StandardScaler\n",
    "# Zero-mean, unit variance normalization is used\n",
    "std_scaler = StandardScaler() \n",
    "X_scaled = std_scaler.fit_transform(X)"
   ]
  },
  {
   "cell_type": "code",
   "execution_count": 79,
   "metadata": {},
   "outputs": [
    {
     "data": {
      "text/plain": [
       "0.4066234748600989"
      ]
     },
     "execution_count": 79,
     "metadata": {},
     "output_type": "execute_result"
    }
   ],
   "source": [
    "r.fit(X_scaled,y)\n",
    "r.score(X_scaled,y)"
   ]
  },
  {
   "cell_type": "markdown",
   "metadata": {},
   "source": [
    "With rescaling of all the features it is achieved better fit for the model on training data. Let's check model performance using validation sets via cross-validation, just like we did on OLS:"
   ]
  },
  {
   "cell_type": "code",
   "execution_count": 80,
   "metadata": {},
   "outputs": [
    {
     "name": "stdout",
     "output_type": "stream",
     "text": [
      "Mean score (Ridge, lsqr, alpha=1): 0.30\n",
      "Mean RMSE score (Ridge, lsqr, alpha=1): 0.09\n"
     ]
    }
   ],
   "source": [
    "sk_r_r2 = cross_val_score(r, X_scaled, y, cv=5)\n",
    "sk_r_rmse = cross_val_score(r, X_scaled, y, cv=5, scoring = make_scorer(mean_squared_error,greater_is_better=False))\n",
    "print(\"Mean score (Ridge, lsqr, alpha=1): {:.2f}\".format(np.mean(sk_r_r2)))\n",
    "print(\"Mean RMSE score (Ridge, lsqr, alpha=1): {:.2f}\".format(np.mean(np.sqrt(np.abs(sk_r_rmse)))))"
   ]
  },
  {
   "cell_type": "markdown",
   "metadata": {},
   "source": [
    "Model performance is the same for the Ridge regression with lsqr solver as for the OLS regression, which is confirmed by our scoring metrics - R^2 and RMSE.\n",
    "\n",
    "However, we can explore how model performance changes as we tune the regularization parameter for the Ridge regression. For that purpose we use validation curves."
   ]
  },
  {
   "cell_type": "code",
   "execution_count": 83,
   "metadata": {},
   "outputs": [
    {
     "data": {
      "image/png": "[encoded data removed]",
      "text/plain": [
       "<Figure size 864x432 with 1 Axes>"
      ]
     },
     "metadata": {},
     "output_type": "display_data"
    }
   ],
   "source": [
    "from sklearn.model_selection import validation_curve\n",
    "alpha_vals = np.logspace(-7, 2, 3)\n",
    "train_scores, valid_scores = validation_curve(r, X_scaled, y,\"alpha\",alpha_vals,cv=5)\n",
    "train_scores_mean = np.mean(train_scores, axis=1)\n",
    "valid_scores_mean = np.mean(valid_scores, axis=1)\n",
    "\n",
    "plt.plot(alpha_vals, train_scores_mean, color='blue', label='training score')\n",
    "plt.plot(alpha_vals, valid_scores_mean, color='red', label='validation score')\n",
    "plt.legend(loc='best')\n",
    "plt.xlabel('alpha')\n",
    "plt.ylabel('score');"
   ]
  },
  {
   "cell_type": "markdown",
   "metadata": {},
   "source": [
    "As we increase penalty on coefficients magnitude (alpha >>) coefficients tend to zero, both training set performance and validation score decreases.\n",
    "\n",
    "__As a result__, by tuning the regularization parameter we didn't achieved an improvement to our model performance (on average) in comparison to the Ridge regression with alpha=1 and lsqr solver, and to Linear Regression with default parameters."
   ]
  },
  {
   "cell_type": "markdown",
   "metadata": {},
   "source": [
    "### Polynomials"
   ]
  },
  {
   "cell_type": "markdown",
   "metadata": {},
   "source": [
    "Further we may explore if adding polynomials of higher degrees to the model increases model performance."
   ]
  },
  {
   "cell_type": "code",
   "execution_count": 92,
   "metadata": {},
   "outputs": [],
   "source": [
    "from sklearn.preprocessing import PolynomialFeatures\n",
    "poly = PolynomialFeatures(2)\n",
    "X_poly = poly.fit_transform(X)"
   ]
  },
  {
   "cell_type": "code",
   "execution_count": 93,
   "metadata": {},
   "outputs": [
    {
     "name": "stdout",
     "output_type": "stream",
     "text": [
      "Mean score (LR, poly): -338.48\n",
      "Mean RMSE score (LR, poly): 1.13\n"
     ]
    }
   ],
   "source": [
    "lr.fit(X_poly,y)\n",
    "sk_p_r2 = cross_val_score(lr, X_poly, y, cv=5)\n",
    "sk_p_rmse = cross_val_score(lr, X_poly, y, cv=5, scoring = make_scorer(mean_squared_error,greater_is_better=False))\n",
    "print(\"Mean score (LR, poly): {:.2f}\".format(np.mean(sk_p_r2)))\n",
    "print(\"Mean RMSE score (LR, poly): {:.2f}\".format(np.mean(np.sqrt(np.abs(sk_p_rmse)))))"
   ]
  },
  {
   "cell_type": "markdown",
   "metadata": {},
   "source": [
    "It seems like using polynomials makes the model behave a lot worse, with negative r2 scores with huge absolute values. So we omit this model."
   ]
  },
  {
   "cell_type": "markdown",
   "metadata": {},
   "source": [
    "### LASSO Regression\n",
    "In the statistical summary view of OLS, we saw that there were features with no significant contribution (high p-values) on the outcome variable.\n",
    "\n",
    "We can apply LASSO regression to get rid of features that do not contribute to the explanation of variation in output variable."
   ]
  },
  {
   "cell_type": "code",
   "execution_count": 88,
   "metadata": {},
   "outputs": [
    {
     "data": {
      "text/plain": [
       "0.36741922645412994"
      ]
     },
     "execution_count": 88,
     "metadata": {},
     "output_type": "execute_result"
    }
   ],
   "source": [
    "from sklearn.linear_model import Lasso\n",
    "l = Lasso(alpha=0.1)\n",
    "l.fit(X,y)\n",
    "l.score(X,y)"
   ]
  },
  {
   "cell_type": "code",
   "execution_count": 89,
   "metadata": {},
   "outputs": [
    {
     "data": {
      "text/plain": [
       "3"
      ]
     },
     "execution_count": 89,
     "metadata": {},
     "output_type": "execute_result"
    }
   ],
   "source": [
    "# Number of features that LASSO got rid of\n",
    "np.sum(l.coef_==0)"
   ]
  },
  {
   "cell_type": "markdown",
   "metadata": {},
   "source": [
    "LASSO model fit is worse than the Linear Regression and Ridge regression. It got rid of 3 features out of 6. We can explore how model fit changes with regularization parameter."
   ]
  },
  {
   "cell_type": "code",
   "execution_count": 90,
   "metadata": {},
   "outputs": [
    {
     "data": {
      "image/png": "[encoded data removed]",
      "text/plain": [
       "<Figure size 864x432 with 1 Axes>"
      ]
     },
     "metadata": {},
     "output_type": "display_data"
    }
   ],
   "source": [
    "alpha_vals = np.logspace(-1, 1, 3)\n",
    "train_scores, valid_scores = validation_curve(l, X, y, \"alpha\", alpha_vals,cv=5)\n",
    "train_scores_mean = np.mean(train_scores, axis=1)\n",
    "valid_scores_mean = np.mean(valid_scores, axis=1)\n",
    "\n",
    "plt.plot(alpha_vals, train_scores_mean, color='blue', label='training score')\n",
    "plt.plot(alpha_vals, valid_scores_mean, color='red', label='validation score')\n",
    "plt.legend(loc='best')\n",
    "plt.xlabel('alpha')\n",
    "plt.ylabel('score');"
   ]
  },
  {
   "cell_type": "code",
   "execution_count": 91,
   "metadata": {},
   "outputs": [
    {
     "name": "stdout",
     "output_type": "stream",
     "text": [
      "Mean score (Lasso, alpha=0.1, poly): 0.30\n",
      "Mean RMSE score (Lasso, alpha=0.1, poly): 0.09\n"
     ]
    }
   ],
   "source": [
    "sk_l_r2 = cross_val_score(l, X, y, cv=5)\n",
    "sk_l_rmse = cross_val_score(l, X, y, cv=5, scoring = make_scorer(mean_squared_error,greater_is_better=False))\n",
    "print(\"Mean score (Lasso, alpha=0.1, poly): {:.2f}\".format(np.mean(sk_l_r2)))\n",
    "print(\"Mean RMSE score (Lasso, alpha=0.1, poly): {:.2f}\".format(np.mean(np.sqrt(np.abs(sk_l_rmse)))))"
   ]
  },
  {
   "cell_type": "markdown",
   "metadata": {},
   "source": [
    "As a result all of the linear regressions performed suprisingly similar and a summary can be seen below:\n",
    "\n",
    "__Models performance comparison on cross-validation sets (R^2 mean score; RMSE mean score):__\n",
    "- Mean score (LR): 0.30\n",
    "- Mean RMSE score (LR): 0.09\n",
    "\n",
    "- Mean score (Ridge, lsqr, alpha=1): 0.30\n",
    "- Mean RMSE score (Ridge, lsqr, alpha=1): 0.09\n",
    "\n",
    "- Mean score (Lasso, alpha=0.1, poly): 0.30\n",
    "- Mean RMSE score (Lasso, alpha=0.1, poly): 0.09\n",
    "\n",
    "Score of the models seems low, we may choose different imputation strategy, increase sample size, choose another set of features or try different polynomials of higher order.\n",
    "\n",
    "But here, it is safe to say that, applying linear regression is not a good fit for this relation. As a final analysis, we will pass the Nueral Networks option since it is rather complex process, and we will try regression trees to see if we can come up with better fit or not."
   ]
  },
  {
   "cell_type": "markdown",
   "metadata": {},
   "source": [
    "### Regression Tree\n",
    "Decision Trees are a non-parametric supervised learning method used for regression with DecisionTreeRegressor.\n",
    "\n",
    "The goal is to create a model that predicts the value of a target variable by learning simple decision rules inferred from the data features. \n",
    "\n",
    "The algorithm is popular when the decision boundary is non-linear and complex, which we weakly concluded from the above low-performing linear models."
   ]
  },
  {
   "cell_type": "code",
   "execution_count": 101,
   "metadata": {},
   "outputs": [
    {
     "name": "stdout",
     "output_type": "stream",
     "text": [
      "Accuracy on training set: 1.000\n",
      "Accuracy on test set: -0.221\n"
     ]
    }
   ],
   "source": [
    "from sklearn.tree import DecisionTreeRegressor\n",
    "from sklearn.model_selection import train_test_split\n",
    "\n",
    "X_train, X_test, y_train, y_test = train_test_split(\n",
    "X, y, random_state=0)\n",
    "tree = DecisionTreeRegressor(random_state=0)\n",
    "tree.fit(X_train, y_train)\n",
    "print(\"Accuracy on training set: {:.3f}\".format(tree.score(X_train, y_train)))\n",
    "print(\"Accuracy on test set: {:.3f}\".format(tree.score(X_test, y_test)))"
   ]
  },
  {
   "cell_type": "markdown",
   "metadata": {},
   "source": [
    "The training set accuracy is 100%, because the tree is large and memorized all the labels on the training data. The test set accuracy worst compared to the linear models we used to fit the same dataset.\n",
    "\n",
    "There is a critical issue of overfitting here. To decrease model overfitting we experiment on the max depth for the tree. It will allow to provide given number of tests and then stops tree from growing. At last, we expect similar accuracies on training and test sets."
   ]
  },
  {
   "cell_type": "code",
   "execution_count": 106,
   "metadata": {},
   "outputs": [
    {
     "name": "stdout",
     "output_type": "stream",
     "text": [
      "Accuracy on training set (4 levels): 0.702\n",
      "Accuracy on test set (4 levels): 0.152\n"
     ]
    }
   ],
   "source": [
    "tree = DecisionTreeRegressor(max_depth=4, random_state=0)\n",
    "tree.fit(X_train, y_train)\n",
    "print(\"Accuracy on training set (4 levels): {:.3f}\".format(tree.score(X_train, y_train)))\n",
    "print(\"Accuracy on test set (4 levels): {:.3f}\".format(tree.score(X_test, y_test)))"
   ]
  },
  {
   "cell_type": "code",
   "execution_count": 107,
   "metadata": {},
   "outputs": [
    {
     "name": "stdout",
     "output_type": "stream",
     "text": [
      "Accuracy on training set (3 levels): 0.581\n",
      "Accuracy on test set (3 levels): 0.361\n"
     ]
    }
   ],
   "source": [
    "tree = DecisionTreeRegressor(max_depth=3, random_state=0)\n",
    "tree.fit(X_train, y_train)\n",
    "print(\"Accuracy on training set (3 levels): {:.3f}\".format(tree.score(X_train, y_train)))\n",
    "print(\"Accuracy on test set (3 levels): {:.3f}\".format(tree.score(X_test, y_test)))"
   ]
  },
  {
   "cell_type": "code",
   "execution_count": 108,
   "metadata": {},
   "outputs": [
    {
     "name": "stdout",
     "output_type": "stream",
     "text": [
      "Accuracy on training set (2 levels): 0.433\n",
      "Accuracy on test set (2 levels): 0.453\n"
     ]
    }
   ],
   "source": [
    "tree = DecisionTreeRegressor(max_depth=2, random_state=0)\n",
    "tree.fit(X_train, y_train)\n",
    "print(\"Accuracy on training set (2 levels): {:.3f}\".format(tree.score(X_train, y_train)))\n",
    "print(\"Accuracy on test set (2 levels): {:.3f}\".format(tree.score(X_test, y_test)))"
   ]
  },
  {
   "cell_type": "markdown",
   "metadata": {},
   "source": [
    "With 2 depth levels, we achieved accuracy of around 0.44 which is still not very good, but it is an increase from what we came up with linear models. This further strengtens the idea of underlying relation not being linear.\n",
    "\n",
    "We conclude our analysis here, with mentionaing iteratively more complex models such as RegressionTrees and even Neual Network as possible __future work__, as well as recommending possible overcomes of these __shortcomings__ in our model strategies such as choosing different imputation strategy, increasing sample size, choosing another set of features or try different polynomials of higher order."
   ]
  },
  {
   "cell_type": "markdown",
   "metadata": {},
   "source": [
    "# Implications and Conclusion"
   ]
  },
  {
   "cell_type": "code",
   "execution_count": null,
   "metadata": {},
   "outputs": [],
   "source": []
  }
 ],
 "metadata": {
  "kernelspec": {
   "display_name": "Python 3",
   "language": "python",
   "name": "python3"
  },
  "language_info": {
   "codemirror_mode": {
    "name": "ipython",
    "version": 3
   },
   "file_extension": ".py",
   "mimetype": "text/x-python",
   "name": "python",
   "nbconvert_exporter": "python",
   "pygments_lexer": "ipython3",
   "version": "3.7.6"
  }
 },
 "nbformat": 4,
 "nbformat_minor": 2
}
