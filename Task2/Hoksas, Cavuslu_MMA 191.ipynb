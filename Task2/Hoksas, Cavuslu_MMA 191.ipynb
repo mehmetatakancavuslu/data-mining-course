{
 "cells": [
  {
   "cell_type": "markdown",
   "metadata": {},
   "source": [
    "# HOMEWORK TASK 2"
   ]
  },
  {
   "cell_type": "markdown",
   "metadata": {},
   "source": [
    "## Mehmet Atakan Çavuşlu & Tor Anders Høksås  - Group MMA 191\n",
    "\n"
   ]
  },
  {
   "cell_type": "code",
   "execution_count": 1,
   "metadata": {},
   "outputs": [],
   "source": [
    "import wbdata\n",
    "import pandas as pd\n",
    "import numpy as np\n",
    "import matplotlib.pyplot as plt\n",
    "import seaborn as sns\n",
    "import datetime\n",
    "from patsy import dmatrices\n",
    "from statsmodels.stats.outliers_influence import variance_inflation_factor\n",
    "%matplotlib inline\n",
    "plt.style.use('seaborn-whitegrid')\n",
    "plt.rcParams['figure.figsize'] = [12, 6]"
   ]
  },
  {
   "cell_type": "markdown",
   "metadata": {},
   "source": [
    "### For this assignment we will use data from the worldbank API with \"wbdata\", a simple python interface to find and request information from the World Bank’s various databases as seen below: "
   ]
  },
  {
   "cell_type": "code",
   "execution_count": null,
   "metadata": {
    "scrolled": true
   },
   "outputs": [],
   "source": [
    "wbdata.get_source() # Example of available databases from WorldBank"
   ]
  },
  {
   "cell_type": "code",
   "execution_count": null,
   "metadata": {},
   "outputs": [],
   "source": [
    "wbdata.search_indicators('Enrollment')"
   ]
  },
  {
   "cell_type": "markdown",
   "metadata": {},
   "source": [
    "# For our analysis we will do a Regression problem\n",
    "\n",
    "\n",
    "## We are trying to see how \"Investment in education and subsequent performance of education influences GDP\" \n",
    "\n",
    "### In order to see that we have decided to take the following data available from the World Bank Database.\n",
    "\n",
    "### Year of Analysis: 2014\n",
    "\n",
    "### Variables will be: \n",
    "\n",
    "\n",
    "#### Dependent:\n",
    "\n",
    "- NY.GDP.MKTP.CD --- GDP (current USD)\n",
    "\n",
    "#### Independent:\n",
    "\n",
    "- SE.XPD.TOTL.GB.ZS --- Government expenditure on education, total (% of government expenditure)\n",
    "- SE.XPD.PRIM.PC.ZS --- Government expenditure per student, primary (% of GDP per capita)\n",
    "- SE.XPD.SECO.PC.ZS --- Government expenditure per student, secondary (% of GDP per capita)\n",
    "- SE.XPD.TERT.PC.ZS --- Government expenditure per student, tertiary (% of GDP per capita)\n",
    "- SE.PRM.ENRR --- School enrollment, primary (% net)\n",
    "- SE.SEC.ENRR --- School enrollment, secondary (% net)\n",
    "- SE.TER.ENRR --- School enrollment, tertiary (% gross)\n",
    "\n",
    "\n",
    "\n",
    "\n",
    "\n"
   ]
  },
  {
   "cell_type": "markdown",
   "metadata": {},
   "source": [
    "#### Gathering Data and Variables from WorldBank API"
   ]
  },
  {
   "cell_type": "code",
   "execution_count": 2,
   "metadata": {},
   "outputs": [],
   "source": [
    "# Set the date as 2014, since it has the most avaiable data (based on previous analysis)\n",
    "data_date = (datetime.datetime(2014, 1, 1))\n",
    "# Set the indicator names to pull from API\n",
    "indicators = {\n",
    "    \"NY.GDP.MKTP.CD\": \"GDP_USD\",\n",
    "    \"SE.XPD.TOTL.GB.ZS\": \"Gov_Ed_Expenditure_EXP\",\n",
    "    \"SE.XPD.PRIM.PC.ZS\": \"Gov_Exp_Per_Std_Primary\",\n",
    "    \"SE.XPD.SECO.PC.ZS\": \"Gov_Exp_Per_Std_Secondary\",\n",
    "    \"SE.XPD.TERT.PC.ZS\": \"Gov_Exp_Per_Std_Tertiary\",\n",
    "    \"SE.PRM.ENRR\": \"Primary_School_Enroll\",  \n",
    "    \"SE.SEC.ENRR\": \"Secondary_School_Enroll\",\n",
    "    \"SE.TER.ENRR\": \"Tertiary_School_Enroll\"\n",
    "}  \n",
    "\n",
    "df = wbdata.get_dataframe(indicators, data_date=data_date)"
   ]
  },
  {
   "cell_type": "markdown",
   "metadata": {},
   "source": [
    "# Exploratory Data Analysis (EDA)"
   ]
  },
  {
   "cell_type": "code",
   "execution_count": 3,
   "metadata": {},
   "outputs": [
    {
     "data": {
      "text/plain": [
       "GDP_USD                      252\n",
       "Gov_Ed_Expenditure_EXP       153\n",
       "Gov_Exp_Per_Std_Primary      111\n",
       "Gov_Exp_Per_Std_Secondary     98\n",
       "Gov_Exp_Per_Std_Tertiary      96\n",
       "Primary_School_Enroll        207\n",
       "Secondary_School_Enroll      184\n",
       "Tertiary_School_Enroll       173\n",
       "dtype: int64"
      ]
     },
     "execution_count": 3,
     "metadata": {},
     "output_type": "execute_result"
    }
   ],
   "source": [
    "df.count() # Count of data available for each column "
   ]
  },
  {
   "cell_type": "code",
   "execution_count": 4,
   "metadata": {},
   "outputs": [
    {
     "data": {
      "text/plain": [
       "GDP_USD                       12\n",
       "Gov_Ed_Expenditure_EXP       111\n",
       "Gov_Exp_Per_Std_Primary      153\n",
       "Gov_Exp_Per_Std_Secondary    166\n",
       "Gov_Exp_Per_Std_Tertiary     168\n",
       "Primary_School_Enroll         57\n",
       "Secondary_School_Enroll       80\n",
       "Tertiary_School_Enroll        91\n",
       "dtype: int64"
      ]
     },
     "execution_count": 4,
     "metadata": {},
     "output_type": "execute_result"
    }
   ],
   "source": [
    "df.isnull().sum() # Total Missing values per column"
   ]
  },
  {
   "cell_type": "markdown",
   "metadata": {},
   "source": [
    "__As initial Missing Data Manipulation we will remove the missing values as these serve no purpose to our analysis.__\n",
    "\n",
    "Other option would be setting a threshold to remove only rows with more than 1 NaN values, then using a package like \"missingpy\" to predict these NaN values based on their correlation with other given variables. But for the scope of his HW, removing them all together is sufficient, given that we still have large enough dataset to work with afterwards.\n",
    "\n",
    "Using basic imputings like means etc. would cause severe sway in our data since missing data is usually from not mean countries but rather edge countries (too poor etc.)"
   ]
  },
  {
   "cell_type": "code",
   "execution_count": 5,
   "metadata": {},
   "outputs": [],
   "source": [
    "df.dropna(inplace = True) "
   ]
  },
  {
   "cell_type": "code",
   "execution_count": 6,
   "metadata": {},
   "outputs": [
    {
     "data": {
      "text/plain": [
       "GDP_USD                      65\n",
       "Gov_Ed_Expenditure_EXP       65\n",
       "Gov_Exp_Per_Std_Primary      65\n",
       "Gov_Exp_Per_Std_Secondary    65\n",
       "Gov_Exp_Per_Std_Tertiary     65\n",
       "Primary_School_Enroll        65\n",
       "Secondary_School_Enroll      65\n",
       "Tertiary_School_Enroll       65\n",
       "dtype: int64"
      ]
     },
     "execution_count": 6,
     "metadata": {},
     "output_type": "execute_result"
    }
   ],
   "source": [
    "df.count()"
   ]
  },
  {
   "cell_type": "markdown",
   "metadata": {},
   "source": [
    "__It seems like government spendings per student variables give a lot of NaN values, thus causing us to omit a lot of rows. Let's try without them to see if we can get better number of observations.__"
   ]
  },
  {
   "cell_type": "code",
   "execution_count": 7,
   "metadata": {},
   "outputs": [],
   "source": [
    "data_date = (datetime.datetime(2014, 1, 1))\n",
    "indicators = {\n",
    "    \"NY.GDP.MKTP.CD\": \"GDP_USD\",\n",
    "    \"SE.XPD.TOTL.GB.ZS\": \"Gov_Ed_Expenditure_EXP\",\n",
    "    \"SE.PRM.ENRR\": \"Primary_School_Enroll\",  \n",
    "    \"SE.SEC.ENRR\": \"Secondary_School_Enroll\",\n",
    "    \"SE.TER.ENRR\": \"Tertiary_School_Enroll\"\n",
    "}  \n",
    "df = wbdata.get_dataframe(indicators, data_date=data_date)"
   ]
  },
  {
   "cell_type": "code",
   "execution_count": 8,
   "metadata": {},
   "outputs": [],
   "source": [
    "df.dropna(inplace = True)"
   ]
  },
  {
   "cell_type": "code",
   "execution_count": 9,
   "metadata": {},
   "outputs": [
    {
     "data": {
      "text/plain": [
       "GDP_USD                    110\n",
       "Gov_Ed_Expenditure_EXP     110\n",
       "Primary_School_Enroll      110\n",
       "Secondary_School_Enroll    110\n",
       "Tertiary_School_Enroll     110\n",
       "dtype: int64"
      ]
     },
     "execution_count": 9,
     "metadata": {},
     "output_type": "execute_result"
    }
   ],
   "source": [
    "df.count()"
   ]
  },
  {
   "cell_type": "markdown",
   "metadata": {},
   "source": [
    "__Without them our data has considerably more observations. We will use these remaining 5 variables. More trials with other variables can be tried for future work and more causality analysis. But for our HW we think these variables will be sufficient.__"
   ]
  },
  {
   "cell_type": "code",
   "execution_count": 10,
   "metadata": {},
   "outputs": [
    {
     "data": {
      "text/html": [
       "<div>\n",
       "<style scoped>\n",
       "    .dataframe tbody tr th:only-of-type {\n",
       "        vertical-align: middle;\n",
       "    }\n",
       "\n",
       "    .dataframe tbody tr th {\n",
       "        vertical-align: top;\n",
       "    }\n",
       "\n",
       "    .dataframe thead th {\n",
       "        text-align: right;\n",
       "    }\n",
       "</style>\n",
       "<table border=\"1\" class=\"dataframe\">\n",
       "  <thead>\n",
       "    <tr style=\"text-align: right;\">\n",
       "      <th></th>\n",
       "      <th>GDP_USD</th>\n",
       "      <th>Gov_Ed_Expenditure_EXP</th>\n",
       "      <th>Primary_School_Enroll</th>\n",
       "      <th>Secondary_School_Enroll</th>\n",
       "      <th>Tertiary_School_Enroll</th>\n",
       "    </tr>\n",
       "    <tr>\n",
       "      <th>country</th>\n",
       "      <th></th>\n",
       "      <th></th>\n",
       "      <th></th>\n",
       "      <th></th>\n",
       "      <th></th>\n",
       "    </tr>\n",
       "  </thead>\n",
       "  <tbody>\n",
       "    <tr>\n",
       "      <th>Caribbean small states</th>\n",
       "      <td>7.298914e+10</td>\n",
       "      <td>21.797490</td>\n",
       "      <td>99.54082</td>\n",
       "      <td>85.56196</td>\n",
       "      <td>22.91996</td>\n",
       "    </tr>\n",
       "    <tr>\n",
       "      <th>Central Europe and the Baltics</th>\n",
       "      <td>1.465594e+12</td>\n",
       "      <td>11.274320</td>\n",
       "      <td>98.34762</td>\n",
       "      <td>102.18820</td>\n",
       "      <td>62.08801</td>\n",
       "    </tr>\n",
       "    <tr>\n",
       "      <th>Early-demographic dividend</th>\n",
       "      <td>1.059669e+13</td>\n",
       "      <td>16.945705</td>\n",
       "      <td>106.17120</td>\n",
       "      <td>72.57747</td>\n",
       "      <td>27.92243</td>\n",
       "    </tr>\n",
       "    <tr>\n",
       "      <th>East Asia &amp; Pacific</th>\n",
       "      <td>2.187868e+13</td>\n",
       "      <td>14.275945</td>\n",
       "      <td>100.45400</td>\n",
       "      <td>84.28538</td>\n",
       "      <td>41.39086</td>\n",
       "    </tr>\n",
       "    <tr>\n",
       "      <th>East Asia &amp; Pacific (IDA &amp; IBRD countries)</th>\n",
       "      <td>1.268696e+13</td>\n",
       "      <td>13.212725</td>\n",
       "      <td>100.49860</td>\n",
       "      <td>82.21957</td>\n",
       "      <td>38.44768</td>\n",
       "    </tr>\n",
       "  </tbody>\n",
       "</table>\n",
       "</div>"
      ],
      "text/plain": [
       "                                                 GDP_USD  \\\n",
       "country                                                    \n",
       "Caribbean small states                      7.298914e+10   \n",
       "Central Europe and the Baltics              1.465594e+12   \n",
       "Early-demographic dividend                  1.059669e+13   \n",
       "East Asia & Pacific                         2.187868e+13   \n",
       "East Asia & Pacific (IDA & IBRD countries)  1.268696e+13   \n",
       "\n",
       "                                            Gov_Ed_Expenditure_EXP  \\\n",
       "country                                                              \n",
       "Caribbean small states                                   21.797490   \n",
       "Central Europe and the Baltics                           11.274320   \n",
       "Early-demographic dividend                               16.945705   \n",
       "East Asia & Pacific                                      14.275945   \n",
       "East Asia & Pacific (IDA & IBRD countries)               13.212725   \n",
       "\n",
       "                                            Primary_School_Enroll  \\\n",
       "country                                                             \n",
       "Caribbean small states                                   99.54082   \n",
       "Central Europe and the Baltics                           98.34762   \n",
       "Early-demographic dividend                              106.17120   \n",
       "East Asia & Pacific                                     100.45400   \n",
       "East Asia & Pacific (IDA & IBRD countries)              100.49860   \n",
       "\n",
       "                                            Secondary_School_Enroll  \\\n",
       "country                                                               \n",
       "Caribbean small states                                     85.56196   \n",
       "Central Europe and the Baltics                            102.18820   \n",
       "Early-demographic dividend                                 72.57747   \n",
       "East Asia & Pacific                                        84.28538   \n",
       "East Asia & Pacific (IDA & IBRD countries)                 82.21957   \n",
       "\n",
       "                                            Tertiary_School_Enroll  \n",
       "country                                                             \n",
       "Caribbean small states                                    22.91996  \n",
       "Central Europe and the Baltics                            62.08801  \n",
       "Early-demographic dividend                                27.92243  \n",
       "East Asia & Pacific                                       41.39086  \n",
       "East Asia & Pacific (IDA & IBRD countries)                38.44768  "
      ]
     },
     "execution_count": 10,
     "metadata": {},
     "output_type": "execute_result"
    }
   ],
   "source": [
    "df.head()"
   ]
  },
  {
   "cell_type": "code",
   "execution_count": 11,
   "metadata": {},
   "outputs": [
    {
     "data": {
      "text/html": [
       "<div>\n",
       "<style scoped>\n",
       "    .dataframe tbody tr th:only-of-type {\n",
       "        vertical-align: middle;\n",
       "    }\n",
       "\n",
       "    .dataframe tbody tr th {\n",
       "        vertical-align: top;\n",
       "    }\n",
       "\n",
       "    .dataframe thead th {\n",
       "        text-align: right;\n",
       "    }\n",
       "</style>\n",
       "<table border=\"1\" class=\"dataframe\">\n",
       "  <thead>\n",
       "    <tr style=\"text-align: right;\">\n",
       "      <th></th>\n",
       "      <th>GDP_USD</th>\n",
       "      <th>Gov_Ed_Expenditure_EXP</th>\n",
       "      <th>Primary_School_Enroll</th>\n",
       "      <th>Secondary_School_Enroll</th>\n",
       "      <th>Tertiary_School_Enroll</th>\n",
       "    </tr>\n",
       "  </thead>\n",
       "  <tbody>\n",
       "    <tr>\n",
       "      <th>count</th>\n",
       "      <td>1.100000e+02</td>\n",
       "      <td>110.000000</td>\n",
       "      <td>110.000000</td>\n",
       "      <td>110.000000</td>\n",
       "      <td>110.000000</td>\n",
       "    </tr>\n",
       "    <tr>\n",
       "      <th>mean</th>\n",
       "      <td>5.180109e+12</td>\n",
       "      <td>15.179648</td>\n",
       "      <td>103.760412</td>\n",
       "      <td>84.944633</td>\n",
       "      <td>42.874356</td>\n",
       "    </tr>\n",
       "    <tr>\n",
       "      <th>std</th>\n",
       "      <td>1.235648e+13</td>\n",
       "      <td>3.798552</td>\n",
       "      <td>9.947645</td>\n",
       "      <td>27.308084</td>\n",
       "      <td>27.025657</td>\n",
       "    </tr>\n",
       "    <tr>\n",
       "      <th>min</th>\n",
       "      <td>3.489417e+08</td>\n",
       "      <td>8.006470</td>\n",
       "      <td>77.076110</td>\n",
       "      <td>30.354030</td>\n",
       "      <td>4.818540</td>\n",
       "    </tr>\n",
       "    <tr>\n",
       "      <th>25%</th>\n",
       "      <td>3.188401e+10</td>\n",
       "      <td>12.311522</td>\n",
       "      <td>99.718587</td>\n",
       "      <td>66.883713</td>\n",
       "      <td>16.755872</td>\n",
       "    </tr>\n",
       "    <tr>\n",
       "      <th>50%</th>\n",
       "      <td>3.519491e+11</td>\n",
       "      <td>14.543753</td>\n",
       "      <td>101.975050</td>\n",
       "      <td>92.609245</td>\n",
       "      <td>42.912755</td>\n",
       "    </tr>\n",
       "    <tr>\n",
       "      <th>75%</th>\n",
       "      <td>2.381779e+12</td>\n",
       "      <td>17.512915</td>\n",
       "      <td>105.988800</td>\n",
       "      <td>103.898270</td>\n",
       "      <td>66.823698</td>\n",
       "    </tr>\n",
       "    <tr>\n",
       "      <th>max</th>\n",
       "      <td>7.933444e+13</td>\n",
       "      <td>25.653620</td>\n",
       "      <td>145.247860</td>\n",
       "      <td>162.299340</td>\n",
       "      <td>91.500160</td>\n",
       "    </tr>\n",
       "  </tbody>\n",
       "</table>\n",
       "</div>"
      ],
      "text/plain": [
       "            GDP_USD  Gov_Ed_Expenditure_EXP  Primary_School_Enroll  \\\n",
       "count  1.100000e+02              110.000000             110.000000   \n",
       "mean   5.180109e+12               15.179648             103.760412   \n",
       "std    1.235648e+13                3.798552               9.947645   \n",
       "min    3.489417e+08                8.006470              77.076110   \n",
       "25%    3.188401e+10               12.311522              99.718587   \n",
       "50%    3.519491e+11               14.543753             101.975050   \n",
       "75%    2.381779e+12               17.512915             105.988800   \n",
       "max    7.933444e+13               25.653620             145.247860   \n",
       "\n",
       "       Secondary_School_Enroll  Tertiary_School_Enroll  \n",
       "count               110.000000              110.000000  \n",
       "mean                 84.944633               42.874356  \n",
       "std                  27.308084               27.025657  \n",
       "min                  30.354030                4.818540  \n",
       "25%                  66.883713               16.755872  \n",
       "50%                  92.609245               42.912755  \n",
       "75%                 103.898270               66.823698  \n",
       "max                 162.299340               91.500160  "
      ]
     },
     "execution_count": 11,
     "metadata": {},
     "output_type": "execute_result"
    }
   ],
   "source": [
    "df.describe() # Summary statistics for our dataframe"
   ]
  },
  {
   "cell_type": "code",
   "execution_count": 12,
   "metadata": {},
   "outputs": [
    {
     "data": {
      "text/plain": [
       "<matplotlib.axes._subplots.AxesSubplot at 0x7fc538668c10>"
      ]
     },
     "execution_count": 12,
     "metadata": {},
     "output_type": "execute_result"
    },
    {
     "data": {
      "image/png": "[encoded data removed]",
      "text/plain": [
       "<Figure size 864x432 with 1 Axes>"
      ]
     },
     "metadata": {},
     "output_type": "display_data"
    }
   ],
   "source": [
    "sns.distplot(df['GDP_USD'])"
   ]
  },
  {
   "cell_type": "markdown",
   "metadata": {},
   "source": [
    "Our outcome variable __GDp_USD__ distribution is heavily skewed to the right and somewhat far from normal distribution. It may cause problems for model fitting since relative errors for low GDP and high GDP countries are treated unevenly. Taking the log helps to overcome this problem."
   ]
  },
  {
   "cell_type": "code",
   "execution_count": 13,
   "metadata": {},
   "outputs": [],
   "source": [
    "#transform outcome variable to be Gaussian\n",
    "df['ln_GDP_USD'] = np.log(df['GDP_USD'])"
   ]
  },
  {
   "cell_type": "code",
   "execution_count": 14,
   "metadata": {},
   "outputs": [
    {
     "data": {
      "text/plain": [
       "<matplotlib.axes._subplots.AxesSubplot at 0x7fc537269990>"
      ]
     },
     "execution_count": 14,
     "metadata": {},
     "output_type": "execute_result"
    },
    {
     "data": {
      "image/png": "[encoded data removed]",
      "text/plain": [
       "<Figure size 864x432 with 1 Axes>"
      ]
     },
     "metadata": {},
     "output_type": "display_data"
    }
   ],
   "source": [
    "sns.distplot(df['ln_GDP_USD'])"
   ]
  },
  {
   "cell_type": "markdown",
   "metadata": {},
   "source": [
    "We can use correlation maps to see which variables correlates with our outcome variable, and to see which variables correlates with each other"
   ]
  },
  {
   "cell_type": "code",
   "execution_count": 15,
   "metadata": {},
   "outputs": [
    {
     "data": {
      "text/html": [
       "<div>\n",
       "<style scoped>\n",
       "    .dataframe tbody tr th:only-of-type {\n",
       "        vertical-align: middle;\n",
       "    }\n",
       "\n",
       "    .dataframe tbody tr th {\n",
       "        vertical-align: top;\n",
       "    }\n",
       "\n",
       "    .dataframe thead th {\n",
       "        text-align: right;\n",
       "    }\n",
       "</style>\n",
       "<table border=\"1\" class=\"dataframe\">\n",
       "  <thead>\n",
       "    <tr style=\"text-align: right;\">\n",
       "      <th></th>\n",
       "      <th>GDP_USD</th>\n",
       "      <th>Gov_Ed_Expenditure_EXP</th>\n",
       "      <th>Primary_School_Enroll</th>\n",
       "      <th>Secondary_School_Enroll</th>\n",
       "      <th>Tertiary_School_Enroll</th>\n",
       "      <th>ln_GDP_USD</th>\n",
       "    </tr>\n",
       "  </thead>\n",
       "  <tbody>\n",
       "    <tr>\n",
       "      <th>GDP_USD</th>\n",
       "      <td>1.000000</td>\n",
       "      <td>-0.140827</td>\n",
       "      <td>-0.063887</td>\n",
       "      <td>0.080080</td>\n",
       "      <td>0.163448</td>\n",
       "      <td>0.639480</td>\n",
       "    </tr>\n",
       "    <tr>\n",
       "      <th>Gov_Ed_Expenditure_EXP</th>\n",
       "      <td>-0.140827</td>\n",
       "      <td>1.000000</td>\n",
       "      <td>0.086927</td>\n",
       "      <td>-0.368721</td>\n",
       "      <td>-0.441750</td>\n",
       "      <td>-0.240430</td>\n",
       "    </tr>\n",
       "    <tr>\n",
       "      <th>Primary_School_Enroll</th>\n",
       "      <td>-0.063887</td>\n",
       "      <td>0.086927</td>\n",
       "      <td>1.000000</td>\n",
       "      <td>-0.045173</td>\n",
       "      <td>-0.136521</td>\n",
       "      <td>-0.139657</td>\n",
       "    </tr>\n",
       "    <tr>\n",
       "      <th>Secondary_School_Enroll</th>\n",
       "      <td>0.080080</td>\n",
       "      <td>-0.368721</td>\n",
       "      <td>-0.045173</td>\n",
       "      <td>1.000000</td>\n",
       "      <td>0.852028</td>\n",
       "      <td>0.187527</td>\n",
       "    </tr>\n",
       "    <tr>\n",
       "      <th>Tertiary_School_Enroll</th>\n",
       "      <td>0.163448</td>\n",
       "      <td>-0.441750</td>\n",
       "      <td>-0.136521</td>\n",
       "      <td>0.852028</td>\n",
       "      <td>1.000000</td>\n",
       "      <td>0.307084</td>\n",
       "    </tr>\n",
       "    <tr>\n",
       "      <th>ln_GDP_USD</th>\n",
       "      <td>0.639480</td>\n",
       "      <td>-0.240430</td>\n",
       "      <td>-0.139657</td>\n",
       "      <td>0.187527</td>\n",
       "      <td>0.307084</td>\n",
       "      <td>1.000000</td>\n",
       "    </tr>\n",
       "  </tbody>\n",
       "</table>\n",
       "</div>"
      ],
      "text/plain": [
       "                          GDP_USD  Gov_Ed_Expenditure_EXP  \\\n",
       "GDP_USD                  1.000000               -0.140827   \n",
       "Gov_Ed_Expenditure_EXP  -0.140827                1.000000   \n",
       "Primary_School_Enroll   -0.063887                0.086927   \n",
       "Secondary_School_Enroll  0.080080               -0.368721   \n",
       "Tertiary_School_Enroll   0.163448               -0.441750   \n",
       "ln_GDP_USD               0.639480               -0.240430   \n",
       "\n",
       "                         Primary_School_Enroll  Secondary_School_Enroll  \\\n",
       "GDP_USD                              -0.063887                 0.080080   \n",
       "Gov_Ed_Expenditure_EXP                0.086927                -0.368721   \n",
       "Primary_School_Enroll                 1.000000                -0.045173   \n",
       "Secondary_School_Enroll              -0.045173                 1.000000   \n",
       "Tertiary_School_Enroll               -0.136521                 0.852028   \n",
       "ln_GDP_USD                           -0.139657                 0.187527   \n",
       "\n",
       "                         Tertiary_School_Enroll  ln_GDP_USD  \n",
       "GDP_USD                                0.163448    0.639480  \n",
       "Gov_Ed_Expenditure_EXP                -0.441750   -0.240430  \n",
       "Primary_School_Enroll                 -0.136521   -0.139657  \n",
       "Secondary_School_Enroll                0.852028    0.187527  \n",
       "Tertiary_School_Enroll                 1.000000    0.307084  \n",
       "ln_GDP_USD                             0.307084    1.000000  "
      ]
     },
     "execution_count": 15,
     "metadata": {},
     "output_type": "execute_result"
    }
   ],
   "source": [
    "df.iloc[:,:].corr()"
   ]
  },
  {
   "cell_type": "code",
   "execution_count": 16,
   "metadata": {},
   "outputs": [
    {
     "data": {
      "text/plain": [
       "<matplotlib.axes._subplots.AxesSubplot at 0x7fc53727c8d0>"
      ]
     },
     "execution_count": 16,
     "metadata": {},
     "output_type": "execute_result"
    },
    {
     "data": {
      "image/png": "[encoded data removed]",
      "text/plain": [
       "<Figure size 1152x720 with 2 Axes>"
      ]
     },
     "metadata": {},
     "output_type": "display_data"
    }
   ],
   "source": [
    "corrmat = df.corr()\n",
    "f, ax = plt.subplots(figsize=(16, 10))\n",
    "sns.heatmap(corrmat,vmin=-.8, vmax=.8, square=True, cmap='RdBu_r')"
   ]
  },
  {
   "cell_type": "markdown",
   "metadata": {},
   "source": [
    "Pairplot to see individual distributions of variables as well as correlations with each other."
   ]
  },
  {
   "cell_type": "code",
   "execution_count": 17,
   "metadata": {},
   "outputs": [
    {
     "data": {
      "image/png": "[encoded data removed]",
      "text/plain": [
       "<Figure size 900x900 with 30 Axes>"
      ]
     },
     "metadata": {},
     "output_type": "display_data"
    }
   ],
   "source": [
    "#scatter plots\n",
    "cols = ['ln_GDP_USD', 'Gov_Ed_Expenditure_EXP', 'Primary_School_Enroll', 'Secondary_School_Enroll','Tertiary_School_Enroll']\n",
    "sns.pairplot(df[cols], height = 2.5)\n",
    "plt.show()"
   ]
  },
  {
   "cell_type": "markdown",
   "metadata": {},
   "source": [
    "Even though it seems there's really strong correlation between Secondary_Enroll and Tertiary_Enroll, we chose to keep them in our model because even though in numbers they are very correlated, as an insight we believe they might contribute the model independently. Especially considering their varied correlations with outcome variable (one is the double of another)"
   ]
  },
  {
   "cell_type": "markdown",
   "metadata": {},
   "source": [
    "__Furthermore we will check for Multicollinearity using Variance Inflation Factor (VIF)__"
   ]
  },
  {
   "cell_type": "code",
   "execution_count": 18,
   "metadata": {},
   "outputs": [],
   "source": [
    "%%capture\n",
    "#gather features\n",
    "features = \"+\".join(df.columns)\n",
    "\n",
    "# get y and X dataframes based on this regression:\n",
    "y, X = dmatrices('ln_GDP_USD ~' + features, df, return_type='dataframe')\n",
    "\n",
    "# For each X, calculate VIF and save in dataframe\n",
    "vif = pd.DataFrame()\n",
    "vif[\"VIF Factor\"] = [variance_inflation_factor(X.values, i) for i in range(X.shape[1])]\n",
    "vif[\"features\"] = X.columns\n"
   ]
  },
  {
   "cell_type": "code",
   "execution_count": 19,
   "metadata": {},
   "outputs": [
    {
     "data": {
      "text/html": [
       "<div>\n",
       "<style scoped>\n",
       "    .dataframe tbody tr th:only-of-type {\n",
       "        vertical-align: middle;\n",
       "    }\n",
       "\n",
       "    .dataframe tbody tr th {\n",
       "        vertical-align: top;\n",
       "    }\n",
       "\n",
       "    .dataframe thead th {\n",
       "        text-align: right;\n",
       "    }\n",
       "</style>\n",
       "<table border=\"1\" class=\"dataframe\">\n",
       "  <thead>\n",
       "    <tr style=\"text-align: right;\">\n",
       "      <th></th>\n",
       "      <th>VIF Factor</th>\n",
       "      <th>features</th>\n",
       "    </tr>\n",
       "  </thead>\n",
       "  <tbody>\n",
       "    <tr>\n",
       "      <th>0</th>\n",
       "      <td>0.0</td>\n",
       "      <td>Intercept</td>\n",
       "    </tr>\n",
       "    <tr>\n",
       "      <th>1</th>\n",
       "      <td>1.7</td>\n",
       "      <td>GDP_USD</td>\n",
       "    </tr>\n",
       "    <tr>\n",
       "      <th>2</th>\n",
       "      <td>1.3</td>\n",
       "      <td>Gov_Ed_Expenditure_EXP</td>\n",
       "    </tr>\n",
       "    <tr>\n",
       "      <th>3</th>\n",
       "      <td>1.0</td>\n",
       "      <td>Primary_School_Enroll</td>\n",
       "    </tr>\n",
       "    <tr>\n",
       "      <th>4</th>\n",
       "      <td>3.8</td>\n",
       "      <td>Secondary_School_Enroll</td>\n",
       "    </tr>\n",
       "    <tr>\n",
       "      <th>5</th>\n",
       "      <td>4.3</td>\n",
       "      <td>Tertiary_School_Enroll</td>\n",
       "    </tr>\n",
       "    <tr>\n",
       "      <th>6</th>\n",
       "      <td>1.9</td>\n",
       "      <td>ln_GDP_USD</td>\n",
       "    </tr>\n",
       "  </tbody>\n",
       "</table>\n",
       "</div>"
      ],
      "text/plain": [
       "   VIF Factor                 features\n",
       "0         0.0                Intercept\n",
       "1         1.7                  GDP_USD\n",
       "2         1.3   Gov_Ed_Expenditure_EXP\n",
       "3         1.0    Primary_School_Enroll\n",
       "4         3.8  Secondary_School_Enroll\n",
       "5         4.3   Tertiary_School_Enroll\n",
       "6         1.9               ln_GDP_USD"
      ]
     },
     "execution_count": 19,
     "metadata": {},
     "output_type": "execute_result"
    }
   ],
   "source": [
    "vif.round(1)"
   ]
  },
  {
   "cell_type": "markdown",
   "metadata": {},
   "source": [
    "__If the VIF is between 5-10, multicolinearity might be present as we have high value of 4.3 in Tertiary. But even though they are not perfect we find these to be satisfactory enough to keep all the variables. Further complementing our previous idea.__\n",
    "\n",
    "Our Final dataset:"
   ]
  },
  {
   "cell_type": "code",
   "execution_count": 20,
   "metadata": {},
   "outputs": [
    {
     "data": {
      "text/html": [
       "<div>\n",
       "<style scoped>\n",
       "    .dataframe tbody tr th:only-of-type {\n",
       "        vertical-align: middle;\n",
       "    }\n",
       "\n",
       "    .dataframe tbody tr th {\n",
       "        vertical-align: top;\n",
       "    }\n",
       "\n",
       "    .dataframe thead th {\n",
       "        text-align: right;\n",
       "    }\n",
       "</style>\n",
       "<table border=\"1\" class=\"dataframe\">\n",
       "  <thead>\n",
       "    <tr style=\"text-align: right;\">\n",
       "      <th></th>\n",
       "      <th>GDP_USD</th>\n",
       "      <th>Gov_Ed_Expenditure_EXP</th>\n",
       "      <th>Primary_School_Enroll</th>\n",
       "      <th>Secondary_School_Enroll</th>\n",
       "      <th>Tertiary_School_Enroll</th>\n",
       "      <th>ln_GDP_USD</th>\n",
       "    </tr>\n",
       "    <tr>\n",
       "      <th>country</th>\n",
       "      <th></th>\n",
       "      <th></th>\n",
       "      <th></th>\n",
       "      <th></th>\n",
       "      <th></th>\n",
       "      <th></th>\n",
       "    </tr>\n",
       "  </thead>\n",
       "  <tbody>\n",
       "    <tr>\n",
       "      <th>Caribbean small states</th>\n",
       "      <td>7.298914e+10</td>\n",
       "      <td>21.797490</td>\n",
       "      <td>99.54082</td>\n",
       "      <td>85.56196</td>\n",
       "      <td>22.91996</td>\n",
       "      <td>25.013576</td>\n",
       "    </tr>\n",
       "    <tr>\n",
       "      <th>Central Europe and the Baltics</th>\n",
       "      <td>1.465594e+12</td>\n",
       "      <td>11.274320</td>\n",
       "      <td>98.34762</td>\n",
       "      <td>102.18820</td>\n",
       "      <td>62.08801</td>\n",
       "      <td>28.013282</td>\n",
       "    </tr>\n",
       "    <tr>\n",
       "      <th>Early-demographic dividend</th>\n",
       "      <td>1.059669e+13</td>\n",
       "      <td>16.945705</td>\n",
       "      <td>106.17120</td>\n",
       "      <td>72.57747</td>\n",
       "      <td>27.92243</td>\n",
       "      <td>29.991563</td>\n",
       "    </tr>\n",
       "    <tr>\n",
       "      <th>East Asia &amp; Pacific</th>\n",
       "      <td>2.187868e+13</td>\n",
       "      <td>14.275945</td>\n",
       "      <td>100.45400</td>\n",
       "      <td>84.28538</td>\n",
       "      <td>41.39086</td>\n",
       "      <td>30.716534</td>\n",
       "    </tr>\n",
       "    <tr>\n",
       "      <th>East Asia &amp; Pacific (IDA &amp; IBRD countries)</th>\n",
       "      <td>1.268696e+13</td>\n",
       "      <td>13.212725</td>\n",
       "      <td>100.49860</td>\n",
       "      <td>82.21957</td>\n",
       "      <td>38.44768</td>\n",
       "      <td>30.171596</td>\n",
       "    </tr>\n",
       "  </tbody>\n",
       "</table>\n",
       "</div>"
      ],
      "text/plain": [
       "                                                 GDP_USD  \\\n",
       "country                                                    \n",
       "Caribbean small states                      7.298914e+10   \n",
       "Central Europe and the Baltics              1.465594e+12   \n",
       "Early-demographic dividend                  1.059669e+13   \n",
       "East Asia & Pacific                         2.187868e+13   \n",
       "East Asia & Pacific (IDA & IBRD countries)  1.268696e+13   \n",
       "\n",
       "                                            Gov_Ed_Expenditure_EXP  \\\n",
       "country                                                              \n",
       "Caribbean small states                                   21.797490   \n",
       "Central Europe and the Baltics                           11.274320   \n",
       "Early-demographic dividend                               16.945705   \n",
       "East Asia & Pacific                                      14.275945   \n",
       "East Asia & Pacific (IDA & IBRD countries)               13.212725   \n",
       "\n",
       "                                            Primary_School_Enroll  \\\n",
       "country                                                             \n",
       "Caribbean small states                                   99.54082   \n",
       "Central Europe and the Baltics                           98.34762   \n",
       "Early-demographic dividend                              106.17120   \n",
       "East Asia & Pacific                                     100.45400   \n",
       "East Asia & Pacific (IDA & IBRD countries)              100.49860   \n",
       "\n",
       "                                            Secondary_School_Enroll  \\\n",
       "country                                                               \n",
       "Caribbean small states                                     85.56196   \n",
       "Central Europe and the Baltics                            102.18820   \n",
       "Early-demographic dividend                                 72.57747   \n",
       "East Asia & Pacific                                        84.28538   \n",
       "East Asia & Pacific (IDA & IBRD countries)                 82.21957   \n",
       "\n",
       "                                            Tertiary_School_Enroll  ln_GDP_USD  \n",
       "country                                                                         \n",
       "Caribbean small states                                    22.91996   25.013576  \n",
       "Central Europe and the Baltics                            62.08801   28.013282  \n",
       "Early-demographic dividend                                27.92243   29.991563  \n",
       "East Asia & Pacific                                       41.39086   30.716534  \n",
       "East Asia & Pacific (IDA & IBRD countries)                38.44768   30.171596  "
      ]
     },
     "execution_count": 20,
     "metadata": {},
     "output_type": "execute_result"
    }
   ],
   "source": [
    "df.head()"
   ]
  },
  {
   "cell_type": "code",
   "execution_count": 21,
   "metadata": {},
   "outputs": [
    {
     "data": {
      "text/html": [
       "<div>\n",
       "<style scoped>\n",
       "    .dataframe tbody tr th:only-of-type {\n",
       "        vertical-align: middle;\n",
       "    }\n",
       "\n",
       "    .dataframe tbody tr th {\n",
       "        vertical-align: top;\n",
       "    }\n",
       "\n",
       "    .dataframe thead th {\n",
       "        text-align: right;\n",
       "    }\n",
       "</style>\n",
       "<table border=\"1\" class=\"dataframe\">\n",
       "  <thead>\n",
       "    <tr style=\"text-align: right;\">\n",
       "      <th></th>\n",
       "      <th>GDP_USD</th>\n",
       "      <th>Gov_Ed_Expenditure_EXP</th>\n",
       "      <th>Primary_School_Enroll</th>\n",
       "      <th>Secondary_School_Enroll</th>\n",
       "      <th>Tertiary_School_Enroll</th>\n",
       "      <th>ln_GDP_USD</th>\n",
       "    </tr>\n",
       "  </thead>\n",
       "  <tbody>\n",
       "    <tr>\n",
       "      <th>count</th>\n",
       "      <td>1.100000e+02</td>\n",
       "      <td>110.000000</td>\n",
       "      <td>110.000000</td>\n",
       "      <td>110.000000</td>\n",
       "      <td>110.000000</td>\n",
       "      <td>110.000000</td>\n",
       "    </tr>\n",
       "    <tr>\n",
       "      <th>mean</th>\n",
       "      <td>5.180109e+12</td>\n",
       "      <td>15.179648</td>\n",
       "      <td>103.760412</td>\n",
       "      <td>84.944633</td>\n",
       "      <td>42.874356</td>\n",
       "      <td>26.489355</td>\n",
       "    </tr>\n",
       "    <tr>\n",
       "      <th>std</th>\n",
       "      <td>1.235648e+13</td>\n",
       "      <td>3.798552</td>\n",
       "      <td>9.947645</td>\n",
       "      <td>27.308084</td>\n",
       "      <td>27.025657</td>\n",
       "      <td>2.838195</td>\n",
       "    </tr>\n",
       "    <tr>\n",
       "      <th>min</th>\n",
       "      <td>3.489417e+08</td>\n",
       "      <td>8.006470</td>\n",
       "      <td>77.076110</td>\n",
       "      <td>30.354030</td>\n",
       "      <td>4.818540</td>\n",
       "      <td>19.670415</td>\n",
       "    </tr>\n",
       "    <tr>\n",
       "      <th>25%</th>\n",
       "      <td>3.188401e+10</td>\n",
       "      <td>12.311522</td>\n",
       "      <td>99.718587</td>\n",
       "      <td>66.883713</td>\n",
       "      <td>16.755872</td>\n",
       "      <td>24.185007</td>\n",
       "    </tr>\n",
       "    <tr>\n",
       "      <th>50%</th>\n",
       "      <td>3.519491e+11</td>\n",
       "      <td>14.543753</td>\n",
       "      <td>101.975050</td>\n",
       "      <td>92.609245</td>\n",
       "      <td>42.912755</td>\n",
       "      <td>26.586748</td>\n",
       "    </tr>\n",
       "    <tr>\n",
       "      <th>75%</th>\n",
       "      <td>2.381779e+12</td>\n",
       "      <td>17.512915</td>\n",
       "      <td>105.988800</td>\n",
       "      <td>103.898270</td>\n",
       "      <td>66.823698</td>\n",
       "      <td>28.497346</td>\n",
       "    </tr>\n",
       "    <tr>\n",
       "      <th>max</th>\n",
       "      <td>7.933444e+13</td>\n",
       "      <td>25.653620</td>\n",
       "      <td>145.247860</td>\n",
       "      <td>162.299340</td>\n",
       "      <td>91.500160</td>\n",
       "      <td>32.004693</td>\n",
       "    </tr>\n",
       "  </tbody>\n",
       "</table>\n",
       "</div>"
      ],
      "text/plain": [
       "            GDP_USD  Gov_Ed_Expenditure_EXP  Primary_School_Enroll  \\\n",
       "count  1.100000e+02              110.000000             110.000000   \n",
       "mean   5.180109e+12               15.179648             103.760412   \n",
       "std    1.235648e+13                3.798552               9.947645   \n",
       "min    3.489417e+08                8.006470              77.076110   \n",
       "25%    3.188401e+10               12.311522              99.718587   \n",
       "50%    3.519491e+11               14.543753             101.975050   \n",
       "75%    2.381779e+12               17.512915             105.988800   \n",
       "max    7.933444e+13               25.653620             145.247860   \n",
       "\n",
       "       Secondary_School_Enroll  Tertiary_School_Enroll  ln_GDP_USD  \n",
       "count               110.000000              110.000000  110.000000  \n",
       "mean                 84.944633               42.874356   26.489355  \n",
       "std                  27.308084               27.025657    2.838195  \n",
       "min                  30.354030                4.818540   19.670415  \n",
       "25%                  66.883713               16.755872   24.185007  \n",
       "50%                  92.609245               42.912755   26.586748  \n",
       "75%                 103.898270               66.823698   28.497346  \n",
       "max                 162.299340               91.500160   32.004693  "
      ]
     },
     "execution_count": 21,
     "metadata": {},
     "output_type": "execute_result"
    }
   ],
   "source": [
    "df.describe()"
   ]
  },
  {
   "cell_type": "markdown",
   "metadata": {},
   "source": [
    "Lets also try scaling the data into two new dataframes, to check if they improve our models."
   ]
  },
  {
   "cell_type": "code",
   "execution_count": 22,
   "metadata": {},
   "outputs": [],
   "source": [
    "from sklearn.preprocessing import MinMaxScaler, StandardScaler\n",
    "# Min Max scaling, distortion free\n",
    "minmax_scaler = MinMaxScaler()\n",
    "df_minmax = df.copy()\n",
    "df_minmax[df.columns] = minmax_scaler.fit_transform(df[df.columns])\n",
    "# StandardScaling to make it normally distributed\n",
    "standard_scaler = StandardScaler()\n",
    "df_standard = df.copy()\n",
    "df_standard[df.columns] = standard_scaler.fit_transform(df[df.columns])"
   ]
  },
  {
   "cell_type": "code",
   "execution_count": 23,
   "metadata": {},
   "outputs": [
    {
     "data": {
      "text/html": [
       "<div>\n",
       "<style scoped>\n",
       "    .dataframe tbody tr th:only-of-type {\n",
       "        vertical-align: middle;\n",
       "    }\n",
       "\n",
       "    .dataframe tbody tr th {\n",
       "        vertical-align: top;\n",
       "    }\n",
       "\n",
       "    .dataframe thead th {\n",
       "        text-align: right;\n",
       "    }\n",
       "</style>\n",
       "<table border=\"1\" class=\"dataframe\">\n",
       "  <thead>\n",
       "    <tr style=\"text-align: right;\">\n",
       "      <th></th>\n",
       "      <th>GDP_USD</th>\n",
       "      <th>Gov_Ed_Expenditure_EXP</th>\n",
       "      <th>Primary_School_Enroll</th>\n",
       "      <th>Secondary_School_Enroll</th>\n",
       "      <th>Tertiary_School_Enroll</th>\n",
       "      <th>ln_GDP_USD</th>\n",
       "    </tr>\n",
       "  </thead>\n",
       "  <tbody>\n",
       "    <tr>\n",
       "      <th>count</th>\n",
       "      <td>110.000000</td>\n",
       "      <td>110.000000</td>\n",
       "      <td>110.000000</td>\n",
       "      <td>110.000000</td>\n",
       "      <td>110.000000</td>\n",
       "      <td>110.000000</td>\n",
       "    </tr>\n",
       "    <tr>\n",
       "      <th>mean</th>\n",
       "      <td>0.065290</td>\n",
       "      <td>0.406478</td>\n",
       "      <td>0.391428</td>\n",
       "      <td>0.413737</td>\n",
       "      <td>0.439030</td>\n",
       "      <td>0.552845</td>\n",
       "    </tr>\n",
       "    <tr>\n",
       "      <th>std</th>\n",
       "      <td>0.155752</td>\n",
       "      <td>0.215250</td>\n",
       "      <td>0.145920</td>\n",
       "      <td>0.206965</td>\n",
       "      <td>0.311781</td>\n",
       "      <td>0.230106</td>\n",
       "    </tr>\n",
       "    <tr>\n",
       "      <th>min</th>\n",
       "      <td>0.000000</td>\n",
       "      <td>0.000000</td>\n",
       "      <td>0.000000</td>\n",
       "      <td>0.000000</td>\n",
       "      <td>0.000000</td>\n",
       "      <td>0.000000</td>\n",
       "    </tr>\n",
       "    <tr>\n",
       "      <th>25%</th>\n",
       "      <td>0.000397</td>\n",
       "      <td>0.243952</td>\n",
       "      <td>0.332139</td>\n",
       "      <td>0.276855</td>\n",
       "      <td>0.137715</td>\n",
       "      <td>0.366020</td>\n",
       "    </tr>\n",
       "    <tr>\n",
       "      <th>50%</th>\n",
       "      <td>0.004432</td>\n",
       "      <td>0.370444</td>\n",
       "      <td>0.365238</td>\n",
       "      <td>0.471826</td>\n",
       "      <td>0.439473</td>\n",
       "      <td>0.560741</td>\n",
       "    </tr>\n",
       "    <tr>\n",
       "      <th>75%</th>\n",
       "      <td>0.030018</td>\n",
       "      <td>0.538696</td>\n",
       "      <td>0.424115</td>\n",
       "      <td>0.557384</td>\n",
       "      <td>0.715321</td>\n",
       "      <td>0.715642</td>\n",
       "    </tr>\n",
       "    <tr>\n",
       "      <th>max</th>\n",
       "      <td>1.000000</td>\n",
       "      <td>1.000000</td>\n",
       "      <td>1.000000</td>\n",
       "      <td>1.000000</td>\n",
       "      <td>1.000000</td>\n",
       "      <td>1.000000</td>\n",
       "    </tr>\n",
       "  </tbody>\n",
       "</table>\n",
       "</div>"
      ],
      "text/plain": [
       "          GDP_USD  Gov_Ed_Expenditure_EXP  Primary_School_Enroll  \\\n",
       "count  110.000000              110.000000             110.000000   \n",
       "mean     0.065290                0.406478               0.391428   \n",
       "std      0.155752                0.215250               0.145920   \n",
       "min      0.000000                0.000000               0.000000   \n",
       "25%      0.000397                0.243952               0.332139   \n",
       "50%      0.004432                0.370444               0.365238   \n",
       "75%      0.030018                0.538696               0.424115   \n",
       "max      1.000000                1.000000               1.000000   \n",
       "\n",
       "       Secondary_School_Enroll  Tertiary_School_Enroll  ln_GDP_USD  \n",
       "count               110.000000              110.000000  110.000000  \n",
       "mean                  0.413737                0.439030    0.552845  \n",
       "std                   0.206965                0.311781    0.230106  \n",
       "min                   0.000000                0.000000    0.000000  \n",
       "25%                   0.276855                0.137715    0.366020  \n",
       "50%                   0.471826                0.439473    0.560741  \n",
       "75%                   0.557384                0.715321    0.715642  \n",
       "max                   1.000000                1.000000    1.000000  "
      ]
     },
     "execution_count": 23,
     "metadata": {},
     "output_type": "execute_result"
    }
   ],
   "source": [
    "df_minmax.describe()"
   ]
  },
  {
   "cell_type": "code",
   "execution_count": 24,
   "metadata": {},
   "outputs": [
    {
     "data": {
      "text/html": [
       "<div>\n",
       "<style scoped>\n",
       "    .dataframe tbody tr th:only-of-type {\n",
       "        vertical-align: middle;\n",
       "    }\n",
       "\n",
       "    .dataframe tbody tr th {\n",
       "        vertical-align: top;\n",
       "    }\n",
       "\n",
       "    .dataframe thead th {\n",
       "        text-align: right;\n",
       "    }\n",
       "</style>\n",
       "<table border=\"1\" class=\"dataframe\">\n",
       "  <thead>\n",
       "    <tr style=\"text-align: right;\">\n",
       "      <th></th>\n",
       "      <th>GDP_USD</th>\n",
       "      <th>Gov_Ed_Expenditure_EXP</th>\n",
       "      <th>Primary_School_Enroll</th>\n",
       "      <th>Secondary_School_Enroll</th>\n",
       "      <th>Tertiary_School_Enroll</th>\n",
       "      <th>ln_GDP_USD</th>\n",
       "    </tr>\n",
       "  </thead>\n",
       "  <tbody>\n",
       "    <tr>\n",
       "      <th>count</th>\n",
       "      <td>1.100000e+02</td>\n",
       "      <td>1.100000e+02</td>\n",
       "      <td>1.100000e+02</td>\n",
       "      <td>1.100000e+02</td>\n",
       "      <td>1.100000e+02</td>\n",
       "      <td>1.100000e+02</td>\n",
       "    </tr>\n",
       "    <tr>\n",
       "      <th>mean</th>\n",
       "      <td>-3.179275e-17</td>\n",
       "      <td>2.745279e-16</td>\n",
       "      <td>-1.877286e-16</td>\n",
       "      <td>-5.939693e-16</td>\n",
       "      <td>-5.914461e-16</td>\n",
       "      <td>2.061987e-15</td>\n",
       "    </tr>\n",
       "    <tr>\n",
       "      <th>std</th>\n",
       "      <td>1.004577e+00</td>\n",
       "      <td>1.004577e+00</td>\n",
       "      <td>1.004577e+00</td>\n",
       "      <td>1.004577e+00</td>\n",
       "      <td>1.004577e+00</td>\n",
       "      <td>1.004577e+00</td>\n",
       "    </tr>\n",
       "    <tr>\n",
       "      <th>min</th>\n",
       "      <td>-4.211123e-01</td>\n",
       "      <td>-1.897041e+00</td>\n",
       "      <td>-2.694751e+00</td>\n",
       "      <td>-2.008213e+00</td>\n",
       "      <td>-1.414581e+00</td>\n",
       "      <td>-2.413558e+00</td>\n",
       "    </tr>\n",
       "    <tr>\n",
       "      <th>25%</th>\n",
       "      <td>-4.185485e-01</td>\n",
       "      <td>-7.585133e-01</td>\n",
       "      <td>-4.081692e-01</td>\n",
       "      <td>-6.644032e-01</td>\n",
       "      <td>-9.708559e-01</td>\n",
       "      <td>-8.156219e-01</td>\n",
       "    </tr>\n",
       "    <tr>\n",
       "      <th>50%</th>\n",
       "      <td>-3.925274e-01</td>\n",
       "      <td>-1.681709e-01</td>\n",
       "      <td>-1.802972e-01</td>\n",
       "      <td>2.819564e-01</td>\n",
       "      <td>1.427351e-03</td>\n",
       "      <td>3.447210e-02</td>\n",
       "    </tr>\n",
       "    <tr>\n",
       "      <th>75%</th>\n",
       "      <td>-2.275031e-01</td>\n",
       "      <td>6.170630e-01</td>\n",
       "      <td>2.250368e-01</td>\n",
       "      <td>6.972434e-01</td>\n",
       "      <td>8.902263e-01</td>\n",
       "      <td>7.107267e-01</td>\n",
       "    </tr>\n",
       "    <tr>\n",
       "      <th>max</th>\n",
       "      <td>6.028715e+00</td>\n",
       "      <td>2.769979e+00</td>\n",
       "      <td>4.189667e+00</td>\n",
       "      <td>2.845631e+00</td>\n",
       "      <td>1.807481e+00</td>\n",
       "      <td>1.952149e+00</td>\n",
       "    </tr>\n",
       "  </tbody>\n",
       "</table>\n",
       "</div>"
      ],
      "text/plain": [
       "            GDP_USD  Gov_Ed_Expenditure_EXP  Primary_School_Enroll  \\\n",
       "count  1.100000e+02            1.100000e+02           1.100000e+02   \n",
       "mean  -3.179275e-17            2.745279e-16          -1.877286e-16   \n",
       "std    1.004577e+00            1.004577e+00           1.004577e+00   \n",
       "min   -4.211123e-01           -1.897041e+00          -2.694751e+00   \n",
       "25%   -4.185485e-01           -7.585133e-01          -4.081692e-01   \n",
       "50%   -3.925274e-01           -1.681709e-01          -1.802972e-01   \n",
       "75%   -2.275031e-01            6.170630e-01           2.250368e-01   \n",
       "max    6.028715e+00            2.769979e+00           4.189667e+00   \n",
       "\n",
       "       Secondary_School_Enroll  Tertiary_School_Enroll    ln_GDP_USD  \n",
       "count             1.100000e+02            1.100000e+02  1.100000e+02  \n",
       "mean             -5.939693e-16           -5.914461e-16  2.061987e-15  \n",
       "std               1.004577e+00            1.004577e+00  1.004577e+00  \n",
       "min              -2.008213e+00           -1.414581e+00 -2.413558e+00  \n",
       "25%              -6.644032e-01           -9.708559e-01 -8.156219e-01  \n",
       "50%               2.819564e-01            1.427351e-03  3.447210e-02  \n",
       "75%               6.972434e-01            8.902263e-01  7.107267e-01  \n",
       "max               2.845631e+00            1.807481e+00  1.952149e+00  "
      ]
     },
     "execution_count": 24,
     "metadata": {},
     "output_type": "execute_result"
    }
   ],
   "source": [
    "df_standard.describe()"
   ]
  },
  {
   "cell_type": "markdown",
   "metadata": {},
   "source": [
    "### We selected regression models, since our outcome variable is numerical, not categorical."
   ]
  },
  {
   "cell_type": "markdown",
   "metadata": {},
   "source": [
    "## OLS Linear Regression "
   ]
  },
  {
   "cell_type": "code",
   "execution_count": 25,
   "metadata": {},
   "outputs": [
    {
     "data": {
      "text/plain": [
       "LinearRegression(copy_X=True, fit_intercept=True, n_jobs=None, normalize=False)"
      ]
     },
     "execution_count": 25,
     "metadata": {},
     "output_type": "execute_result"
    }
   ],
   "source": [
    "from sklearn.linear_model import LinearRegression\n",
    "lr = LinearRegression() #initiate the model with default parameters\n",
    "X = df.loc[:,['Gov_Ed_Expenditure_EXP','Primary_School_Enroll','Secondary_School_Enroll','Tertiary_School_Enroll']]\n",
    "y = df.loc[:,'ln_GDP_USD'] \n",
    "lr.fit(X,y)"
   ]
  },
  {
   "cell_type": "code",
   "execution_count": 26,
   "metadata": {},
   "outputs": [
    {
     "data": {
      "text/plain": [
       "30.37396589907283"
      ]
     },
     "execution_count": 26,
     "metadata": {},
     "output_type": "execute_result"
    }
   ],
   "source": [
    "lr.intercept_ #model intercept"
   ]
  },
  {
   "cell_type": "code",
   "execution_count": 27,
   "metadata": {},
   "outputs": [
    {
     "data": {
      "text/plain": [
       "Gov_Ed_Expenditure_EXP    -0.093578\n",
       "Primary_School_Enroll     -0.022344\n",
       "Secondary_School_Enroll   -0.025632\n",
       "Tertiary_School_Enroll     0.047384\n",
       "dtype: float64"
      ]
     },
     "execution_count": 27,
     "metadata": {},
     "output_type": "execute_result"
    }
   ],
   "source": [
    "pd.Series(lr.coef_, index=X.columns) #model coefficients"
   ]
  },
  {
   "cell_type": "code",
   "execution_count": 28,
   "metadata": {},
   "outputs": [
    {
     "data": {
      "text/plain": [
       "0.13335522008181233"
      ]
     },
     "execution_count": 28,
     "metadata": {},
     "output_type": "execute_result"
    }
   ],
   "source": [
    "lr.score(X,y) #the coefficient of determination R^2 of the prediction"
   ]
  },
  {
   "cell_type": "markdown",
   "metadata": {},
   "source": [
    "Very low R-square score. It means our model does perform bad. Let's investigate if it caused by non-scaled data. This time we use our scaled dataframes, both minmax and standardized:"
   ]
  },
  {
   "cell_type": "markdown",
   "metadata": {},
   "source": [
    "__Applying OLS to minmax scaled dataframe__"
   ]
  },
  {
   "cell_type": "code",
   "execution_count": 29,
   "metadata": {},
   "outputs": [
    {
     "data": {
      "text/plain": [
       "LinearRegression(copy_X=True, fit_intercept=True, n_jobs=None, normalize=False)"
      ]
     },
     "execution_count": 29,
     "metadata": {},
     "output_type": "execute_result"
    }
   ],
   "source": [
    "lr_minmax = LinearRegression()\n",
    "X_minmax = df_minmax.loc[:,['Gov_Ed_Expenditure_EXP','Primary_School_Enroll','Secondary_School_Enroll','Tertiary_School_Enroll']]\n",
    "y_minmax = df_minmax.loc[:,'ln_GDP_USD'] \n",
    "lr_minmax.fit(X_minmax,y_minmax)"
   ]
  },
  {
   "cell_type": "code",
   "execution_count": 31,
   "metadata": {},
   "outputs": [
    {
     "data": {
      "text/plain": [
       "0.13335522008181233"
      ]
     },
     "execution_count": 31,
     "metadata": {},
     "output_type": "execute_result"
    }
   ],
   "source": [
    "lr_minmax.score(X_minmax,y_minmax) #the coefficient of determination R^2 of the prediction"
   ]
  },
  {
   "cell_type": "markdown",
   "metadata": {},
   "source": [
    "Still low R^2, that was expected since minmax does not change the behaviour of data distribution. __Lets try this time with standardized scaling__, which made the data closer to normal distribution."
   ]
  },
  {
   "cell_type": "code",
   "execution_count": 32,
   "metadata": {},
   "outputs": [
    {
     "data": {
      "text/plain": [
       "LinearRegression(copy_X=True, fit_intercept=True, n_jobs=None, normalize=False)"
      ]
     },
     "execution_count": 32,
     "metadata": {},
     "output_type": "execute_result"
    }
   ],
   "source": [
    "lr_std = LinearRegression()\n",
    "X_std = df_standard.loc[:,['Gov_Ed_Expenditure_EXP','Primary_School_Enroll','Secondary_School_Enroll','Tertiary_School_Enroll']]\n",
    "y_std = df_standard.loc[:,'ln_GDP_USD'] \n",
    "lr_std.fit(X_std,y_std)"
   ]
  },
  {
   "cell_type": "code",
   "execution_count": 33,
   "metadata": {},
   "outputs": [
    {
     "data": {
      "text/plain": [
       "0.13335522008181255"
      ]
     },
     "execution_count": 33,
     "metadata": {},
     "output_type": "execute_result"
    }
   ],
   "source": [
    "lr_std.score(X_std,y_std) #the coefficient of determination R^2 of the prediction"
   ]
  },
  {
   "cell_type": "markdown",
   "metadata": {},
   "source": [
    "Unfortunately, the model still performs bad. Even though we can easily see we have already bad performing model, lets check cros-validations and overfitting. We use 5-fold cross validation."
   ]
  },
  {
   "cell_type": "code",
   "execution_count": 39,
   "metadata": {},
   "outputs": [
    {
     "name": "stdout",
     "output_type": "stream",
     "text": [
      "Mean score (OLS, rawData): -1.52\n",
      "Mean score (OLS, minmaxScaled): -1.52\n",
      "Mean score (OLS, standardScaled): -1.52\n"
     ]
    }
   ],
   "source": [
    "from sklearn.model_selection import cross_val_score\n",
    "sk = cross_val_score(lr, X, y, cv=5)\n",
    "sk_minmax = cross_val_score(lr_minmax, X_minmax, y_minmax, cv=5)\n",
    "sk_std = cross_val_score(lr_std, X_std, y_std, cv=5)\n",
    "print(\"Mean score (OLS, rawData): {:.2f}\".format(np.mean(sk)))\n",
    "print(\"Mean score (OLS, minmaxScaled): {:.2f}\".format(np.mean(sk_minmax)))\n",
    "print(\"Mean score (OLS, standardScaled): {:.2f}\".format(np.mean(sk_std)))"
   ]
  },
  {
   "cell_type": "markdown",
   "metadata": {},
   "source": [
    "We get even negative scores, which means actually the underlying data is far from being linear. Thus how much we try with simple linear models, we will not get any satisfacory results. \n",
    "\n",
    "Implications of negative scores can be found here in more detail: https://en.wikipedia.org/wiki/Coefficient_of_determination\n",
    "\n",
    "__Let us try adding polynomial models this time.__"
   ]
  },
  {
   "cell_type": "markdown",
   "metadata": {},
   "source": [
    "## Polynomials - Adding Higher Degrees to the Regression Model"
   ]
  },
  {
   "cell_type": "code",
   "execution_count": 34,
   "metadata": {},
   "outputs": [],
   "source": [
    "from sklearn.preprocessing import PolynomialFeatures\n",
    "poly = PolynomialFeatures(2)\n",
    "X_poly = poly.fit_transform(X) #transform X to higher order polynomials"
   ]
  },
  {
   "cell_type": "code",
   "execution_count": 40,
   "metadata": {},
   "outputs": [
    {
     "name": "stdout",
     "output_type": "stream",
     "text": [
      "Mean score (LR, poly): -1.22\n"
     ]
    }
   ],
   "source": [
    "lr.fit(X_poly,y)\n",
    "sk_poly = cross_val_score(lr, X_poly, y, cv=5)\n",
    "print(\"Mean score (LR, poly): {:.2f}\".format(np.mean(sk_poly)))"
   ]
  },
  {
   "cell_type": "markdown",
   "metadata": {},
   "source": [
    "We still have bad performing score, let us try the standardized version of the dataframe."
   ]
  },
  {
   "cell_type": "code",
   "execution_count": 41,
   "metadata": {},
   "outputs": [
    {
     "name": "stdout",
     "output_type": "stream",
     "text": [
      "Mean score (LR_std, poly): -1.22\n"
     ]
    }
   ],
   "source": [
    "X_std_poly = poly.fit_transform(X_std) #transform X to higher order polynomials\n",
    "lr_std.fit(X_std_poly,y_std)\n",
    "sk_std_poly = cross_val_score(lr_std, X_std_poly, y_std, cv=5)\n",
    "print(\"Mean score (LR_std, poly): {:.2f}\".format(np.mean(sk_std_poly)))"
   ]
  },
  {
   "cell_type": "markdown",
   "metadata": {},
   "source": [
    "We still have bad models, mainly because of the above discussion, the non-linear distribution of data. With our findings, we can say that there's no linear causality between these variables and our outcome variable. \n",
    "\n",
    "__For the sake of trying, let us also try Decision Trees to see if we can come up with somewhat fitting model__"
   ]
  },
  {
   "cell_type": "markdown",
   "metadata": {},
   "source": [
    "## Decision Tree Regression"
   ]
  },
  {
   "cell_type": "code",
   "execution_count": 47,
   "metadata": {},
   "outputs": [
    {
     "name": "stdout",
     "output_type": "stream",
     "text": [
      "Accuracy on training set: 1.000\n",
      "Accuracy on test set: -0.114\n"
     ]
    }
   ],
   "source": [
    "from sklearn.model_selection import train_test_split\n",
    "from sklearn.tree import DecisionTreeRegressor\n",
    "# Using non_scaled, raw data\n",
    "X_train, X_test, y_train, y_test = train_test_split(X, y, test_size = 0.2, random_state = 0)\n",
    "tree = DecisionTreeRegressor(random_state=0)\n",
    "tree.fit(X_train, y_train)\n",
    "print(\"Accuracy on training set: {:.3f}\".format(tree.score(X_train, y_train)))\n",
    "print(\"Accuracy on test set: {:.3f}\".format(tree.score(X_test, y_test)))"
   ]
  },
  {
   "cell_type": "markdown",
   "metadata": {},
   "source": [
    "Still bad scores. Lets try to decrease overfitting by setting tree depth, and try again to see if it improves."
   ]
  },
  {
   "cell_type": "code",
   "execution_count": 50,
   "metadata": {},
   "outputs": [
    {
     "name": "stdout",
     "output_type": "stream",
     "text": [
      "Accuracy on training set: 0.924\n",
      "Accuracy on test set: -0.714\n"
     ]
    }
   ],
   "source": [
    "tree = DecisionTreeRegressor(max_depth=6, random_state=0)\n",
    "tree.fit(X_train, y_train)\n",
    "print(\"Accuracy on training set: {:.3f}\".format(tree.score(X_train, y_train)))\n",
    "print(\"Accuracy on test set: {:.3f}\".format(tree.score(X_test, y_test)))"
   ]
  },
  {
   "cell_type": "markdown",
   "metadata": {},
   "source": [
    "Even worse results. \n",
    "\n",
    "For the last try, let us use __standardized and minmax scaled dataframes__ to check if they significanlty increase model accuracy (Even though we expect still somewhat bad performing models) \n",
    "\n",
    "At this point maybe there is no significant causality in the data, or we need to use more complex algorithms like Neural Networks, since the data gives no clear model with basic models"
   ]
  },
  {
   "cell_type": "code",
   "execution_count": 53,
   "metadata": {},
   "outputs": [
    {
     "name": "stdout",
     "output_type": "stream",
     "text": [
      "Accuracy on training set: 0.924\n",
      "Accuracy on test set: -0.463\n"
     ]
    }
   ],
   "source": [
    "# Using minmax scaled data\n",
    "X_train_minmax, X_test_minmax, y_train_minmax, y_test_minmax = train_test_split(X_minmax, y_minmax, test_size = 0.2, random_state = 0)\n",
    "tree = DecisionTreeRegressor(max_depth=6, random_state=0)\n",
    "tree.fit(X_train_minmax, y_train_minmax)\n",
    "print(\"Accuracy on training set: {:.3f}\".format(tree.score(X_train_minmax, y_train_minmax)))\n",
    "print(\"Accuracy on test set: {:.3f}\".format(tree.score(X_test_minmax, y_test_minmax)))"
   ]
  },
  {
   "cell_type": "code",
   "execution_count": 54,
   "metadata": {},
   "outputs": [
    {
     "name": "stdout",
     "output_type": "stream",
     "text": [
      "Accuracy on training set: 0.924\n",
      "Accuracy on test set: -0.720\n"
     ]
    }
   ],
   "source": [
    "# Using standardized data\n",
    "X_train_std, X_test_std, y_train_std, y_test_std = train_test_split(X_std, y_std, test_size = 0.2, random_state = 0)\n",
    "tree = DecisionTreeRegressor(max_depth=6, random_state=0)\n",
    "tree.fit(X_train_std, y_train_std)\n",
    "print(\"Accuracy on training set: {:.3f}\".format(tree.score(X_train_std, y_train_std)))\n",
    "print(\"Accuracy on test set: {:.3f}\".format(tree.score(X_test_std, y_test_std)))"
   ]
  },
  {
   "cell_type": "markdown",
   "metadata": {},
   "source": [
    "At the end, it seems like we are not getting any proper working model. The above statements hold. Right now, we cannot show any significant causality or correlations with these variables on the outcome varaible. Usage of more complex models is advised. \n",
    "\n",
    "__For this HW we cut it here since the main idea was showing and applying basic ML work, which we tried to do here.__ \n",
    "\n",
    "For further academical implications, data and analysis can be worked on to change hypothesis, to change varaibles, to change models or all together."
   ]
  },
  {
   "cell_type": "code",
   "execution_count": null,
   "metadata": {},
   "outputs": [],
   "source": []
  }
 ],
 "metadata": {
  "kernelspec": {
   "display_name": "Python 3",
   "language": "python",
   "name": "python3"
  },
  "language_info": {
   "codemirror_mode": {
    "name": "ipython",
    "version": 3
   },
   "file_extension": ".py",
   "mimetype": "text/x-python",
   "name": "python",
   "nbconvert_exporter": "python",
   "pygments_lexer": "ipython3",
   "version": "3.7.6"
  }
 },
 "nbformat": 4,
 "nbformat_minor": 2
}
