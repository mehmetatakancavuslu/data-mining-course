{
 "cells": [
  {
   "cell_type": "markdown",
   "metadata": {},
   "source": [
    "# Supervised Learning. Classification problem"
   ]
  },
  {
   "cell_type": "markdown",
   "metadata": {},
   "source": [
    "Classification is a process of predicting a *qualitative response* (default probability, fraud probability, product category, etc.). This type of problems happen more often than Regression problems with *quantitative response* (sales, prices, volumes, etc.).\n",
    "\n",
    "Here the output Y (target) is a *qualitative* (*categorical*) variable, rather than *quantitative*. It takes two or more values (*classes* or *categories*). \n",
    "\n",
    "In case of just *two classes*, the problem is known as a **binary classification**, $Y \\in \\{0,1\\}$.\n",
    "\n",
    "In case of *multiple classes*, the problem is known as **multi-class classification**, e.g., $Y \\in \\{0,1,2,3\\}$\n",
    "\n",
    "Features that are used as predictors can also be of categorical type.\n",
    "\n",
    "There are two types of qualitative variables - nominal and ordinal. The difference is in order of variable values.\n",
    "\n",
    "A nominal variable has no intrinsic ordering of the categories, e.g. gender or clothes colors.\n",
    "\n",
    "An ordinal variable has clear ordering, e.g. economic status (low, medium, high) or education levels (elementary school, high school, college, bachelors, masters, PhD). We can arrange the classes in order: from lowest educational level to highest and assign corresponding numerical values. However we can't operate with these numbers as with numericals, because the distance between each two classes is not the same, e.g., the distance between elementary school and high school is not equal to the distance between bachelor and master degress."
   ]
  },
  {
   "cell_type": "markdown",
   "metadata": {},
   "source": [
    "String encoded features (e.g., 'male' and 'female' for gender) can't be used directly by ML algorithms. They need to be encoded into numerical values. This holds for both input and output variables."
   ]
  },
  {
   "cell_type": "markdown",
   "metadata": {},
   "source": [
    "### Pandas. Categorical data type\n",
    "\n",
    "https://pandas.pydata.org/pandas-docs/stable/user_guide/categorical.html\n",
    "\n",
    "<blockquote>\n",
    "Categoricals are a pandas data type corresponding to categorical variables in statistics. A categorical variable takes on a limited, and usually fixed, number of possible values (categories; levels in R). Examples are gender, social class, blood type, country affiliation, observation time or rating via Likert scales.\n",
    "<br><br>\n",
    "In contrast to statistical categorical variables, categorical data might have an order (e.g. ‘strongly agree’ vs ‘agree’ or ‘first observation’ vs. ‘second observation’), but numerical operations (additions, divisions, …) are not possible.\n",
    "<br><br>\n",
    "All values of categorical data are either in categories or np.nan. Order is defined by the order of categories, not lexical order of the values. Internally, the data structure consists of a categories array and an integer array of codes which point to the real value in the categories array.\n",
    "<br><br>\n",
    "The categorical data type is useful in the following cases:\n",
    "<br><br>\n",
    "A string variable consisting of only a few different values. Converting such a string variable to a categorical variable will save some memory.\n",
    "<br><br>\n",
    "The lexical order of a variable is not the same as the logical order (“one”, “two”, “three”). By converting to a categorical and specifying an order on the categories, sorting and min/max will use the logical order instead of the lexical order.\n",
    "<br><br>\n",
    "As a signal to other Python libraries that this column should be treated as a categorical variable (e.g. to use suitable statistical methods or plot types).\n",
    "</blockquote>\n"
   ]
  },
  {
   "cell_type": "code",
   "execution_count": 48,
   "metadata": {},
   "outputs": [
    {
     "name": "stdout",
     "output_type": "stream",
     "text": [
      "/Users/mk/Documents/ml/data\n"
     ]
    }
   ],
   "source": [
    "cd '/Users/mk/Documents/ml/data'"
   ]
  },
  {
   "cell_type": "code",
   "execution_count": 4,
   "metadata": {
    "collapsed": true
   },
   "outputs": [],
   "source": [
    "import pandas as pd\n",
    "import numpy as np"
   ]
  },
  {
   "cell_type": "markdown",
   "metadata": {},
   "source": [
    "Let's explore how to work with categorical data using Iowa house prices dataset."
   ]
  },
  {
   "cell_type": "code",
   "execution_count": 312,
   "metadata": {
    "collapsed": true
   },
   "outputs": [],
   "source": [
    "df = pd.read_csv('./house_prices/train.csv')"
   ]
  },
  {
   "cell_type": "code",
   "execution_count": 313,
   "metadata": {
    "scrolled": true
   },
   "outputs": [
    {
     "name": "stdout",
     "output_type": "stream",
     "text": [
      "<class 'pandas.core.frame.DataFrame'>\n",
      "RangeIndex: 1460 entries, 0 to 1459\n",
      "Data columns (total 81 columns):\n",
      " #   Column         Non-Null Count  Dtype  \n",
      "---  ------         --------------  -----  \n",
      " 0   Id             1460 non-null   int64  \n",
      " 1   MSSubClass     1460 non-null   int64  \n",
      " 2   MSZoning       1460 non-null   object \n",
      " 3   LotFrontage    1201 non-null   float64\n",
      " 4   LotArea        1460 non-null   int64  \n",
      " 5   Street         1460 non-null   object \n",
      " 6   Alley          91 non-null     object \n",
      " 7   LotShape       1460 non-null   object \n",
      " 8   LandContour    1460 non-null   object \n",
      " 9   Utilities      1460 non-null   object \n",
      " 10  LotConfig      1460 non-null   object \n",
      " 11  LandSlope      1460 non-null   object \n",
      " 12  Neighborhood   1460 non-null   object \n",
      " 13  Condition1     1460 non-null   object \n",
      " 14  Condition2     1460 non-null   object \n",
      " 15  BldgType       1460 non-null   object \n",
      " 16  HouseStyle     1460 non-null   object \n",
      " 17  OverallQual    1460 non-null   int64  \n",
      " 18  OverallCond    1460 non-null   int64  \n",
      " 19  YearBuilt      1460 non-null   int64  \n",
      " 20  YearRemodAdd   1460 non-null   int64  \n",
      " 21  RoofStyle      1460 non-null   object \n",
      " 22  RoofMatl       1460 non-null   object \n",
      " 23  Exterior1st    1460 non-null   object \n",
      " 24  Exterior2nd    1460 non-null   object \n",
      " 25  MasVnrType     1452 non-null   object \n",
      " 26  MasVnrArea     1452 non-null   float64\n",
      " 27  ExterQual      1460 non-null   object \n",
      " 28  ExterCond      1460 non-null   object \n",
      " 29  Foundation     1460 non-null   object \n",
      " 30  BsmtQual       1423 non-null   object \n",
      " 31  BsmtCond       1423 non-null   object \n",
      " 32  BsmtExposure   1422 non-null   object \n",
      " 33  BsmtFinType1   1423 non-null   object \n",
      " 34  BsmtFinSF1     1460 non-null   int64  \n",
      " 35  BsmtFinType2   1422 non-null   object \n",
      " 36  BsmtFinSF2     1460 non-null   int64  \n",
      " 37  BsmtUnfSF      1460 non-null   int64  \n",
      " 38  TotalBsmtSF    1460 non-null   int64  \n",
      " 39  Heating        1460 non-null   object \n",
      " 40  HeatingQC      1460 non-null   object \n",
      " 41  CentralAir     1460 non-null   object \n",
      " 42  Electrical     1459 non-null   object \n",
      " 43  1stFlrSF       1460 non-null   int64  \n",
      " 44  2ndFlrSF       1460 non-null   int64  \n",
      " 45  LowQualFinSF   1460 non-null   int64  \n",
      " 46  GrLivArea      1460 non-null   int64  \n",
      " 47  BsmtFullBath   1460 non-null   int64  \n",
      " 48  BsmtHalfBath   1460 non-null   int64  \n",
      " 49  FullBath       1460 non-null   int64  \n",
      " 50  HalfBath       1460 non-null   int64  \n",
      " 51  BedroomAbvGr   1460 non-null   int64  \n",
      " 52  KitchenAbvGr   1460 non-null   int64  \n",
      " 53  KitchenQual    1460 non-null   object \n",
      " 54  TotRmsAbvGrd   1460 non-null   int64  \n",
      " 55  Functional     1460 non-null   object \n",
      " 56  Fireplaces     1460 non-null   int64  \n",
      " 57  FireplaceQu    770 non-null    object \n",
      " 58  GarageType     1379 non-null   object \n",
      " 59  GarageYrBlt    1379 non-null   float64\n",
      " 60  GarageFinish   1379 non-null   object \n",
      " 61  GarageCars     1460 non-null   int64  \n",
      " 62  GarageArea     1460 non-null   int64  \n",
      " 63  GarageQual     1379 non-null   object \n",
      " 64  GarageCond     1379 non-null   object \n",
      " 65  PavedDrive     1460 non-null   object \n",
      " 66  WoodDeckSF     1460 non-null   int64  \n",
      " 67  OpenPorchSF    1460 non-null   int64  \n",
      " 68  EnclosedPorch  1460 non-null   int64  \n",
      " 69  3SsnPorch      1460 non-null   int64  \n",
      " 70  ScreenPorch    1460 non-null   int64  \n",
      " 71  PoolArea       1460 non-null   int64  \n",
      " 72  PoolQC         7 non-null      object \n",
      " 73  Fence          281 non-null    object \n",
      " 74  MiscFeature    54 non-null     object \n",
      " 75  MiscVal        1460 non-null   int64  \n",
      " 76  MoSold         1460 non-null   int64  \n",
      " 77  YrSold         1460 non-null   int64  \n",
      " 78  SaleType       1460 non-null   object \n",
      " 79  SaleCondition  1460 non-null   object \n",
      " 80  SalePrice      1460 non-null   int64  \n",
      "dtypes: float64(3), int64(35), object(43)\n",
      "memory usage: 924.0+ KB\n"
     ]
    }
   ],
   "source": [
    "df.info()"
   ]
  },
  {
   "cell_type": "markdown",
   "metadata": {},
   "source": [
    "Object dtype refers to categorical features. Some categories can be of type int like e.g. MSSubClass values."
   ]
  },
  {
   "cell_type": "code",
   "execution_count": 314,
   "metadata": {},
   "outputs": [
    {
     "data": {
      "text/html": [
       "<div>\n",
       "<style scoped>\n",
       "    .dataframe tbody tr th:only-of-type {\n",
       "        vertical-align: middle;\n",
       "    }\n",
       "\n",
       "    .dataframe tbody tr th {\n",
       "        vertical-align: top;\n",
       "    }\n",
       "\n",
       "    .dataframe thead th {\n",
       "        text-align: right;\n",
       "    }\n",
       "</style>\n",
       "<table border=\"1\" class=\"dataframe\">\n",
       "  <thead>\n",
       "    <tr style=\"text-align: right;\">\n",
       "      <th></th>\n",
       "      <th>Id</th>\n",
       "      <th>MSSubClass</th>\n",
       "      <th>MSZoning</th>\n",
       "      <th>LotFrontage</th>\n",
       "      <th>LotArea</th>\n",
       "      <th>Street</th>\n",
       "      <th>Alley</th>\n",
       "      <th>LotShape</th>\n",
       "      <th>LandContour</th>\n",
       "      <th>Utilities</th>\n",
       "      <th>...</th>\n",
       "      <th>PoolArea</th>\n",
       "      <th>PoolQC</th>\n",
       "      <th>Fence</th>\n",
       "      <th>MiscFeature</th>\n",
       "      <th>MiscVal</th>\n",
       "      <th>MoSold</th>\n",
       "      <th>YrSold</th>\n",
       "      <th>SaleType</th>\n",
       "      <th>SaleCondition</th>\n",
       "      <th>SalePrice</th>\n",
       "    </tr>\n",
       "  </thead>\n",
       "  <tbody>\n",
       "    <tr>\n",
       "      <th>0</th>\n",
       "      <td>1</td>\n",
       "      <td>60</td>\n",
       "      <td>RL</td>\n",
       "      <td>65.0</td>\n",
       "      <td>8450</td>\n",
       "      <td>Pave</td>\n",
       "      <td>NaN</td>\n",
       "      <td>Reg</td>\n",
       "      <td>Lvl</td>\n",
       "      <td>AllPub</td>\n",
       "      <td>...</td>\n",
       "      <td>0</td>\n",
       "      <td>NaN</td>\n",
       "      <td>NaN</td>\n",
       "      <td>NaN</td>\n",
       "      <td>0</td>\n",
       "      <td>2</td>\n",
       "      <td>2008</td>\n",
       "      <td>WD</td>\n",
       "      <td>Normal</td>\n",
       "      <td>208500</td>\n",
       "    </tr>\n",
       "    <tr>\n",
       "      <th>1</th>\n",
       "      <td>2</td>\n",
       "      <td>20</td>\n",
       "      <td>RL</td>\n",
       "      <td>80.0</td>\n",
       "      <td>9600</td>\n",
       "      <td>Pave</td>\n",
       "      <td>NaN</td>\n",
       "      <td>Reg</td>\n",
       "      <td>Lvl</td>\n",
       "      <td>AllPub</td>\n",
       "      <td>...</td>\n",
       "      <td>0</td>\n",
       "      <td>NaN</td>\n",
       "      <td>NaN</td>\n",
       "      <td>NaN</td>\n",
       "      <td>0</td>\n",
       "      <td>5</td>\n",
       "      <td>2007</td>\n",
       "      <td>WD</td>\n",
       "      <td>Normal</td>\n",
       "      <td>181500</td>\n",
       "    </tr>\n",
       "    <tr>\n",
       "      <th>2</th>\n",
       "      <td>3</td>\n",
       "      <td>60</td>\n",
       "      <td>RL</td>\n",
       "      <td>68.0</td>\n",
       "      <td>11250</td>\n",
       "      <td>Pave</td>\n",
       "      <td>NaN</td>\n",
       "      <td>IR1</td>\n",
       "      <td>Lvl</td>\n",
       "      <td>AllPub</td>\n",
       "      <td>...</td>\n",
       "      <td>0</td>\n",
       "      <td>NaN</td>\n",
       "      <td>NaN</td>\n",
       "      <td>NaN</td>\n",
       "      <td>0</td>\n",
       "      <td>9</td>\n",
       "      <td>2008</td>\n",
       "      <td>WD</td>\n",
       "      <td>Normal</td>\n",
       "      <td>223500</td>\n",
       "    </tr>\n",
       "    <tr>\n",
       "      <th>3</th>\n",
       "      <td>4</td>\n",
       "      <td>70</td>\n",
       "      <td>RL</td>\n",
       "      <td>60.0</td>\n",
       "      <td>9550</td>\n",
       "      <td>Pave</td>\n",
       "      <td>NaN</td>\n",
       "      <td>IR1</td>\n",
       "      <td>Lvl</td>\n",
       "      <td>AllPub</td>\n",
       "      <td>...</td>\n",
       "      <td>0</td>\n",
       "      <td>NaN</td>\n",
       "      <td>NaN</td>\n",
       "      <td>NaN</td>\n",
       "      <td>0</td>\n",
       "      <td>2</td>\n",
       "      <td>2006</td>\n",
       "      <td>WD</td>\n",
       "      <td>Abnorml</td>\n",
       "      <td>140000</td>\n",
       "    </tr>\n",
       "    <tr>\n",
       "      <th>4</th>\n",
       "      <td>5</td>\n",
       "      <td>60</td>\n",
       "      <td>RL</td>\n",
       "      <td>84.0</td>\n",
       "      <td>14260</td>\n",
       "      <td>Pave</td>\n",
       "      <td>NaN</td>\n",
       "      <td>IR1</td>\n",
       "      <td>Lvl</td>\n",
       "      <td>AllPub</td>\n",
       "      <td>...</td>\n",
       "      <td>0</td>\n",
       "      <td>NaN</td>\n",
       "      <td>NaN</td>\n",
       "      <td>NaN</td>\n",
       "      <td>0</td>\n",
       "      <td>12</td>\n",
       "      <td>2008</td>\n",
       "      <td>WD</td>\n",
       "      <td>Normal</td>\n",
       "      <td>250000</td>\n",
       "    </tr>\n",
       "  </tbody>\n",
       "</table>\n",
       "<p>5 rows × 81 columns</p>\n",
       "</div>"
      ],
      "text/plain": [
       "   Id  MSSubClass MSZoning  LotFrontage  LotArea Street Alley LotShape  \\\n",
       "0   1          60       RL         65.0     8450   Pave   NaN      Reg   \n",
       "1   2          20       RL         80.0     9600   Pave   NaN      Reg   \n",
       "2   3          60       RL         68.0    11250   Pave   NaN      IR1   \n",
       "3   4          70       RL         60.0     9550   Pave   NaN      IR1   \n",
       "4   5          60       RL         84.0    14260   Pave   NaN      IR1   \n",
       "\n",
       "  LandContour Utilities  ... PoolArea PoolQC Fence MiscFeature MiscVal MoSold  \\\n",
       "0         Lvl    AllPub  ...        0    NaN   NaN         NaN       0      2   \n",
       "1         Lvl    AllPub  ...        0    NaN   NaN         NaN       0      5   \n",
       "2         Lvl    AllPub  ...        0    NaN   NaN         NaN       0      9   \n",
       "3         Lvl    AllPub  ...        0    NaN   NaN         NaN       0      2   \n",
       "4         Lvl    AllPub  ...        0    NaN   NaN         NaN       0     12   \n",
       "\n",
       "  YrSold  SaleType  SaleCondition  SalePrice  \n",
       "0   2008        WD         Normal     208500  \n",
       "1   2007        WD         Normal     181500  \n",
       "2   2008        WD         Normal     223500  \n",
       "3   2006        WD        Abnorml     140000  \n",
       "4   2008        WD         Normal     250000  \n",
       "\n",
       "[5 rows x 81 columns]"
      ]
     },
     "execution_count": 314,
     "metadata": {},
     "output_type": "execute_result"
    }
   ],
   "source": [
    "df.head()"
   ]
  },
  {
   "cell_type": "markdown",
   "metadata": {},
   "source": [
    "### Integer encoding\n",
    "\n",
    "\n",
    "Let's take one feature with dtype object and transform into pandas nominal categorical variable."
   ]
  },
  {
   "cell_type": "code",
   "execution_count": 315,
   "metadata": {},
   "outputs": [
    {
     "data": {
      "text/plain": [
       "Pave    1454\n",
       "Grvl       6\n",
       "Name: Street, dtype: int64"
      ]
     },
     "execution_count": 315,
     "metadata": {},
     "output_type": "execute_result"
    }
   ],
   "source": [
    "df['Street'].value_counts()"
   ]
  },
  {
   "cell_type": "code",
   "execution_count": 316,
   "metadata": {
    "collapsed": true
   },
   "outputs": [],
   "source": [
    "df['Street_cat'] = df['Street'].astype('category')"
   ]
  },
  {
   "cell_type": "code",
   "execution_count": 317,
   "metadata": {
    "scrolled": true
   },
   "outputs": [
    {
     "name": "stdout",
     "output_type": "stream",
     "text": [
      "<class 'pandas.core.frame.DataFrame'>\n",
      "RangeIndex: 1460 entries, 0 to 1459\n",
      "Data columns (total 82 columns):\n",
      " #   Column         Non-Null Count  Dtype   \n",
      "---  ------         --------------  -----   \n",
      " 0   Id             1460 non-null   int64   \n",
      " 1   MSSubClass     1460 non-null   int64   \n",
      " 2   MSZoning       1460 non-null   object  \n",
      " 3   LotFrontage    1201 non-null   float64 \n",
      " 4   LotArea        1460 non-null   int64   \n",
      " 5   Street         1460 non-null   object  \n",
      " 6   Alley          91 non-null     object  \n",
      " 7   LotShape       1460 non-null   object  \n",
      " 8   LandContour    1460 non-null   object  \n",
      " 9   Utilities      1460 non-null   object  \n",
      " 10  LotConfig      1460 non-null   object  \n",
      " 11  LandSlope      1460 non-null   object  \n",
      " 12  Neighborhood   1460 non-null   object  \n",
      " 13  Condition1     1460 non-null   object  \n",
      " 14  Condition2     1460 non-null   object  \n",
      " 15  BldgType       1460 non-null   object  \n",
      " 16  HouseStyle     1460 non-null   object  \n",
      " 17  OverallQual    1460 non-null   int64   \n",
      " 18  OverallCond    1460 non-null   int64   \n",
      " 19  YearBuilt      1460 non-null   int64   \n",
      " 20  YearRemodAdd   1460 non-null   int64   \n",
      " 21  RoofStyle      1460 non-null   object  \n",
      " 22  RoofMatl       1460 non-null   object  \n",
      " 23  Exterior1st    1460 non-null   object  \n",
      " 24  Exterior2nd    1460 non-null   object  \n",
      " 25  MasVnrType     1452 non-null   object  \n",
      " 26  MasVnrArea     1452 non-null   float64 \n",
      " 27  ExterQual      1460 non-null   object  \n",
      " 28  ExterCond      1460 non-null   object  \n",
      " 29  Foundation     1460 non-null   object  \n",
      " 30  BsmtQual       1423 non-null   object  \n",
      " 31  BsmtCond       1423 non-null   object  \n",
      " 32  BsmtExposure   1422 non-null   object  \n",
      " 33  BsmtFinType1   1423 non-null   object  \n",
      " 34  BsmtFinSF1     1460 non-null   int64   \n",
      " 35  BsmtFinType2   1422 non-null   object  \n",
      " 36  BsmtFinSF2     1460 non-null   int64   \n",
      " 37  BsmtUnfSF      1460 non-null   int64   \n",
      " 38  TotalBsmtSF    1460 non-null   int64   \n",
      " 39  Heating        1460 non-null   object  \n",
      " 40  HeatingQC      1460 non-null   object  \n",
      " 41  CentralAir     1460 non-null   object  \n",
      " 42  Electrical     1459 non-null   object  \n",
      " 43  1stFlrSF       1460 non-null   int64   \n",
      " 44  2ndFlrSF       1460 non-null   int64   \n",
      " 45  LowQualFinSF   1460 non-null   int64   \n",
      " 46  GrLivArea      1460 non-null   int64   \n",
      " 47  BsmtFullBath   1460 non-null   int64   \n",
      " 48  BsmtHalfBath   1460 non-null   int64   \n",
      " 49  FullBath       1460 non-null   int64   \n",
      " 50  HalfBath       1460 non-null   int64   \n",
      " 51  BedroomAbvGr   1460 non-null   int64   \n",
      " 52  KitchenAbvGr   1460 non-null   int64   \n",
      " 53  KitchenQual    1460 non-null   object  \n",
      " 54  TotRmsAbvGrd   1460 non-null   int64   \n",
      " 55  Functional     1460 non-null   object  \n",
      " 56  Fireplaces     1460 non-null   int64   \n",
      " 57  FireplaceQu    770 non-null    object  \n",
      " 58  GarageType     1379 non-null   object  \n",
      " 59  GarageYrBlt    1379 non-null   float64 \n",
      " 60  GarageFinish   1379 non-null   object  \n",
      " 61  GarageCars     1460 non-null   int64   \n",
      " 62  GarageArea     1460 non-null   int64   \n",
      " 63  GarageQual     1379 non-null   object  \n",
      " 64  GarageCond     1379 non-null   object  \n",
      " 65  PavedDrive     1460 non-null   object  \n",
      " 66  WoodDeckSF     1460 non-null   int64   \n",
      " 67  OpenPorchSF    1460 non-null   int64   \n",
      " 68  EnclosedPorch  1460 non-null   int64   \n",
      " 69  3SsnPorch      1460 non-null   int64   \n",
      " 70  ScreenPorch    1460 non-null   int64   \n",
      " 71  PoolArea       1460 non-null   int64   \n",
      " 72  PoolQC         7 non-null      object  \n",
      " 73  Fence          281 non-null    object  \n",
      " 74  MiscFeature    54 non-null     object  \n",
      " 75  MiscVal        1460 non-null   int64   \n",
      " 76  MoSold         1460 non-null   int64   \n",
      " 77  YrSold         1460 non-null   int64   \n",
      " 78  SaleType       1460 non-null   object  \n",
      " 79  SaleCondition  1460 non-null   object  \n",
      " 80  SalePrice      1460 non-null   int64   \n",
      " 81  Street_cat     1460 non-null   category\n",
      "dtypes: category(1), float64(3), int64(35), object(43)\n",
      "memory usage: 925.6+ KB\n"
     ]
    }
   ],
   "source": [
    "df.info()"
   ]
  },
  {
   "cell_type": "code",
   "execution_count": 318,
   "metadata": {},
   "outputs": [
    {
     "data": {
      "text/html": [
       "<div>\n",
       "<style scoped>\n",
       "    .dataframe tbody tr th:only-of-type {\n",
       "        vertical-align: middle;\n",
       "    }\n",
       "\n",
       "    .dataframe tbody tr th {\n",
       "        vertical-align: top;\n",
       "    }\n",
       "\n",
       "    .dataframe thead th {\n",
       "        text-align: right;\n",
       "    }\n",
       "</style>\n",
       "<table border=\"1\" class=\"dataframe\">\n",
       "  <thead>\n",
       "    <tr style=\"text-align: right;\">\n",
       "      <th></th>\n",
       "      <th>Id</th>\n",
       "      <th>MSSubClass</th>\n",
       "      <th>MSZoning</th>\n",
       "      <th>LotFrontage</th>\n",
       "      <th>LotArea</th>\n",
       "      <th>Street</th>\n",
       "      <th>Alley</th>\n",
       "      <th>LotShape</th>\n",
       "      <th>LandContour</th>\n",
       "      <th>Utilities</th>\n",
       "      <th>...</th>\n",
       "      <th>PoolQC</th>\n",
       "      <th>Fence</th>\n",
       "      <th>MiscFeature</th>\n",
       "      <th>MiscVal</th>\n",
       "      <th>MoSold</th>\n",
       "      <th>YrSold</th>\n",
       "      <th>SaleType</th>\n",
       "      <th>SaleCondition</th>\n",
       "      <th>SalePrice</th>\n",
       "      <th>Street_cat</th>\n",
       "    </tr>\n",
       "  </thead>\n",
       "  <tbody>\n",
       "    <tr>\n",
       "      <th>0</th>\n",
       "      <td>1</td>\n",
       "      <td>60</td>\n",
       "      <td>RL</td>\n",
       "      <td>65.0</td>\n",
       "      <td>8450</td>\n",
       "      <td>Pave</td>\n",
       "      <td>NaN</td>\n",
       "      <td>Reg</td>\n",
       "      <td>Lvl</td>\n",
       "      <td>AllPub</td>\n",
       "      <td>...</td>\n",
       "      <td>NaN</td>\n",
       "      <td>NaN</td>\n",
       "      <td>NaN</td>\n",
       "      <td>0</td>\n",
       "      <td>2</td>\n",
       "      <td>2008</td>\n",
       "      <td>WD</td>\n",
       "      <td>Normal</td>\n",
       "      <td>208500</td>\n",
       "      <td>Pave</td>\n",
       "    </tr>\n",
       "    <tr>\n",
       "      <th>1</th>\n",
       "      <td>2</td>\n",
       "      <td>20</td>\n",
       "      <td>RL</td>\n",
       "      <td>80.0</td>\n",
       "      <td>9600</td>\n",
       "      <td>Pave</td>\n",
       "      <td>NaN</td>\n",
       "      <td>Reg</td>\n",
       "      <td>Lvl</td>\n",
       "      <td>AllPub</td>\n",
       "      <td>...</td>\n",
       "      <td>NaN</td>\n",
       "      <td>NaN</td>\n",
       "      <td>NaN</td>\n",
       "      <td>0</td>\n",
       "      <td>5</td>\n",
       "      <td>2007</td>\n",
       "      <td>WD</td>\n",
       "      <td>Normal</td>\n",
       "      <td>181500</td>\n",
       "      <td>Pave</td>\n",
       "    </tr>\n",
       "    <tr>\n",
       "      <th>2</th>\n",
       "      <td>3</td>\n",
       "      <td>60</td>\n",
       "      <td>RL</td>\n",
       "      <td>68.0</td>\n",
       "      <td>11250</td>\n",
       "      <td>Pave</td>\n",
       "      <td>NaN</td>\n",
       "      <td>IR1</td>\n",
       "      <td>Lvl</td>\n",
       "      <td>AllPub</td>\n",
       "      <td>...</td>\n",
       "      <td>NaN</td>\n",
       "      <td>NaN</td>\n",
       "      <td>NaN</td>\n",
       "      <td>0</td>\n",
       "      <td>9</td>\n",
       "      <td>2008</td>\n",
       "      <td>WD</td>\n",
       "      <td>Normal</td>\n",
       "      <td>223500</td>\n",
       "      <td>Pave</td>\n",
       "    </tr>\n",
       "    <tr>\n",
       "      <th>3</th>\n",
       "      <td>4</td>\n",
       "      <td>70</td>\n",
       "      <td>RL</td>\n",
       "      <td>60.0</td>\n",
       "      <td>9550</td>\n",
       "      <td>Pave</td>\n",
       "      <td>NaN</td>\n",
       "      <td>IR1</td>\n",
       "      <td>Lvl</td>\n",
       "      <td>AllPub</td>\n",
       "      <td>...</td>\n",
       "      <td>NaN</td>\n",
       "      <td>NaN</td>\n",
       "      <td>NaN</td>\n",
       "      <td>0</td>\n",
       "      <td>2</td>\n",
       "      <td>2006</td>\n",
       "      <td>WD</td>\n",
       "      <td>Abnorml</td>\n",
       "      <td>140000</td>\n",
       "      <td>Pave</td>\n",
       "    </tr>\n",
       "    <tr>\n",
       "      <th>4</th>\n",
       "      <td>5</td>\n",
       "      <td>60</td>\n",
       "      <td>RL</td>\n",
       "      <td>84.0</td>\n",
       "      <td>14260</td>\n",
       "      <td>Pave</td>\n",
       "      <td>NaN</td>\n",
       "      <td>IR1</td>\n",
       "      <td>Lvl</td>\n",
       "      <td>AllPub</td>\n",
       "      <td>...</td>\n",
       "      <td>NaN</td>\n",
       "      <td>NaN</td>\n",
       "      <td>NaN</td>\n",
       "      <td>0</td>\n",
       "      <td>12</td>\n",
       "      <td>2008</td>\n",
       "      <td>WD</td>\n",
       "      <td>Normal</td>\n",
       "      <td>250000</td>\n",
       "      <td>Pave</td>\n",
       "    </tr>\n",
       "  </tbody>\n",
       "</table>\n",
       "<p>5 rows × 82 columns</p>\n",
       "</div>"
      ],
      "text/plain": [
       "   Id  MSSubClass MSZoning  LotFrontage  LotArea Street Alley LotShape  \\\n",
       "0   1          60       RL         65.0     8450   Pave   NaN      Reg   \n",
       "1   2          20       RL         80.0     9600   Pave   NaN      Reg   \n",
       "2   3          60       RL         68.0    11250   Pave   NaN      IR1   \n",
       "3   4          70       RL         60.0     9550   Pave   NaN      IR1   \n",
       "4   5          60       RL         84.0    14260   Pave   NaN      IR1   \n",
       "\n",
       "  LandContour Utilities  ... PoolQC Fence MiscFeature MiscVal MoSold YrSold  \\\n",
       "0         Lvl    AllPub  ...    NaN   NaN         NaN       0      2   2008   \n",
       "1         Lvl    AllPub  ...    NaN   NaN         NaN       0      5   2007   \n",
       "2         Lvl    AllPub  ...    NaN   NaN         NaN       0      9   2008   \n",
       "3         Lvl    AllPub  ...    NaN   NaN         NaN       0      2   2006   \n",
       "4         Lvl    AllPub  ...    NaN   NaN         NaN       0     12   2008   \n",
       "\n",
       "  SaleType  SaleCondition  SalePrice  Street_cat  \n",
       "0       WD         Normal     208500        Pave  \n",
       "1       WD         Normal     181500        Pave  \n",
       "2       WD         Normal     223500        Pave  \n",
       "3       WD        Abnorml     140000        Pave  \n",
       "4       WD         Normal     250000        Pave  \n",
       "\n",
       "[5 rows x 82 columns]"
      ]
     },
     "execution_count": 318,
     "metadata": {},
     "output_type": "execute_result"
    }
   ],
   "source": [
    "df.head()"
   ]
  },
  {
   "cell_type": "code",
   "execution_count": 319,
   "metadata": {
    "collapsed": true
   },
   "outputs": [],
   "source": [
    "df['Street_cat_codes'] = df['Street_cat'].cat.codes"
   ]
  },
  {
   "cell_type": "code",
   "execution_count": 320,
   "metadata": {
    "scrolled": true
   },
   "outputs": [
    {
     "name": "stdout",
     "output_type": "stream",
     "text": [
      "<class 'pandas.core.frame.DataFrame'>\n",
      "RangeIndex: 1460 entries, 0 to 1459\n",
      "Data columns (total 83 columns):\n",
      " #   Column            Non-Null Count  Dtype   \n",
      "---  ------            --------------  -----   \n",
      " 0   Id                1460 non-null   int64   \n",
      " 1   MSSubClass        1460 non-null   int64   \n",
      " 2   MSZoning          1460 non-null   object  \n",
      " 3   LotFrontage       1201 non-null   float64 \n",
      " 4   LotArea           1460 non-null   int64   \n",
      " 5   Street            1460 non-null   object  \n",
      " 6   Alley             91 non-null     object  \n",
      " 7   LotShape          1460 non-null   object  \n",
      " 8   LandContour       1460 non-null   object  \n",
      " 9   Utilities         1460 non-null   object  \n",
      " 10  LotConfig         1460 non-null   object  \n",
      " 11  LandSlope         1460 non-null   object  \n",
      " 12  Neighborhood      1460 non-null   object  \n",
      " 13  Condition1        1460 non-null   object  \n",
      " 14  Condition2        1460 non-null   object  \n",
      " 15  BldgType          1460 non-null   object  \n",
      " 16  HouseStyle        1460 non-null   object  \n",
      " 17  OverallQual       1460 non-null   int64   \n",
      " 18  OverallCond       1460 non-null   int64   \n",
      " 19  YearBuilt         1460 non-null   int64   \n",
      " 20  YearRemodAdd      1460 non-null   int64   \n",
      " 21  RoofStyle         1460 non-null   object  \n",
      " 22  RoofMatl          1460 non-null   object  \n",
      " 23  Exterior1st       1460 non-null   object  \n",
      " 24  Exterior2nd       1460 non-null   object  \n",
      " 25  MasVnrType        1452 non-null   object  \n",
      " 26  MasVnrArea        1452 non-null   float64 \n",
      " 27  ExterQual         1460 non-null   object  \n",
      " 28  ExterCond         1460 non-null   object  \n",
      " 29  Foundation        1460 non-null   object  \n",
      " 30  BsmtQual          1423 non-null   object  \n",
      " 31  BsmtCond          1423 non-null   object  \n",
      " 32  BsmtExposure      1422 non-null   object  \n",
      " 33  BsmtFinType1      1423 non-null   object  \n",
      " 34  BsmtFinSF1        1460 non-null   int64   \n",
      " 35  BsmtFinType2      1422 non-null   object  \n",
      " 36  BsmtFinSF2        1460 non-null   int64   \n",
      " 37  BsmtUnfSF         1460 non-null   int64   \n",
      " 38  TotalBsmtSF       1460 non-null   int64   \n",
      " 39  Heating           1460 non-null   object  \n",
      " 40  HeatingQC         1460 non-null   object  \n",
      " 41  CentralAir        1460 non-null   object  \n",
      " 42  Electrical        1459 non-null   object  \n",
      " 43  1stFlrSF          1460 non-null   int64   \n",
      " 44  2ndFlrSF          1460 non-null   int64   \n",
      " 45  LowQualFinSF      1460 non-null   int64   \n",
      " 46  GrLivArea         1460 non-null   int64   \n",
      " 47  BsmtFullBath      1460 non-null   int64   \n",
      " 48  BsmtHalfBath      1460 non-null   int64   \n",
      " 49  FullBath          1460 non-null   int64   \n",
      " 50  HalfBath          1460 non-null   int64   \n",
      " 51  BedroomAbvGr      1460 non-null   int64   \n",
      " 52  KitchenAbvGr      1460 non-null   int64   \n",
      " 53  KitchenQual       1460 non-null   object  \n",
      " 54  TotRmsAbvGrd      1460 non-null   int64   \n",
      " 55  Functional        1460 non-null   object  \n",
      " 56  Fireplaces        1460 non-null   int64   \n",
      " 57  FireplaceQu       770 non-null    object  \n",
      " 58  GarageType        1379 non-null   object  \n",
      " 59  GarageYrBlt       1379 non-null   float64 \n",
      " 60  GarageFinish      1379 non-null   object  \n",
      " 61  GarageCars        1460 non-null   int64   \n",
      " 62  GarageArea        1460 non-null   int64   \n",
      " 63  GarageQual        1379 non-null   object  \n",
      " 64  GarageCond        1379 non-null   object  \n",
      " 65  PavedDrive        1460 non-null   object  \n",
      " 66  WoodDeckSF        1460 non-null   int64   \n",
      " 67  OpenPorchSF       1460 non-null   int64   \n",
      " 68  EnclosedPorch     1460 non-null   int64   \n",
      " 69  3SsnPorch         1460 non-null   int64   \n",
      " 70  ScreenPorch       1460 non-null   int64   \n",
      " 71  PoolArea          1460 non-null   int64   \n",
      " 72  PoolQC            7 non-null      object  \n",
      " 73  Fence             281 non-null    object  \n",
      " 74  MiscFeature       54 non-null     object  \n",
      " 75  MiscVal           1460 non-null   int64   \n",
      " 76  MoSold            1460 non-null   int64   \n",
      " 77  YrSold            1460 non-null   int64   \n",
      " 78  SaleType          1460 non-null   object  \n",
      " 79  SaleCondition     1460 non-null   object  \n",
      " 80  SalePrice         1460 non-null   int64   \n",
      " 81  Street_cat        1460 non-null   category\n",
      " 82  Street_cat_codes  1460 non-null   int8    \n",
      "dtypes: category(1), float64(3), int64(35), int8(1), object(43)\n",
      "memory usage: 927.0+ KB\n"
     ]
    }
   ],
   "source": [
    "df.info()"
   ]
  },
  {
   "cell_type": "code",
   "execution_count": 321,
   "metadata": {},
   "outputs": [
    {
     "data": {
      "text/html": [
       "<div>\n",
       "<style scoped>\n",
       "    .dataframe tbody tr th:only-of-type {\n",
       "        vertical-align: middle;\n",
       "    }\n",
       "\n",
       "    .dataframe tbody tr th {\n",
       "        vertical-align: top;\n",
       "    }\n",
       "\n",
       "    .dataframe thead th {\n",
       "        text-align: right;\n",
       "    }\n",
       "</style>\n",
       "<table border=\"1\" class=\"dataframe\">\n",
       "  <thead>\n",
       "    <tr style=\"text-align: right;\">\n",
       "      <th></th>\n",
       "      <th>Id</th>\n",
       "      <th>MSSubClass</th>\n",
       "      <th>MSZoning</th>\n",
       "      <th>LotFrontage</th>\n",
       "      <th>LotArea</th>\n",
       "      <th>Street</th>\n",
       "      <th>Alley</th>\n",
       "      <th>LotShape</th>\n",
       "      <th>LandContour</th>\n",
       "      <th>Utilities</th>\n",
       "      <th>...</th>\n",
       "      <th>Fence</th>\n",
       "      <th>MiscFeature</th>\n",
       "      <th>MiscVal</th>\n",
       "      <th>MoSold</th>\n",
       "      <th>YrSold</th>\n",
       "      <th>SaleType</th>\n",
       "      <th>SaleCondition</th>\n",
       "      <th>SalePrice</th>\n",
       "      <th>Street_cat</th>\n",
       "      <th>Street_cat_codes</th>\n",
       "    </tr>\n",
       "  </thead>\n",
       "  <tbody>\n",
       "    <tr>\n",
       "      <th>0</th>\n",
       "      <td>1</td>\n",
       "      <td>60</td>\n",
       "      <td>RL</td>\n",
       "      <td>65.0</td>\n",
       "      <td>8450</td>\n",
       "      <td>Pave</td>\n",
       "      <td>NaN</td>\n",
       "      <td>Reg</td>\n",
       "      <td>Lvl</td>\n",
       "      <td>AllPub</td>\n",
       "      <td>...</td>\n",
       "      <td>NaN</td>\n",
       "      <td>NaN</td>\n",
       "      <td>0</td>\n",
       "      <td>2</td>\n",
       "      <td>2008</td>\n",
       "      <td>WD</td>\n",
       "      <td>Normal</td>\n",
       "      <td>208500</td>\n",
       "      <td>Pave</td>\n",
       "      <td>1</td>\n",
       "    </tr>\n",
       "    <tr>\n",
       "      <th>1</th>\n",
       "      <td>2</td>\n",
       "      <td>20</td>\n",
       "      <td>RL</td>\n",
       "      <td>80.0</td>\n",
       "      <td>9600</td>\n",
       "      <td>Pave</td>\n",
       "      <td>NaN</td>\n",
       "      <td>Reg</td>\n",
       "      <td>Lvl</td>\n",
       "      <td>AllPub</td>\n",
       "      <td>...</td>\n",
       "      <td>NaN</td>\n",
       "      <td>NaN</td>\n",
       "      <td>0</td>\n",
       "      <td>5</td>\n",
       "      <td>2007</td>\n",
       "      <td>WD</td>\n",
       "      <td>Normal</td>\n",
       "      <td>181500</td>\n",
       "      <td>Pave</td>\n",
       "      <td>1</td>\n",
       "    </tr>\n",
       "    <tr>\n",
       "      <th>2</th>\n",
       "      <td>3</td>\n",
       "      <td>60</td>\n",
       "      <td>RL</td>\n",
       "      <td>68.0</td>\n",
       "      <td>11250</td>\n",
       "      <td>Pave</td>\n",
       "      <td>NaN</td>\n",
       "      <td>IR1</td>\n",
       "      <td>Lvl</td>\n",
       "      <td>AllPub</td>\n",
       "      <td>...</td>\n",
       "      <td>NaN</td>\n",
       "      <td>NaN</td>\n",
       "      <td>0</td>\n",
       "      <td>9</td>\n",
       "      <td>2008</td>\n",
       "      <td>WD</td>\n",
       "      <td>Normal</td>\n",
       "      <td>223500</td>\n",
       "      <td>Pave</td>\n",
       "      <td>1</td>\n",
       "    </tr>\n",
       "    <tr>\n",
       "      <th>3</th>\n",
       "      <td>4</td>\n",
       "      <td>70</td>\n",
       "      <td>RL</td>\n",
       "      <td>60.0</td>\n",
       "      <td>9550</td>\n",
       "      <td>Pave</td>\n",
       "      <td>NaN</td>\n",
       "      <td>IR1</td>\n",
       "      <td>Lvl</td>\n",
       "      <td>AllPub</td>\n",
       "      <td>...</td>\n",
       "      <td>NaN</td>\n",
       "      <td>NaN</td>\n",
       "      <td>0</td>\n",
       "      <td>2</td>\n",
       "      <td>2006</td>\n",
       "      <td>WD</td>\n",
       "      <td>Abnorml</td>\n",
       "      <td>140000</td>\n",
       "      <td>Pave</td>\n",
       "      <td>1</td>\n",
       "    </tr>\n",
       "    <tr>\n",
       "      <th>4</th>\n",
       "      <td>5</td>\n",
       "      <td>60</td>\n",
       "      <td>RL</td>\n",
       "      <td>84.0</td>\n",
       "      <td>14260</td>\n",
       "      <td>Pave</td>\n",
       "      <td>NaN</td>\n",
       "      <td>IR1</td>\n",
       "      <td>Lvl</td>\n",
       "      <td>AllPub</td>\n",
       "      <td>...</td>\n",
       "      <td>NaN</td>\n",
       "      <td>NaN</td>\n",
       "      <td>0</td>\n",
       "      <td>12</td>\n",
       "      <td>2008</td>\n",
       "      <td>WD</td>\n",
       "      <td>Normal</td>\n",
       "      <td>250000</td>\n",
       "      <td>Pave</td>\n",
       "      <td>1</td>\n",
       "    </tr>\n",
       "  </tbody>\n",
       "</table>\n",
       "<p>5 rows × 83 columns</p>\n",
       "</div>"
      ],
      "text/plain": [
       "   Id  MSSubClass MSZoning  LotFrontage  LotArea Street Alley LotShape  \\\n",
       "0   1          60       RL         65.0     8450   Pave   NaN      Reg   \n",
       "1   2          20       RL         80.0     9600   Pave   NaN      Reg   \n",
       "2   3          60       RL         68.0    11250   Pave   NaN      IR1   \n",
       "3   4          70       RL         60.0     9550   Pave   NaN      IR1   \n",
       "4   5          60       RL         84.0    14260   Pave   NaN      IR1   \n",
       "\n",
       "  LandContour Utilities  ... Fence MiscFeature MiscVal MoSold YrSold SaleType  \\\n",
       "0         Lvl    AllPub  ...   NaN         NaN       0      2   2008       WD   \n",
       "1         Lvl    AllPub  ...   NaN         NaN       0      5   2007       WD   \n",
       "2         Lvl    AllPub  ...   NaN         NaN       0      9   2008       WD   \n",
       "3         Lvl    AllPub  ...   NaN         NaN       0      2   2006       WD   \n",
       "4         Lvl    AllPub  ...   NaN         NaN       0     12   2008       WD   \n",
       "\n",
       "  SaleCondition  SalePrice  Street_cat  Street_cat_codes  \n",
       "0        Normal     208500        Pave                 1  \n",
       "1        Normal     181500        Pave                 1  \n",
       "2        Normal     223500        Pave                 1  \n",
       "3       Abnorml     140000        Pave                 1  \n",
       "4        Normal     250000        Pave                 1  \n",
       "\n",
       "[5 rows x 83 columns]"
      ]
     },
     "execution_count": 321,
     "metadata": {},
     "output_type": "execute_result"
    }
   ],
   "source": [
    "df.head()"
   ]
  },
  {
   "cell_type": "code",
   "execution_count": 322,
   "metadata": {},
   "outputs": [
    {
     "data": {
      "text/plain": [
       "1    1454\n",
       "0       6\n",
       "Name: Street_cat_codes, dtype: int64"
      ]
     },
     "execution_count": 322,
     "metadata": {},
     "output_type": "execute_result"
    }
   ],
   "source": [
    "df['Street_cat_codes'].value_counts() #gravel has taken zero value due to alphabetical order of classes"
   ]
  },
  {
   "cell_type": "markdown",
   "metadata": {},
   "source": [
    "The same conversion to the nominal variable can be applied to multilevel variable.\n",
    "\n",
    "BsmtCond: Evaluates the general condition of the basement\n",
    "\n",
    "       Ex\tExcellent\n",
    "       Gd\tGood\n",
    "       TA\tTypical - slight dampness allowed\n",
    "       Fa\tFair - dampness or some cracking or settling\n",
    "       Po\tPoor - Severe cracking, settling, or wetness\n",
    "       NA\tNo Basement"
   ]
  },
  {
   "cell_type": "code",
   "execution_count": 323,
   "metadata": {},
   "outputs": [
    {
     "name": "stdout",
     "output_type": "stream",
     "text": [
      "Original values:\n",
      "TA     1311\n",
      "Gd       65\n",
      "Fa       45\n",
      "NaN      37\n",
      "Po        2\n",
      "Name: BsmtCond, dtype: int64\n",
      "\n",
      "Encoded values:\n",
      " 3    1311\n",
      " 1      65\n",
      " 0      45\n",
      "-1      37\n",
      " 2       2\n",
      "Name: BsmtCond_cat, dtype: int64\n"
     ]
    }
   ],
   "source": [
    "df['BsmtCond_cat'] = df['BsmtCond'].astype('category').cat.codes\n",
    "print(\"Original values:\\n{}\\n\\nEncoded values:\\n{}\".format(df['BsmtCond'].value_counts(dropna=False),df['BsmtCond_cat'].value_counts()))"
   ]
  },
  {
   "cell_type": "markdown",
   "metadata": {},
   "source": [
    "By default missing values are encoded as -1 value."
   ]
  },
  {
   "cell_type": "markdown",
   "metadata": {},
   "source": [
    "### Ordinal variables\n",
    "\n",
    "We can control order of the categories in a variable. The order matters for naturally ordered classes, e.g., kitchen quality.\n",
    "\n",
    "KitchenQual: Kitchen quality\n",
    "\n",
    "       Ex\tExcellent\n",
    "       Gd\tGood\n",
    "       TA\tTypical/Average\n",
    "       Fa\tFair\n",
    "       Po\tPoor"
   ]
  },
  {
   "cell_type": "code",
   "execution_count": 324,
   "metadata": {
    "collapsed": true
   },
   "outputs": [],
   "source": [
    "df['KitchenQual_nom'] = df['KitchenQual'].astype('category').cat.codes"
   ]
  },
  {
   "cell_type": "code",
   "execution_count": 325,
   "metadata": {},
   "outputs": [
    {
     "data": {
      "text/plain": [
       "TA    735\n",
       "Gd    586\n",
       "Ex    100\n",
       "Fa     39\n",
       "Name: KitchenQual, dtype: int64"
      ]
     },
     "execution_count": 325,
     "metadata": {},
     "output_type": "execute_result"
    }
   ],
   "source": [
    "df['KitchenQual'].value_counts(dropna=False)"
   ]
  },
  {
   "cell_type": "code",
   "execution_count": 326,
   "metadata": {},
   "outputs": [
    {
     "data": {
      "text/plain": [
       "3    735\n",
       "2    586\n",
       "0    100\n",
       "1     39\n",
       "Name: KitchenQual_nom, dtype: int64"
      ]
     },
     "execution_count": 326,
     "metadata": {},
     "output_type": "execute_result"
    }
   ],
   "source": [
    "df['KitchenQual_nom'].value_counts()"
   ]
  },
  {
   "cell_type": "markdown",
   "metadata": {},
   "source": [
    "The order is now meaningless: Excellent, Fair, Good, Typical. We can introduce the desired order of the feature."
   ]
  },
  {
   "cell_type": "code",
   "execution_count": 327,
   "metadata": {
    "collapsed": true
   },
   "outputs": [],
   "source": [
    "from sklearn.preprocessing import OrdinalEncoder\n",
    "oenc=OrdinalEncoder(categories=[['Fa','TA','Gd','Ex']])\n",
    "\n",
    "df['KitchenQual_ord'] = oenc.fit_transform(df['KitchenQual'][:,np.newaxis])"
   ]
  },
  {
   "cell_type": "code",
   "execution_count": 328,
   "metadata": {},
   "outputs": [
    {
     "data": {
      "text/plain": [
       "1.0    735\n",
       "2.0    586\n",
       "3.0    100\n",
       "0.0     39\n",
       "Name: KitchenQual_ord, dtype: int64"
      ]
     },
     "execution_count": 328,
     "metadata": {},
     "output_type": "execute_result"
    }
   ],
   "source": [
    "df['KitchenQual_ord'].value_counts()"
   ]
  },
  {
   "cell_type": "markdown",
   "metadata": {},
   "source": [
    "### One-hot encoding\n",
    "\n",
    "Sometimes we need to transform our categorical variable into the set of dummy variables for each distinct class of the variable. This transformation is often used when there is no natural order in categorical variable and numeric distance between encoded categories can be misleading for the algorithm."
   ]
  },
  {
   "cell_type": "code",
   "execution_count": 329,
   "metadata": {},
   "outputs": [
    {
     "data": {
      "text/html": [
       "<div>\n",
       "<style scoped>\n",
       "    .dataframe tbody tr th:only-of-type {\n",
       "        vertical-align: middle;\n",
       "    }\n",
       "\n",
       "    .dataframe tbody tr th {\n",
       "        vertical-align: top;\n",
       "    }\n",
       "\n",
       "    .dataframe thead th {\n",
       "        text-align: right;\n",
       "    }\n",
       "</style>\n",
       "<table border=\"1\" class=\"dataframe\">\n",
       "  <thead>\n",
       "    <tr style=\"text-align: right;\">\n",
       "      <th></th>\n",
       "      <th>Abnorml</th>\n",
       "      <th>AdjLand</th>\n",
       "      <th>Alloca</th>\n",
       "      <th>Family</th>\n",
       "      <th>Normal</th>\n",
       "      <th>Partial</th>\n",
       "    </tr>\n",
       "  </thead>\n",
       "  <tbody>\n",
       "    <tr>\n",
       "      <th>0</th>\n",
       "      <td>0</td>\n",
       "      <td>0</td>\n",
       "      <td>0</td>\n",
       "      <td>0</td>\n",
       "      <td>1</td>\n",
       "      <td>0</td>\n",
       "    </tr>\n",
       "    <tr>\n",
       "      <th>1</th>\n",
       "      <td>0</td>\n",
       "      <td>0</td>\n",
       "      <td>0</td>\n",
       "      <td>0</td>\n",
       "      <td>1</td>\n",
       "      <td>0</td>\n",
       "    </tr>\n",
       "    <tr>\n",
       "      <th>2</th>\n",
       "      <td>0</td>\n",
       "      <td>0</td>\n",
       "      <td>0</td>\n",
       "      <td>0</td>\n",
       "      <td>1</td>\n",
       "      <td>0</td>\n",
       "    </tr>\n",
       "    <tr>\n",
       "      <th>3</th>\n",
       "      <td>1</td>\n",
       "      <td>0</td>\n",
       "      <td>0</td>\n",
       "      <td>0</td>\n",
       "      <td>0</td>\n",
       "      <td>0</td>\n",
       "    </tr>\n",
       "    <tr>\n",
       "      <th>4</th>\n",
       "      <td>0</td>\n",
       "      <td>0</td>\n",
       "      <td>0</td>\n",
       "      <td>0</td>\n",
       "      <td>1</td>\n",
       "      <td>0</td>\n",
       "    </tr>\n",
       "    <tr>\n",
       "      <th>...</th>\n",
       "      <td>...</td>\n",
       "      <td>...</td>\n",
       "      <td>...</td>\n",
       "      <td>...</td>\n",
       "      <td>...</td>\n",
       "      <td>...</td>\n",
       "    </tr>\n",
       "    <tr>\n",
       "      <th>1455</th>\n",
       "      <td>0</td>\n",
       "      <td>0</td>\n",
       "      <td>0</td>\n",
       "      <td>0</td>\n",
       "      <td>1</td>\n",
       "      <td>0</td>\n",
       "    </tr>\n",
       "    <tr>\n",
       "      <th>1456</th>\n",
       "      <td>0</td>\n",
       "      <td>0</td>\n",
       "      <td>0</td>\n",
       "      <td>0</td>\n",
       "      <td>1</td>\n",
       "      <td>0</td>\n",
       "    </tr>\n",
       "    <tr>\n",
       "      <th>1457</th>\n",
       "      <td>0</td>\n",
       "      <td>0</td>\n",
       "      <td>0</td>\n",
       "      <td>0</td>\n",
       "      <td>1</td>\n",
       "      <td>0</td>\n",
       "    </tr>\n",
       "    <tr>\n",
       "      <th>1458</th>\n",
       "      <td>0</td>\n",
       "      <td>0</td>\n",
       "      <td>0</td>\n",
       "      <td>0</td>\n",
       "      <td>1</td>\n",
       "      <td>0</td>\n",
       "    </tr>\n",
       "    <tr>\n",
       "      <th>1459</th>\n",
       "      <td>0</td>\n",
       "      <td>0</td>\n",
       "      <td>0</td>\n",
       "      <td>0</td>\n",
       "      <td>1</td>\n",
       "      <td>0</td>\n",
       "    </tr>\n",
       "  </tbody>\n",
       "</table>\n",
       "<p>1460 rows × 6 columns</p>\n",
       "</div>"
      ],
      "text/plain": [
       "      Abnorml  AdjLand  Alloca  Family  Normal  Partial\n",
       "0           0        0       0       0       1        0\n",
       "1           0        0       0       0       1        0\n",
       "2           0        0       0       0       1        0\n",
       "3           1        0       0       0       0        0\n",
       "4           0        0       0       0       1        0\n",
       "...       ...      ...     ...     ...     ...      ...\n",
       "1455        0        0       0       0       1        0\n",
       "1456        0        0       0       0       1        0\n",
       "1457        0        0       0       0       1        0\n",
       "1458        0        0       0       0       1        0\n",
       "1459        0        0       0       0       1        0\n",
       "\n",
       "[1460 rows x 6 columns]"
      ]
     },
     "execution_count": 329,
     "metadata": {},
     "output_type": "execute_result"
    }
   ],
   "source": [
    "pd.get_dummies(df['SaleCondition'])"
   ]
  },
  {
   "cell_type": "markdown",
   "metadata": {},
   "source": [
    "Alternatively, the same set of dummy variables can be created using OneHotEncoder from sklearn."
   ]
  },
  {
   "cell_type": "code",
   "execution_count": 330,
   "metadata": {
    "collapsed": true
   },
   "outputs": [],
   "source": [
    "from sklearn.preprocessing import OneHotEncoder\n",
    "enc = OneHotEncoder(sparse=False)\n",
    "X = enc.fit_transform(df['SaleCondition'][:,np.newaxis])"
   ]
  },
  {
   "cell_type": "code",
   "execution_count": 331,
   "metadata": {},
   "outputs": [
    {
     "data": {
      "text/plain": [
       "array([[0., 0., 0., 0., 1., 0.],\n",
       "       [0., 0., 0., 0., 1., 0.],\n",
       "       [0., 0., 0., 0., 1., 0.],\n",
       "       ...,\n",
       "       [0., 0., 0., 0., 1., 0.],\n",
       "       [0., 0., 0., 0., 1., 0.],\n",
       "       [0., 0., 0., 0., 1., 0.]])"
      ]
     },
     "execution_count": 331,
     "metadata": {},
     "output_type": "execute_result"
    }
   ],
   "source": [
    "X"
   ]
  },
  {
   "cell_type": "code",
   "execution_count": 332,
   "metadata": {},
   "outputs": [
    {
     "data": {
      "text/plain": [
       "[array(['Abnorml', 'AdjLand', 'Alloca', 'Family', 'Normal', 'Partial'],\n",
       "       dtype=object)]"
      ]
     },
     "execution_count": 332,
     "metadata": {},
     "output_type": "execute_result"
    }
   ],
   "source": [
    "#get list of categories for OneHotEncoder\n",
    "enc.fit(df['SaleCondition'][:,np.newaxis]).categories_"
   ]
  },
  {
   "cell_type": "markdown",
   "metadata": {},
   "source": [
    "#### The rules of thumb\n",
    "\n",
    "Feed algorithms with nominal categorical features **encoded as integers**, e.g. gender, OR group multi-class categories into binary classes for small datasets.\n",
    "\n",
    "Feed algorithms with **one-hot encoded** variables for nominal multiclass features if sample size allows.\n",
    "\n",
    "Feed algorithm with **ordinal** variables for features with native ordering."
   ]
  },
  {
   "cell_type": "markdown",
   "metadata": {},
   "source": [
    "### Plotting categorical features"
   ]
  },
  {
   "cell_type": "code",
   "execution_count": 333,
   "metadata": {},
   "outputs": [
    {
     "data": {
      "text/plain": [
       "Index(['Fa', 'Gd', 'Po', 'TA'], dtype='object')"
      ]
     },
     "execution_count": 333,
     "metadata": {},
     "output_type": "execute_result"
    }
   ],
   "source": [
    "df['BsmtCond'].astype('category').cat.categories"
   ]
  },
  {
   "cell_type": "code",
   "execution_count": 6,
   "metadata": {
    "collapsed": true
   },
   "outputs": [],
   "source": [
    "import seaborn as sns\n",
    "import matplotlib.pyplot as plt\n",
    "%matplotlib inline"
   ]
  },
  {
   "cell_type": "code",
   "execution_count": 335,
   "metadata": {
    "collapsed": true
   },
   "outputs": [],
   "source": [
    "#let's change categories names for convenience\n",
    "df['BsmtCond'] = df['BsmtCond'].astype('category').cat.rename_categories({'Fa': 'Fair', 'Gd': 'Good', 'Po': 'Poor', 'TA': 'Typical'})"
   ]
  },
  {
   "cell_type": "code",
   "execution_count": 336,
   "metadata": {},
   "outputs": [
    {
     "data": {
      "text/plain": [
       "<matplotlib.axes._subplots.AxesSubplot at 0x126bc5358>"
      ]
     },
     "execution_count": 336,
     "metadata": {},
     "output_type": "execute_result"
    },
    {
     "data": {
      "image/png": "[encoded data removed]",
      "text/plain": [
       "<Figure size 720x576 with 1 Axes>"
      ]
     },
     "metadata": {},
     "output_type": "display_data"
    }
   ],
   "source": [
    "#basic scatter plot in seaborn plots categorical variables, but suffers from points fall in the same position along x-axis\n",
    "sns.scatterplot(x='BsmtCond',y='SalePrice',data=df)"
   ]
  },
  {
   "cell_type": "code",
   "execution_count": 337,
   "metadata": {},
   "outputs": [
    {
     "data": {
      "text/plain": [
       "<seaborn.axisgrid.FacetGrid at 0x126db6470>"
      ]
     },
     "execution_count": 337,
     "metadata": {},
     "output_type": "execute_result"
    },
    {
     "data": {
      "image/png": "[encoded data removed]",
      "text/plain": [
       "<Figure size 432x432 with 1 Axes>"
      ]
     },
     "metadata": {},
     "output_type": "display_data"
    }
   ],
   "source": [
    "#catplot allows to plot categories with jitter parameter adjusting point position along x-axis \n",
    "sns.catplot(x='BsmtCond',y='SalePrice',data=df, height=6)"
   ]
  },
  {
   "cell_type": "code",
   "execution_count": 338,
   "metadata": {},
   "outputs": [
    {
     "data": {
      "text/plain": [
       "<seaborn.axisgrid.FacetGrid at 0x125fd6438>"
      ]
     },
     "execution_count": 338,
     "metadata": {},
     "output_type": "execute_result"
    },
    {
     "data": {
      "image/png": "[encoded data removed]",
      "text/plain": [
       "<Figure size 432x432 with 1 Axes>"
      ]
     },
     "metadata": {},
     "output_type": "display_data"
    }
   ],
   "source": [
    "#compared to no jitter\n",
    "sns.catplot(x='BsmtCond',y='SalePrice',data=df, jitter=False, height=6)"
   ]
  },
  {
   "cell_type": "code",
   "execution_count": 339,
   "metadata": {},
   "outputs": [
    {
     "data": {
      "text/plain": [
       "<seaborn.axisgrid.FacetGrid at 0x125fd9160>"
      ]
     },
     "execution_count": 339,
     "metadata": {},
     "output_type": "execute_result"
    },
    {
     "data": {
      "image/png": "[encoded data removed]",
      "text/plain": [
       "<Figure size 504x504 with 1 Axes>"
      ]
     },
     "metadata": {},
     "output_type": "display_data"
    }
   ],
   "source": [
    "#alternatively we may specify kind=\"swarm\" to control points such that they do not overlap\n",
    "sns.catplot(x='BsmtCond',y='SalePrice',data=df, kind=\"swarm\", height = 7)"
   ]
  },
  {
   "cell_type": "code",
   "execution_count": 340,
   "metadata": {},
   "outputs": [
    {
     "data": {
      "text/plain": [
       "<seaborn.axisgrid.FacetGrid at 0x125fd93c8>"
      ]
     },
     "execution_count": 340,
     "metadata": {},
     "output_type": "execute_result"
    },
    {
     "data": {
      "image/png": "[encoded data removed]",
      "text/plain": [
       "<Figure size 680.35x504 with 1 Axes>"
      ]
     },
     "metadata": {},
     "output_type": "display_data"
    }
   ],
   "source": [
    "#we can indicate points with colors for other categorical feature\n",
    "#e.g. MSZoning: Identifies the general zoning classification of the sale.\n",
    "df['MSZoning'] = df['MSZoning'].astype('category').cat.rename_categories({'RL': 'Residential Low Density', 'RM': 'Residential Medium Density', 'C (all)': 'Commercial', 'FV': 'Floating Village Residential', 'RH': 'Residential High Density'})\n",
    "sns.catplot(x='BsmtCond',y='SalePrice',data=df, kind=\"swarm\", hue='MSZoning',height=7)"
   ]
  },
  {
   "cell_type": "markdown",
   "metadata": {},
   "source": [
    "We can union categories into larger groups to derive more meaningful and easy to read charts."
   ]
  },
  {
   "cell_type": "code",
   "execution_count": 341,
   "metadata": {},
   "outputs": [
    {
     "data": {
      "text/plain": [
       "Typical & Good    1376\n",
       "Fair & Poor         47\n",
       "Name: BsmtCond_dich, dtype: int64"
      ]
     },
     "execution_count": 341,
     "metadata": {},
     "output_type": "execute_result"
    }
   ],
   "source": [
    "mp = {'Fair':'Fair & Poor','Poor':'Fair & Poor','Good':'Typical & Good','Typical':'Typical & Good'}\n",
    "df['BsmtCond_dich'] = df['BsmtCond'].map(mp)\n",
    "df['BsmtCond_dich'].value_counts()"
   ]
  },
  {
   "cell_type": "code",
   "execution_count": 342,
   "metadata": {},
   "outputs": [
    {
     "data": {
      "text/plain": [
       "Residential Other    1216\n",
       "Residential High      234\n",
       "Commercial             10\n",
       "Name: MSZoning_dich, dtype: int64"
      ]
     },
     "execution_count": 342,
     "metadata": {},
     "output_type": "execute_result"
    }
   ],
   "source": [
    "mp = {'Commercial':'Commercial','Floating Village Residential':'Residential Other',\n",
    "      'Residential High Density':'Residential High','Residential Low Density':'Residential Other',\n",
    "     'Residential Medium Density':'Residential High'}\n",
    "df['MSZoning_dich'] = df['MSZoning'].map(mp)\n",
    "df['MSZoning_dich'].value_counts()"
   ]
  },
  {
   "cell_type": "code",
   "execution_count": 343,
   "metadata": {},
   "outputs": [
    {
     "data": {
      "text/plain": [
       "<seaborn.axisgrid.FacetGrid at 0x126343780>"
      ]
     },
     "execution_count": 343,
     "metadata": {},
     "output_type": "execute_result"
    },
    {
     "data": {
      "image/png": "[encoded data removed]",
      "text/plain": [
       "<Figure size 628.85x504 with 1 Axes>"
      ]
     },
     "metadata": {},
     "output_type": "display_data"
    }
   ],
   "source": [
    "sns.catplot(x='BsmtCond_dich',y='SalePrice',data=df.query(\"MSZoning_dich != 'Commercial'\"), kind=\"swarm\", hue='MSZoning_dich',height=7)"
   ]
  },
  {
   "cell_type": "markdown",
   "metadata": {},
   "source": [
    "### Binning the data\n",
    "\n",
    "We can transform numerical variable into categorical bins using cut() functionality."
   ]
  },
  {
   "cell_type": "code",
   "execution_count": 344,
   "metadata": {},
   "outputs": [
    {
     "data": {
      "text/plain": [
       "array([2003, 1976, 2001, 1915, 2000, 1993, 2004, 1973, 1931, 1939, 1965,\n",
       "       2005, 1962, 2006, 1960, 1929, 1970, 1967, 1958, 1930, 2002, 1968,\n",
       "       2007, 1951, 1957, 1927, 1920, 1966, 1959, 1994, 1954, 1953, 1955,\n",
       "       1983, 1975, 1997, 1934, 1963, 1981, 1964, 1999, 1972, 1921, 1945,\n",
       "       1982, 1998, 1956, 1948, 1910, 1995, 1991, 2009, 1950, 1961, 1977,\n",
       "       1985, 1979, 1885, 1919, 1990, 1969, 1935, 1988, 1971, 1952, 1936,\n",
       "       1923, 1924, 1984, 1926, 1940, 1941, 1987, 1986, 2008, 1908, 1892,\n",
       "       1916, 1932, 1918, 1912, 1947, 1925, 1900, 1980, 1989, 1992, 1949,\n",
       "       1880, 1928, 1978, 1922, 1996, 2010, 1946, 1913, 1937, 1942, 1938,\n",
       "       1974, 1893, 1914, 1906, 1890, 1898, 1904, 1882, 1875, 1911, 1917,\n",
       "       1872, 1905])"
      ]
     },
     "execution_count": 344,
     "metadata": {},
     "output_type": "execute_result"
    }
   ],
   "source": [
    "pd.unique(df['YearBuilt'])"
   ]
  },
  {
   "cell_type": "code",
   "execution_count": 345,
   "metadata": {},
   "outputs": [
    {
     "data": {
      "text/plain": [
       "count    1460.000000\n",
       "mean       48.732192\n",
       "std        30.202904\n",
       "min        10.000000\n",
       "25%        20.000000\n",
       "50%        47.000000\n",
       "75%        66.000000\n",
       "max       148.000000\n",
       "Name: house_age, dtype: float64"
      ]
     },
     "execution_count": 345,
     "metadata": {},
     "output_type": "execute_result"
    }
   ],
   "source": [
    "df['house_age'] = 2020 - df['YearBuilt']\n",
    "df['house_age'].describe()"
   ]
  },
  {
   "cell_type": "code",
   "execution_count": 350,
   "metadata": {},
   "outputs": [
    {
     "data": {
      "text/html": [
       "<div>\n",
       "<style scoped>\n",
       "    .dataframe tbody tr th:only-of-type {\n",
       "        vertical-align: middle;\n",
       "    }\n",
       "\n",
       "    .dataframe tbody tr th {\n",
       "        vertical-align: top;\n",
       "    }\n",
       "\n",
       "    .dataframe thead th {\n",
       "        text-align: right;\n",
       "    }\n",
       "</style>\n",
       "<table border=\"1\" class=\"dataframe\">\n",
       "  <thead>\n",
       "    <tr style=\"text-align: right;\">\n",
       "      <th></th>\n",
       "      <th>house_age</th>\n",
       "      <th>house_age_gr</th>\n",
       "    </tr>\n",
       "  </thead>\n",
       "  <tbody>\n",
       "    <tr>\n",
       "      <th>0</th>\n",
       "      <td>17</td>\n",
       "      <td>10-25</td>\n",
       "    </tr>\n",
       "    <tr>\n",
       "      <th>1</th>\n",
       "      <td>44</td>\n",
       "      <td>26-50</td>\n",
       "    </tr>\n",
       "    <tr>\n",
       "      <th>2</th>\n",
       "      <td>19</td>\n",
       "      <td>10-25</td>\n",
       "    </tr>\n",
       "    <tr>\n",
       "      <th>3</th>\n",
       "      <td>105</td>\n",
       "      <td>101-150</td>\n",
       "    </tr>\n",
       "    <tr>\n",
       "      <th>4</th>\n",
       "      <td>20</td>\n",
       "      <td>10-25</td>\n",
       "    </tr>\n",
       "    <tr>\n",
       "      <th>5</th>\n",
       "      <td>27</td>\n",
       "      <td>26-50</td>\n",
       "    </tr>\n",
       "    <tr>\n",
       "      <th>6</th>\n",
       "      <td>16</td>\n",
       "      <td>10-25</td>\n",
       "    </tr>\n",
       "    <tr>\n",
       "      <th>7</th>\n",
       "      <td>47</td>\n",
       "      <td>26-50</td>\n",
       "    </tr>\n",
       "    <tr>\n",
       "      <th>8</th>\n",
       "      <td>89</td>\n",
       "      <td>51-100</td>\n",
       "    </tr>\n",
       "    <tr>\n",
       "      <th>9</th>\n",
       "      <td>81</td>\n",
       "      <td>51-100</td>\n",
       "    </tr>\n",
       "  </tbody>\n",
       "</table>\n",
       "</div>"
      ],
      "text/plain": [
       "   house_age house_age_gr\n",
       "0         17        10-25\n",
       "1         44        26-50\n",
       "2         19        10-25\n",
       "3        105      101-150\n",
       "4         20        10-25\n",
       "5         27        26-50\n",
       "6         16        10-25\n",
       "7         47        26-50\n",
       "8         89       51-100\n",
       "9         81       51-100"
      ]
     },
     "execution_count": 350,
     "metadata": {},
     "output_type": "execute_result"
    }
   ],
   "source": [
    "df['house_age_gr'] = pd.cut(df['house_age'], bins=[10,25,50,100,150], labels=['10-25','26-50','51-100','101-150'])\n",
    "df[['house_age','house_age_gr']].head(10)"
   ]
  },
  {
   "cell_type": "code",
   "execution_count": 351,
   "metadata": {},
   "outputs": [
    {
     "data": {
      "text/plain": [
       "51-100     572\n",
       "10-25      484\n",
       "26-50      315\n",
       "101-150     88\n",
       "Name: house_age_gr, dtype: int64"
      ]
     },
     "execution_count": 351,
     "metadata": {},
     "output_type": "execute_result"
    }
   ],
   "source": [
    "df['house_age_gr'].value_counts()"
   ]
  },
  {
   "cell_type": "code",
   "execution_count": 352,
   "metadata": {},
   "outputs": [
    {
     "data": {
      "text/plain": [
       "<seaborn.axisgrid.FacetGrid at 0x1268e1c88>"
      ]
     },
     "execution_count": 352,
     "metadata": {},
     "output_type": "execute_result"
    },
    {
     "data": {
      "image/png": "[encoded data removed]",
      "text/plain": [
       "<Figure size 583.975x504 with 1 Axes>"
      ]
     },
     "metadata": {},
     "output_type": "display_data"
    }
   ],
   "source": [
    "sns.catplot(x='BsmtCond_dich',y='SalePrice',data=df, hue='house_age_gr',height=7,\n",
    "            order=['Fair & Poor','Typical & Good'])"
   ]
  },
  {
   "cell_type": "markdown",
   "metadata": {},
   "source": [
    "More options for plotting categorical data can be found on official seaborn website.\n",
    "\n",
    "https://seaborn.pydata.org/tutorial/categorical.html"
   ]
  },
  {
   "cell_type": "markdown",
   "metadata": {},
   "source": [
    "### Pivot tables\n",
    "\n",
    "Pivot tables is pandas functionality to create nested descriptive tables for categorical and numeric features."
   ]
  },
  {
   "cell_type": "code",
   "execution_count": 355,
   "metadata": {},
   "outputs": [
    {
     "data": {
      "text/html": [
       "<div>\n",
       "<style scoped>\n",
       "    .dataframe tbody tr th:only-of-type {\n",
       "        vertical-align: middle;\n",
       "    }\n",
       "\n",
       "    .dataframe tbody tr th {\n",
       "        vertical-align: top;\n",
       "    }\n",
       "\n",
       "    .dataframe thead th {\n",
       "        text-align: right;\n",
       "    }\n",
       "</style>\n",
       "<table border=\"1\" class=\"dataframe\">\n",
       "  <thead>\n",
       "    <tr style=\"text-align: right;\">\n",
       "      <th>house_age_gr</th>\n",
       "      <th>10-25</th>\n",
       "      <th>26-50</th>\n",
       "      <th>51-100</th>\n",
       "      <th>101-150</th>\n",
       "    </tr>\n",
       "    <tr>\n",
       "      <th>BsmtCond_dich</th>\n",
       "      <th></th>\n",
       "      <th></th>\n",
       "      <th></th>\n",
       "      <th></th>\n",
       "    </tr>\n",
       "  </thead>\n",
       "  <tbody>\n",
       "    <tr>\n",
       "      <th>Fair &amp; Poor</th>\n",
       "      <td>NaN</td>\n",
       "      <td>149333.33</td>\n",
       "      <td>110838.33</td>\n",
       "      <td>131162.79</td>\n",
       "    </tr>\n",
       "    <tr>\n",
       "      <th>Typical &amp; Good</th>\n",
       "      <td>239888.14</td>\n",
       "      <td>176317.75</td>\n",
       "      <td>144392.36</td>\n",
       "      <td>141636.19</td>\n",
       "    </tr>\n",
       "  </tbody>\n",
       "</table>\n",
       "</div>"
      ],
      "text/plain": [
       "house_age_gr        10-25      26-50     51-100    101-150\n",
       "BsmtCond_dich                                             \n",
       "Fair & Poor           NaN  149333.33  110838.33  131162.79\n",
       "Typical & Good  239888.14  176317.75  144392.36  141636.19"
      ]
     },
     "execution_count": 355,
     "metadata": {},
     "output_type": "execute_result"
    }
   ],
   "source": [
    "df.pivot_table('SalePrice', index='BsmtCond_dich', columns='house_age_gr',aggfunc='mean').round(2)"
   ]
  },
  {
   "cell_type": "markdown",
   "metadata": {},
   "source": [
    "Multi-levels are allowed both for columns and indices."
   ]
  },
  {
   "cell_type": "code",
   "execution_count": 361,
   "metadata": {},
   "outputs": [
    {
     "data": {
      "text/html": [
       "<div>\n",
       "<style scoped>\n",
       "    .dataframe tbody tr th:only-of-type {\n",
       "        vertical-align: middle;\n",
       "    }\n",
       "\n",
       "    .dataframe tbody tr th {\n",
       "        vertical-align: top;\n",
       "    }\n",
       "\n",
       "    .dataframe thead tr th {\n",
       "        text-align: left;\n",
       "    }\n",
       "\n",
       "    .dataframe thead tr:last-of-type th {\n",
       "        text-align: right;\n",
       "    }\n",
       "</style>\n",
       "<table border=\"1\" class=\"dataframe\">\n",
       "  <thead>\n",
       "    <tr>\n",
       "      <th></th>\n",
       "      <th>MSZoning_dich</th>\n",
       "      <th colspan=\"2\" halign=\"left\">Commercial</th>\n",
       "      <th colspan=\"4\" halign=\"left\">Residential High</th>\n",
       "      <th colspan=\"4\" halign=\"left\">Residential Other</th>\n",
       "    </tr>\n",
       "    <tr>\n",
       "      <th></th>\n",
       "      <th>house_age_gr</th>\n",
       "      <th>51-100</th>\n",
       "      <th>101-150</th>\n",
       "      <th>10-25</th>\n",
       "      <th>26-50</th>\n",
       "      <th>51-100</th>\n",
       "      <th>101-150</th>\n",
       "      <th>10-25</th>\n",
       "      <th>26-50</th>\n",
       "      <th>51-100</th>\n",
       "      <th>101-150</th>\n",
       "    </tr>\n",
       "    <tr>\n",
       "      <th>BsmtCond_dich</th>\n",
       "      <th>GarageCars</th>\n",
       "      <th></th>\n",
       "      <th></th>\n",
       "      <th></th>\n",
       "      <th></th>\n",
       "      <th></th>\n",
       "      <th></th>\n",
       "      <th></th>\n",
       "      <th></th>\n",
       "      <th></th>\n",
       "      <th></th>\n",
       "    </tr>\n",
       "  </thead>\n",
       "  <tbody>\n",
       "    <tr>\n",
       "      <th rowspan=\"5\" valign=\"top\">Fair &amp; Poor</th>\n",
       "      <th>0</th>\n",
       "      <td>NaN</td>\n",
       "      <td>85000.0</td>\n",
       "      <td>NaN</td>\n",
       "      <td>NaN</td>\n",
       "      <td>57500.00</td>\n",
       "      <td>139500.00</td>\n",
       "      <td>NaN</td>\n",
       "      <td>NaN</td>\n",
       "      <td>61000.00</td>\n",
       "      <td>135900.00</td>\n",
       "    </tr>\n",
       "    <tr>\n",
       "      <th>1</th>\n",
       "      <td>NaN</td>\n",
       "      <td>NaN</td>\n",
       "      <td>NaN</td>\n",
       "      <td>83000.00</td>\n",
       "      <td>104071.43</td>\n",
       "      <td>120500.00</td>\n",
       "      <td>NaN</td>\n",
       "      <td>NaN</td>\n",
       "      <td>115020.83</td>\n",
       "      <td>88500.00</td>\n",
       "    </tr>\n",
       "    <tr>\n",
       "      <th>2</th>\n",
       "      <td>NaN</td>\n",
       "      <td>133900.0</td>\n",
       "      <td>NaN</td>\n",
       "      <td>NaN</td>\n",
       "      <td>102000.00</td>\n",
       "      <td>132000.00</td>\n",
       "      <td>NaN</td>\n",
       "      <td>182500.00</td>\n",
       "      <td>139400.00</td>\n",
       "      <td>160000.00</td>\n",
       "    </tr>\n",
       "    <tr>\n",
       "      <th>3</th>\n",
       "      <td>NaN</td>\n",
       "      <td>NaN</td>\n",
       "      <td>NaN</td>\n",
       "      <td>NaN</td>\n",
       "      <td>NaN</td>\n",
       "      <td>87000.00</td>\n",
       "      <td>NaN</td>\n",
       "      <td>NaN</td>\n",
       "      <td>NaN</td>\n",
       "      <td>NaN</td>\n",
       "    </tr>\n",
       "    <tr>\n",
       "      <th>4</th>\n",
       "      <td>NaN</td>\n",
       "      <td>NaN</td>\n",
       "      <td>NaN</td>\n",
       "      <td>NaN</td>\n",
       "      <td>NaN</td>\n",
       "      <td>265979.00</td>\n",
       "      <td>NaN</td>\n",
       "      <td>NaN</td>\n",
       "      <td>NaN</td>\n",
       "      <td>NaN</td>\n",
       "    </tr>\n",
       "    <tr>\n",
       "      <th rowspan=\"5\" valign=\"top\">Typical &amp; Good</th>\n",
       "      <th>0</th>\n",
       "      <td>34900.00</td>\n",
       "      <td>NaN</td>\n",
       "      <td>NaN</td>\n",
       "      <td>86916.67</td>\n",
       "      <td>89488.89</td>\n",
       "      <td>114557.14</td>\n",
       "      <td>124166.67</td>\n",
       "      <td>125508.33</td>\n",
       "      <td>107934.09</td>\n",
       "      <td>96733.33</td>\n",
       "    </tr>\n",
       "    <tr>\n",
       "      <th>1</th>\n",
       "      <td>61103.67</td>\n",
       "      <td>102776.0</td>\n",
       "      <td>133000.00</td>\n",
       "      <td>98720.00</td>\n",
       "      <td>117044.02</td>\n",
       "      <td>119921.71</td>\n",
       "      <td>144000.00</td>\n",
       "      <td>130535.19</td>\n",
       "      <td>138513.98</td>\n",
       "      <td>136904.77</td>\n",
       "    </tr>\n",
       "    <tr>\n",
       "      <th>2</th>\n",
       "      <td>62196.50</td>\n",
       "      <td>NaN</td>\n",
       "      <td>167204.83</td>\n",
       "      <td>131533.33</td>\n",
       "      <td>130324.19</td>\n",
       "      <td>146286.67</td>\n",
       "      <td>208019.88</td>\n",
       "      <td>187265.96</td>\n",
       "      <td>171937.45</td>\n",
       "      <td>169550.00</td>\n",
       "    </tr>\n",
       "    <tr>\n",
       "      <th>3</th>\n",
       "      <td>81000.00</td>\n",
       "      <td>NaN</td>\n",
       "      <td>NaN</td>\n",
       "      <td>NaN</td>\n",
       "      <td>145000.00</td>\n",
       "      <td>255475.00</td>\n",
       "      <td>321142.04</td>\n",
       "      <td>303612.50</td>\n",
       "      <td>200425.00</td>\n",
       "      <td>161333.33</td>\n",
       "    </tr>\n",
       "    <tr>\n",
       "      <th>4</th>\n",
       "      <td>NaN</td>\n",
       "      <td>NaN</td>\n",
       "      <td>206300.00</td>\n",
       "      <td>NaN</td>\n",
       "      <td>NaN</td>\n",
       "      <td>NaN</td>\n",
       "      <td>NaN</td>\n",
       "      <td>123000.00</td>\n",
       "      <td>184000.00</td>\n",
       "      <td>NaN</td>\n",
       "    </tr>\n",
       "  </tbody>\n",
       "</table>\n",
       "</div>"
      ],
      "text/plain": [
       "MSZoning_dich             Commercial           Residential High             \\\n",
       "house_age_gr                  51-100   101-150            10-25      26-50   \n",
       "BsmtCond_dich  GarageCars                                                    \n",
       "Fair & Poor    0                 NaN   85000.0              NaN        NaN   \n",
       "               1                 NaN       NaN              NaN   83000.00   \n",
       "               2                 NaN  133900.0              NaN        NaN   \n",
       "               3                 NaN       NaN              NaN        NaN   \n",
       "               4                 NaN       NaN              NaN        NaN   \n",
       "Typical & Good 0            34900.00       NaN              NaN   86916.67   \n",
       "               1            61103.67  102776.0        133000.00   98720.00   \n",
       "               2            62196.50       NaN        167204.83  131533.33   \n",
       "               3            81000.00       NaN              NaN        NaN   \n",
       "               4                 NaN       NaN        206300.00        NaN   \n",
       "\n",
       "MSZoning_dich                                   Residential Other             \\\n",
       "house_age_gr                  51-100    101-150             10-25      26-50   \n",
       "BsmtCond_dich  GarageCars                                                      \n",
       "Fair & Poor    0            57500.00  139500.00               NaN        NaN   \n",
       "               1           104071.43  120500.00               NaN        NaN   \n",
       "               2           102000.00  132000.00               NaN  182500.00   \n",
       "               3                 NaN   87000.00               NaN        NaN   \n",
       "               4                 NaN  265979.00               NaN        NaN   \n",
       "Typical & Good 0            89488.89  114557.14         124166.67  125508.33   \n",
       "               1           117044.02  119921.71         144000.00  130535.19   \n",
       "               2           130324.19  146286.67         208019.88  187265.96   \n",
       "               3           145000.00  255475.00         321142.04  303612.50   \n",
       "               4                 NaN        NaN               NaN  123000.00   \n",
       "\n",
       "MSZoning_dich                                    \n",
       "house_age_gr                  51-100    101-150  \n",
       "BsmtCond_dich  GarageCars                        \n",
       "Fair & Poor    0            61000.00  135900.00  \n",
       "               1           115020.83   88500.00  \n",
       "               2           139400.00  160000.00  \n",
       "               3                 NaN        NaN  \n",
       "               4                 NaN        NaN  \n",
       "Typical & Good 0           107934.09   96733.33  \n",
       "               1           138513.98  136904.77  \n",
       "               2           171937.45  169550.00  \n",
       "               3           200425.00  161333.33  \n",
       "               4           184000.00        NaN  "
      ]
     },
     "execution_count": 361,
     "metadata": {},
     "output_type": "execute_result"
    }
   ],
   "source": [
    "df.pivot_table('SalePrice', index=['BsmtCond_dich', 'GarageCars'],\n",
    "               columns=['MSZoning_dich','house_age_gr'],aggfunc=np.nanmean).round(2)"
   ]
  },
  {
   "cell_type": "markdown",
   "metadata": {},
   "source": [
    "## Binary classification"
   ]
  },
  {
   "cell_type": "markdown",
   "metadata": {},
   "source": [
    "We continue to work with the built in datasets in sklearn. For binary classification problem we use breast cancer dataset.\n",
    "\n",
    "Let's load the data and assign the positive class to be a malignant tumor."
   ]
  },
  {
   "cell_type": "code",
   "execution_count": 7,
   "metadata": {},
   "outputs": [
    {
     "data": {
      "text/plain": [
       "0    357\n",
       "1    212\n",
       "Name: target, dtype: int64"
      ]
     },
     "execution_count": 7,
     "metadata": {},
     "output_type": "execute_result"
    }
   ],
   "source": [
    "from sklearn.datasets import load_breast_cancer\n",
    "\n",
    "#load data\n",
    "cancer = load_breast_cancer()\n",
    "#create dataframes from np arrays of cancer Bunch objects\n",
    "y = pd.DataFrame(cancer.target,columns=['target'])\n",
    "X = pd.DataFrame(cancer.data,columns=cancer.feature_names)\n",
    "#concatenate dataframes along columns\n",
    "df = pd.concat([X,y],axis=1)\n",
    "#change malignant cancer being the positive class\n",
    "df['target'].replace([0,1],[1,0],inplace=True)\n",
    "df['target'].value_counts() #check replacement"
   ]
  },
  {
   "cell_type": "code",
   "execution_count": 363,
   "metadata": {
    "scrolled": true
   },
   "outputs": [
    {
     "name": "stdout",
     "output_type": "stream",
     "text": [
      "<class 'pandas.core.frame.DataFrame'>\n",
      "RangeIndex: 569 entries, 0 to 568\n",
      "Data columns (total 31 columns):\n",
      " #   Column                   Non-Null Count  Dtype  \n",
      "---  ------                   --------------  -----  \n",
      " 0   mean radius              569 non-null    float64\n",
      " 1   mean texture             569 non-null    float64\n",
      " 2   mean perimeter           569 non-null    float64\n",
      " 3   mean area                569 non-null    float64\n",
      " 4   mean smoothness          569 non-null    float64\n",
      " 5   mean compactness         569 non-null    float64\n",
      " 6   mean concavity           569 non-null    float64\n",
      " 7   mean concave points      569 non-null    float64\n",
      " 8   mean symmetry            569 non-null    float64\n",
      " 9   mean fractal dimension   569 non-null    float64\n",
      " 10  radius error             569 non-null    float64\n",
      " 11  texture error            569 non-null    float64\n",
      " 12  perimeter error          569 non-null    float64\n",
      " 13  area error               569 non-null    float64\n",
      " 14  smoothness error         569 non-null    float64\n",
      " 15  compactness error        569 non-null    float64\n",
      " 16  concavity error          569 non-null    float64\n",
      " 17  concave points error     569 non-null    float64\n",
      " 18  symmetry error           569 non-null    float64\n",
      " 19  fractal dimension error  569 non-null    float64\n",
      " 20  worst radius             569 non-null    float64\n",
      " 21  worst texture            569 non-null    float64\n",
      " 22  worst perimeter          569 non-null    float64\n",
      " 23  worst area               569 non-null    float64\n",
      " 24  worst smoothness         569 non-null    float64\n",
      " 25  worst compactness        569 non-null    float64\n",
      " 26  worst concavity          569 non-null    float64\n",
      " 27  worst concave points     569 non-null    float64\n",
      " 28  worst symmetry           569 non-null    float64\n",
      " 29  worst fractal dimension  569 non-null    float64\n",
      " 30  target                   569 non-null    int64  \n",
      "dtypes: float64(30), int64(1)\n",
      "memory usage: 137.9 KB\n"
     ]
    }
   ],
   "source": [
    "df.info()"
   ]
  },
  {
   "cell_type": "code",
   "execution_count": 364,
   "metadata": {},
   "outputs": [
    {
     "data": {
      "text/html": [
       "<div>\n",
       "<style scoped>\n",
       "    .dataframe tbody tr th:only-of-type {\n",
       "        vertical-align: middle;\n",
       "    }\n",
       "\n",
       "    .dataframe tbody tr th {\n",
       "        vertical-align: top;\n",
       "    }\n",
       "\n",
       "    .dataframe thead th {\n",
       "        text-align: right;\n",
       "    }\n",
       "</style>\n",
       "<table border=\"1\" class=\"dataframe\">\n",
       "  <thead>\n",
       "    <tr style=\"text-align: right;\">\n",
       "      <th></th>\n",
       "      <th>mean radius</th>\n",
       "      <th>mean texture</th>\n",
       "      <th>mean perimeter</th>\n",
       "      <th>mean area</th>\n",
       "      <th>mean smoothness</th>\n",
       "      <th>mean compactness</th>\n",
       "      <th>mean concavity</th>\n",
       "      <th>mean concave points</th>\n",
       "      <th>mean symmetry</th>\n",
       "      <th>mean fractal dimension</th>\n",
       "      <th>...</th>\n",
       "      <th>worst texture</th>\n",
       "      <th>worst perimeter</th>\n",
       "      <th>worst area</th>\n",
       "      <th>worst smoothness</th>\n",
       "      <th>worst compactness</th>\n",
       "      <th>worst concavity</th>\n",
       "      <th>worst concave points</th>\n",
       "      <th>worst symmetry</th>\n",
       "      <th>worst fractal dimension</th>\n",
       "      <th>target</th>\n",
       "    </tr>\n",
       "  </thead>\n",
       "  <tbody>\n",
       "    <tr>\n",
       "      <th>count</th>\n",
       "      <td>569.000000</td>\n",
       "      <td>569.000000</td>\n",
       "      <td>569.000000</td>\n",
       "      <td>569.000000</td>\n",
       "      <td>569.000000</td>\n",
       "      <td>569.000000</td>\n",
       "      <td>569.000000</td>\n",
       "      <td>569.000000</td>\n",
       "      <td>569.000000</td>\n",
       "      <td>569.000000</td>\n",
       "      <td>...</td>\n",
       "      <td>569.000000</td>\n",
       "      <td>569.000000</td>\n",
       "      <td>569.000000</td>\n",
       "      <td>569.000000</td>\n",
       "      <td>569.000000</td>\n",
       "      <td>569.000000</td>\n",
       "      <td>569.000000</td>\n",
       "      <td>569.000000</td>\n",
       "      <td>569.000000</td>\n",
       "      <td>569.000000</td>\n",
       "    </tr>\n",
       "    <tr>\n",
       "      <th>mean</th>\n",
       "      <td>14.127292</td>\n",
       "      <td>19.289649</td>\n",
       "      <td>91.969033</td>\n",
       "      <td>654.889104</td>\n",
       "      <td>0.096360</td>\n",
       "      <td>0.104341</td>\n",
       "      <td>0.088799</td>\n",
       "      <td>0.048919</td>\n",
       "      <td>0.181162</td>\n",
       "      <td>0.062798</td>\n",
       "      <td>...</td>\n",
       "      <td>25.677223</td>\n",
       "      <td>107.261213</td>\n",
       "      <td>880.583128</td>\n",
       "      <td>0.132369</td>\n",
       "      <td>0.254265</td>\n",
       "      <td>0.272188</td>\n",
       "      <td>0.114606</td>\n",
       "      <td>0.290076</td>\n",
       "      <td>0.083946</td>\n",
       "      <td>0.372583</td>\n",
       "    </tr>\n",
       "    <tr>\n",
       "      <th>std</th>\n",
       "      <td>3.524049</td>\n",
       "      <td>4.301036</td>\n",
       "      <td>24.298981</td>\n",
       "      <td>351.914129</td>\n",
       "      <td>0.014064</td>\n",
       "      <td>0.052813</td>\n",
       "      <td>0.079720</td>\n",
       "      <td>0.038803</td>\n",
       "      <td>0.027414</td>\n",
       "      <td>0.007060</td>\n",
       "      <td>...</td>\n",
       "      <td>6.146258</td>\n",
       "      <td>33.602542</td>\n",
       "      <td>569.356993</td>\n",
       "      <td>0.022832</td>\n",
       "      <td>0.157336</td>\n",
       "      <td>0.208624</td>\n",
       "      <td>0.065732</td>\n",
       "      <td>0.061867</td>\n",
       "      <td>0.018061</td>\n",
       "      <td>0.483918</td>\n",
       "    </tr>\n",
       "    <tr>\n",
       "      <th>min</th>\n",
       "      <td>6.981000</td>\n",
       "      <td>9.710000</td>\n",
       "      <td>43.790000</td>\n",
       "      <td>143.500000</td>\n",
       "      <td>0.052630</td>\n",
       "      <td>0.019380</td>\n",
       "      <td>0.000000</td>\n",
       "      <td>0.000000</td>\n",
       "      <td>0.106000</td>\n",
       "      <td>0.049960</td>\n",
       "      <td>...</td>\n",
       "      <td>12.020000</td>\n",
       "      <td>50.410000</td>\n",
       "      <td>185.200000</td>\n",
       "      <td>0.071170</td>\n",
       "      <td>0.027290</td>\n",
       "      <td>0.000000</td>\n",
       "      <td>0.000000</td>\n",
       "      <td>0.156500</td>\n",
       "      <td>0.055040</td>\n",
       "      <td>0.000000</td>\n",
       "    </tr>\n",
       "    <tr>\n",
       "      <th>25%</th>\n",
       "      <td>11.700000</td>\n",
       "      <td>16.170000</td>\n",
       "      <td>75.170000</td>\n",
       "      <td>420.300000</td>\n",
       "      <td>0.086370</td>\n",
       "      <td>0.064920</td>\n",
       "      <td>0.029560</td>\n",
       "      <td>0.020310</td>\n",
       "      <td>0.161900</td>\n",
       "      <td>0.057700</td>\n",
       "      <td>...</td>\n",
       "      <td>21.080000</td>\n",
       "      <td>84.110000</td>\n",
       "      <td>515.300000</td>\n",
       "      <td>0.116600</td>\n",
       "      <td>0.147200</td>\n",
       "      <td>0.114500</td>\n",
       "      <td>0.064930</td>\n",
       "      <td>0.250400</td>\n",
       "      <td>0.071460</td>\n",
       "      <td>0.000000</td>\n",
       "    </tr>\n",
       "    <tr>\n",
       "      <th>50%</th>\n",
       "      <td>13.370000</td>\n",
       "      <td>18.840000</td>\n",
       "      <td>86.240000</td>\n",
       "      <td>551.100000</td>\n",
       "      <td>0.095870</td>\n",
       "      <td>0.092630</td>\n",
       "      <td>0.061540</td>\n",
       "      <td>0.033500</td>\n",
       "      <td>0.179200</td>\n",
       "      <td>0.061540</td>\n",
       "      <td>...</td>\n",
       "      <td>25.410000</td>\n",
       "      <td>97.660000</td>\n",
       "      <td>686.500000</td>\n",
       "      <td>0.131300</td>\n",
       "      <td>0.211900</td>\n",
       "      <td>0.226700</td>\n",
       "      <td>0.099930</td>\n",
       "      <td>0.282200</td>\n",
       "      <td>0.080040</td>\n",
       "      <td>0.000000</td>\n",
       "    </tr>\n",
       "    <tr>\n",
       "      <th>75%</th>\n",
       "      <td>15.780000</td>\n",
       "      <td>21.800000</td>\n",
       "      <td>104.100000</td>\n",
       "      <td>782.700000</td>\n",
       "      <td>0.105300</td>\n",
       "      <td>0.130400</td>\n",
       "      <td>0.130700</td>\n",
       "      <td>0.074000</td>\n",
       "      <td>0.195700</td>\n",
       "      <td>0.066120</td>\n",
       "      <td>...</td>\n",
       "      <td>29.720000</td>\n",
       "      <td>125.400000</td>\n",
       "      <td>1084.000000</td>\n",
       "      <td>0.146000</td>\n",
       "      <td>0.339100</td>\n",
       "      <td>0.382900</td>\n",
       "      <td>0.161400</td>\n",
       "      <td>0.317900</td>\n",
       "      <td>0.092080</td>\n",
       "      <td>1.000000</td>\n",
       "    </tr>\n",
       "    <tr>\n",
       "      <th>max</th>\n",
       "      <td>28.110000</td>\n",
       "      <td>39.280000</td>\n",
       "      <td>188.500000</td>\n",
       "      <td>2501.000000</td>\n",
       "      <td>0.163400</td>\n",
       "      <td>0.345400</td>\n",
       "      <td>0.426800</td>\n",
       "      <td>0.201200</td>\n",
       "      <td>0.304000</td>\n",
       "      <td>0.097440</td>\n",
       "      <td>...</td>\n",
       "      <td>49.540000</td>\n",
       "      <td>251.200000</td>\n",
       "      <td>4254.000000</td>\n",
       "      <td>0.222600</td>\n",
       "      <td>1.058000</td>\n",
       "      <td>1.252000</td>\n",
       "      <td>0.291000</td>\n",
       "      <td>0.663800</td>\n",
       "      <td>0.207500</td>\n",
       "      <td>1.000000</td>\n",
       "    </tr>\n",
       "  </tbody>\n",
       "</table>\n",
       "<p>8 rows × 31 columns</p>\n",
       "</div>"
      ],
      "text/plain": [
       "       mean radius  mean texture  mean perimeter    mean area  \\\n",
       "count   569.000000    569.000000      569.000000   569.000000   \n",
       "mean     14.127292     19.289649       91.969033   654.889104   \n",
       "std       3.524049      4.301036       24.298981   351.914129   \n",
       "min       6.981000      9.710000       43.790000   143.500000   \n",
       "25%      11.700000     16.170000       75.170000   420.300000   \n",
       "50%      13.370000     18.840000       86.240000   551.100000   \n",
       "75%      15.780000     21.800000      104.100000   782.700000   \n",
       "max      28.110000     39.280000      188.500000  2501.000000   \n",
       "\n",
       "       mean smoothness  mean compactness  mean concavity  mean concave points  \\\n",
       "count       569.000000        569.000000      569.000000           569.000000   \n",
       "mean          0.096360          0.104341        0.088799             0.048919   \n",
       "std           0.014064          0.052813        0.079720             0.038803   \n",
       "min           0.052630          0.019380        0.000000             0.000000   \n",
       "25%           0.086370          0.064920        0.029560             0.020310   \n",
       "50%           0.095870          0.092630        0.061540             0.033500   \n",
       "75%           0.105300          0.130400        0.130700             0.074000   \n",
       "max           0.163400          0.345400        0.426800             0.201200   \n",
       "\n",
       "       mean symmetry  mean fractal dimension  ...  worst texture  \\\n",
       "count     569.000000              569.000000  ...     569.000000   \n",
       "mean        0.181162                0.062798  ...      25.677223   \n",
       "std         0.027414                0.007060  ...       6.146258   \n",
       "min         0.106000                0.049960  ...      12.020000   \n",
       "25%         0.161900                0.057700  ...      21.080000   \n",
       "50%         0.179200                0.061540  ...      25.410000   \n",
       "75%         0.195700                0.066120  ...      29.720000   \n",
       "max         0.304000                0.097440  ...      49.540000   \n",
       "\n",
       "       worst perimeter   worst area  worst smoothness  worst compactness  \\\n",
       "count       569.000000   569.000000        569.000000         569.000000   \n",
       "mean        107.261213   880.583128          0.132369           0.254265   \n",
       "std          33.602542   569.356993          0.022832           0.157336   \n",
       "min          50.410000   185.200000          0.071170           0.027290   \n",
       "25%          84.110000   515.300000          0.116600           0.147200   \n",
       "50%          97.660000   686.500000          0.131300           0.211900   \n",
       "75%         125.400000  1084.000000          0.146000           0.339100   \n",
       "max         251.200000  4254.000000          0.222600           1.058000   \n",
       "\n",
       "       worst concavity  worst concave points  worst symmetry  \\\n",
       "count       569.000000            569.000000      569.000000   \n",
       "mean          0.272188              0.114606        0.290076   \n",
       "std           0.208624              0.065732        0.061867   \n",
       "min           0.000000              0.000000        0.156500   \n",
       "25%           0.114500              0.064930        0.250400   \n",
       "50%           0.226700              0.099930        0.282200   \n",
       "75%           0.382900              0.161400        0.317900   \n",
       "max           1.252000              0.291000        0.663800   \n",
       "\n",
       "       worst fractal dimension      target  \n",
       "count               569.000000  569.000000  \n",
       "mean                  0.083946    0.372583  \n",
       "std                   0.018061    0.483918  \n",
       "min                   0.055040    0.000000  \n",
       "25%                   0.071460    0.000000  \n",
       "50%                   0.080040    0.000000  \n",
       "75%                   0.092080    1.000000  \n",
       "max                   0.207500    1.000000  \n",
       "\n",
       "[8 rows x 31 columns]"
      ]
     },
     "execution_count": 364,
     "metadata": {},
     "output_type": "execute_result"
    }
   ],
   "source": [
    "df.describe()"
   ]
  },
  {
   "cell_type": "code",
   "execution_count": 365,
   "metadata": {},
   "outputs": [
    {
     "data": {
      "text/plain": [
       "<seaborn.axisgrid.PairGrid at 0x126d3fda0>"
      ]
     },
     "execution_count": 365,
     "metadata": {},
     "output_type": "execute_result"
    },
    {
     "data": {
      "image/png": "[encoded data removed]",
      "text/plain": [
       "<Figure size 909.725x864 with 20 Axes>"
      ]
     },
     "metadata": {},
     "output_type": "display_data"
    }
   ],
   "source": [
    "sns.pairplot(df.loc[:,'worst concavity':'target'],hue=\"target\",palette=sns.xkcd_palette(['green','red']), height=3)"
   ]
  },
  {
   "cell_type": "markdown",
   "metadata": {},
   "source": [
    "### Logistic Regression\n",
    "\n",
    "https://scikit-learn.org/stable/modules/generated/sklearn.linear_model.LogisticRegression.html#sklearn.linear_model.LogisticRegression\n",
    "\n",
    "Logistic Regression is implemented in sklearn linear_model module. By default it uses L2 regularization.\n",
    "\n",
    "Regularization is regulated by parameter C (inverse of regularization strength):\n",
    "\n",
    "- higher values -> less regularization\n",
    "- lower values -> more regularization -> coefficients tend to zero"
   ]
  },
  {
   "cell_type": "code",
   "execution_count": 8,
   "metadata": {
    "collapsed": true
   },
   "outputs": [],
   "source": [
    "from sklearn.linear_model import LogisticRegression\n",
    "clf = LogisticRegression() #default solver 'lbfgs', L2 penalty, C=1"
   ]
  },
  {
   "cell_type": "code",
   "execution_count": 9,
   "metadata": {
    "collapsed": true
   },
   "outputs": [],
   "source": [
    "from sklearn.preprocessing import StandardScaler\n",
    "std_scaler = StandardScaler() #zero-mean, unit variance normalization     \n",
    "X_scaled = std_scaler.fit_transform(X)"
   ]
  },
  {
   "cell_type": "code",
   "execution_count": 10,
   "metadata": {},
   "outputs": [
    {
     "data": {
      "text/plain": [
       "0.9876977152899824"
      ]
     },
     "execution_count": 10,
     "metadata": {},
     "output_type": "execute_result"
    }
   ],
   "source": [
    "#flatten the target vector for cv\n",
    "y = y.values.ravel()\n",
    "clf.fit(X_scaled,y) #fit the Logistic Model on our dataset\n",
    "clf.score(X_scaled,y) #accurcy score for training dataset"
   ]
  },
  {
   "cell_type": "code",
   "execution_count": 11,
   "metadata": {},
   "outputs": [
    {
     "name": "stdout",
     "output_type": "stream",
     "text": [
      "Mean cv accuracy score (logit, L2, C=1): 0.9807\n"
     ]
    }
   ],
   "source": [
    "from sklearn.model_selection import cross_val_score\n",
    "sc = cross_val_score(clf, X_scaled, y, cv=5) #default stratified 5-fold cross-validation\n",
    "print(\"Mean cv accuracy score (logit, L2, C=1): {:.4f}\".format(np.mean(sc)))"
   ]
  },
  {
   "cell_type": "code",
   "execution_count": 373,
   "metadata": {},
   "outputs": [
    {
     "data": {
      "image/png": "[encoded data removed]",
      "text/plain": [
       "<Figure size 864x432 with 1 Axes>"
      ]
     },
     "metadata": {},
     "output_type": "display_data"
    }
   ],
   "source": [
    "from sklearn.model_selection import validation_curve\n",
    "c_vals = np.linspace(0.1,15,10) #regularization parameter values\n",
    "train_scores, valid_scores = validation_curve(clf, X_scaled, y,\"C\",c_vals,cv=5)\n",
    "train_scores_mean = np.mean(train_scores, axis=1)\n",
    "valid_scores_mean = np.mean(valid_scores, axis=1)\n",
    "\n",
    "plt.figure(figsize=[12,6])\n",
    "plt.plot(c_vals, train_scores_mean, color='blue', label='training score')\n",
    "plt.plot(c_vals, valid_scores_mean, color='red', label='validation score')\n",
    "plt.legend(loc='best')\n",
    "plt.xlabel('C (model complexity, low->high)')\n",
    "plt.ylabel('score');"
   ]
  },
  {
   "cell_type": "code",
   "execution_count": 374,
   "metadata": {},
   "outputs": [
    {
     "data": {
      "text/plain": [
       "0.9876977152899824"
      ]
     },
     "execution_count": 374,
     "metadata": {},
     "output_type": "execute_result"
    }
   ],
   "source": [
    "clf = LogisticRegression(C=1.8)\n",
    "clf.fit(X_scaled,y) #fit the Logistic Model on our dataset\n",
    "clf.score(X_scaled,y) #accurcy score for training dataset"
   ]
  },
  {
   "cell_type": "code",
   "execution_count": 375,
   "metadata": {},
   "outputs": [
    {
     "name": "stdout",
     "output_type": "stream",
     "text": [
      "Mean cv accuracy score (logit, L2, C=1.8): 0.9772\n"
     ]
    }
   ],
   "source": [
    "sc = cross_val_score(clf, X_scaled, y, cv=5) #default stratified 5-fold cross-validation\n",
    "print(\"Mean cv accuracy score (logit, L2, C=1.8): {:.4f}\".format(np.mean(sc)))"
   ]
  },
  {
   "cell_type": "markdown",
   "metadata": {},
   "source": [
    "### k-Nearest Neighbors\n",
    "\n",
    "https://scikit-learn.org/stable/modules/generated/sklearn.neighbors.KNeighborsClassifier.html\n",
    "\n",
    "**k-Nearest Neighbors (k-NN)** algorithm is the supervised learning algorithm from the family of *instance-based algorithms*. Instance-based algorithms don't provide generalization, instead they perform predictions by comparing new data points with points in training dataset stored in memory.\n",
    "\n",
    "k-NN can be applied for both Regression and Classification problems. In the former case, predicted outcome is the average of the nearby points. In the latter case, predicted outcome is the class of the majority of nearby points.\n",
    "\n",
    "'Nearby points' are defined by the distance metric. Euclidean distance between points is the most popular distance metric. The number of nearby points to take into account for making predictions is defined with $k$ parameter.\n",
    "\n",
    "To avoid model overfitting it is recommended to increase k neighbors for both Regression and Classification problems.\n",
    "\n",
    "Feature scaling is also a necessary step to perform before application of k-NN algorithm.\n",
    "\n",
    "**Pros**\n",
    "\n",
    "- fast to train the model, there is no need to estimate parameters;\n",
    "- known to be one of the simplest ML algorithms to start with.\n",
    "\n",
    "**Cons**\n",
    "\n",
    "- takes longer time to make predictions (need to handle all points), in comparison to parametric methods, e.g. linear regression model;\n",
    "- lack of interpretability, because there is no statistic to measure the effect of features on outcome variable.\n"
   ]
  },
  {
   "cell_type": "markdown",
   "metadata": {},
   "source": [
    "Initiate k-NN classifier with k neighbors equal to 3."
   ]
  },
  {
   "cell_type": "code",
   "execution_count": 376,
   "metadata": {
    "collapsed": true
   },
   "outputs": [],
   "source": [
    "from sklearn.neighbors import KNeighborsClassifier\n",
    "clf = KNeighborsClassifier(n_neighbors=3)"
   ]
  },
  {
   "cell_type": "markdown",
   "metadata": {
    "hide_input": true
   },
   "source": [
    "Use scaled features."
   ]
  },
  {
   "cell_type": "markdown",
   "metadata": {},
   "source": [
    "Load cross-validation routine to check model performance."
   ]
  },
  {
   "cell_type": "code",
   "execution_count": 377,
   "metadata": {},
   "outputs": [
    {
     "name": "stdout",
     "output_type": "stream",
     "text": [
      "Mean cv accuracy score (kNN, 3): 0.96\n"
     ]
    }
   ],
   "source": [
    "sc = cross_val_score(clf, X_scaled, y, cv=5) #For integer/None inputs, if the estimator is a classifier and y is either binary or multiclass, StratifiedKFold is used. In all other cases, KFold is used.\n",
    "print(\"Mean cv accuracy score (kNN, 3): {:.2f}\".format(np.mean(sc)))"
   ]
  },
  {
   "cell_type": "markdown",
   "metadata": {},
   "source": [
    "There is a direct relation between number of neighbors (model complexity) and model accuracy. Small number of neighbors will result in complex model which is subject to overfitting, whereas too many neighbors (simple model) will result in model underfitting.\n",
    "\n",
    "We can explore this relation using validation curves."
   ]
  },
  {
   "cell_type": "code",
   "execution_count": 379,
   "metadata": {},
   "outputs": [
    {
     "data": {
      "image/png": "[encoded data removed]",
      "text/plain": [
       "<Figure size 864x432 with 1 Axes>"
      ]
     },
     "metadata": {},
     "output_type": "display_data"
    }
   ],
   "source": [
    "k_vals = np.arange(1,20) #number of neighbors parameter values range\n",
    "train_scores, valid_scores = validation_curve(clf, X_scaled, y,\"n_neighbors\",k_vals,cv=5)\n",
    "train_scores_mean = np.mean(train_scores, axis=1)\n",
    "valid_scores_mean = np.mean(valid_scores, axis=1)\n",
    "\n",
    "plt.figure(figsize=[12,6])\n",
    "plt.plot(k_vals, train_scores_mean, color='blue', label='training score')\n",
    "plt.plot(k_vals, valid_scores_mean, color='red', label='validation score')\n",
    "plt.legend(loc='best')\n",
    "plt.xlabel('k-neighbors (model complexity, high -> low)')\n",
    "plt.ylabel('score');"
   ]
  },
  {
   "cell_type": "markdown",
   "metadata": {},
   "source": [
    "As expected, we observe high variance for small number of neighbors and high bias for large number of neighbors. The optimal choice of $k$ is about 8 neighbors."
   ]
  },
  {
   "cell_type": "markdown",
   "metadata": {},
   "source": [
    "### Naive Bayes\n",
    "\n",
    "https://scikit-learn.org/stable/modules/naive_bayes.html\n",
    "\n",
    "Naive Bayes models can be trained faster than Linear Models. The boost in efficiency is caused by the fact that model learns parameters by looking at each feature individually and collect simple per-class statistics from each feature. Once calculated, the probability model can be used to make predictions for new data using Bayes theorem.\n",
    "\n",
    "The algorithm applies Bayes theorem with naive assumption of conditional independence between every pair of features given the value of the class variable. \n",
    "\n",
    "Bayes theorem:\n",
    "\n",
    "$P(class|data) = \\frac{P(data|class)P(class)}{P(data)}$\n",
    "\n",
    "\n",
    "The different naive Bayes classifiers differ mainly by the assumptions they make regarding the distribution of $P(class|data)$:\n",
    "\n",
    "- GaussianNB (can be applied to continious data);\n",
    "- BernoulliNB (can be applied to binary data);\n",
    "- MultinomialNB (usually assumes count data or fractional counts).\n",
    "\n",
    "\n",
    "Naive Bayes assumption of feature independence given class value is a strong assumption and unrealistic for real data, nevertheless, the technique is very effective for a large range of complex problems."
   ]
  },
  {
   "cell_type": "markdown",
   "metadata": {},
   "source": [
    "We apply GaussianNB for breast cancer dataset since all our features are continious. Other possibility is to discretize our continious values (create bins based on quantiles or percentiles) and fit the model with MultinomialNB."
   ]
  },
  {
   "cell_type": "code",
   "execution_count": 12,
   "metadata": {},
   "outputs": [
    {
     "data": {
      "text/plain": [
       "0.9420035149384886"
      ]
     },
     "execution_count": 12,
     "metadata": {},
     "output_type": "execute_result"
    }
   ],
   "source": [
    "from sklearn.naive_bayes import GaussianNB\n",
    "gnb = GaussianNB()\n",
    "gnb.fit(X,y)\n",
    "gnb.score(X,y)"
   ]
  },
  {
   "cell_type": "code",
   "execution_count": 13,
   "metadata": {},
   "outputs": [
    {
     "name": "stdout",
     "output_type": "stream",
     "text": [
      "Mean cv accuracy score (GaussianNB): 0.9385\n"
     ]
    }
   ],
   "source": [
    "sc = cross_val_score(gnb, X, y, cv=5)\n",
    "print(\"Mean cv accuracy score (GaussianNB): {:.4f}\".format(np.mean(sc)))"
   ]
  },
  {
   "cell_type": "markdown",
   "metadata": {},
   "source": [
    "Alternative solution for MultinomialNB with binning the data into quintiles (q=5)."
   ]
  },
  {
   "cell_type": "code",
   "execution_count": 14,
   "metadata": {},
   "outputs": [
    {
     "data": {
      "text/plain": [
       "0      4\n",
       "1      4\n",
       "2      4\n",
       "3      1\n",
       "4      4\n",
       "      ..\n",
       "564    4\n",
       "565    4\n",
       "566    3\n",
       "567    4\n",
       "568    0\n",
       "Name: mean radius, Length: 569, dtype: category\n",
       "Categories (5, int64): [0 < 1 < 2 < 3 < 4]"
      ]
     },
     "execution_count": 14,
     "metadata": {},
     "output_type": "execute_result"
    }
   ],
   "source": [
    "#quantile binning for one feature\n",
    "pd.qcut(df['mean radius'], 5, labels=list(range(5)))"
   ]
  },
  {
   "cell_type": "code",
   "execution_count": 15,
   "metadata": {
    "collapsed": true
   },
   "outputs": [],
   "source": [
    "#apply for all features\n",
    "df_q = pd.DataFrame()\n",
    "for col in df.loc[:,'mean radius':'worst fractal dimension']:\n",
    "    df_q[col] = pd.qcut(df[col], 5, labels=list(range(5)))"
   ]
  },
  {
   "cell_type": "code",
   "execution_count": 17,
   "metadata": {},
   "outputs": [
    {
     "data": {
      "text/html": [
       "<div>\n",
       "<style scoped>\n",
       "    .dataframe tbody tr th:only-of-type {\n",
       "        vertical-align: middle;\n",
       "    }\n",
       "\n",
       "    .dataframe tbody tr th {\n",
       "        vertical-align: top;\n",
       "    }\n",
       "\n",
       "    .dataframe thead th {\n",
       "        text-align: right;\n",
       "    }\n",
       "</style>\n",
       "<table border=\"1\" class=\"dataframe\">\n",
       "  <thead>\n",
       "    <tr style=\"text-align: right;\">\n",
       "      <th></th>\n",
       "      <th>target</th>\n",
       "      <th>mean radius</th>\n",
       "      <th>mean texture</th>\n",
       "      <th>mean perimeter</th>\n",
       "      <th>mean area</th>\n",
       "      <th>mean smoothness</th>\n",
       "      <th>mean compactness</th>\n",
       "      <th>mean concavity</th>\n",
       "      <th>mean concave points</th>\n",
       "      <th>mean symmetry</th>\n",
       "      <th>...</th>\n",
       "      <th>worst radius</th>\n",
       "      <th>worst texture</th>\n",
       "      <th>worst perimeter</th>\n",
       "      <th>worst area</th>\n",
       "      <th>worst smoothness</th>\n",
       "      <th>worst compactness</th>\n",
       "      <th>worst concavity</th>\n",
       "      <th>worst concave points</th>\n",
       "      <th>worst symmetry</th>\n",
       "      <th>worst fractal dimension</th>\n",
       "    </tr>\n",
       "  </thead>\n",
       "  <tbody>\n",
       "    <tr>\n",
       "      <th>0</th>\n",
       "      <td>1</td>\n",
       "      <td>4</td>\n",
       "      <td>0</td>\n",
       "      <td>4</td>\n",
       "      <td>4</td>\n",
       "      <td>4</td>\n",
       "      <td>4</td>\n",
       "      <td>4</td>\n",
       "      <td>4</td>\n",
       "      <td>4</td>\n",
       "      <td>...</td>\n",
       "      <td>4</td>\n",
       "      <td>0</td>\n",
       "      <td>4</td>\n",
       "      <td>4</td>\n",
       "      <td>4</td>\n",
       "      <td>4</td>\n",
       "      <td>4</td>\n",
       "      <td>4</td>\n",
       "      <td>4</td>\n",
       "      <td>4</td>\n",
       "    </tr>\n",
       "    <tr>\n",
       "      <th>1</th>\n",
       "      <td>1</td>\n",
       "      <td>4</td>\n",
       "      <td>1</td>\n",
       "      <td>4</td>\n",
       "      <td>4</td>\n",
       "      <td>1</td>\n",
       "      <td>1</td>\n",
       "      <td>3</td>\n",
       "      <td>3</td>\n",
       "      <td>2</td>\n",
       "      <td>...</td>\n",
       "      <td>4</td>\n",
       "      <td>1</td>\n",
       "      <td>4</td>\n",
       "      <td>4</td>\n",
       "      <td>1</td>\n",
       "      <td>2</td>\n",
       "      <td>2</td>\n",
       "      <td>4</td>\n",
       "      <td>2</td>\n",
       "      <td>3</td>\n",
       "    </tr>\n",
       "    <tr>\n",
       "      <th>2</th>\n",
       "      <td>1</td>\n",
       "      <td>4</td>\n",
       "      <td>3</td>\n",
       "      <td>4</td>\n",
       "      <td>4</td>\n",
       "      <td>4</td>\n",
       "      <td>4</td>\n",
       "      <td>4</td>\n",
       "      <td>4</td>\n",
       "      <td>4</td>\n",
       "      <td>...</td>\n",
       "      <td>4</td>\n",
       "      <td>2</td>\n",
       "      <td>4</td>\n",
       "      <td>4</td>\n",
       "      <td>3</td>\n",
       "      <td>4</td>\n",
       "      <td>4</td>\n",
       "      <td>4</td>\n",
       "      <td>4</td>\n",
       "      <td>3</td>\n",
       "    </tr>\n",
       "    <tr>\n",
       "      <th>3</th>\n",
       "      <td>1</td>\n",
       "      <td>1</td>\n",
       "      <td>3</td>\n",
       "      <td>1</td>\n",
       "      <td>0</td>\n",
       "      <td>4</td>\n",
       "      <td>4</td>\n",
       "      <td>4</td>\n",
       "      <td>4</td>\n",
       "      <td>4</td>\n",
       "      <td>...</td>\n",
       "      <td>2</td>\n",
       "      <td>2</td>\n",
       "      <td>2</td>\n",
       "      <td>1</td>\n",
       "      <td>4</td>\n",
       "      <td>4</td>\n",
       "      <td>4</td>\n",
       "      <td>4</td>\n",
       "      <td>4</td>\n",
       "      <td>4</td>\n",
       "    </tr>\n",
       "    <tr>\n",
       "      <th>4</th>\n",
       "      <td>1</td>\n",
       "      <td>4</td>\n",
       "      <td>0</td>\n",
       "      <td>4</td>\n",
       "      <td>4</td>\n",
       "      <td>3</td>\n",
       "      <td>3</td>\n",
       "      <td>4</td>\n",
       "      <td>4</td>\n",
       "      <td>2</td>\n",
       "      <td>...</td>\n",
       "      <td>4</td>\n",
       "      <td>0</td>\n",
       "      <td>4</td>\n",
       "      <td>4</td>\n",
       "      <td>2</td>\n",
       "      <td>2</td>\n",
       "      <td>3</td>\n",
       "      <td>3</td>\n",
       "      <td>0</td>\n",
       "      <td>1</td>\n",
       "    </tr>\n",
       "  </tbody>\n",
       "</table>\n",
       "<p>5 rows × 31 columns</p>\n",
       "</div>"
      ],
      "text/plain": [
       "   target mean radius mean texture mean perimeter mean area mean smoothness  \\\n",
       "0       1           4            0              4         4               4   \n",
       "1       1           4            1              4         4               1   \n",
       "2       1           4            3              4         4               4   \n",
       "3       1           1            3              1         0               4   \n",
       "4       1           4            0              4         4               3   \n",
       "\n",
       "  mean compactness mean concavity mean concave points mean symmetry  ...  \\\n",
       "0                4              4                   4             4  ...   \n",
       "1                1              3                   3             2  ...   \n",
       "2                4              4                   4             4  ...   \n",
       "3                4              4                   4             4  ...   \n",
       "4                3              4                   4             2  ...   \n",
       "\n",
       "  worst radius worst texture worst perimeter worst area worst smoothness  \\\n",
       "0            4             0               4          4                4   \n",
       "1            4             1               4          4                1   \n",
       "2            4             2               4          4                3   \n",
       "3            2             2               2          1                4   \n",
       "4            4             0               4          4                2   \n",
       "\n",
       "  worst compactness worst concavity worst concave points worst symmetry  \\\n",
       "0                 4               4                    4              4   \n",
       "1                 2               2                    4              2   \n",
       "2                 4               4                    4              4   \n",
       "3                 4               4                    4              4   \n",
       "4                 2               3                    3              0   \n",
       "\n",
       "  worst fractal dimension  \n",
       "0                       4  \n",
       "1                       3  \n",
       "2                       3  \n",
       "3                       4  \n",
       "4                       1  \n",
       "\n",
       "[5 rows x 31 columns]"
      ]
     },
     "execution_count": 17,
     "metadata": {},
     "output_type": "execute_result"
    }
   ],
   "source": [
    "df_q=pd.concat([df.target,df_q],axis=1)\n",
    "df_q.head()"
   ]
  },
  {
   "cell_type": "code",
   "execution_count": 18,
   "metadata": {},
   "outputs": [
    {
     "data": {
      "text/plain": [
       "0.8963093145869947"
      ]
     },
     "execution_count": 18,
     "metadata": {},
     "output_type": "execute_result"
    }
   ],
   "source": [
    "from sklearn.naive_bayes import MultinomialNB\n",
    "gnb = MultinomialNB()\n",
    "gnb.fit(X,y)\n",
    "gnb.score(X,y)"
   ]
  },
  {
   "cell_type": "code",
   "execution_count": 19,
   "metadata": {},
   "outputs": [
    {
     "name": "stdout",
     "output_type": "stream",
     "text": [
      "Mean cv accuracy score (MultinomialNB): 0.8963\n"
     ]
    }
   ],
   "source": [
    "sc = cross_val_score(gnb, X, y, cv=5)\n",
    "print(\"Mean cv accuracy score (MultinomialNB): {:.4f}\".format(np.mean(sc)))"
   ]
  },
  {
   "cell_type": "markdown",
   "metadata": {},
   "source": [
    "MultinomialNB is less accurate than GaussianNB since we made artificial multinomial features. MultinomialNB more often used for text anaysis, e.g. count number of word occurences."
   ]
  },
  {
   "cell_type": "markdown",
   "metadata": {},
   "source": [
    "## Mullti-class classification\n",
    "\n",
    "Many linear classification models are for binary classification only, and don’t extend naturally to the multiclass case (with the exception of logistic regression). A common technique to extend a binary classification algorithm to a multiclass classification algorithm is the **one-vs.-rest approach**.\n",
    "\n",
    "In the **one-vs.-rest approach**, a binary model is learned for each class that tries to separate that class from all of the other classes, resulting in as many binary models as there are classes. To make a prediction, all binary classifiers are run on a test point. The classifier that has the highest score on its single class “wins,” and this class label is returned as the prediction."
   ]
  },
  {
   "cell_type": "code",
   "execution_count": 21,
   "metadata": {
    "scrolled": true
   },
   "outputs": [
    {
     "name": "stdout",
     "output_type": "stream",
     "text": [
      ".. _iris_dataset:\n",
      "\n",
      "Iris plants dataset\n",
      "--------------------\n",
      "\n",
      "**Data Set Characteristics:**\n",
      "\n",
      "    :Number of Instances: 150 (50 in each of three classes)\n",
      "    :Number of Attributes: 4 numeric, predictive attributes and the class\n",
      "    :Attribute Information:\n",
      "        - sepal length in cm\n",
      "        - sepal width in cm\n",
      "        - petal length in cm\n",
      "        - petal width in cm\n",
      "        - class:\n",
      "                - Iris-Setosa\n",
      "                - Iris-Versicolour\n",
      "                - Iris-Virginica\n",
      "                \n",
      "    :Summary Statistics:\n",
      "\n",
      "    ============== ==== ==== ======= ===== ====================\n",
      "                    Min  Max   Mean    SD   Class Correlation\n",
      "    ============== ==== ==== ======= ===== ====================\n",
      "    sepal length:   4.3  7.9   5.84   0.83    0.7826\n",
      "    sepal width:    2.0  4.4   3.05   0.43   -0.4194\n",
      "    petal length:   1.0  6.9   3.76   1.76    0.9490  (high!)\n",
      "    petal width:    0.1  2.5   1.20   0.76    0.9565  (high!)\n",
      "    ============== ==== ==== ======= ===== ====================\n",
      "\n",
      "    :Missing Attribute Values: None\n",
      "    :Class Distribution: 33.3% for each of 3 classes.\n",
      "    :Creator: R.A. Fisher\n",
      "    :Donor: Michael Marshall (MARSHALL%PLU@io.arc.nasa.gov)\n",
      "    :Date: July, 1988\n",
      "\n",
      "The famous Iris database, first used by Sir R.A. Fisher. The dataset is taken\n",
      "from Fisher's paper. Note that it's the same as in R, but not as in the UCI\n",
      "Machine Learning Repository, which has two wrong data points.\n",
      "\n",
      "This is perhaps the best known database to be found in the\n",
      "pattern recognition literature.  Fisher's paper is a classic in the field and\n",
      "is referenced frequently to this day.  (See Duda & Hart, for example.)  The\n",
      "data set contains 3 classes of 50 instances each, where each class refers to a\n",
      "type of iris plant.  One class is linearly separable from the other 2; the\n",
      "latter are NOT linearly separable from each other.\n",
      "\n",
      ".. topic:: References\n",
      "\n",
      "   - Fisher, R.A. \"The use of multiple measurements in taxonomic problems\"\n",
      "     Annual Eugenics, 7, Part II, 179-188 (1936); also in \"Contributions to\n",
      "     Mathematical Statistics\" (John Wiley, NY, 1950).\n",
      "   - Duda, R.O., & Hart, P.E. (1973) Pattern Classification and Scene Analysis.\n",
      "     (Q327.D83) John Wiley & Sons.  ISBN 0-471-22361-1.  See page 218.\n",
      "   - Dasarathy, B.V. (1980) \"Nosing Around the Neighborhood: A New System\n",
      "     Structure and Classification Rule for Recognition in Partially Exposed\n",
      "     Environments\".  IEEE Transactions on Pattern Analysis and Machine\n",
      "     Intelligence, Vol. PAMI-2, No. 1, 67-71.\n",
      "   - Gates, G.W. (1972) \"The Reduced Nearest Neighbor Rule\".  IEEE Transactions\n",
      "     on Information Theory, May 1972, 431-433.\n",
      "   - See also: 1988 MLC Proceedings, 54-64.  Cheeseman et al\"s AUTOCLASS II\n",
      "     conceptual clustering system finds 3 classes in the data.\n",
      "   - Many, many more ...\n"
     ]
    }
   ],
   "source": [
    "#load multi-class Iris plants classification dataset\n",
    "from sklearn.datasets import load_iris\n",
    "md = load_iris()\n",
    "print(md.DESCR)"
   ]
  },
  {
   "cell_type": "markdown",
   "metadata": {},
   "source": [
    "### One-vs.-rest approach\n",
    "\n",
    "We use Logistic Regression to fit using one-vs.-rest approach."
   ]
  },
  {
   "cell_type": "code",
   "execution_count": 25,
   "metadata": {},
   "outputs": [
    {
     "data": {
      "text/plain": [
       "(3, 4)"
      ]
     },
     "execution_count": 25,
     "metadata": {},
     "output_type": "execute_result"
    }
   ],
   "source": [
    "clf = LogisticRegression(multi_class='ovr',solver='liblinear').fit(md.data,md.target) #force binary classifier\n",
    "clf.coef_.shape"
   ]
  },
  {
   "cell_type": "markdown",
   "metadata": {},
   "source": [
    "Each row contains the coef vector for one of the three classes and in each column contains the coef value for specific predictor."
   ]
  },
  {
   "cell_type": "code",
   "execution_count": 27,
   "metadata": {},
   "outputs": [
    {
     "name": "stdout",
     "output_type": "stream",
     "text": [
      "Mean cv accuracy score (one-vs.-rest, LogisticRegression): 0.96\n"
     ]
    }
   ],
   "source": [
    "sc = cross_val_score(clf, md.data, md.target, cv=5)\n",
    "print(\"Mean cv accuracy score (one-vs.-rest, LogisticRegression): {:.2f}\".format(np.mean(sc)))"
   ]
  },
  {
   "cell_type": "markdown",
   "metadata": {},
   "source": [
    "### Multinomial Logit\n",
    "\n",
    "Logistic Regression allows to handle multi-class classification problems as opposite to one-vs.-rest approach."
   ]
  },
  {
   "cell_type": "code",
   "execution_count": 32,
   "metadata": {},
   "outputs": [
    {
     "data": {
      "text/plain": [
       "(3, 4)"
      ]
     },
     "execution_count": 32,
     "metadata": {},
     "output_type": "execute_result"
    }
   ],
   "source": [
    "clf = LogisticRegression(multi_class='multinomial',solver='newton-cg').fit(md.data,md.target)\n",
    "clf.coef_.shape"
   ]
  },
  {
   "cell_type": "code",
   "execution_count": 33,
   "metadata": {},
   "outputs": [
    {
     "name": "stdout",
     "output_type": "stream",
     "text": [
      "Mean cv accuracy score (Multinomial LogisticRegression): 0.97\n"
     ]
    }
   ],
   "source": [
    "sc = cross_val_score(clf, md.data, md.target, cv=5)\n",
    "print(\"Mean cv accuracy score (Multinomial LogisticRegression): {:.2f}\".format(np.mean(sc)))"
   ]
  },
  {
   "cell_type": "markdown",
   "metadata": {},
   "source": [
    "https://scikit-learn.org/stable/auto_examples/linear_model/plot_logistic_multinomial.html"
   ]
  },
  {
   "cell_type": "markdown",
   "metadata": {},
   "source": [
    "### k-Nearest Neighbors\n",
    "\n",
    "kNN for multi-class problem simply computes the majority class for the number of nearby points for each class of the target variable."
   ]
  },
  {
   "cell_type": "code",
   "execution_count": 46,
   "metadata": {},
   "outputs": [
    {
     "data": {
      "text/plain": [
       "0.96"
      ]
     },
     "execution_count": 46,
     "metadata": {},
     "output_type": "execute_result"
    }
   ],
   "source": [
    "from sklearn.neighbors import KNeighborsClassifier\n",
    "\n",
    "kn = KNeighborsClassifier(n_neighbors=3)\n",
    "kn.fit(md.data,md.target)\n",
    "kn.score(md.data,md.target)"
   ]
  },
  {
   "cell_type": "code",
   "execution_count": 48,
   "metadata": {},
   "outputs": [
    {
     "data": {
      "text/plain": [
       "array([0, 1, 2])"
      ]
     },
     "execution_count": 48,
     "metadata": {},
     "output_type": "execute_result"
    }
   ],
   "source": [
    "kn.classes_"
   ]
  },
  {
   "cell_type": "code",
   "execution_count": 47,
   "metadata": {},
   "outputs": [
    {
     "name": "stdout",
     "output_type": "stream",
     "text": [
      "Mean cv accuracy score (kNN=3,multi-class): 0.97\n"
     ]
    }
   ],
   "source": [
    "sc = cross_val_score(clf, md.data, md.target, cv=5)\n",
    "print(\"Mean cv accuracy score (kNN=3,multi-class): {:.2f}\".format(np.mean(sc)))"
   ]
  },
  {
   "cell_type": "markdown",
   "metadata": {},
   "source": [
    "### Naive Bayes\n",
    "\n",
    "One-vs.-rest classification is implemented via OneVsRestClassifier class of multiclass module. We can use it to fit the Naive Bayes model for multi-class problem."
   ]
  },
  {
   "cell_type": "code",
   "execution_count": 40,
   "metadata": {},
   "outputs": [
    {
     "data": {
      "text/plain": [
       "0.94"
      ]
     },
     "execution_count": 40,
     "metadata": {},
     "output_type": "execute_result"
    }
   ],
   "source": [
    "from sklearn.multiclass import OneVsRestClassifier\n",
    "nb = OneVsRestClassifier(GaussianNB())\n",
    "nb.fit(md.data,md.target)\n",
    "nb.score(md.data,md.target)"
   ]
  },
  {
   "cell_type": "code",
   "execution_count": 41,
   "metadata": {},
   "outputs": [
    {
     "data": {
      "text/plain": [
       "(array([0, 1, 2]),\n",
       " [GaussianNB(priors=None, var_smoothing=1e-09),\n",
       "  GaussianNB(priors=None, var_smoothing=1e-09),\n",
       "  GaussianNB(priors=None, var_smoothing=1e-09)])"
      ]
     },
     "execution_count": 41,
     "metadata": {},
     "output_type": "execute_result"
    }
   ],
   "source": [
    "nb.classes_,nb.estimators_"
   ]
  },
  {
   "cell_type": "code",
   "execution_count": 38,
   "metadata": {},
   "outputs": [
    {
     "name": "stdout",
     "output_type": "stream",
     "text": [
      "Mean cv accuracy score (GaussianNB,multi-class): 0.94\n"
     ]
    }
   ],
   "source": [
    "sc = cross_val_score(nb, md.data, md.target, cv=5)\n",
    "print(\"Mean cv accuracy score (GaussianNB,multi-class): {:.2f}\".format(np.mean(sc)))"
   ]
  },
  {
   "cell_type": "markdown",
   "metadata": {},
   "source": [
    "### Sum up\n",
    "\n",
    "**Linear Models** are interpretable, easy to scale, perform well with sparse data (large number of zeros), good choice if the number of features is larger than number of samples. But for small datasets with lower-dimensional spaces, other models provide better generalization performance.\n",
    "\n",
    "**Instance based models** are easy to train and fast to apply, but there is a trade-off for interpretability, scalability and generalization performance.\n",
    "\n",
    "**Bayesian model** may perform surprisingly well and fast given the unrealistic assumptions it requires."
   ]
  },
  {
   "cell_type": "markdown",
   "metadata": {},
   "source": [
    "### Grid Search & Model Selection\n",
    "\n",
    "Grid Search with cross-validation is used to train the model and tune model parameters on validation sets. Model is evaluated based on default scoring or advanced scroring metrics. Model performance is checked against test set.\n",
    "\n",
    "Let's see the core routine with Grid Search and Model Selection for Kaggle's dataset on Customer Churning.\n",
    "\n",
    "https://www.kaggle.com/blastchar/telco-customer-churn#WA_Fn-UseC_-Telco-Customer-Churn.csv"
   ]
  },
  {
   "cell_type": "code",
   "execution_count": 138,
   "metadata": {},
   "outputs": [
    {
     "name": "stdout",
     "output_type": "stream",
     "text": [
      "/Users/mk/Documents/ml/data\n"
     ]
    }
   ],
   "source": [
    "cd '/Users/mk/Documents/ml/data/'"
   ]
  },
  {
   "cell_type": "code",
   "execution_count": 139,
   "metadata": {
    "collapsed": true
   },
   "outputs": [],
   "source": [
    "cc = pd.read_csv('ClientChurn.csv')"
   ]
  },
  {
   "cell_type": "code",
   "execution_count": 101,
   "metadata": {
    "scrolled": true
   },
   "outputs": [
    {
     "name": "stdout",
     "output_type": "stream",
     "text": [
      "<class 'pandas.core.frame.DataFrame'>\n",
      "RangeIndex: 7043 entries, 0 to 7042\n",
      "Data columns (total 21 columns):\n",
      " #   Column            Non-Null Count  Dtype  \n",
      "---  ------            --------------  -----  \n",
      " 0   customerID        7043 non-null   object \n",
      " 1   gender            7043 non-null   object \n",
      " 2   SeniorCitizen     7043 non-null   int64  \n",
      " 3   Partner           7043 non-null   object \n",
      " 4   Dependents        7043 non-null   object \n",
      " 5   tenure            7043 non-null   int64  \n",
      " 6   PhoneService      7043 non-null   object \n",
      " 7   MultipleLines     7043 non-null   object \n",
      " 8   InternetService   7043 non-null   object \n",
      " 9   OnlineSecurity    7043 non-null   object \n",
      " 10  OnlineBackup      7043 non-null   object \n",
      " 11  DeviceProtection  7043 non-null   object \n",
      " 12  TechSupport       7043 non-null   object \n",
      " 13  StreamingTV       7043 non-null   object \n",
      " 14  StreamingMovies   7043 non-null   object \n",
      " 15  Contract          7043 non-null   object \n",
      " 16  PaperlessBilling  7043 non-null   object \n",
      " 17  PaymentMethod     7043 non-null   object \n",
      " 18  MonthlyCharges    7043 non-null   float64\n",
      " 19  TotalCharges      7043 non-null   object \n",
      " 20  Churn             7043 non-null   object \n",
      "dtypes: float64(1), int64(2), object(18)\n",
      "memory usage: 1.1+ MB\n"
     ]
    }
   ],
   "source": [
    "cc.info()"
   ]
  },
  {
   "cell_type": "code",
   "execution_count": 104,
   "metadata": {
    "collapsed": true
   },
   "outputs": [],
   "source": [
    "for col in cc.columns:\n",
    "    if(cc[col].dtype == 'object'):\n",
    "        cc[col]= cc[col].astype('category') #transform object data type to categorical\n",
    "        cc[col] = cc[col].cat.codes #assign numeric codes for each category within column"
   ]
  },
  {
   "cell_type": "code",
   "execution_count": 106,
   "metadata": {},
   "outputs": [
    {
     "data": {
      "text/plain": [
       "0    5174\n",
       "1    1869\n",
       "Name: Churn, dtype: int64"
      ]
     },
     "execution_count": 106,
     "metadata": {},
     "output_type": "execute_result"
    }
   ],
   "source": [
    "cc.Churn.value_counts() #imbalanced dataset"
   ]
  },
  {
   "cell_type": "code",
   "execution_count": 116,
   "metadata": {},
   "outputs": [
    {
     "name": "stdout",
     "output_type": "stream",
     "text": [
      "Parameter grid:\n",
      "[{'solver': ['liblinear'], 'C': [0.001, 0.01, 0.1, 1, 10, 100], 'penalty': ['l1', 'l2']}]\n",
      "Best parameters:\n",
      "{'C': 10, 'penalty': 'l2', 'solver': 'liblinear'}\n"
     ]
    }
   ],
   "source": [
    "from sklearn.model_selection import GridSearchCV, train_test_split\n",
    "#conceal test set (30% of sample) in advance to check model performance\n",
    "X_train, X_test, y_train, y_test = train_test_split(cc.iloc[:,1:19], cc.Churn, test_size=0.3, random_state=42)\n",
    "\n",
    "#we'll train  Logistic Regression with various solvers and regularization parameters\n",
    "param_grid = [{'solver': ['liblinear'],'C': [0.001, 0.01, 0.1, 1, 10, 100],\n",
    "               'penalty': ['l1','l2']}]\n",
    "\n",
    "grid = GridSearchCV(LogisticRegression(), param_grid, cv=5, return_train_score=False)\n",
    "\n",
    "\n",
    "grid.fit(X_train, y_train);\n",
    "print(\"Parameter grid:\\n{}\\nBest parameters:\\n{}\".format(param_grid,grid.best_params_))"
   ]
  },
  {
   "cell_type": "code",
   "execution_count": 117,
   "metadata": {},
   "outputs": [
    {
     "name": "stdout",
     "output_type": "stream",
     "text": [
      "Best cross-validation accuracy score: 0.80\n",
      "Test set accuracy score: 0.81\n"
     ]
    }
   ],
   "source": [
    "print(\"Best cross-validation accuracy score: {:.2f}\\nTest set accuracy score: {:.2f}\".format(grid.best_score_,grid.score(X_test, y_test)))"
   ]
  },
  {
   "cell_type": "code",
   "execution_count": 118,
   "metadata": {
    "scrolled": true
   },
   "outputs": [
    {
     "data": {
      "text/html": [
       "<div>\n",
       "<style scoped>\n",
       "    .dataframe tbody tr th:only-of-type {\n",
       "        vertical-align: middle;\n",
       "    }\n",
       "\n",
       "    .dataframe tbody tr th {\n",
       "        vertical-align: top;\n",
       "    }\n",
       "\n",
       "    .dataframe thead th {\n",
       "        text-align: right;\n",
       "    }\n",
       "</style>\n",
       "<table border=\"1\" class=\"dataframe\">\n",
       "  <thead>\n",
       "    <tr style=\"text-align: right;\">\n",
       "      <th></th>\n",
       "      <th>mean_fit_time</th>\n",
       "      <th>std_fit_time</th>\n",
       "      <th>mean_score_time</th>\n",
       "      <th>std_score_time</th>\n",
       "      <th>param_C</th>\n",
       "      <th>param_penalty</th>\n",
       "      <th>param_solver</th>\n",
       "      <th>params</th>\n",
       "      <th>split0_test_score</th>\n",
       "      <th>split1_test_score</th>\n",
       "      <th>split2_test_score</th>\n",
       "      <th>split3_test_score</th>\n",
       "      <th>split4_test_score</th>\n",
       "      <th>mean_test_score</th>\n",
       "      <th>std_test_score</th>\n",
       "      <th>rank_test_score</th>\n",
       "    </tr>\n",
       "  </thead>\n",
       "  <tbody>\n",
       "    <tr>\n",
       "      <th>0</th>\n",
       "      <td>0.009054</td>\n",
       "      <td>0.001017</td>\n",
       "      <td>0.001508</td>\n",
       "      <td>0.000274</td>\n",
       "      <td>0.001</td>\n",
       "      <td>l1</td>\n",
       "      <td>liblinear</td>\n",
       "      <td>{'C': 0.001, 'penalty': 'l1', 'solver': 'libli...</td>\n",
       "      <td>0.774848</td>\n",
       "      <td>0.754564</td>\n",
       "      <td>0.753550</td>\n",
       "      <td>0.777890</td>\n",
       "      <td>0.752535</td>\n",
       "      <td>0.762677</td>\n",
       "      <td>0.011239</td>\n",
       "      <td>12</td>\n",
       "    </tr>\n",
       "    <tr>\n",
       "      <th>1</th>\n",
       "      <td>0.009517</td>\n",
       "      <td>0.000338</td>\n",
       "      <td>0.001183</td>\n",
       "      <td>0.000105</td>\n",
       "      <td>0.001</td>\n",
       "      <td>l2</td>\n",
       "      <td>liblinear</td>\n",
       "      <td>{'C': 0.001, 'penalty': 'l2', 'solver': 'libli...</td>\n",
       "      <td>0.807302</td>\n",
       "      <td>0.782961</td>\n",
       "      <td>0.775862</td>\n",
       "      <td>0.786004</td>\n",
       "      <td>0.784990</td>\n",
       "      <td>0.787424</td>\n",
       "      <td>0.010552</td>\n",
       "      <td>11</td>\n",
       "    </tr>\n",
       "    <tr>\n",
       "      <th>2</th>\n",
       "      <td>0.009445</td>\n",
       "      <td>0.000391</td>\n",
       "      <td>0.001119</td>\n",
       "      <td>0.000043</td>\n",
       "      <td>0.01</td>\n",
       "      <td>l1</td>\n",
       "      <td>liblinear</td>\n",
       "      <td>{'C': 0.01, 'penalty': 'l1', 'solver': 'liblin...</td>\n",
       "      <td>0.807302</td>\n",
       "      <td>0.790061</td>\n",
       "      <td>0.781947</td>\n",
       "      <td>0.780933</td>\n",
       "      <td>0.788032</td>\n",
       "      <td>0.789655</td>\n",
       "      <td>0.009484</td>\n",
       "      <td>10</td>\n",
       "    </tr>\n",
       "    <tr>\n",
       "      <th>3</th>\n",
       "      <td>0.012138</td>\n",
       "      <td>0.000109</td>\n",
       "      <td>0.001093</td>\n",
       "      <td>0.000005</td>\n",
       "      <td>0.01</td>\n",
       "      <td>l2</td>\n",
       "      <td>liblinear</td>\n",
       "      <td>{'C': 0.01, 'penalty': 'l2', 'solver': 'liblin...</td>\n",
       "      <td>0.806288</td>\n",
       "      <td>0.803245</td>\n",
       "      <td>0.782961</td>\n",
       "      <td>0.790061</td>\n",
       "      <td>0.801217</td>\n",
       "      <td>0.796755</td>\n",
       "      <td>0.008809</td>\n",
       "      <td>9</td>\n",
       "    </tr>\n",
       "    <tr>\n",
       "      <th>4</th>\n",
       "      <td>0.023118</td>\n",
       "      <td>0.001060</td>\n",
       "      <td>0.001256</td>\n",
       "      <td>0.000103</td>\n",
       "      <td>0.1</td>\n",
       "      <td>l1</td>\n",
       "      <td>liblinear</td>\n",
       "      <td>{'C': 0.1, 'penalty': 'l1', 'solver': 'libline...</td>\n",
       "      <td>0.802231</td>\n",
       "      <td>0.809331</td>\n",
       "      <td>0.784990</td>\n",
       "      <td>0.795132</td>\n",
       "      <td>0.798174</td>\n",
       "      <td>0.797972</td>\n",
       "      <td>0.008047</td>\n",
       "      <td>8</td>\n",
       "    </tr>\n",
       "    <tr>\n",
       "      <th>5</th>\n",
       "      <td>0.014010</td>\n",
       "      <td>0.000710</td>\n",
       "      <td>0.001094</td>\n",
       "      <td>0.000009</td>\n",
       "      <td>0.1</td>\n",
       "      <td>l2</td>\n",
       "      <td>liblinear</td>\n",
       "      <td>{'C': 0.1, 'penalty': 'l2', 'solver': 'libline...</td>\n",
       "      <td>0.805274</td>\n",
       "      <td>0.804260</td>\n",
       "      <td>0.786004</td>\n",
       "      <td>0.793103</td>\n",
       "      <td>0.802231</td>\n",
       "      <td>0.798174</td>\n",
       "      <td>0.007453</td>\n",
       "      <td>7</td>\n",
       "    </tr>\n",
       "    <tr>\n",
       "      <th>6</th>\n",
       "      <td>0.025886</td>\n",
       "      <td>0.001169</td>\n",
       "      <td>0.001103</td>\n",
       "      <td>0.000012</td>\n",
       "      <td>1</td>\n",
       "      <td>l1</td>\n",
       "      <td>liblinear</td>\n",
       "      <td>{'C': 1, 'penalty': 'l1', 'solver': 'liblinear'}</td>\n",
       "      <td>0.807302</td>\n",
       "      <td>0.806288</td>\n",
       "      <td>0.786004</td>\n",
       "      <td>0.793103</td>\n",
       "      <td>0.802231</td>\n",
       "      <td>0.798986</td>\n",
       "      <td>0.008199</td>\n",
       "      <td>5</td>\n",
       "    </tr>\n",
       "    <tr>\n",
       "      <th>7</th>\n",
       "      <td>0.014595</td>\n",
       "      <td>0.000870</td>\n",
       "      <td>0.001125</td>\n",
       "      <td>0.000045</td>\n",
       "      <td>1</td>\n",
       "      <td>l2</td>\n",
       "      <td>liblinear</td>\n",
       "      <td>{'C': 1, 'penalty': 'l2', 'solver': 'liblinear'}</td>\n",
       "      <td>0.805274</td>\n",
       "      <td>0.806288</td>\n",
       "      <td>0.784990</td>\n",
       "      <td>0.795132</td>\n",
       "      <td>0.801217</td>\n",
       "      <td>0.798580</td>\n",
       "      <td>0.007845</td>\n",
       "      <td>6</td>\n",
       "    </tr>\n",
       "    <tr>\n",
       "      <th>8</th>\n",
       "      <td>0.026708</td>\n",
       "      <td>0.000651</td>\n",
       "      <td>0.001221</td>\n",
       "      <td>0.000062</td>\n",
       "      <td>10</td>\n",
       "      <td>l1</td>\n",
       "      <td>liblinear</td>\n",
       "      <td>{'C': 10, 'penalty': 'l1', 'solver': 'liblinear'}</td>\n",
       "      <td>0.806288</td>\n",
       "      <td>0.806288</td>\n",
       "      <td>0.786004</td>\n",
       "      <td>0.795132</td>\n",
       "      <td>0.804260</td>\n",
       "      <td>0.799594</td>\n",
       "      <td>0.007950</td>\n",
       "      <td>4</td>\n",
       "    </tr>\n",
       "    <tr>\n",
       "      <th>9</th>\n",
       "      <td>0.015796</td>\n",
       "      <td>0.001502</td>\n",
       "      <td>0.001287</td>\n",
       "      <td>0.000145</td>\n",
       "      <td>10</td>\n",
       "      <td>l2</td>\n",
       "      <td>liblinear</td>\n",
       "      <td>{'C': 10, 'penalty': 'l2', 'solver': 'liblinear'}</td>\n",
       "      <td>0.807302</td>\n",
       "      <td>0.806288</td>\n",
       "      <td>0.786004</td>\n",
       "      <td>0.795132</td>\n",
       "      <td>0.804260</td>\n",
       "      <td>0.799797</td>\n",
       "      <td>0.008129</td>\n",
       "      <td>1</td>\n",
       "    </tr>\n",
       "    <tr>\n",
       "      <th>10</th>\n",
       "      <td>0.027693</td>\n",
       "      <td>0.001509</td>\n",
       "      <td>0.001390</td>\n",
       "      <td>0.000060</td>\n",
       "      <td>100</td>\n",
       "      <td>l1</td>\n",
       "      <td>liblinear</td>\n",
       "      <td>{'C': 100, 'penalty': 'l1', 'solver': 'libline...</td>\n",
       "      <td>0.807302</td>\n",
       "      <td>0.806288</td>\n",
       "      <td>0.786004</td>\n",
       "      <td>0.795132</td>\n",
       "      <td>0.804260</td>\n",
       "      <td>0.799797</td>\n",
       "      <td>0.008129</td>\n",
       "      <td>1</td>\n",
       "    </tr>\n",
       "    <tr>\n",
       "      <th>11</th>\n",
       "      <td>0.015417</td>\n",
       "      <td>0.001006</td>\n",
       "      <td>0.001226</td>\n",
       "      <td>0.000023</td>\n",
       "      <td>100</td>\n",
       "      <td>l2</td>\n",
       "      <td>liblinear</td>\n",
       "      <td>{'C': 100, 'penalty': 'l2', 'solver': 'libline...</td>\n",
       "      <td>0.807302</td>\n",
       "      <td>0.806288</td>\n",
       "      <td>0.786004</td>\n",
       "      <td>0.795132</td>\n",
       "      <td>0.804260</td>\n",
       "      <td>0.799797</td>\n",
       "      <td>0.008129</td>\n",
       "      <td>1</td>\n",
       "    </tr>\n",
       "  </tbody>\n",
       "</table>\n",
       "</div>"
      ],
      "text/plain": [
       "    mean_fit_time  std_fit_time  mean_score_time  std_score_time param_C  \\\n",
       "0        0.009054      0.001017         0.001508        0.000274   0.001   \n",
       "1        0.009517      0.000338         0.001183        0.000105   0.001   \n",
       "2        0.009445      0.000391         0.001119        0.000043    0.01   \n",
       "3        0.012138      0.000109         0.001093        0.000005    0.01   \n",
       "4        0.023118      0.001060         0.001256        0.000103     0.1   \n",
       "5        0.014010      0.000710         0.001094        0.000009     0.1   \n",
       "6        0.025886      0.001169         0.001103        0.000012       1   \n",
       "7        0.014595      0.000870         0.001125        0.000045       1   \n",
       "8        0.026708      0.000651         0.001221        0.000062      10   \n",
       "9        0.015796      0.001502         0.001287        0.000145      10   \n",
       "10       0.027693      0.001509         0.001390        0.000060     100   \n",
       "11       0.015417      0.001006         0.001226        0.000023     100   \n",
       "\n",
       "   param_penalty param_solver  \\\n",
       "0             l1    liblinear   \n",
       "1             l2    liblinear   \n",
       "2             l1    liblinear   \n",
       "3             l2    liblinear   \n",
       "4             l1    liblinear   \n",
       "5             l2    liblinear   \n",
       "6             l1    liblinear   \n",
       "7             l2    liblinear   \n",
       "8             l1    liblinear   \n",
       "9             l2    liblinear   \n",
       "10            l1    liblinear   \n",
       "11            l2    liblinear   \n",
       "\n",
       "                                               params  split0_test_score  \\\n",
       "0   {'C': 0.001, 'penalty': 'l1', 'solver': 'libli...           0.774848   \n",
       "1   {'C': 0.001, 'penalty': 'l2', 'solver': 'libli...           0.807302   \n",
       "2   {'C': 0.01, 'penalty': 'l1', 'solver': 'liblin...           0.807302   \n",
       "3   {'C': 0.01, 'penalty': 'l2', 'solver': 'liblin...           0.806288   \n",
       "4   {'C': 0.1, 'penalty': 'l1', 'solver': 'libline...           0.802231   \n",
       "5   {'C': 0.1, 'penalty': 'l2', 'solver': 'libline...           0.805274   \n",
       "6    {'C': 1, 'penalty': 'l1', 'solver': 'liblinear'}           0.807302   \n",
       "7    {'C': 1, 'penalty': 'l2', 'solver': 'liblinear'}           0.805274   \n",
       "8   {'C': 10, 'penalty': 'l1', 'solver': 'liblinear'}           0.806288   \n",
       "9   {'C': 10, 'penalty': 'l2', 'solver': 'liblinear'}           0.807302   \n",
       "10  {'C': 100, 'penalty': 'l1', 'solver': 'libline...           0.807302   \n",
       "11  {'C': 100, 'penalty': 'l2', 'solver': 'libline...           0.807302   \n",
       "\n",
       "    split1_test_score  split2_test_score  split3_test_score  \\\n",
       "0            0.754564           0.753550           0.777890   \n",
       "1            0.782961           0.775862           0.786004   \n",
       "2            0.790061           0.781947           0.780933   \n",
       "3            0.803245           0.782961           0.790061   \n",
       "4            0.809331           0.784990           0.795132   \n",
       "5            0.804260           0.786004           0.793103   \n",
       "6            0.806288           0.786004           0.793103   \n",
       "7            0.806288           0.784990           0.795132   \n",
       "8            0.806288           0.786004           0.795132   \n",
       "9            0.806288           0.786004           0.795132   \n",
       "10           0.806288           0.786004           0.795132   \n",
       "11           0.806288           0.786004           0.795132   \n",
       "\n",
       "    split4_test_score  mean_test_score  std_test_score  rank_test_score  \n",
       "0            0.752535         0.762677        0.011239               12  \n",
       "1            0.784990         0.787424        0.010552               11  \n",
       "2            0.788032         0.789655        0.009484               10  \n",
       "3            0.801217         0.796755        0.008809                9  \n",
       "4            0.798174         0.797972        0.008047                8  \n",
       "5            0.802231         0.798174        0.007453                7  \n",
       "6            0.802231         0.798986        0.008199                5  \n",
       "7            0.801217         0.798580        0.007845                6  \n",
       "8            0.804260         0.799594        0.007950                4  \n",
       "9            0.804260         0.799797        0.008129                1  \n",
       "10           0.804260         0.799797        0.008129                1  \n",
       "11           0.804260         0.799797        0.008129                1  "
      ]
     },
     "execution_count": 118,
     "metadata": {},
     "output_type": "execute_result"
    }
   ],
   "source": [
    "results_acc = pd.DataFrame(grid.cv_results_)\n",
    "results_acc"
   ]
  },
  {
   "cell_type": "code",
   "execution_count": 127,
   "metadata": {
    "collapsed": true
   },
   "outputs": [],
   "source": [
    "scores = np.array(results_acc.mean_test_score).reshape(2,6).T\n",
    "scores = pd.DataFrame(scores,\n",
    "                     index=[0.001, 0.01, 0.1, 1, 10, 100],\n",
    "                     columns=['l1','l2'])"
   ]
  },
  {
   "cell_type": "code",
   "execution_count": 131,
   "metadata": {},
   "outputs": [
    {
     "data": {
      "text/plain": [
       "<matplotlib.axes._subplots.AxesSubplot at 0x12bef3940>"
      ]
     },
     "execution_count": 131,
     "metadata": {},
     "output_type": "execute_result"
    },
    {
     "data": {
      "image/png": "[encoded data removed]",
      "text/plain": [
       "<Figure size 720x360 with 2 Axes>"
      ]
     },
     "metadata": {
      "needs_background": "light"
     },
     "output_type": "display_data"
    }
   ],
   "source": [
    "plt.figure(figsize=(10,5))\n",
    "sns.heatmap(scores,vmin=0,vmax=1,annot=True)"
   ]
  },
  {
   "cell_type": "code",
   "execution_count": 145,
   "metadata": {},
   "outputs": [
    {
     "name": "stdout",
     "output_type": "stream",
     "text": [
      "Parameter grid:\n",
      "[{'solver': ['liblinear'], 'C': [0.001, 0.01, 0.1, 1, 10, 100], 'penalty': ['l1', 'l2']}]\n",
      "Best parameters:\n",
      "{'C': 10, 'penalty': 'l2', 'solver': 'liblinear'}\n"
     ]
    }
   ],
   "source": [
    "from sklearn.metrics import f1_score, make_scorer\n",
    "\n",
    "grid = GridSearchCV(LogisticRegression(), param_grid, cv=5, return_train_score=False,\n",
    "                   scoring=make_scorer(f1_score,greater_is_better=True,average='macro'))\n",
    "\n",
    "grid.fit(X_train, y_train)\n",
    "print(\"Parameter grid:\\n{}\\nBest parameters:\\n{}\".format(param_grid,grid.best_params_))"
   ]
  },
  {
   "cell_type": "code",
   "execution_count": 146,
   "metadata": {},
   "outputs": [
    {
     "name": "stdout",
     "output_type": "stream",
     "text": [
      "Best cross-validation f1 score: 0.72\n",
      "Test set f1 score: 0.75\n"
     ]
    }
   ],
   "source": [
    "print(\"Best cross-validation f1 score: {:.2f}\\nTest set f1 score: {:.2f}\".format(grid.best_score_,grid.score(X_test, y_test)))"
   ]
  },
  {
   "cell_type": "code",
   "execution_count": 143,
   "metadata": {},
   "outputs": [
    {
     "data": {
      "text/plain": [
       "make_scorer(f1_score, average=micro)"
      ]
     },
     "execution_count": 143,
     "metadata": {},
     "output_type": "execute_result"
    }
   ],
   "source": [
    "grid.scorer_"
   ]
  },
  {
   "cell_type": "markdown",
   "metadata": {},
   "source": [
    "The companies' target can be the decrease in share of predictions that falsely classify customers as being churned. With this basic model we may want to target higher Precision score, meaning that we want to decrease the share of false positive predictions for the positive class (Churn=Yes).\n",
    "\n",
    "If we develop the new service for customers retention and our model systematically misclassifies clients who stay as being churned, we may not see the real result of our intervention due to model weakness."
   ]
  },
  {
   "cell_type": "code",
   "execution_count": 147,
   "metadata": {},
   "outputs": [
    {
     "name": "stdout",
     "output_type": "stream",
     "text": [
      "              precision    recall  f1-score   support\n",
      "\n",
      "           0       0.85      0.90      0.87      1539\n",
      "           1       0.68      0.57      0.62       574\n",
      "\n",
      "    accuracy                           0.81      2113\n",
      "   macro avg       0.76      0.73      0.75      2113\n",
      "weighted avg       0.80      0.81      0.80      2113\n",
      "\n"
     ]
    }
   ],
   "source": [
    "from sklearn.metrics import classification_report\n",
    "\n",
    "y_pred = grid.predict(X_test)\n",
    "print(classification_report(y_test,y_pred))"
   ]
  },
  {
   "cell_type": "markdown",
   "metadata": {},
   "source": [
    "# HomeWork 1\n",
    "\n",
    "**Deadline: beginning of the next seminar for your group 191, 192 or 193 respectively. Overdue submissions are not allowed!**\n",
    "\n",
    "**Work in groups:** yes, up to 3 people.\n",
    "\n",
    "**File format:** IPython Notebook (ipynb) with supplemental data (if present).\n",
    "\n",
    "**File name:** LastName(S)_Group.ipynb\n",
    "\n",
    "**Caution!** Please send me the files from your HSE mailbox, otherwise they could be lost and hence not accounted.\n",
    "\n",
    "**Spoiler!** Occasional match in datasets will be treated as occasional until the content of the notebooks doesn't match.  \n",
    "\n",
    "**The task** (the main goal is to practice with BASIC ML application steps):\n",
    "\n",
    "1. Use your dataset **OR** continue to work with the Customer Churning dataset.\n",
    "2. State the problem you want to solve using ML algorithms. Is it classification or regression problem?\n",
    "3. Provide basic EDA (summary statistics, number of missing values, scatterplots, corrmat, etc.).\n",
    "4. Select features for your model. Argue.\n",
    "5. Do Feature Engineering (missing data imputation, feature scaling, handle categorical features, take logs, etc.). Provide couple of sentences why it is needed for your analysis.\n",
    "6. Select two algorithms you want to compare on your dataset.\n",
    "7. Build models, Cross-Validate, Select model based on scoring metric **OR** use Grid Search to model evaluation and selection.\n",
    "\n",
    "\n",
    "*Complement your code with comments!*"
   ]
  }
 ],
 "metadata": {
  "kernelspec": {
   "display_name": "Python 3",
   "language": "python",
   "name": "python3"
  },
  "language_info": {
   "codemirror_mode": {
    "name": "ipython",
    "version": 3
   },
   "file_extension": ".py",
   "mimetype": "text/x-python",
   "name": "python",
   "nbconvert_exporter": "python",
   "pygments_lexer": "ipython3",
   "version": "3.7.6"
  },
  "varInspector": {
   "cols": {
    "lenName": 16,
    "lenType": 16,
    "lenVar": 40
   },
   "kernels_config": {
    "python": {
     "delete_cmd_postfix": "",
     "delete_cmd_prefix": "del ",
     "library": "var_list.py",
     "varRefreshCmd": "print(var_dic_list())"
    },
    "r": {
     "delete_cmd_postfix": ") ",
     "delete_cmd_prefix": "rm(",
     "library": "var_list.r",
     "varRefreshCmd": "cat(var_dic_list()) "
    }
   },
   "types_to_exclude": [
    "module",
    "function",
    "builtin_function_or_method",
    "instance",
    "_Feature"
   ],
   "window_display": false
  }
 },
 "nbformat": 4,
 "nbformat_minor": 2
}
