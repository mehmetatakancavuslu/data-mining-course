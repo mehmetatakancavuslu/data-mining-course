{
 "cells": [
  {
   "cell_type": "markdown",
   "metadata": {
    "hide_input": true
   },
   "source": [
    "# Model Overfitting & Underfitting\n",
    "# Bias Variance trade-off"
   ]
  },
  {
   "cell_type": "markdown",
   "metadata": {},
   "source": [
    "Supervised ML algorithms are developed to be trained on a sample from some population and then to be generalized to new unseen sample drawn from the same population. This allows us to assess model performance and reliability."
   ]
  },
  {
   "cell_type": "code",
   "execution_count": 28,
   "metadata": {
    "collapsed": true,
    "hide_input": true
   },
   "outputs": [],
   "source": [
    "import pandas as pd"
   ]
  },
  {
   "cell_type": "code",
   "execution_count": 52,
   "metadata": {
    "collapsed": true,
    "hide_input": true
   },
   "outputs": [],
   "source": [
    "df = pd.read_clipboard()"
   ]
  },
  {
   "cell_type": "markdown",
   "metadata": {},
   "source": [
    "Say, we would like to predict whether a new customer buys a boat. We collected the data on the customers' characteristics and the info who bought a boat. "
   ]
  },
  {
   "cell_type": "code",
   "execution_count": 54,
   "metadata": {
    "hide_input": true,
    "scrolled": false
   },
   "outputs": [
    {
     "data": {
      "text/html": [
       "<div>\n",
       "<style scoped>\n",
       "    .dataframe tbody tr th:only-of-type {\n",
       "        vertical-align: middle;\n",
       "    }\n",
       "\n",
       "    .dataframe tbody tr th {\n",
       "        vertical-align: top;\n",
       "    }\n",
       "\n",
       "    .dataframe thead th {\n",
       "        text-align: right;\n",
       "    }\n",
       "</style>\n",
       "<table border=\"1\" class=\"dataframe\">\n",
       "  <thead>\n",
       "    <tr style=\"text-align: right;\">\n",
       "      <th></th>\n",
       "      <th>Age</th>\n",
       "      <th>NumberOfCarsOwned</th>\n",
       "      <th>OwnsHouse</th>\n",
       "      <th>NumberOfChildren</th>\n",
       "      <th>MaritalStatus</th>\n",
       "      <th>OwnsADog</th>\n",
       "      <th>BoughtABoat</th>\n",
       "    </tr>\n",
       "  </thead>\n",
       "  <tbody>\n",
       "    <tr>\n",
       "      <th>2</th>\n",
       "      <td>22</td>\n",
       "      <td>0</td>\n",
       "      <td>no</td>\n",
       "      <td>0</td>\n",
       "      <td>married</td>\n",
       "      <td>yes</td>\n",
       "      <td>no</td>\n",
       "    </tr>\n",
       "    <tr>\n",
       "      <th>3</th>\n",
       "      <td>25</td>\n",
       "      <td>1</td>\n",
       "      <td>no</td>\n",
       "      <td>1</td>\n",
       "      <td>single</td>\n",
       "      <td>no</td>\n",
       "      <td>no</td>\n",
       "    </tr>\n",
       "    <tr>\n",
       "      <th>4</th>\n",
       "      <td>44</td>\n",
       "      <td>0</td>\n",
       "      <td>no</td>\n",
       "      <td>2</td>\n",
       "      <td>divorced</td>\n",
       "      <td>yes</td>\n",
       "      <td>no</td>\n",
       "    </tr>\n",
       "    <tr>\n",
       "      <th>5</th>\n",
       "      <td>39</td>\n",
       "      <td>1</td>\n",
       "      <td>yes</td>\n",
       "      <td>2</td>\n",
       "      <td>married</td>\n",
       "      <td>yes</td>\n",
       "      <td>no</td>\n",
       "    </tr>\n",
       "    <tr>\n",
       "      <th>6</th>\n",
       "      <td>26</td>\n",
       "      <td>1</td>\n",
       "      <td>no</td>\n",
       "      <td>2</td>\n",
       "      <td>single</td>\n",
       "      <td>no</td>\n",
       "      <td>no</td>\n",
       "    </tr>\n",
       "    <tr>\n",
       "      <th>7</th>\n",
       "      <td>40</td>\n",
       "      <td>3</td>\n",
       "      <td>yes</td>\n",
       "      <td>1</td>\n",
       "      <td>married</td>\n",
       "      <td>yes</td>\n",
       "      <td>no</td>\n",
       "    </tr>\n",
       "    <tr>\n",
       "      <th>9</th>\n",
       "      <td>64</td>\n",
       "      <td>2</td>\n",
       "      <td>yes</td>\n",
       "      <td>3</td>\n",
       "      <td>divorced</td>\n",
       "      <td>no</td>\n",
       "      <td>no</td>\n",
       "    </tr>\n",
       "    <tr>\n",
       "      <th>11</th>\n",
       "      <td>33</td>\n",
       "      <td>1</td>\n",
       "      <td>no</td>\n",
       "      <td>1</td>\n",
       "      <td>single</td>\n",
       "      <td>no</td>\n",
       "      <td>no</td>\n",
       "    </tr>\n",
       "    <tr>\n",
       "      <th>0</th>\n",
       "      <td>66</td>\n",
       "      <td>1</td>\n",
       "      <td>yes</td>\n",
       "      <td>2</td>\n",
       "      <td>widowed</td>\n",
       "      <td>no</td>\n",
       "      <td>yes</td>\n",
       "    </tr>\n",
       "    <tr>\n",
       "      <th>1</th>\n",
       "      <td>52</td>\n",
       "      <td>2</td>\n",
       "      <td>yes</td>\n",
       "      <td>3</td>\n",
       "      <td>married</td>\n",
       "      <td>no</td>\n",
       "      <td>yes</td>\n",
       "    </tr>\n",
       "    <tr>\n",
       "      <th>8</th>\n",
       "      <td>53</td>\n",
       "      <td>2</td>\n",
       "      <td>yes</td>\n",
       "      <td>2</td>\n",
       "      <td>divorced</td>\n",
       "      <td>no</td>\n",
       "      <td>yes</td>\n",
       "    </tr>\n",
       "    <tr>\n",
       "      <th>10</th>\n",
       "      <td>58</td>\n",
       "      <td>2</td>\n",
       "      <td>yes</td>\n",
       "      <td>2</td>\n",
       "      <td>married</td>\n",
       "      <td>yes</td>\n",
       "      <td>yes</td>\n",
       "    </tr>\n",
       "  </tbody>\n",
       "</table>\n",
       "</div>"
      ],
      "text/plain": [
       "    Age  NumberOfCarsOwned OwnsHouse  NumberOfChildren MaritalStatus OwnsADog  \\\n",
       "2    22                  0        no                 0       married      yes   \n",
       "3    25                  1        no                 1        single       no   \n",
       "4    44                  0        no                 2      divorced      yes   \n",
       "5    39                  1       yes                 2       married      yes   \n",
       "6    26                  1        no                 2        single       no   \n",
       "7    40                  3       yes                 1       married      yes   \n",
       "9    64                  2       yes                 3      divorced       no   \n",
       "11   33                  1        no                 1        single       no   \n",
       "0    66                  1       yes                 2       widowed       no   \n",
       "1    52                  2       yes                 3       married       no   \n",
       "8    53                  2       yes                 2      divorced       no   \n",
       "10   58                  2       yes                 2       married      yes   \n",
       "\n",
       "   BoughtABoat  \n",
       "2           no  \n",
       "3           no  \n",
       "4           no  \n",
       "5           no  \n",
       "6           no  \n",
       "7           no  \n",
       "9           no  \n",
       "11          no  \n",
       "0          yes  \n",
       "1          yes  \n",
       "8          yes  \n",
       "10         yes  "
      ]
     },
     "execution_count": 54,
     "metadata": {},
     "output_type": "execute_result"
    }
   ],
   "source": [
    "df.sort_values('BoughtABoat')"
   ]
  },
  {
   "cell_type": "markdown",
   "metadata": {},
   "source": [
    "What rule can we derive from this dataset? \"If the customer is not single, and doesn't have a dog, and owns two cars\" gives us prediction of high accuracy of whom wants to buy a boat. Or we may come up with the valid rule that \"those who are 52, 53, 58 or 66 years old want to buy a boat\" or, simply, \"the customer who owns a house wants to buy a boat\".\n",
    "\n",
    "BUT\n",
    "\n",
    "We already know who bought a boat in this dataset. We need more *general* rule that is of high accuracy for the new customers.\n",
    "\n",
    "If we would apply the rules we derived on the unseen dataset, we may end up with the poor model. \n",
    "\n",
    "While the simple model is preferable to the complex one. We need to keep the balance between **underfitting** and **overfitting** the model.\n",
    "\n",
    "Consider two polar cases - simplistic model \"the customer who owns a house wants to buy a boat\" vs. more complex one \"if the customer is not single, and doesn't have a dog, and owns two cars wants to buy a boat\".\n",
    "\n",
    "Building of the complex model for the amount of information we have leads to **overfitting**. This model fits the training data almost perfectly, but fails to *generalize* to the test dataset. Meanwhile, simplistic model fails to capture the variation in our data and works poorly even on the training set, thus **underfitting**.\n"
   ]
  },
  {
   "cell_type": "markdown",
   "metadata": {},
   "source": [
    "The idea of overfitting and underfitting the model can be illustrated visually. We reuse the sklearn example."
   ]
  },
  {
   "cell_type": "code",
   "execution_count": 1,
   "metadata": {
    "hide_input": true
   },
   "outputs": [
    {
     "data": {
      "image/png": "[encoded data removed]",
      "text/plain": [
       "<Figure size 1008x360 with 3 Axes>"
      ]
     },
     "metadata": {},
     "output_type": "display_data"
    }
   ],
   "source": [
    "import numpy as np\n",
    "import matplotlib.pyplot as plt\n",
    "from sklearn.pipeline import Pipeline\n",
    "from sklearn.preprocessing import PolynomialFeatures\n",
    "from sklearn.linear_model import LinearRegression\n",
    "from sklearn.model_selection import cross_val_score\n",
    "\n",
    "\n",
    "%matplotlib inline\n",
    "\n",
    "def true_fun(X):\n",
    "    return np.cos(1.5 * np.pi * X)\n",
    "\n",
    "np.random.seed(0)\n",
    "\n",
    "n_samples = 30\n",
    "degrees = [1, 4, 15]\n",
    "\n",
    "X = np.sort(np.random.rand(n_samples))\n",
    "y = true_fun(X) + np.random.randn(n_samples) * 0.1\n",
    "\n",
    "plt.figure(figsize=(14, 5))\n",
    "for i in range(len(degrees)):\n",
    "    ax = plt.subplot(1, len(degrees), i + 1)\n",
    "    plt.setp(ax, xticks=(), yticks=())\n",
    "\n",
    "    polynomial_features = PolynomialFeatures(degree=degrees[i],\n",
    "                                             include_bias=False)\n",
    "    linear_regression = LinearRegression()\n",
    "    pipeline = Pipeline([(\"polynomial_features\", polynomial_features),\n",
    "                         (\"linear_regression\", linear_regression)])\n",
    "    pipeline.fit(X[:, np.newaxis], y)\n",
    "\n",
    "    # Evaluate the models using crossvalidation\n",
    "    scores = cross_val_score(pipeline, X[:, np.newaxis], y,\n",
    "                             scoring=\"neg_mean_squared_error\", cv=10)\n",
    "\n",
    "    X_test = np.linspace(0, 1, 100)\n",
    "    plt.plot(X_test, pipeline.predict(X_test[:, np.newaxis]), label=\"Model\")\n",
    "    plt.plot(X_test, true_fun(X_test), label=\"True function\")\n",
    "    plt.scatter(X, y, edgecolor='b', s=20, label=\"Samples\")\n",
    "    plt.xlabel(\"x\")\n",
    "    plt.ylabel(\"y\")\n",
    "    plt.xlim((0, 1))\n",
    "    plt.ylim((-2, 2))\n",
    "    plt.legend(loc=\"best\")\n",
    "    plt.title(\"Degree {}\\nMSE = {:.2e}(+/- {:.2e})\".format(\n",
    "        degrees[i], -scores.mean(), scores.std()))\n",
    "plt.show()\n",
    "    "
   ]
  },
  {
   "cell_type": "markdown",
   "metadata": {},
   "source": [
    "The models have polynomial features of various degrees. Model performance is evaluated quantatively by calculating MSE on validation set. Linear regression with polynomial of degree 1 **underfits** the true model (MSE is moderate), whereas polynomial of degree 15 captures too much noise and **overfits** the true model (MSE is high). In the middle, with polynomial of degree 4, the fit is **\"just fine\"** (smallest MSE)."
   ]
  },
  {
   "cell_type": "markdown",
   "metadata": {},
   "source": [
    "The same problem applies to Logistic Regression.\n",
    "\n",
    "<img src=\"https://media.geeksforgeeks.org/wp-content/cdn-uploads/20190523171258/overfitting_2.png\" style=\"width:800px\">"
   ]
  },
  {
   "cell_type": "markdown",
   "metadata": {},
   "source": [
    "What we would like to achieve is a sweet spot between model complexity and model accuracy.\n",
    "\n",
    "<img src=\"img/ov_un.png\">"
   ]
  },
  {
   "cell_type": "markdown",
   "metadata": {},
   "source": [
    "#### Causes of underfitting and overfitting\n",
    "\n",
    "*Underfitting*\n",
    "\n",
    "Underfitting occurs when the model is too simplistic to the process that you try to approximate. You may try to increase model complexity or try other algorithm. \n",
    "\n",
    "*Overfitting*\n",
    "\n",
    "Overfitting occurs when the model is too complex. It is immanent to nonparametric and nonlinear models as they are more flexible on learning and may produce very unrealistic models. Another potential source of overfitting is when you try to estimate too many parameters from too small sample. To fit a complex model you either need more data or put penalties on the coefficients you estimate through *regularization*."
   ]
  },
  {
   "cell_type": "markdown",
   "metadata": {},
   "source": [
    "### Regularization\n",
    "\n",
    "When we have a lot of features each of which contributes a bit to the outcome variable, we may use penalty mechanism on the parameters estimates - decrease magnitude or set to zero for irrelevant features.\n",
    "\n",
    "There are two basic regularization methods - L1 and L2 regularization.\n",
    "\n",
    "**L2 regularization refers to Ridge regression**, which adds squared magnitude of coefficients as penalty term to the cost function.\n",
    "\n",
    "$min_{\\beta}J(\\beta)=\\frac{1}{2n}[\\sum_{i=1}^{n}(y_i - f(x_i))^2 +  \\lambda \\sum_{j=1}^{k}\\beta_j^2]$\n",
    "\n",
    "**L1 regularization refers to LASSO (Least Absolute Shrinkage and Selection Operator) regression**, which adds absolute value of magnitude of coefficients as penalty to the cost function.\n",
    "\n",
    "$min_{\\beta}J(\\beta)=\\frac{1}{2n}[\\sum_{i=1}^{n}(y_i - f(x_i))^2 +  \\lambda \\sum_{j=1}^{k}|\\beta_j|]$\n",
    "\n",
    "**Regularization parameter $\\lambda$ is a trade-off between size of error term and magnitude of coeffitients.**\n",
    "\n",
    "When $\\lambda = 0$ we get back to OLS.\n",
    "\n",
    "When $\\lambda$ is large we give higher weights on coefficients which leads to parameter shrinkage in case of Ridge regression and feature selection in case of LASSO regression. Very high values of $\\lambda$ lead to underfitting. \n",
    "\n",
    "In the end both methods lead to model simplification.\n",
    "\n",
    "\n",
    "*Use cases:*\n",
    "\n",
    "- Since Ridge regression shrinks feature contributions, but keeps these features in the model, it is more often used to address overfitting with moderate number of features; it also adderesses multicollinearity and non-invertability problem.\n",
    "\n",
    "- LASSO regression not only shrinks regression coefficients but also provides automatic feature selection. It performs best with very large number of features.\n",
    "\n"
   ]
  },
  {
   "cell_type": "markdown",
   "metadata": {},
   "source": [
    "#### Geometrical differences between Ridge and LASSO regressions\n",
    "<blockquote>\n",
    "Both methods find the first point where the elliptical contours hit the constraint region. Unlike the disk, the diamond has corners; if the solution occurs at a corner, then it has one parameter $\\beta_j$ equal to zero. \n",
    "</blockquote>\n",
    "\n",
    "<img src=\"img/ridge_lasso.png\" style=\"width:800px\">\n",
    "\n",
    "Source: Hastie, T., Tibshirani, R., Fiedman, J., \"The Elements of Statistical Learning\""
   ]
  },
  {
   "cell_type": "markdown",
   "metadata": {},
   "source": [
    "Now as you are equipped with basic Regression models (Linear Regression, Logistic Regression, Ridge Regression, LASSO regression) you already can solve numerous Supervised Learning problems. \n",
    "\n",
    "1. Formulate the research question (inference vs. prediction)\n",
    "2. Choose a class of model\n",
    "3. Perform EDA (Exploratory Data Analysis)\n",
    "4. Prepare features for the model (Feature Engineering)\n",
    "5. Build models\n",
    "6. Evaluate the model (Cross-Validation)\n",
    "7. Select the model (Generalization)\n",
    "8. Assess Business Metric/Business Impact\n",
    "9. Repeat steps 1-8."
   ]
  },
  {
   "cell_type": "markdown",
   "metadata": {},
   "source": [
    "#### Big Family of ML algorithms\n",
    "\n",
    "<img src=\"img/mlalg.png\">\n",
    "\n",
    "Author: Jason Brownlee"
   ]
  },
  {
   "cell_type": "markdown",
   "metadata": {},
   "source": [
    "### Train-Test Split\n",
    "\n",
    "Model performance should be evaluated on new unseen data. The easiest way to do it is to split the sample into train and test subsamples.\n",
    "\n",
    "Let's load breast cancer dataset. And split it into subsamples - 70% for the training set and 30% for the test set.\n",
    "\n",
    "We perform Logistic Regression on the train set and check model accuracy on the test set."
   ]
  },
  {
   "cell_type": "code",
   "execution_count": 1,
   "metadata": {
    "hide_input": true
   },
   "outputs": [
    {
     "name": "stdout",
     "output_type": "stream",
     "text": [
      "Model Accuracy: 0.96\n"
     ]
    }
   ],
   "source": [
    "import numpy as np\n",
    "import matplotlib.pyplot as plt\n",
    "import pandas as pd\n",
    "#import train-test split function \n",
    "from sklearn.model_selection import train_test_split\n",
    "#import model accuracy measure\n",
    "from sklearn.metrics import accuracy_score\n",
    "#import dataset\n",
    "from sklearn.datasets import load_breast_cancer\n",
    "#import linear model\n",
    "from sklearn.linear_model import LogisticRegression\n",
    "\n",
    "\n",
    "cancer = load_breast_cancer()\n",
    "X = cancer.data\n",
    "y = cancer.target\n",
    "\n",
    "# split the data with 70% in train set\n",
    "X1, X2, y1, y2 = train_test_split(X, y, random_state=0,\n",
    "                                  train_size=0.7, test_size=0.3)\n",
    "\n",
    "#initialize the model\n",
    "clf = LogisticRegression(solver=\"liblinear\",multi_class=\"auto\")\n",
    "\n",
    "#fit the model on the train set\n",
    "clf.fit(X1, y1)\n",
    "\n",
    "# evaluate the model on the test set\n",
    "y2_predict = clf.predict(X2)\n",
    "#fraction of correctly classified samples\n",
    "print(\"Model Accuracy: %.2f\" % accuracy_score(y2, y2_predict))"
   ]
  },
  {
   "cell_type": "markdown",
   "metadata": {},
   "source": [
    "The logistic classifier predicts correctly 96% of targets in the test set. However, this is sometimes not optimal since we abandone part of the sample from wich our model can learn. It can be problematic if intially we have small sample size."
   ]
  },
  {
   "cell_type": "markdown",
   "metadata": {},
   "source": [
    "### Cross-Validation\n",
    "\n",
    "To address the problem we may use *cross-validation*. Cross-validation is a statistical method of evaluating generalization performance that is more stable and thorough than using a split into a training and a test set. Cross-validation performs model fits on both subsets - training and validation - sequentially."
   ]
  },
  {
   "cell_type": "code",
   "execution_count": 3,
   "metadata": {
    "hide_input": true
   },
   "outputs": [
    {
     "data": {
      "image/png": "[encoded data removed]",
      "text/plain": [
       "<Figure size 432x288 with 1 Axes>"
      ]
     },
     "metadata": {
      "needs_background": "light"
     },
     "output_type": "display_data"
    }
   ],
   "source": [
    "def draw_rects(N, ax, textprop={}):\n",
    "    for i in range(N):\n",
    "        ax.add_patch(plt.Rectangle((0, i), 5, 0.7, fc='white'))\n",
    "        ax.add_patch(plt.Rectangle((5. * i / N, i), 5. / N, 0.7, fc='lightgray'))\n",
    "        ax.text(5. * (i + 0.5) / N, i + 0.35,\n",
    "                \"validation\\nset\", ha='center', va='center', **textprop)\n",
    "        ax.text(0, i + 0.35, \"trial {0}\".format(N - i),\n",
    "                ha='right', va='center', rotation=90, **textprop)\n",
    "    ax.set_xlim(-1, 6)\n",
    "    ax.set_ylim(-0.2, N + 0.2)\n",
    "\n",
    "fig = plt.figure()\n",
    "ax = fig.add_axes([0, 0, 1, 1])\n",
    "ax.axis('off')\n",
    "draw_rects(2, ax, textprop=dict(size=14))"
   ]
  },
  {
   "cell_type": "markdown",
   "metadata": {},
   "source": [
    "We split the sample 50/50 into training and validation set. This is called *two-fold cross-validation*. When we fit the model with these sets, we get two model accuracy scores. We can take the mean of two scores. It provides us with better model performance measure."
   ]
  },
  {
   "cell_type": "code",
   "execution_count": 4,
   "metadata": {
    "hide_input": true
   },
   "outputs": [
    {
     "name": "stdout",
     "output_type": "stream",
     "text": [
      "Accuracy scores: [0.93684211 0.9471831 ]\n",
      "Mean accuracy score 0.94\n"
     ]
    }
   ],
   "source": [
    "from sklearn.model_selection import cross_val_score\n",
    "cv2 = cross_val_score(clf, X, y, cv=2)\n",
    "print(\"Accuracy scores: {}\\nMean accuracy score {:.2f}\".format(cv2,np.mean(cv2)))"
   ]
  },
  {
   "cell_type": "markdown",
   "metadata": {},
   "source": [
    "We can use *five-fold cross-validation*. We split the data into five trials, and use each of them in turn to evaluate the model fit on the other 4/5 of the data."
   ]
  },
  {
   "cell_type": "code",
   "execution_count": 5,
   "metadata": {
    "hide_input": true
   },
   "outputs": [
    {
     "data": {
      "image/png": "[encoded data removed]",
      "text/plain": [
       "<Figure size 432x288 with 1 Axes>"
      ]
     },
     "metadata": {
      "needs_background": "light"
     },
     "output_type": "display_data"
    }
   ],
   "source": [
    "fig = plt.figure()\n",
    "ax = fig.add_axes([0, 0, 1, 1])\n",
    "ax.axis('off')\n",
    "draw_rects(5, ax, textprop=dict(size=10))"
   ]
  },
  {
   "cell_type": "code",
   "execution_count": 5,
   "metadata": {
    "hide_input": true
   },
   "outputs": [
    {
     "name": "stdout",
     "output_type": "stream",
     "text": [
      "Accuracy scores: [0.93043478 0.93913043 0.97345133 0.95575221 0.96460177]\n",
      "Mean accuracy score 0.95\n"
     ]
    }
   ],
   "source": [
    "cv5 = cross_val_score(clf, X, y, cv=5)\n",
    "print(\"Accuracy scores: {}\\nMean accuracy score {:.2f}\".format(cv5,np.mean(cv5)))"
   ]
  },
  {
   "cell_type": "markdown",
   "metadata": {},
   "source": [
    "The benefits of cross-validation are evident:\n",
    "\n",
    "- With train-test split function there is no guarantee that random sample split results in subsamples of similiar structure. The training set may consist of hard to predict examples, whereas all easy examples are in the test set. In this case prediction accuracy will be unrealistically high. With cross-validation each example is in one of the folds, and each fold is in the test set once.\n",
    "\n",
    "- k-fold cross-validation provides more information on the model sensitivity to the choice of training set. Accuracy scores range reflects worst case and best case scenarios for model performance on new unseen data.\n",
    "\n",
    "- As we place more data, model accuracy increases. With 5-fold cross-validation we are able to train the model using 80% of the sample. With 10-fold cross-validation we are able to use 90% of the sample.\n",
    "\n",
    "The main drawback is computationaonal cost. Cross-validation is on average k times slower than simple train-test split."
   ]
  },
  {
   "cell_type": "markdown",
   "metadata": {},
   "source": [
    "**k-fold cross-validation** is not a good option when examples are not shuffled. Grouped classes can be disproportionally presented in the test set which leads to unreliable accuracy scores."
   ]
  },
  {
   "cell_type": "code",
   "execution_count": 7,
   "metadata": {
    "hide_input": true
   },
   "outputs": [
    {
     "data": {
      "text/plain": [
       "array([0, 0, 0, 0, 0, 0, 0, 0, 0, 0, 0, 0, 0, 0, 0, 0, 0, 0, 0, 1, 1, 1,\n",
       "       0, 0, 0, 0, 0, 0, 0, 0, 0, 0, 0, 0, 0, 0, 0, 1, 0, 0, 0, 0, 0, 0,\n",
       "       0, 0, 1, 0, 1, 1, 1, 1, 1, 0, 0, 1, 0, 0, 1, 1, 1, 1, 0, 1, 0, 0,\n",
       "       1, 1, 1, 1, 0, 1, 0, 0, 1, 0, 1, 0, 0, 1, 1, 1, 0, 0, 1, 0, 0, 0,\n",
       "       1, 1, 1, 0, 1, 1, 0, 0, 1, 1, 1, 0, 0, 1, 1, 1, 1, 0, 1, 1, 0, 1,\n",
       "       1, 1, 1, 1, 1, 1, 1, 0, 0, 0, 1, 0, 0, 1, 1, 1, 0, 0, 1, 0, 1, 0,\n",
       "       0, 1, 0, 0, 1, 1, 0, 1, 1, 0, 1, 1, 1, 1, 0, 1, 1, 1, 1, 1, 1, 1,\n",
       "       1, 1, 0, 1, 1, 1, 1, 0, 0, 1, 0, 1, 1, 0, 0, 1, 1, 0, 0, 1, 1, 1,\n",
       "       1, 0, 1, 1, 0, 0, 0, 1, 0, 1, 0, 1, 1, 1, 0, 1, 1, 0, 0, 1, 0, 0,\n",
       "       0, 0, 1, 0, 0, 0, 1, 0, 1, 0, 1, 1, 0, 1, 0, 0, 0, 0, 1, 1, 0, 0,\n",
       "       1, 1, 1, 0, 1, 1, 1, 1, 1, 0, 0, 1, 1, 0, 1, 1, 0, 0, 1, 0, 1, 1,\n",
       "       1, 1, 0, 1, 1, 1, 1, 1, 0, 1, 0, 0, 0, 0, 0, 0, 0, 0, 0, 0, 0, 0,\n",
       "       0, 0, 1, 1, 1, 1, 1, 1, 0, 1, 0, 1, 1, 0, 1, 1, 0, 1, 0, 0, 1, 1,\n",
       "       1, 1, 1, 1, 1, 1, 1, 1, 1, 1, 1, 0, 1, 1, 0, 1, 0, 1, 1, 1, 1, 1,\n",
       "       1, 1, 1, 1, 1, 1, 1, 1, 1, 0, 1, 1, 1, 0, 1, 0, 1, 1, 1, 1, 0, 0,\n",
       "       0, 1, 1, 1, 1, 0, 1, 0, 1, 0, 1, 1, 1, 0, 1, 1, 1, 1, 1, 1, 1, 0,\n",
       "       0, 0, 1, 1, 1, 1, 1, 1, 1, 1, 1, 1, 1, 0, 0, 1, 0, 0, 0, 1, 0, 0,\n",
       "       1, 1, 1, 1, 1, 0, 1, 1, 1, 1, 1, 0, 1, 1, 1, 0, 1, 1, 0, 0, 1, 1,\n",
       "       1, 1, 1, 1, 0, 1, 1, 1, 1, 1, 1, 1, 0, 1, 1, 1, 1, 1, 0, 1, 1, 0,\n",
       "       1, 1, 1, 1, 1, 1, 1, 1, 1, 1, 1, 1, 0, 1, 0, 0, 1, 0, 1, 1, 1, 1,\n",
       "       1, 0, 1, 1, 0, 1, 0, 1, 1, 0, 1, 0, 1, 1, 1, 1, 1, 1, 1, 1, 0, 0,\n",
       "       1, 1, 1, 1, 1, 1, 0, 1, 1, 1, 1, 1, 1, 1, 1, 1, 1, 0, 1, 1, 1, 1,\n",
       "       1, 1, 1, 0, 1, 0, 1, 1, 0, 1, 1, 1, 1, 1, 0, 0, 1, 0, 1, 0, 1, 1,\n",
       "       1, 1, 1, 0, 1, 1, 0, 1, 0, 1, 0, 0, 1, 1, 1, 0, 1, 1, 1, 1, 1, 1,\n",
       "       1, 1, 1, 1, 1, 0, 1, 0, 0, 1, 1, 1, 1, 1, 1, 1, 1, 1, 1, 1, 1, 1,\n",
       "       1, 1, 1, 1, 1, 1, 1, 1, 1, 1, 1, 1, 0, 0, 0, 0, 0, 0, 1])"
      ]
     },
     "execution_count": 7,
     "metadata": {},
     "output_type": "execute_result"
    }
   ],
   "source": [
    "y"
   ]
  },
  {
   "cell_type": "markdown",
   "metadata": {},
   "source": [
    "To deal with this problem we can use **stratified k-fold cross-validation** instead. It splits the data such that proportions between classes are the same in each fold as they are in the whole dataset.\n",
    "\n",
    "E.g., if there are 70% of examples belong to the first class and 30% of examples belong to the second class, then stratified k-fold splits folds such that each fold holds classes in proportion 70 to 30.  \n",
    "\n",
    "For linear regression default cross-validation method is k-fold cross-validation. Stratified k-fold cross-validation in case of continious outcomes is nonessential."
   ]
  },
  {
   "cell_type": "code",
   "execution_count": 110,
   "metadata": {
    "hide_input": true
   },
   "outputs": [
    {
     "name": "stdout",
     "output_type": "stream",
     "text": [
      "Mean accuracy: 0.95\n"
     ]
    }
   ],
   "source": [
    "from sklearn.model_selection import StratifiedKFold\n",
    "sk = cross_val_score(clf, X, y, cv=StratifiedKFold(n_splits=5))\n",
    "print(\"Mean accuracy: {:.2f}\".format(np.mean(sk)))"
   ]
  },
  {
   "cell_type": "markdown",
   "metadata": {},
   "source": [
    "**Leave-one-out cross validation** is another way to split the data. The number of folds equals the number of examples. For each split all examples but one are used as train set. In each split one example is used as a validation set. \n",
    "\n",
    "The method is computationally expensive, but can provide better prediction accuracy for small datasets."
   ]
  },
  {
   "cell_type": "code",
   "execution_count": 7,
   "metadata": {
    "hide_input": true
   },
   "outputs": [
    {
     "name": "stdout",
     "output_type": "stream",
     "text": [
      "Number of cv iterations:  569\n",
      "Mean accuracy: 0.95\n"
     ]
    }
   ],
   "source": [
    "from sklearn.model_selection import LeaveOneOut\n",
    "lo = cross_val_score(clf, X, y, cv=LeaveOneOut())\n",
    "print(\"Number of cv iterations: \", len(lo))\n",
    "print(\"Mean accuracy: {:.2f}\".format(np.mean(lo)))"
   ]
  },
  {
   "cell_type": "markdown",
   "metadata": {},
   "source": [
    "Another useful cross-validation technique is **cross-validation with groups**. It splits the data into training and validation sets such that examples belonging to some group appear only in training or validation set.\n",
    "\n",
    "This is useful when we have grouped data, e.g., several images with the same person, records from the same patient, voice recording from the same person. If we would use the same person image for both training and validation we might receive unreliable performance metric. Instead, we can force the algorithm to split the data such that each group is either entirely in a training set or validation set."
   ]
  },
  {
   "cell_type": "markdown",
   "metadata": {},
   "source": [
    "Assume we have 12 data points and 4 distinct groups. We can run GroupKFold cross-validation with 4 splits. Then each group in each split will be entirely in either training or validation sets."
   ]
  },
  {
   "cell_type": "code",
   "execution_count": 20,
   "metadata": {
    "hide_input": true
   },
   "outputs": [
    {
     "name": "stdout",
     "output_type": "stream",
     "text": [
      "Groups: [0, 0, 0, 1, 1, 1, 1, 2, 2, 3, 3, 3]\n",
      "Cross-validation scores:[0.75       0.66666667 0.66666667 1.        ]\n"
     ]
    }
   ],
   "source": [
    "from sklearn.model_selection import GroupKFold\n",
    "from sklearn.datasets import make_blobs\n",
    "# create synthetic dataset\n",
    "X, y = make_blobs(n_samples=12, random_state=0)\n",
    "# assume the first three samples belong to the same group,\n",
    "# then the next four, etc.\n",
    "groups = [0, 0, 0, 1, 1, 1, 1, 2, 2, 3, 3, 3]\n",
    "scores = cross_val_score(clf, X, y, groups, cv=GroupKFold(n_splits=4))\n",
    "print(\"Groups: {}\\nCross-validation scores:{}\".format(groups,scores))"
   ]
  },
  {
   "cell_type": "markdown",
   "metadata": {},
   "source": [
    "What if your model shows poor performance on validation set? How can you improve it?\n",
    "\n",
    "There are number of options that may work:\n",
    "\n",
    "- Increase/decrease model complexity (add features, non-linearity, regularization)\n",
    "- Increase sample size\n",
    "- Tune model parameters (*hyperparameters*)\n",
    "\n",
    "Some of the options are costly (collecting more data on existing fetures and search for new features), others are cheap (tune model parameters). Although, even adding new data and/or increasing model complexity doesn't guarantee model improvement."
   ]
  },
  {
   "cell_type": "markdown",
   "metadata": {},
   "source": [
    "#### Validation curve\n",
    "\n",
    "There are usually large number of parameter combinations that you may tune for the model. Sklearn library enables you to select the best model through exploration all of them using Grid Search.\n",
    "\n",
    "But it is sometimes helpful to plot the influence of a single hyperparameter on the training score and the validation score to find out whether the estimator is overfitting or underfitting for some hyperparameter values.\n",
    "\n",
    "Let's fit linear regression with polynomials of various degrees (up to 20 degrees) on a sample dataset."
   ]
  },
  {
   "cell_type": "code",
   "execution_count": 3,
   "metadata": {
    "hide_input": true
   },
   "outputs": [
    {
     "data": {
      "image/png": "[encoded data removed]",
      "text/plain": [
       "<Figure size 1008x576 with 1 Axes>"
      ]
     },
     "metadata": {
      "needs_background": "light"
     },
     "output_type": "display_data"
    }
   ],
   "source": [
    "import numpy as np\n",
    "from sklearn.preprocessing import PolynomialFeatures\n",
    "from sklearn.linear_model import LinearRegression\n",
    "from sklearn.pipeline import make_pipeline\n",
    "from sklearn.model_selection import validation_curve\n",
    "import matplotlib.pyplot as plt\n",
    "%matplotlib inline\n",
    "\n",
    "def PolynomialRegression(degree=2, **kwargs):\n",
    "    return make_pipeline(PolynomialFeatures(degree),\n",
    "                         LinearRegression(**kwargs))\n",
    "\n",
    "#generated sample\n",
    "def make_data(N, err=1.0, rseed=1):\n",
    "    # randomly sample the data\n",
    "    rng = np.random.RandomState(rseed)\n",
    "    X = rng.rand(N, 1) ** 2\n",
    "    y = 10 - 1. / (X.ravel() + 0.1)\n",
    "    if err > 0:\n",
    "        y += err * rng.randn(N)\n",
    "    return X, y\n",
    "\n",
    "X, y = make_data(40)\n",
    "\n",
    "\n",
    "#check model performance by varying degree of polynomials in Linear Regression\n",
    "#plot validation curve\n",
    "degree = np.arange(0, 21)\n",
    "train_score, val_score = validation_curve(PolynomialRegression(), X, y,\n",
    "                                          'polynomialfeatures__degree', degree, cv=7)\n",
    "\n",
    "plt.figure(figsize=(14,8))\n",
    "plt.plot(degree, np.median(train_score, 1), color='blue', label='training score')\n",
    "plt.plot(degree, np.median(val_score, 1), color='red', label='validation score')\n",
    "plt.legend(loc='best')\n",
    "plt.ylim(0, 1)\n",
    "plt.xlabel('degree')\n",
    "plt.ylabel('score');"
   ]
  },
  {
   "cell_type": "markdown",
   "metadata": {},
   "source": [
    "The graph shows precisely the qualitative behavior we expect: the training score is everywhere higher than the validation score; the training score is monotonically improving with increased model complexity; and the validation score reaches a maximum before dropping off as the model becomes over-fit.\n",
    "\n",
    "From the validation curve, we can read-off that the optimal trade-off between bias and variance is found for a third-order polynomial.\n",
    "\n",
    "The optimal fit to the sample data with a third-order polynomial is as follows."
   ]
  },
  {
   "cell_type": "code",
   "execution_count": 30,
   "metadata": {
    "hide_input": true
   },
   "outputs": [
    {
     "data": {
      "image/png": "[encoded data removed]",
      "text/plain": [
       "<Figure size 1008x576 with 1 Axes>"
      ]
     },
     "metadata": {
      "needs_background": "light"
     },
     "output_type": "display_data"
    }
   ],
   "source": [
    "X_test = np.linspace(-0.1, 1.1, 500)[:, None]\n",
    "plt.figure(figsize=(14,8))\n",
    "plt.scatter(X.ravel(), y)\n",
    "lim = plt.axis()\n",
    "y_test = PolynomialRegression(3).fit(X, y).predict(X_test)\n",
    "plt.plot(X_test.ravel(), y_test);\n",
    "plt.axis(lim);"
   ]
  },
  {
   "cell_type": "markdown",
   "metadata": {},
   "source": [
    "#### Learning Curve\n",
    "\n",
    "Model performance relies heavily on sample size. Let's add more data in our sample and see how it affects the trade-off between bias and variance."
   ]
  },
  {
   "cell_type": "code",
   "execution_count": 32,
   "metadata": {
    "hide_input": true
   },
   "outputs": [
    {
     "data": {
      "image/png": "[encoded data removed]",
      "text/plain": [
       "<Figure size 1008x576 with 1 Axes>"
      ]
     },
     "metadata": {
      "needs_background": "light"
     },
     "output_type": "display_data"
    }
   ],
   "source": [
    "X2, y2 = make_data(200)\n",
    "plt.figure(figsize=(14,8))\n",
    "plt.scatter(X2.ravel(), y2);"
   ]
  },
  {
   "cell_type": "markdown",
   "metadata": {},
   "source": [
    "Dashed lines refer to the smaller sample size that we explore previously, while solid lines refer to larger sample size. Remarkably, larger sample ables to support higher model complexity. The optimal polynomial now shifts to the degree of six."
   ]
  },
  {
   "cell_type": "code",
   "execution_count": 34,
   "metadata": {
    "hide_input": true
   },
   "outputs": [
    {
     "data": {
      "image/png": "[encoded data removed]",
      "text/plain": [
       "<Figure size 1008x576 with 1 Axes>"
      ]
     },
     "metadata": {
      "needs_background": "light"
     },
     "output_type": "display_data"
    }
   ],
   "source": [
    "degree = np.arange(21)\n",
    "train_score2, val_score2 = validation_curve(PolynomialRegression(), X2, y2,\n",
    "                                            'polynomialfeatures__degree', degree, cv=7)\n",
    "plt.figure(figsize=(14,8))\n",
    "plt.plot(degree, np.median(train_score2, 1), color='blue', label='training score')\n",
    "plt.plot(degree, np.median(val_score2, 1), color='red', label='validation score')\n",
    "plt.plot(degree, np.median(train_score, 1), color='blue', alpha=0.3, linestyle='dashed')\n",
    "plt.plot(degree, np.median(val_score, 1), color='red', alpha=0.3, linestyle='dashed')\n",
    "plt.legend(loc='lower center')\n",
    "plt.ylim(0, 1)\n",
    "plt.xlabel('degree')\n",
    "plt.ylabel('score');"
   ]
  },
  {
   "cell_type": "markdown",
   "metadata": {},
   "source": [
    "It is often useful to explore the behavior of the model as a function of the number of training points, which we can do by using increasingly larger subsets of the data to fit our model. A plot of the training/validation score with respect to the size of the training set is known as a **learning curve**.\n",
    "\n",
    "In general it shows you the following relation between model bias and variance (given some model complexity):\n",
    "\n",
    "- with small sample size the model will suffer from high variance, training score will be high whereas validation score is low;\n",
    "- as training size increases the training score decreases and validation score increases; the curves converge, but never cross."
   ]
  },
  {
   "cell_type": "markdown",
   "metadata": {},
   "source": [
    "Important feature of the learning curve is the convergence to a particular score as the number of training examples grows.\n",
    "\n",
    "Once you have enough points that a particular model has converged, adding more training data will not help you.\n",
    "\n",
    "The only way to increase model performance in this case is to use another (often more complex) model."
   ]
  },
  {
   "cell_type": "markdown",
   "metadata": {},
   "source": [
    "Let's explore this feature using our previous example. These are the learning curves for polynomials of degree 2 and degree 9 for the original dataset. They depict how training and validation scores are affected by training size.\n",
    "\n",
    "On the left hand panel, we fit the model with second-order polynomial. Increasing the training size doesn't improve the model fit.\n",
    "\n",
    "To improve model performance we fit the model with ninth-order polynomial (increase model complexity), on the right hand panel. At the expense of high variance we increased model performance, as we add more data, eventually, validation curve converges to training curve."
   ]
  },
  {
   "cell_type": "code",
   "execution_count": 35,
   "metadata": {
    "hide_input": true
   },
   "outputs": [
    {
     "data": {
      "image/png": "[encoded data removed]",
      "text/plain": [
       "<Figure size 1152x432 with 2 Axes>"
      ]
     },
     "metadata": {
      "needs_background": "light"
     },
     "output_type": "display_data"
    }
   ],
   "source": [
    "from sklearn.model_selection import learning_curve\n",
    "\n",
    "fig, ax = plt.subplots(1, 2, figsize=(16, 6))\n",
    "fig.subplots_adjust(left=0.0625, right=0.95, wspace=0.1)\n",
    "\n",
    "for i, degree in enumerate([2, 9]):\n",
    "    N, train_lc, val_lc = learning_curve(PolynomialRegression(degree),\n",
    "                                         X, y, cv=7,\n",
    "                                         train_sizes=np.linspace(0.3, 1, 25))\n",
    "\n",
    "    ax[i].plot(N, np.mean(train_lc, 1), color='blue', label='training score')\n",
    "    ax[i].plot(N, np.mean(val_lc, 1), color='red', label='validation score')\n",
    "    ax[i].hlines(np.mean([train_lc[-1], val_lc[-1]]), N[0], N[-1],\n",
    "                 color='gray', linestyle='dashed')\n",
    "\n",
    "    ax[i].set_ylim(0, 1)\n",
    "    ax[i].set_xlim(N[0], N[-1])\n",
    "    ax[i].set_xlabel('training size')\n",
    "    ax[i].set_ylabel('score')\n",
    "    ax[i].set_title('degree = {0}'.format(degree), size=14)\n",
    "    ax[i].legend(loc='best')"
   ]
  },
  {
   "cell_type": "markdown",
   "metadata": {},
   "source": [
    "#### Take aways\n",
    "\n",
    "- Get more training examples -> fixes high variance\n",
    "- Limit set of features -> fixes high variance\n",
    "- Add features -> fixes high bias\n",
    "- Add feature polynomials -> fixes high bias\n",
    "- Decrease regularization parameter $\\lambda$ -> fixes high bias\n",
    "- Increase regularization parameter $\\lambda$ -> fixes high variance"
   ]
  },
  {
   "cell_type": "markdown",
   "metadata": {
    "hide_input": true
   },
   "source": [
    "### Model Selection\n",
    "\n",
    "ML algorithms come with numerous parameters that you need to tune to achieve better model performance. Exploration of the model performance using graphs in case of multiple parameters isn't convenient.\n",
    "\n",
    "The straight forward approach is to try all combinations of parameters that algorithm provides using *Grid Search*."
   ]
  },
  {
   "cell_type": "markdown",
   "metadata": {},
   "source": [
    "We may naively split our sample into training and test samples, run Linear Regression with each combination of parameters, e.g., fit intercept (True or False) and degree of polynomial (up to 20). Collect the scores on test set and select the best score and associated parameters."
   ]
  },
  {
   "cell_type": "code",
   "execution_count": 4,
   "metadata": {
    "hide_input": true
   },
   "outputs": [
    {
     "name": "stdout",
     "output_type": "stream",
     "text": [
      "Size of training set: 150 size of test set: 50\n",
      "Best score: 0.87\n",
      "Best parameters: {'degree': 18, 'fit_intercept': False}\n"
     ]
    }
   ],
   "source": [
    "# naive grid search implementation\n",
    "X, y = make_data(200)\n",
    "X_train, X_test, y_train, y_test = train_test_split(X, y, random_state=0)\n",
    "\n",
    "print(\"Size of training set: {} size of test set: {}\".format(X_train.shape[0], X_test.shape[0]))\n",
    "\n",
    "best_score = 0\n",
    "# for each combination of parameters, train a Linear Model\n",
    "for degree in np.arange(21):\n",
    "    for fit_intercept in [True,False]:\n",
    "        lm = PolynomialRegression(degree=degree,fit_intercept=fit_intercept)\n",
    "        lm.fit(X_train,y_train)\n",
    "        # evaluate model on the test set\n",
    "        score = lm.score(X_test, y_test)\n",
    "        # if we got a better score, store the score and parameters\n",
    "        if score > best_score:\n",
    "            best_score = score\n",
    "            best_parameters = {'degree': degree, 'fit_intercept': fit_intercept}\n",
    "print(\"Best score: {:.2f}\".format(best_score))\n",
    "print(\"Best parameters: {}\".format(best_parameters))"
   ]
  },
  {
   "cell_type": "markdown",
   "metadata": {},
   "source": [
    "We found such set of parameters (do not fit intercept and use polynomials of degree 18) that explains 87% of variation in the outcome variable for our test set. That's it, we found the model? No.\n",
    "\n",
    "The problem with this approach is that we tunned the parameters on our test set. Thus we can't guarantee that the same combo of parameters is the best fit for unseen data. It is the same reasoning why we need train-test split in first place."
   ]
  },
  {
   "cell_type": "markdown",
   "metadata": {},
   "source": [
    "To resolve this issue we need **three sets**:\n",
    "\n",
    "- training (build model)\n",
    "- validation (tune model parameters)\n",
    "- test (evaluate model performance)"
   ]
  },
  {
   "cell_type": "markdown",
   "metadata": {},
   "source": [
    "Grid Search uses cross-validation in place of the split into a training and validation set that we used before. We use 5-fold cross-validation for the same combinations of parameters for Linear Regression - fit_intercept and degree of polynomial."
   ]
  },
  {
   "cell_type": "code",
   "execution_count": 15,
   "metadata": {
    "hide_input": true
   },
   "outputs": [
    {
     "name": "stdout",
     "output_type": "stream",
     "text": [
      "Parameter grid:\n",
      "{'polynomialfeatures__degree': array([ 0,  1,  2,  3,  4,  5,  6,  7,  8,  9, 10, 11, 12, 13, 14, 15, 16,\n",
      "       17, 18, 19, 20]), 'linearregression__fit_intercept': [True, False]}\n",
      "Best parameters:\n",
      "{'linearregression__fit_intercept': True, 'polynomialfeatures__degree': 9}\n"
     ]
    }
   ],
   "source": [
    "from sklearn.model_selection import GridSearchCV\n",
    "\n",
    "param_grid = {'polynomialfeatures__degree': np.arange(21),\n",
    "              'linearregression__fit_intercept': [True, False]}\n",
    "\n",
    "grid = GridSearchCV(PolynomialRegression(), param_grid, cv=5, iid=False, return_train_score=False)\n",
    "\n",
    "\n",
    "grid.fit(X, y);\n",
    "print(\"Parameter grid:\\n{}\\nBest parameters:\\n{}\".format(param_grid,grid.best_params_))"
   ]
  },
  {
   "cell_type": "markdown",
   "metadata": {},
   "source": [
    "With cross-validation we found the best combo of parameters (fit intercept and polynomial of degree 9). We still need separate test set to check how model generalizes, to avoid overfitting of the model."
   ]
  },
  {
   "cell_type": "code",
   "execution_count": 16,
   "metadata": {
    "hide_input": true
   },
   "outputs": [
    {
     "name": "stdout",
     "output_type": "stream",
     "text": [
      "Best cross-validation score: 0.89\n",
      "Test set score: 0.87\n"
     ]
    }
   ],
   "source": [
    "grid.fit(X_train,y_train) #apply grid search on train set (to get cross-validation scores)\n",
    "print(\"Best cross-validation score: {:.2f}\\nTest set score: {:.2f}\".format(grid.best_score_,grid.score(X_test, y_test)))"
   ]
  },
  {
   "cell_type": "markdown",
   "metadata": {},
   "source": [
    "Choosing the parameters using cross-validation, we found that goodness of fit on the validation set is 89%, whereas the goodness of fit on the test set is 87%. It tells us how well the model generalizes to new unseen data. The important thing here is that we did not use the test set to choose the parameters."
   ]
  },
  {
   "cell_type": "markdown",
   "metadata": {},
   "source": [
    "The results of a grid search can be found in the cv\\_results\\_ attribute."
   ]
  },
  {
   "cell_type": "code",
   "execution_count": 76,
   "metadata": {
    "hide_input": true,
    "scrolled": true
   },
   "outputs": [
    {
     "data": {
      "text/html": [
       "<div>\n",
       "<style scoped>\n",
       "    .dataframe tbody tr th:only-of-type {\n",
       "        vertical-align: middle;\n",
       "    }\n",
       "\n",
       "    .dataframe tbody tr th {\n",
       "        vertical-align: top;\n",
       "    }\n",
       "\n",
       "    .dataframe thead th {\n",
       "        text-align: right;\n",
       "    }\n",
       "</style>\n",
       "<table border=\"1\" class=\"dataframe\">\n",
       "  <thead>\n",
       "    <tr style=\"text-align: right;\">\n",
       "      <th></th>\n",
       "      <th>mean_fit_time</th>\n",
       "      <th>std_fit_time</th>\n",
       "      <th>mean_score_time</th>\n",
       "      <th>std_score_time</th>\n",
       "      <th>param_linearregression__fit_intercept</th>\n",
       "      <th>param_polynomialfeatures__degree</th>\n",
       "      <th>params</th>\n",
       "      <th>split0_test_score</th>\n",
       "      <th>split1_test_score</th>\n",
       "      <th>split2_test_score</th>\n",
       "      <th>split3_test_score</th>\n",
       "      <th>split4_test_score</th>\n",
       "      <th>mean_test_score</th>\n",
       "      <th>std_test_score</th>\n",
       "      <th>rank_test_score</th>\n",
       "    </tr>\n",
       "  </thead>\n",
       "  <tbody>\n",
       "    <tr>\n",
       "      <th>0</th>\n",
       "      <td>0.000936</td>\n",
       "      <td>0.000229</td>\n",
       "      <td>0.000719</td>\n",
       "      <td>0.000134</td>\n",
       "      <td>True</td>\n",
       "      <td>0</td>\n",
       "      <td>{'linearregression__fit_intercept': True, 'pol...</td>\n",
       "      <td>-0.093248</td>\n",
       "      <td>-0.000499</td>\n",
       "      <td>-0.006838</td>\n",
       "      <td>-0.047531</td>\n",
       "      <td>-0.388290</td>\n",
       "      <td>-0.107281</td>\n",
       "      <td>0.144377</td>\n",
       "      <td>36</td>\n",
       "    </tr>\n",
       "    <tr>\n",
       "      <th>1</th>\n",
       "      <td>0.000908</td>\n",
       "      <td>0.000152</td>\n",
       "      <td>0.000721</td>\n",
       "      <td>0.000150</td>\n",
       "      <td>True</td>\n",
       "      <td>1</td>\n",
       "      <td>{'linearregression__fit_intercept': True, 'pol...</td>\n",
       "      <td>0.695432</td>\n",
       "      <td>0.723055</td>\n",
       "      <td>0.657961</td>\n",
       "      <td>0.727170</td>\n",
       "      <td>0.444525</td>\n",
       "      <td>0.649629</td>\n",
       "      <td>0.105488</td>\n",
       "      <td>32</td>\n",
       "    </tr>\n",
       "    <tr>\n",
       "      <th>2</th>\n",
       "      <td>0.000686</td>\n",
       "      <td>0.000091</td>\n",
       "      <td>0.000519</td>\n",
       "      <td>0.000040</td>\n",
       "      <td>True</td>\n",
       "      <td>2</td>\n",
       "      <td>{'linearregression__fit_intercept': True, 'pol...</td>\n",
       "      <td>0.864575</td>\n",
       "      <td>0.860019</td>\n",
       "      <td>0.795826</td>\n",
       "      <td>0.880456</td>\n",
       "      <td>0.663667</td>\n",
       "      <td>0.812908</td>\n",
       "      <td>0.080020</td>\n",
       "      <td>29</td>\n",
       "    </tr>\n",
       "    <tr>\n",
       "      <th>3</th>\n",
       "      <td>0.000669</td>\n",
       "      <td>0.000030</td>\n",
       "      <td>0.000552</td>\n",
       "      <td>0.000044</td>\n",
       "      <td>True</td>\n",
       "      <td>3</td>\n",
       "      <td>{'linearregression__fit_intercept': True, 'pol...</td>\n",
       "      <td>0.890389</td>\n",
       "      <td>0.905598</td>\n",
       "      <td>0.843606</td>\n",
       "      <td>0.906532</td>\n",
       "      <td>0.768912</td>\n",
       "      <td>0.863007</td>\n",
       "      <td>0.052323</td>\n",
       "      <td>23</td>\n",
       "    </tr>\n",
       "    <tr>\n",
       "      <th>4</th>\n",
       "      <td>0.000669</td>\n",
       "      <td>0.000002</td>\n",
       "      <td>0.000541</td>\n",
       "      <td>0.000015</td>\n",
       "      <td>True</td>\n",
       "      <td>4</td>\n",
       "      <td>{'linearregression__fit_intercept': True, 'pol...</td>\n",
       "      <td>0.933519</td>\n",
       "      <td>0.937289</td>\n",
       "      <td>0.876612</td>\n",
       "      <td>0.925398</td>\n",
       "      <td>0.780087</td>\n",
       "      <td>0.890581</td>\n",
       "      <td>0.059399</td>\n",
       "      <td>7</td>\n",
       "    </tr>\n",
       "    <tr>\n",
       "      <th>5</th>\n",
       "      <td>0.000708</td>\n",
       "      <td>0.000015</td>\n",
       "      <td>0.000565</td>\n",
       "      <td>0.000020</td>\n",
       "      <td>True</td>\n",
       "      <td>5</td>\n",
       "      <td>{'linearregression__fit_intercept': True, 'pol...</td>\n",
       "      <td>0.940552</td>\n",
       "      <td>0.939306</td>\n",
       "      <td>0.887451</td>\n",
       "      <td>0.926950</td>\n",
       "      <td>0.753446</td>\n",
       "      <td>0.889541</td>\n",
       "      <td>0.070717</td>\n",
       "      <td>16</td>\n",
       "    </tr>\n",
       "    <tr>\n",
       "      <th>6</th>\n",
       "      <td>0.000728</td>\n",
       "      <td>0.000003</td>\n",
       "      <td>0.000578</td>\n",
       "      <td>0.000014</td>\n",
       "      <td>True</td>\n",
       "      <td>6</td>\n",
       "      <td>{'linearregression__fit_intercept': True, 'pol...</td>\n",
       "      <td>0.948018</td>\n",
       "      <td>0.941268</td>\n",
       "      <td>0.874071</td>\n",
       "      <td>0.928569</td>\n",
       "      <td>0.756358</td>\n",
       "      <td>0.889657</td>\n",
       "      <td>0.071548</td>\n",
       "      <td>14</td>\n",
       "    </tr>\n",
       "    <tr>\n",
       "      <th>7</th>\n",
       "      <td>0.000763</td>\n",
       "      <td>0.000017</td>\n",
       "      <td>0.000595</td>\n",
       "      <td>0.000004</td>\n",
       "      <td>True</td>\n",
       "      <td>7</td>\n",
       "      <td>{'linearregression__fit_intercept': True, 'pol...</td>\n",
       "      <td>0.935019</td>\n",
       "      <td>0.944779</td>\n",
       "      <td>0.874164</td>\n",
       "      <td>0.931964</td>\n",
       "      <td>0.764462</td>\n",
       "      <td>0.890077</td>\n",
       "      <td>0.067526</td>\n",
       "      <td>12</td>\n",
       "    </tr>\n",
       "    <tr>\n",
       "      <th>8</th>\n",
       "      <td>0.000828</td>\n",
       "      <td>0.000059</td>\n",
       "      <td>0.000632</td>\n",
       "      <td>0.000037</td>\n",
       "      <td>True</td>\n",
       "      <td>8</td>\n",
       "      <td>{'linearregression__fit_intercept': True, 'pol...</td>\n",
       "      <td>0.943224</td>\n",
       "      <td>0.947326</td>\n",
       "      <td>0.878106</td>\n",
       "      <td>0.933720</td>\n",
       "      <td>0.769083</td>\n",
       "      <td>0.894292</td>\n",
       "      <td>0.067381</td>\n",
       "      <td>4</td>\n",
       "    </tr>\n",
       "    <tr>\n",
       "      <th>9</th>\n",
       "      <td>0.000843</td>\n",
       "      <td>0.000038</td>\n",
       "      <td>0.000645</td>\n",
       "      <td>0.000018</td>\n",
       "      <td>True</td>\n",
       "      <td>9</td>\n",
       "      <td>{'linearregression__fit_intercept': True, 'pol...</td>\n",
       "      <td>0.945308</td>\n",
       "      <td>0.941262</td>\n",
       "      <td>0.880288</td>\n",
       "      <td>0.935099</td>\n",
       "      <td>0.769997</td>\n",
       "      <td>0.894391</td>\n",
       "      <td>0.066512</td>\n",
       "      <td>2</td>\n",
       "    </tr>\n",
       "    <tr>\n",
       "      <th>10</th>\n",
       "      <td>0.001096</td>\n",
       "      <td>0.000107</td>\n",
       "      <td>0.000816</td>\n",
       "      <td>0.000078</td>\n",
       "      <td>True</td>\n",
       "      <td>10</td>\n",
       "      <td>{'linearregression__fit_intercept': True, 'pol...</td>\n",
       "      <td>0.945275</td>\n",
       "      <td>0.938119</td>\n",
       "      <td>0.874157</td>\n",
       "      <td>0.935354</td>\n",
       "      <td>0.763477</td>\n",
       "      <td>0.891276</td>\n",
       "      <td>0.068817</td>\n",
       "      <td>5</td>\n",
       "    </tr>\n",
       "    <tr>\n",
       "      <th>11</th>\n",
       "      <td>0.001194</td>\n",
       "      <td>0.000005</td>\n",
       "      <td>0.000893</td>\n",
       "      <td>0.000005</td>\n",
       "      <td>True</td>\n",
       "      <td>11</td>\n",
       "      <td>{'linearregression__fit_intercept': True, 'pol...</td>\n",
       "      <td>0.944196</td>\n",
       "      <td>0.937920</td>\n",
       "      <td>0.872530</td>\n",
       "      <td>0.935055</td>\n",
       "      <td>0.761637</td>\n",
       "      <td>0.890268</td>\n",
       "      <td>0.069347</td>\n",
       "      <td>10</td>\n",
       "    </tr>\n",
       "    <tr>\n",
       "      <th>12</th>\n",
       "      <td>0.001209</td>\n",
       "      <td>0.000242</td>\n",
       "      <td>0.000796</td>\n",
       "      <td>0.000107</td>\n",
       "      <td>True</td>\n",
       "      <td>12</td>\n",
       "      <td>{'linearregression__fit_intercept': True, 'pol...</td>\n",
       "      <td>0.942897</td>\n",
       "      <td>0.938023</td>\n",
       "      <td>0.872026</td>\n",
       "      <td>0.933573</td>\n",
       "      <td>0.738311</td>\n",
       "      <td>0.884966</td>\n",
       "      <td>0.077729</td>\n",
       "      <td>18</td>\n",
       "    </tr>\n",
       "    <tr>\n",
       "      <th>13</th>\n",
       "      <td>0.000934</td>\n",
       "      <td>0.000008</td>\n",
       "      <td>0.000707</td>\n",
       "      <td>0.000002</td>\n",
       "      <td>True</td>\n",
       "      <td>13</td>\n",
       "      <td>{'linearregression__fit_intercept': True, 'pol...</td>\n",
       "      <td>0.923179</td>\n",
       "      <td>0.937068</td>\n",
       "      <td>0.871825</td>\n",
       "      <td>0.933219</td>\n",
       "      <td>0.738733</td>\n",
       "      <td>0.880805</td>\n",
       "      <td>0.074797</td>\n",
       "      <td>19</td>\n",
       "    </tr>\n",
       "    <tr>\n",
       "      <th>14</th>\n",
       "      <td>0.000981</td>\n",
       "      <td>0.000033</td>\n",
       "      <td>0.000730</td>\n",
       "      <td>0.000003</td>\n",
       "      <td>True</td>\n",
       "      <td>14</td>\n",
       "      <td>{'linearregression__fit_intercept': True, 'pol...</td>\n",
       "      <td>0.747767</td>\n",
       "      <td>0.937063</td>\n",
       "      <td>0.869618</td>\n",
       "      <td>0.933278</td>\n",
       "      <td>0.735104</td>\n",
       "      <td>0.844566</td>\n",
       "      <td>0.087641</td>\n",
       "      <td>26</td>\n",
       "    </tr>\n",
       "    <tr>\n",
       "      <th>15</th>\n",
       "      <td>0.001014</td>\n",
       "      <td>0.000024</td>\n",
       "      <td>0.000769</td>\n",
       "      <td>0.000034</td>\n",
       "      <td>True</td>\n",
       "      <td>15</td>\n",
       "      <td>{'linearregression__fit_intercept': True, 'pol...</td>\n",
       "      <td>0.747696</td>\n",
       "      <td>0.935880</td>\n",
       "      <td>0.862446</td>\n",
       "      <td>0.933051</td>\n",
       "      <td>0.736372</td>\n",
       "      <td>0.843089</td>\n",
       "      <td>0.086679</td>\n",
       "      <td>27</td>\n",
       "    </tr>\n",
       "    <tr>\n",
       "      <th>16</th>\n",
       "      <td>0.001033</td>\n",
       "      <td>0.000005</td>\n",
       "      <td>0.000768</td>\n",
       "      <td>0.000005</td>\n",
       "      <td>True</td>\n",
       "      <td>16</td>\n",
       "      <td>{'linearregression__fit_intercept': True, 'pol...</td>\n",
       "      <td>0.859011</td>\n",
       "      <td>0.937619</td>\n",
       "      <td>0.868986</td>\n",
       "      <td>0.925955</td>\n",
       "      <td>0.742929</td>\n",
       "      <td>0.866900</td>\n",
       "      <td>0.069172</td>\n",
       "      <td>21</td>\n",
       "    </tr>\n",
       "    <tr>\n",
       "      <th>17</th>\n",
       "      <td>0.001058</td>\n",
       "      <td>0.000004</td>\n",
       "      <td>0.000785</td>\n",
       "      <td>0.000004</td>\n",
       "      <td>True</td>\n",
       "      <td>17</td>\n",
       "      <td>{'linearregression__fit_intercept': True, 'pol...</td>\n",
       "      <td>-1.067886</td>\n",
       "      <td>0.936829</td>\n",
       "      <td>0.854474</td>\n",
       "      <td>0.925821</td>\n",
       "      <td>0.742275</td>\n",
       "      <td>0.478303</td>\n",
       "      <td>0.776196</td>\n",
       "      <td>34</td>\n",
       "    </tr>\n",
       "    <tr>\n",
       "      <th>18</th>\n",
       "      <td>0.001105</td>\n",
       "      <td>0.000020</td>\n",
       "      <td>0.000802</td>\n",
       "      <td>0.000002</td>\n",
       "      <td>True</td>\n",
       "      <td>18</td>\n",
       "      <td>{'linearregression__fit_intercept': True, 'pol...</td>\n",
       "      <td>-40.330642</td>\n",
       "      <td>0.937278</td>\n",
       "      <td>0.854310</td>\n",
       "      <td>0.924657</td>\n",
       "      <td>0.733581</td>\n",
       "      <td>-7.376163</td>\n",
       "      <td>16.477398</td>\n",
       "      <td>39</td>\n",
       "    </tr>\n",
       "    <tr>\n",
       "      <th>19</th>\n",
       "      <td>0.001153</td>\n",
       "      <td>0.000038</td>\n",
       "      <td>0.000892</td>\n",
       "      <td>0.000088</td>\n",
       "      <td>True</td>\n",
       "      <td>19</td>\n",
       "      <td>{'linearregression__fit_intercept': True, 'pol...</td>\n",
       "      <td>-10.575799</td>\n",
       "      <td>0.937212</td>\n",
       "      <td>0.854983</td>\n",
       "      <td>0.926943</td>\n",
       "      <td>0.735440</td>\n",
       "      <td>-1.424244</td>\n",
       "      <td>4.576344</td>\n",
       "      <td>38</td>\n",
       "    </tr>\n",
       "    <tr>\n",
       "      <th>20</th>\n",
       "      <td>0.001191</td>\n",
       "      <td>0.000042</td>\n",
       "      <td>0.000887</td>\n",
       "      <td>0.000056</td>\n",
       "      <td>True</td>\n",
       "      <td>20</td>\n",
       "      <td>{'linearregression__fit_intercept': True, 'pol...</td>\n",
       "      <td>-153.345426</td>\n",
       "      <td>0.936506</td>\n",
       "      <td>0.855199</td>\n",
       "      <td>0.926899</td>\n",
       "      <td>0.735225</td>\n",
       "      <td>-29.978320</td>\n",
       "      <td>61.683595</td>\n",
       "      <td>42</td>\n",
       "    </tr>\n",
       "    <tr>\n",
       "      <th>21</th>\n",
       "      <td>0.000549</td>\n",
       "      <td>0.000063</td>\n",
       "      <td>0.000460</td>\n",
       "      <td>0.000018</td>\n",
       "      <td>False</td>\n",
       "      <td>0</td>\n",
       "      <td>{'linearregression__fit_intercept': False, 'po...</td>\n",
       "      <td>-0.093248</td>\n",
       "      <td>-0.000499</td>\n",
       "      <td>-0.006838</td>\n",
       "      <td>-0.047531</td>\n",
       "      <td>-0.388290</td>\n",
       "      <td>-0.107281</td>\n",
       "      <td>0.144377</td>\n",
       "      <td>35</td>\n",
       "    </tr>\n",
       "    <tr>\n",
       "      <th>22</th>\n",
       "      <td>0.000558</td>\n",
       "      <td>0.000019</td>\n",
       "      <td>0.000471</td>\n",
       "      <td>0.000002</td>\n",
       "      <td>False</td>\n",
       "      <td>1</td>\n",
       "      <td>{'linearregression__fit_intercept': False, 'po...</td>\n",
       "      <td>0.695432</td>\n",
       "      <td>0.723055</td>\n",
       "      <td>0.657961</td>\n",
       "      <td>0.727170</td>\n",
       "      <td>0.444525</td>\n",
       "      <td>0.649629</td>\n",
       "      <td>0.105488</td>\n",
       "      <td>31</td>\n",
       "    </tr>\n",
       "    <tr>\n",
       "      <th>23</th>\n",
       "      <td>0.000581</td>\n",
       "      <td>0.000016</td>\n",
       "      <td>0.000489</td>\n",
       "      <td>0.000002</td>\n",
       "      <td>False</td>\n",
       "      <td>2</td>\n",
       "      <td>{'linearregression__fit_intercept': False, 'po...</td>\n",
       "      <td>0.864575</td>\n",
       "      <td>0.860019</td>\n",
       "      <td>0.795826</td>\n",
       "      <td>0.880456</td>\n",
       "      <td>0.663667</td>\n",
       "      <td>0.812908</td>\n",
       "      <td>0.080020</td>\n",
       "      <td>29</td>\n",
       "    </tr>\n",
       "    <tr>\n",
       "      <th>24</th>\n",
       "      <td>0.000615</td>\n",
       "      <td>0.000020</td>\n",
       "      <td>0.000513</td>\n",
       "      <td>0.000005</td>\n",
       "      <td>False</td>\n",
       "      <td>3</td>\n",
       "      <td>{'linearregression__fit_intercept': False, 'po...</td>\n",
       "      <td>0.890389</td>\n",
       "      <td>0.905598</td>\n",
       "      <td>0.843606</td>\n",
       "      <td>0.906532</td>\n",
       "      <td>0.768912</td>\n",
       "      <td>0.863007</td>\n",
       "      <td>0.052323</td>\n",
       "      <td>24</td>\n",
       "    </tr>\n",
       "    <tr>\n",
       "      <th>25</th>\n",
       "      <td>0.000629</td>\n",
       "      <td>0.000002</td>\n",
       "      <td>0.000529</td>\n",
       "      <td>0.000003</td>\n",
       "      <td>False</td>\n",
       "      <td>4</td>\n",
       "      <td>{'linearregression__fit_intercept': False, 'po...</td>\n",
       "      <td>0.933519</td>\n",
       "      <td>0.937289</td>\n",
       "      <td>0.876612</td>\n",
       "      <td>0.925398</td>\n",
       "      <td>0.780087</td>\n",
       "      <td>0.890581</td>\n",
       "      <td>0.059399</td>\n",
       "      <td>8</td>\n",
       "    </tr>\n",
       "    <tr>\n",
       "      <th>26</th>\n",
       "      <td>0.000656</td>\n",
       "      <td>0.000008</td>\n",
       "      <td>0.000547</td>\n",
       "      <td>0.000004</td>\n",
       "      <td>False</td>\n",
       "      <td>5</td>\n",
       "      <td>{'linearregression__fit_intercept': False, 'po...</td>\n",
       "      <td>0.940552</td>\n",
       "      <td>0.939306</td>\n",
       "      <td>0.887451</td>\n",
       "      <td>0.926950</td>\n",
       "      <td>0.753446</td>\n",
       "      <td>0.889541</td>\n",
       "      <td>0.070717</td>\n",
       "      <td>15</td>\n",
       "    </tr>\n",
       "    <tr>\n",
       "      <th>27</th>\n",
       "      <td>0.000686</td>\n",
       "      <td>0.000003</td>\n",
       "      <td>0.000567</td>\n",
       "      <td>0.000002</td>\n",
       "      <td>False</td>\n",
       "      <td>6</td>\n",
       "      <td>{'linearregression__fit_intercept': False, 'po...</td>\n",
       "      <td>0.948018</td>\n",
       "      <td>0.941268</td>\n",
       "      <td>0.874071</td>\n",
       "      <td>0.928569</td>\n",
       "      <td>0.756358</td>\n",
       "      <td>0.889657</td>\n",
       "      <td>0.071548</td>\n",
       "      <td>13</td>\n",
       "    </tr>\n",
       "    <tr>\n",
       "      <th>28</th>\n",
       "      <td>0.000708</td>\n",
       "      <td>0.000004</td>\n",
       "      <td>0.000596</td>\n",
       "      <td>0.000017</td>\n",
       "      <td>False</td>\n",
       "      <td>7</td>\n",
       "      <td>{'linearregression__fit_intercept': False, 'po...</td>\n",
       "      <td>0.935019</td>\n",
       "      <td>0.944779</td>\n",
       "      <td>0.874164</td>\n",
       "      <td>0.931964</td>\n",
       "      <td>0.764462</td>\n",
       "      <td>0.890077</td>\n",
       "      <td>0.067526</td>\n",
       "      <td>11</td>\n",
       "    </tr>\n",
       "    <tr>\n",
       "      <th>29</th>\n",
       "      <td>0.000753</td>\n",
       "      <td>0.000026</td>\n",
       "      <td>0.000614</td>\n",
       "      <td>0.000012</td>\n",
       "      <td>False</td>\n",
       "      <td>8</td>\n",
       "      <td>{'linearregression__fit_intercept': False, 'po...</td>\n",
       "      <td>0.943224</td>\n",
       "      <td>0.947326</td>\n",
       "      <td>0.878106</td>\n",
       "      <td>0.933720</td>\n",
       "      <td>0.769083</td>\n",
       "      <td>0.894292</td>\n",
       "      <td>0.067381</td>\n",
       "      <td>3</td>\n",
       "    </tr>\n",
       "    <tr>\n",
       "      <th>30</th>\n",
       "      <td>0.000773</td>\n",
       "      <td>0.000010</td>\n",
       "      <td>0.000627</td>\n",
       "      <td>0.000002</td>\n",
       "      <td>False</td>\n",
       "      <td>9</td>\n",
       "      <td>{'linearregression__fit_intercept': False, 'po...</td>\n",
       "      <td>0.945308</td>\n",
       "      <td>0.941262</td>\n",
       "      <td>0.880288</td>\n",
       "      <td>0.935099</td>\n",
       "      <td>0.769997</td>\n",
       "      <td>0.894391</td>\n",
       "      <td>0.066512</td>\n",
       "      <td>1</td>\n",
       "    </tr>\n",
       "    <tr>\n",
       "      <th>31</th>\n",
       "      <td>0.000798</td>\n",
       "      <td>0.000008</td>\n",
       "      <td>0.000649</td>\n",
       "      <td>0.000008</td>\n",
       "      <td>False</td>\n",
       "      <td>10</td>\n",
       "      <td>{'linearregression__fit_intercept': False, 'po...</td>\n",
       "      <td>0.945275</td>\n",
       "      <td>0.938119</td>\n",
       "      <td>0.874157</td>\n",
       "      <td>0.935354</td>\n",
       "      <td>0.763477</td>\n",
       "      <td>0.891276</td>\n",
       "      <td>0.068817</td>\n",
       "      <td>6</td>\n",
       "    </tr>\n",
       "    <tr>\n",
       "      <th>32</th>\n",
       "      <td>0.000820</td>\n",
       "      <td>0.000003</td>\n",
       "      <td>0.000663</td>\n",
       "      <td>0.000002</td>\n",
       "      <td>False</td>\n",
       "      <td>11</td>\n",
       "      <td>{'linearregression__fit_intercept': False, 'po...</td>\n",
       "      <td>0.944196</td>\n",
       "      <td>0.937920</td>\n",
       "      <td>0.872530</td>\n",
       "      <td>0.935055</td>\n",
       "      <td>0.761637</td>\n",
       "      <td>0.890268</td>\n",
       "      <td>0.069347</td>\n",
       "      <td>9</td>\n",
       "    </tr>\n",
       "    <tr>\n",
       "      <th>33</th>\n",
       "      <td>0.000851</td>\n",
       "      <td>0.000006</td>\n",
       "      <td>0.000695</td>\n",
       "      <td>0.000017</td>\n",
       "      <td>False</td>\n",
       "      <td>12</td>\n",
       "      <td>{'linearregression__fit_intercept': False, 'po...</td>\n",
       "      <td>0.942897</td>\n",
       "      <td>0.938023</td>\n",
       "      <td>0.872026</td>\n",
       "      <td>0.933573</td>\n",
       "      <td>0.738311</td>\n",
       "      <td>0.884966</td>\n",
       "      <td>0.077729</td>\n",
       "      <td>17</td>\n",
       "    </tr>\n",
       "    <tr>\n",
       "      <th>34</th>\n",
       "      <td>0.000879</td>\n",
       "      <td>0.000004</td>\n",
       "      <td>0.000707</td>\n",
       "      <td>0.000005</td>\n",
       "      <td>False</td>\n",
       "      <td>13</td>\n",
       "      <td>{'linearregression__fit_intercept': False, 'po...</td>\n",
       "      <td>0.923179</td>\n",
       "      <td>0.937068</td>\n",
       "      <td>0.871825</td>\n",
       "      <td>0.933219</td>\n",
       "      <td>0.738733</td>\n",
       "      <td>0.880805</td>\n",
       "      <td>0.074797</td>\n",
       "      <td>20</td>\n",
       "    </tr>\n",
       "    <tr>\n",
       "      <th>35</th>\n",
       "      <td>0.000909</td>\n",
       "      <td>0.000019</td>\n",
       "      <td>0.000720</td>\n",
       "      <td>0.000001</td>\n",
       "      <td>False</td>\n",
       "      <td>14</td>\n",
       "      <td>{'linearregression__fit_intercept': False, 'po...</td>\n",
       "      <td>0.747767</td>\n",
       "      <td>0.937063</td>\n",
       "      <td>0.869618</td>\n",
       "      <td>0.933278</td>\n",
       "      <td>0.735104</td>\n",
       "      <td>0.844566</td>\n",
       "      <td>0.087641</td>\n",
       "      <td>25</td>\n",
       "    </tr>\n",
       "    <tr>\n",
       "      <th>36</th>\n",
       "      <td>0.000932</td>\n",
       "      <td>0.000008</td>\n",
       "      <td>0.000751</td>\n",
       "      <td>0.000018</td>\n",
       "      <td>False</td>\n",
       "      <td>15</td>\n",
       "      <td>{'linearregression__fit_intercept': False, 'po...</td>\n",
       "      <td>0.747695</td>\n",
       "      <td>0.935880</td>\n",
       "      <td>0.862446</td>\n",
       "      <td>0.933051</td>\n",
       "      <td>0.736372</td>\n",
       "      <td>0.843089</td>\n",
       "      <td>0.086679</td>\n",
       "      <td>28</td>\n",
       "    </tr>\n",
       "    <tr>\n",
       "      <th>37</th>\n",
       "      <td>0.000959</td>\n",
       "      <td>0.000007</td>\n",
       "      <td>0.000758</td>\n",
       "      <td>0.000002</td>\n",
       "      <td>False</td>\n",
       "      <td>16</td>\n",
       "      <td>{'linearregression__fit_intercept': False, 'po...</td>\n",
       "      <td>0.859009</td>\n",
       "      <td>0.937619</td>\n",
       "      <td>0.868986</td>\n",
       "      <td>0.925955</td>\n",
       "      <td>0.742929</td>\n",
       "      <td>0.866899</td>\n",
       "      <td>0.069172</td>\n",
       "      <td>22</td>\n",
       "    </tr>\n",
       "    <tr>\n",
       "      <th>38</th>\n",
       "      <td>0.000993</td>\n",
       "      <td>0.000009</td>\n",
       "      <td>0.000787</td>\n",
       "      <td>0.000009</td>\n",
       "      <td>False</td>\n",
       "      <td>17</td>\n",
       "      <td>{'linearregression__fit_intercept': False, 'po...</td>\n",
       "      <td>-1.067737</td>\n",
       "      <td>0.936828</td>\n",
       "      <td>0.854475</td>\n",
       "      <td>0.925821</td>\n",
       "      <td>0.742274</td>\n",
       "      <td>0.478332</td>\n",
       "      <td>0.776137</td>\n",
       "      <td>33</td>\n",
       "    </tr>\n",
       "    <tr>\n",
       "      <th>39</th>\n",
       "      <td>0.001025</td>\n",
       "      <td>0.000006</td>\n",
       "      <td>0.000804</td>\n",
       "      <td>0.000002</td>\n",
       "      <td>False</td>\n",
       "      <td>18</td>\n",
       "      <td>{'linearregression__fit_intercept': False, 'po...</td>\n",
       "      <td>-40.342162</td>\n",
       "      <td>0.937277</td>\n",
       "      <td>0.854308</td>\n",
       "      <td>0.924657</td>\n",
       "      <td>0.733589</td>\n",
       "      <td>-7.378466</td>\n",
       "      <td>16.482006</td>\n",
       "      <td>40</td>\n",
       "    </tr>\n",
       "    <tr>\n",
       "      <th>40</th>\n",
       "      <td>0.001050</td>\n",
       "      <td>0.000003</td>\n",
       "      <td>0.000825</td>\n",
       "      <td>0.000005</td>\n",
       "      <td>False</td>\n",
       "      <td>19</td>\n",
       "      <td>{'linearregression__fit_intercept': False, 'po...</td>\n",
       "      <td>-10.566611</td>\n",
       "      <td>0.937223</td>\n",
       "      <td>0.855029</td>\n",
       "      <td>0.926944</td>\n",
       "      <td>0.735393</td>\n",
       "      <td>-1.422405</td>\n",
       "      <td>4.572671</td>\n",
       "      <td>37</td>\n",
       "    </tr>\n",
       "    <tr>\n",
       "      <th>41</th>\n",
       "      <td>0.001085</td>\n",
       "      <td>0.000005</td>\n",
       "      <td>0.000842</td>\n",
       "      <td>0.000001</td>\n",
       "      <td>False</td>\n",
       "      <td>20</td>\n",
       "      <td>{'linearregression__fit_intercept': False, 'po...</td>\n",
       "      <td>-152.193417</td>\n",
       "      <td>0.936460</td>\n",
       "      <td>0.855246</td>\n",
       "      <td>0.926885</td>\n",
       "      <td>0.735147</td>\n",
       "      <td>-29.747936</td>\n",
       "      <td>61.222783</td>\n",
       "      <td>41</td>\n",
       "    </tr>\n",
       "  </tbody>\n",
       "</table>\n",
       "</div>"
      ],
      "text/plain": [
       "    mean_fit_time  std_fit_time  mean_score_time  std_score_time  \\\n",
       "0        0.000936      0.000229         0.000719        0.000134   \n",
       "1        0.000908      0.000152         0.000721        0.000150   \n",
       "2        0.000686      0.000091         0.000519        0.000040   \n",
       "3        0.000669      0.000030         0.000552        0.000044   \n",
       "4        0.000669      0.000002         0.000541        0.000015   \n",
       "5        0.000708      0.000015         0.000565        0.000020   \n",
       "6        0.000728      0.000003         0.000578        0.000014   \n",
       "7        0.000763      0.000017         0.000595        0.000004   \n",
       "8        0.000828      0.000059         0.000632        0.000037   \n",
       "9        0.000843      0.000038         0.000645        0.000018   \n",
       "10       0.001096      0.000107         0.000816        0.000078   \n",
       "11       0.001194      0.000005         0.000893        0.000005   \n",
       "12       0.001209      0.000242         0.000796        0.000107   \n",
       "13       0.000934      0.000008         0.000707        0.000002   \n",
       "14       0.000981      0.000033         0.000730        0.000003   \n",
       "15       0.001014      0.000024         0.000769        0.000034   \n",
       "16       0.001033      0.000005         0.000768        0.000005   \n",
       "17       0.001058      0.000004         0.000785        0.000004   \n",
       "18       0.001105      0.000020         0.000802        0.000002   \n",
       "19       0.001153      0.000038         0.000892        0.000088   \n",
       "20       0.001191      0.000042         0.000887        0.000056   \n",
       "21       0.000549      0.000063         0.000460        0.000018   \n",
       "22       0.000558      0.000019         0.000471        0.000002   \n",
       "23       0.000581      0.000016         0.000489        0.000002   \n",
       "24       0.000615      0.000020         0.000513        0.000005   \n",
       "25       0.000629      0.000002         0.000529        0.000003   \n",
       "26       0.000656      0.000008         0.000547        0.000004   \n",
       "27       0.000686      0.000003         0.000567        0.000002   \n",
       "28       0.000708      0.000004         0.000596        0.000017   \n",
       "29       0.000753      0.000026         0.000614        0.000012   \n",
       "30       0.000773      0.000010         0.000627        0.000002   \n",
       "31       0.000798      0.000008         0.000649        0.000008   \n",
       "32       0.000820      0.000003         0.000663        0.000002   \n",
       "33       0.000851      0.000006         0.000695        0.000017   \n",
       "34       0.000879      0.000004         0.000707        0.000005   \n",
       "35       0.000909      0.000019         0.000720        0.000001   \n",
       "36       0.000932      0.000008         0.000751        0.000018   \n",
       "37       0.000959      0.000007         0.000758        0.000002   \n",
       "38       0.000993      0.000009         0.000787        0.000009   \n",
       "39       0.001025      0.000006         0.000804        0.000002   \n",
       "40       0.001050      0.000003         0.000825        0.000005   \n",
       "41       0.001085      0.000005         0.000842        0.000001   \n",
       "\n",
       "   param_linearregression__fit_intercept param_polynomialfeatures__degree  \\\n",
       "0                                   True                                0   \n",
       "1                                   True                                1   \n",
       "2                                   True                                2   \n",
       "3                                   True                                3   \n",
       "4                                   True                                4   \n",
       "5                                   True                                5   \n",
       "6                                   True                                6   \n",
       "7                                   True                                7   \n",
       "8                                   True                                8   \n",
       "9                                   True                                9   \n",
       "10                                  True                               10   \n",
       "11                                  True                               11   \n",
       "12                                  True                               12   \n",
       "13                                  True                               13   \n",
       "14                                  True                               14   \n",
       "15                                  True                               15   \n",
       "16                                  True                               16   \n",
       "17                                  True                               17   \n",
       "18                                  True                               18   \n",
       "19                                  True                               19   \n",
       "20                                  True                               20   \n",
       "21                                 False                                0   \n",
       "22                                 False                                1   \n",
       "23                                 False                                2   \n",
       "24                                 False                                3   \n",
       "25                                 False                                4   \n",
       "26                                 False                                5   \n",
       "27                                 False                                6   \n",
       "28                                 False                                7   \n",
       "29                                 False                                8   \n",
       "30                                 False                                9   \n",
       "31                                 False                               10   \n",
       "32                                 False                               11   \n",
       "33                                 False                               12   \n",
       "34                                 False                               13   \n",
       "35                                 False                               14   \n",
       "36                                 False                               15   \n",
       "37                                 False                               16   \n",
       "38                                 False                               17   \n",
       "39                                 False                               18   \n",
       "40                                 False                               19   \n",
       "41                                 False                               20   \n",
       "\n",
       "                                               params  split0_test_score  \\\n",
       "0   {'linearregression__fit_intercept': True, 'pol...          -0.093248   \n",
       "1   {'linearregression__fit_intercept': True, 'pol...           0.695432   \n",
       "2   {'linearregression__fit_intercept': True, 'pol...           0.864575   \n",
       "3   {'linearregression__fit_intercept': True, 'pol...           0.890389   \n",
       "4   {'linearregression__fit_intercept': True, 'pol...           0.933519   \n",
       "5   {'linearregression__fit_intercept': True, 'pol...           0.940552   \n",
       "6   {'linearregression__fit_intercept': True, 'pol...           0.948018   \n",
       "7   {'linearregression__fit_intercept': True, 'pol...           0.935019   \n",
       "8   {'linearregression__fit_intercept': True, 'pol...           0.943224   \n",
       "9   {'linearregression__fit_intercept': True, 'pol...           0.945308   \n",
       "10  {'linearregression__fit_intercept': True, 'pol...           0.945275   \n",
       "11  {'linearregression__fit_intercept': True, 'pol...           0.944196   \n",
       "12  {'linearregression__fit_intercept': True, 'pol...           0.942897   \n",
       "13  {'linearregression__fit_intercept': True, 'pol...           0.923179   \n",
       "14  {'linearregression__fit_intercept': True, 'pol...           0.747767   \n",
       "15  {'linearregression__fit_intercept': True, 'pol...           0.747696   \n",
       "16  {'linearregression__fit_intercept': True, 'pol...           0.859011   \n",
       "17  {'linearregression__fit_intercept': True, 'pol...          -1.067886   \n",
       "18  {'linearregression__fit_intercept': True, 'pol...         -40.330642   \n",
       "19  {'linearregression__fit_intercept': True, 'pol...         -10.575799   \n",
       "20  {'linearregression__fit_intercept': True, 'pol...        -153.345426   \n",
       "21  {'linearregression__fit_intercept': False, 'po...          -0.093248   \n",
       "22  {'linearregression__fit_intercept': False, 'po...           0.695432   \n",
       "23  {'linearregression__fit_intercept': False, 'po...           0.864575   \n",
       "24  {'linearregression__fit_intercept': False, 'po...           0.890389   \n",
       "25  {'linearregression__fit_intercept': False, 'po...           0.933519   \n",
       "26  {'linearregression__fit_intercept': False, 'po...           0.940552   \n",
       "27  {'linearregression__fit_intercept': False, 'po...           0.948018   \n",
       "28  {'linearregression__fit_intercept': False, 'po...           0.935019   \n",
       "29  {'linearregression__fit_intercept': False, 'po...           0.943224   \n",
       "30  {'linearregression__fit_intercept': False, 'po...           0.945308   \n",
       "31  {'linearregression__fit_intercept': False, 'po...           0.945275   \n",
       "32  {'linearregression__fit_intercept': False, 'po...           0.944196   \n",
       "33  {'linearregression__fit_intercept': False, 'po...           0.942897   \n",
       "34  {'linearregression__fit_intercept': False, 'po...           0.923179   \n",
       "35  {'linearregression__fit_intercept': False, 'po...           0.747767   \n",
       "36  {'linearregression__fit_intercept': False, 'po...           0.747695   \n",
       "37  {'linearregression__fit_intercept': False, 'po...           0.859009   \n",
       "38  {'linearregression__fit_intercept': False, 'po...          -1.067737   \n",
       "39  {'linearregression__fit_intercept': False, 'po...         -40.342162   \n",
       "40  {'linearregression__fit_intercept': False, 'po...         -10.566611   \n",
       "41  {'linearregression__fit_intercept': False, 'po...        -152.193417   \n",
       "\n",
       "    split1_test_score  split2_test_score  split3_test_score  \\\n",
       "0           -0.000499          -0.006838          -0.047531   \n",
       "1            0.723055           0.657961           0.727170   \n",
       "2            0.860019           0.795826           0.880456   \n",
       "3            0.905598           0.843606           0.906532   \n",
       "4            0.937289           0.876612           0.925398   \n",
       "5            0.939306           0.887451           0.926950   \n",
       "6            0.941268           0.874071           0.928569   \n",
       "7            0.944779           0.874164           0.931964   \n",
       "8            0.947326           0.878106           0.933720   \n",
       "9            0.941262           0.880288           0.935099   \n",
       "10           0.938119           0.874157           0.935354   \n",
       "11           0.937920           0.872530           0.935055   \n",
       "12           0.938023           0.872026           0.933573   \n",
       "13           0.937068           0.871825           0.933219   \n",
       "14           0.937063           0.869618           0.933278   \n",
       "15           0.935880           0.862446           0.933051   \n",
       "16           0.937619           0.868986           0.925955   \n",
       "17           0.936829           0.854474           0.925821   \n",
       "18           0.937278           0.854310           0.924657   \n",
       "19           0.937212           0.854983           0.926943   \n",
       "20           0.936506           0.855199           0.926899   \n",
       "21          -0.000499          -0.006838          -0.047531   \n",
       "22           0.723055           0.657961           0.727170   \n",
       "23           0.860019           0.795826           0.880456   \n",
       "24           0.905598           0.843606           0.906532   \n",
       "25           0.937289           0.876612           0.925398   \n",
       "26           0.939306           0.887451           0.926950   \n",
       "27           0.941268           0.874071           0.928569   \n",
       "28           0.944779           0.874164           0.931964   \n",
       "29           0.947326           0.878106           0.933720   \n",
       "30           0.941262           0.880288           0.935099   \n",
       "31           0.938119           0.874157           0.935354   \n",
       "32           0.937920           0.872530           0.935055   \n",
       "33           0.938023           0.872026           0.933573   \n",
       "34           0.937068           0.871825           0.933219   \n",
       "35           0.937063           0.869618           0.933278   \n",
       "36           0.935880           0.862446           0.933051   \n",
       "37           0.937619           0.868986           0.925955   \n",
       "38           0.936828           0.854475           0.925821   \n",
       "39           0.937277           0.854308           0.924657   \n",
       "40           0.937223           0.855029           0.926944   \n",
       "41           0.936460           0.855246           0.926885   \n",
       "\n",
       "    split4_test_score  mean_test_score  std_test_score  rank_test_score  \n",
       "0           -0.388290        -0.107281        0.144377               36  \n",
       "1            0.444525         0.649629        0.105488               32  \n",
       "2            0.663667         0.812908        0.080020               29  \n",
       "3            0.768912         0.863007        0.052323               23  \n",
       "4            0.780087         0.890581        0.059399                7  \n",
       "5            0.753446         0.889541        0.070717               16  \n",
       "6            0.756358         0.889657        0.071548               14  \n",
       "7            0.764462         0.890077        0.067526               12  \n",
       "8            0.769083         0.894292        0.067381                4  \n",
       "9            0.769997         0.894391        0.066512                2  \n",
       "10           0.763477         0.891276        0.068817                5  \n",
       "11           0.761637         0.890268        0.069347               10  \n",
       "12           0.738311         0.884966        0.077729               18  \n",
       "13           0.738733         0.880805        0.074797               19  \n",
       "14           0.735104         0.844566        0.087641               26  \n",
       "15           0.736372         0.843089        0.086679               27  \n",
       "16           0.742929         0.866900        0.069172               21  \n",
       "17           0.742275         0.478303        0.776196               34  \n",
       "18           0.733581        -7.376163       16.477398               39  \n",
       "19           0.735440        -1.424244        4.576344               38  \n",
       "20           0.735225       -29.978320       61.683595               42  \n",
       "21          -0.388290        -0.107281        0.144377               35  \n",
       "22           0.444525         0.649629        0.105488               31  \n",
       "23           0.663667         0.812908        0.080020               29  \n",
       "24           0.768912         0.863007        0.052323               24  \n",
       "25           0.780087         0.890581        0.059399                8  \n",
       "26           0.753446         0.889541        0.070717               15  \n",
       "27           0.756358         0.889657        0.071548               13  \n",
       "28           0.764462         0.890077        0.067526               11  \n",
       "29           0.769083         0.894292        0.067381                3  \n",
       "30           0.769997         0.894391        0.066512                1  \n",
       "31           0.763477         0.891276        0.068817                6  \n",
       "32           0.761637         0.890268        0.069347                9  \n",
       "33           0.738311         0.884966        0.077729               17  \n",
       "34           0.738733         0.880805        0.074797               20  \n",
       "35           0.735104         0.844566        0.087641               25  \n",
       "36           0.736372         0.843089        0.086679               28  \n",
       "37           0.742929         0.866899        0.069172               22  \n",
       "38           0.742274         0.478332        0.776137               33  \n",
       "39           0.733589        -7.378466       16.482006               40  \n",
       "40           0.735393        -1.422405        4.572671               37  \n",
       "41           0.735147       -29.747936       61.222783               41  "
      ]
     },
     "execution_count": 76,
     "metadata": {},
     "output_type": "execute_result"
    }
   ],
   "source": [
    "import pandas as pd\n",
    "# convert to DataFrame\n",
    "results = pd.DataFrame(grid.cv_results_)\n",
    "results"
   ]
  },
  {
   "cell_type": "markdown",
   "metadata": {},
   "source": [
    "Each row in results corresponds to one particular parameter setting. For each setting, the results of all cross-validation splits are recorded, as well as the mean and standard deviation over all splits. Since we use combinations of just two parameters we can visualize mean cross-validation scores as a heatmap."
   ]
  },
  {
   "cell_type": "code",
   "execution_count": 105,
   "metadata": {
    "collapsed": true,
    "hide_input": true
   },
   "outputs": [],
   "source": [
    "scores = np.array(results.mean_test_score).reshape(2,21).T"
   ]
  },
  {
   "cell_type": "code",
   "execution_count": 107,
   "metadata": {
    "hide_input": true
   },
   "outputs": [
    {
     "data": {
      "text/plain": [
       "<matplotlib.axes._subplots.AxesSubplot at 0x125f0beb8>"
      ]
     },
     "execution_count": 107,
     "metadata": {},
     "output_type": "execute_result"
    },
    {
     "data": {
      "image/png": "[encoded data removed]",
      "text/plain": [
       "<Figure size 432x288 with 2 Axes>"
      ]
     },
     "metadata": {},
     "output_type": "display_data"
    }
   ],
   "source": [
    "import seaborn as sns; sns.set()\n",
    "sns.heatmap(scores,vmin=0,vmax=1,annot=True)"
   ]
  },
  {
   "cell_type": "markdown",
   "metadata": {},
   "source": [
    "First thing we can see is that there is no change in accuracy for the fit_intercept parameter. It can indicate the parameter is not important for model tuning. Sometimes it can also indicate improper range for a hyperprameter.\n",
    "\n",
    "Varying degrees of polynomials between values 4 and 12 also doesn't change accuracy. But setting extreme values for this parameter indicate that this parameter play a role in fitting the model.\n",
    "\n",
    "Based on the scores of the grid we may adjust parameter values for the algorithms, run grid search and inspect the results again until we find a valid range for parameters."
   ]
  },
  {
   "cell_type": "markdown",
   "metadata": {},
   "source": [
    "This is a simple case for the Linear Regression for the sample dataset. Usage of the above approach for the real dataset with larger set of parameters may result in richer combination patterns. \n",
    "\n",
    "Grid Search is flexible on parameters too. Some algorithms can have limited number of possible parameter combinations. E.g. some optimization algorithms may not support particular regularization method. In this case we can create grid of parameters as a list of dictionaries, where keys and values in each element of a list are particular set of possible parameters.\n",
    "\n",
    "Or we may want to apply various cross-validation methods with Grid Search, stratified k-fold, grouped cross-validation and etc."
   ]
  },
  {
   "cell_type": "markdown",
   "metadata": {},
   "source": [
    "## Model Evaluation Metrics\n",
    "\n",
    "Coefficient of determination $R^2$ for linear regression and accuracy score for classification are used so far to measure model performance.\n",
    "\n",
    "But the set of possible model evaluaion metrics is not limited to these two. The choice of a particular metric depends on the business goal.\n",
    "\n",
    "### Business metric & Business Impact\n",
    "\n",
    "Making accurate predictions for Machine Learning application is not a goal in itself, but rather using these predictions as part of larger decision-making process.\n",
    "\n",
    "When you choose a Machine Learning metric, keep in mind what is the high-level goal of ML application - *business metric*. The consequence of choosing a particular algorithm for your ML application is called *business impact*.\n",
    "\n",
    "Maybe the high-level goal is improving diagnosis of some desease, or avoiding traffic accidents, or decreseing the number of hospital admissions, or getting more users for your website, or having users spend more money in your shop, etc. \n",
    "\n",
    "When you tune model parameters and test various models you should pick the model that have the most positive influence on the business metric. Assessement of business impact is a hard task, since it may require testing of the model in real-life. It can be costly for the business or unethical.\n",
    "\n",
    "Imagine you build a ML self-driving model. You may want to check how your model cope with avoiding pedestrians on the road. Until you come up with a model evaluation metric that is close to the business metric in question, letting the car to drive alone can be dangerous for pedestrians."
   ]
  },
  {
   "cell_type": "markdown",
   "metadata": {
    "collapsed": true
   },
   "source": [
    "### Metrics for Binary Classification\n",
    "\n",
    "We used accuracy score (fraction of correctly classified samples) as model evaluation metric for classification problems. For binary classification problem there are two classes we are trying to predict - positive and negative. Usually the target class (e.g., malignant tumor) is taken as a positive class.\n",
    "\n",
    "However, the measure of accuracy can be misleading measure of model performance. The fraction of incorrectly classified samples doesn't provide us with the kind of errors our model does.\n",
    "\n",
    "Return to the example with breast cancer classification. The positive class indicates malignant tumor, whereas the negative class stands for benign tumor. If we would *falsely* classify some of the patients to have malignant tumor (False Positive, type I error) it will result in the cost for the clinic to conduct additional diagnostics, and for the patient with emotional distress. In turn, patients who are *falsely* classified as having benign tumor (False Negative, type II error) won't be treated leading to serious health issues.\n",
    "\n",
    "In a commercial setting the cost of false positive and false negative errors is not the same. We can assign a dollar value for each and use them instead of accuracy scores."
   ]
  },
  {
   "cell_type": "markdown",
   "metadata": {},
   "source": [
    "These two types of errors are easy to remember given the following example.\n",
    "\n",
    "<img src=\"https://www.statisticssolutions.com/wp-content/uploads/2017/12/rachnovblog.jpg\">"
   ]
  },
  {
   "cell_type": "markdown",
   "metadata": {},
   "source": [
    "#### Imbalanced classes\n",
    "\n",
    "It is rarely the case that dataset comes with balanced classes, e.g. 50/50 of samples for class one and class two. It is more often that classes are unbalanced and dataset contains more samples for one of the classes.\n",
    "\n",
    "For instance, you may need to predict user's click on some add. You show adds for users one after another and it is rare event that user eventually clicks on the add. The resulted dataset will contain 99% of no click and 1% of click observations.\n",
    "\n",
    "The classifier you build for the adds click dataset may result in 99% accuracy. It doesn't take imbalance of classes into account. Thus taking into account only accuracy score can't distinguish between a good model and 99% no click behavior. In contrast, we would like to have metrics that tell us how much better a model is than making \"most frequent\" predictions or random predictions."
   ]
  },
  {
   "cell_type": "markdown",
   "metadata": {},
   "source": [
    "#### Confusion matrices\n",
    "\n",
    "The information about the number of errors our model produces can be extracted from *confusion matrix* for the classifier. Let's see how confusion matrix looks like for the breast cancer classification dataset."
   ]
  },
  {
   "cell_type": "code",
   "execution_count": 38,
   "metadata": {
    "hide_input": true
   },
   "outputs": [
    {
     "name": "stdout",
     "output_type": "stream",
     "text": [
      "Accuracy score on test set 0.96\n"
     ]
    }
   ],
   "source": [
    "from sklearn.datasets import load_breast_cancer\n",
    "from sklearn.model_selection import train_test_split\n",
    "\n",
    "cancer = load_breast_cancer()\n",
    "\n",
    "df=pd.concat([pd.DataFrame(cancer.target,columns=['target']),pd.DataFrame(cancer.data,columns=cancer.feature_names)],axis=1)\n",
    "df['target'].replace([0,1],[1,0],inplace=True)\n",
    "\n",
    "X_train, X_test, y_train, y_test = train_test_split(df.iloc[:,1:], df.target, random_state=0)\n",
    "\n",
    "\n",
    "clf = LogisticRegression(solver='liblinear')\n",
    "clf.fit(X_train,y_train)\n",
    "y_pred = clf.predict(X_test)\n",
    "print(\"Accuracy score on test set {:.2f}\".format(clf.score(X_test,y_test)))"
   ]
  },
  {
   "cell_type": "code",
   "execution_count": 39,
   "metadata": {
    "hide_input": true
   },
   "outputs": [
    {
     "name": "stdout",
     "output_type": "stream",
     "text": [
      "Confusion matrix:\n",
      "[[85  5]\n",
      " [ 1 52]]\n"
     ]
    }
   ],
   "source": [
    "from sklearn.metrics import confusion_matrix\n",
    "conf = confusion_matrix(y_test,y_pred)\n",
    "print(\"Confusion matrix:\\n{}\".format(conf))"
   ]
  },
  {
   "cell_type": "markdown",
   "metadata": {},
   "source": [
    "The output of the confusion matrix $C$ is 2x2 array: rows correspond to the true classes, columns correspond to the predicted classes. By definition a confusion matrix $C$ is such that $C_{ij}$ is equal to the number of observations known to be in group $i$ and predicted to be in group $j$.\n",
    "\n",
    "Thus in binary classification, the count of true negatives (TN) is $C_{00}$, false negatives (FN) is $C_{10}$, true positives (TP) is $C_{11}$ and false positives (FP) is $C_{01}$.\n",
    "\n",
    "For the breast cancer dataset we found that there is one false negative sample that is known to be malignant but was classified as benign. And there are 5 cases which are benign, but classified as malignant. Overall the number of falsy classified samples of both types of errors is small in comparison to the number of true positive and true negative, which indicates that our classifier performs well."
   ]
  },
  {
   "cell_type": "markdown",
   "metadata": {},
   "source": [
    "Inspection of the confusion matrix is not always convinient. There are metrics that are based on the confusion matrix that can be compared among the models.\n",
    "\n",
    "**Accuracy** measures the number of correct predictions with respect to the total number of samples:\n",
    "\n",
    "$\\frac{TP + TN}{TP + TN + FP + FN}$\n",
    "\n",
    "**Precision** measures how many of the samples predicted as positive are actually positive:\n",
    "\n",
    "$\\frac{TP}{TP+FP}$\n",
    "\n",
    "It is used when we aim to limit the number of false positives. Sometimes it is called positive predicted value (PPV).\n",
    "\n",
    "**Recall** measures how many of the positive samples are captured by the positive predictions:\n",
    "\n",
    "$\\frac{TP}{TP+FN}$\n",
    "\n",
    "It is used when we aim to limit the number of false negatives. Other names for recall are sensitivity, hit rate, or true positive rate (TPR).\n",
    "\n",
    "The aim is to find the balance between the two - precision and recall. It is possible to receive perfect recall measure with all classes predicted as positive. But this, in turn, will result in large number of false positives and hence very low precision score.\n",
    "\n",
    "The harmonic mean of the two is usually expressed as *f1-score*:\n",
    "\n",
    "$F = 2*\\frac{precision*recall}{precision+recall}$"
   ]
  },
  {
   "cell_type": "code",
   "execution_count": 41,
   "metadata": {
    "hide_input": true
   },
   "outputs": [
    {
     "name": "stdout",
     "output_type": "stream",
     "text": [
      "F1-score: 0.95\n"
     ]
    }
   ],
   "source": [
    "from sklearn.metrics import f1_score\n",
    "f1 = f1_score(y_test,y_pred)\n",
    "print(\"F1-score: {:.2f}\".format(f1))"
   ]
  },
  {
   "cell_type": "markdown",
   "metadata": {},
   "source": [
    "F1-score captures the precision and recall metrics, but it is harder to explain that the accuracy measure.\n",
    "\n",
    "We can call for the full list of evaluation metrics using classification report functionality. It will produce the following table with evaluation metrics for each class (taking it as positive)."
   ]
  },
  {
   "cell_type": "code",
   "execution_count": 51,
   "metadata": {
    "hide_input": true
   },
   "outputs": [
    {
     "name": "stdout",
     "output_type": "stream",
     "text": [
      "              precision    recall  f1-score   support\n",
      "\n",
      "      benign       0.99      0.94      0.97        90\n",
      "   malignant       0.91      0.98      0.95        53\n",
      "\n",
      "   micro avg       0.96      0.96      0.96       143\n",
      "   macro avg       0.95      0.96      0.96       143\n",
      "weighted avg       0.96      0.96      0.96       143\n",
      "\n"
     ]
    }
   ],
   "source": [
    "from sklearn.metrics import classification_report\n",
    "print(classification_report(y_test,y_pred,target_names=['benign','malignant']))"
   ]
  },
  {
   "cell_type": "markdown",
   "metadata": {},
   "source": [
    "- support (the number of samples in the class based on the true classification);\n",
    "\n",
    "- micro average (averaging the total true positives, false negatives and false positives);\n",
    "\n",
    "- macro average (averaging the unweighted mean per label);\n",
    "\n",
    "- weighted average (averaging the support-weighted mean per label).\n"
   ]
  },
  {
   "cell_type": "markdown",
   "metadata": {},
   "source": [
    "#### Precision-recall curves\n",
    "\n",
    "In some circumstances we may need to adjust the trade-off of precision and recall, e.g., increase the number of false positives (falsely malignant tumors), thus increasing recall and keeping precision of the model. In a business setting we may state a desired value - *operating point* - for precision or recall that we would like to achieve.\n",
    "\n",
    "Classification estimators usually provide methods to control the treshhold that is used by classifier to make a prediction - *decision_function* (0) and *predict_proba* (0.5).\n",
    "\n",
    "To inspect all possible thresholds at once we need to use *precision-recall curve*."
   ]
  },
  {
   "cell_type": "code",
   "execution_count": 53,
   "metadata": {
    "collapsed": true,
    "hide_input": true
   },
   "outputs": [],
   "source": [
    "from sklearn.metrics import precision_recall_curve\n",
    "precision, recall, thresholds = precision_recall_curve(y_test,clf.decision_function(X_test)) #returns a list of precision and recall values for all possible thresholds"
   ]
  },
  {
   "cell_type": "code",
   "execution_count": 56,
   "metadata": {
    "hide_input": true
   },
   "outputs": [
    {
     "data": {
      "text/plain": [
       "<matplotlib.legend.Legend at 0x125dbde80>"
      ]
     },
     "execution_count": 56,
     "metadata": {},
     "output_type": "execute_result"
    },
    {
     "data": {
      "image/png": "[encoded data removed]",
      "text/plain": [
       "<Figure size 432x288 with 1 Axes>"
      ]
     },
     "metadata": {
      "needs_background": "light"
     },
     "output_type": "display_data"
    }
   ],
   "source": [
    "# find threshold closest to zero\n",
    "close_zero = np.argmin(np.abs(thresholds))\n",
    "plt.plot(precision[close_zero], recall[close_zero], 'o', markersize=10,label=\"threshold zero\", fillstyle=\"none\", c='k', mew=2)\n",
    "plt.plot(precision, recall, label=\"precision recall curve\")\n",
    "plt.xlabel(\"Precision\")\n",
    "plt.ylabel(\"Recall\")\n",
    "plt.legend(loc='best')"
   ]
  },
  {
   "cell_type": "markdown",
   "metadata": {},
   "source": [
    "Blue line is a precision-recall curve with all possible threshold values. Black dot is the threshold at zero (default value for classifier). This point is chosen when we call for predict method for classifier.\n",
    "\n",
    "On the basis of this curve we can see that we may trade-off 0.8 of recall at precision of 0.98 by changing the threshold.\n",
    "\n",
    "Curve that stays close to the right upper corner indicates better classifier. A point at the upper right means high precision and high recall for the same threshold. Curve starts at the left corner with low threshold that classifies all classes as positive. Raising the threshold moves the curve toward higher precision and lowers recall. The more the model keeps recall high as precision increases the better.\n",
    "\n",
    "Different classifiers can perform better in different parts of the curve. It is worth to plot precision-recall curves when multiple classifiers are used, because comparison of estimators based on f1-score reflects only one point (default threshold) on precision-recall curve and thus less valuable.\n",
    "\n",
    "Instead of comparison of precision-recall curves for various classifiers, we can summarize the information about the curves by computing the area under the curve using average precision score."
   ]
  },
  {
   "cell_type": "code",
   "execution_count": 57,
   "metadata": {
    "hide_input": true
   },
   "outputs": [
    {
     "name": "stdout",
     "output_type": "stream",
     "text": [
      "Average precision of logit: 0.99\n"
     ]
    }
   ],
   "source": [
    "from sklearn.metrics import average_precision_score\n",
    "ap_clf = average_precision_score(y_test, clf.decision_function(X_test))\n",
    "print(\"Average precision of logit: {:.2f}\".format(ap_clf))"
   ]
  },
  {
   "cell_type": "markdown",
   "metadata": {},
   "source": [
    "#### Receiver operating characteristics (ROC)\n",
    "\n",
    "Another tool that enables to explore how classifiers perform at different thresholds is the *ROC curve*.\n",
    "\n",
    "It plots all possible thresholds for classifier, but instead of showing precision vs. recall, it shows the false positive rate ($FPR = \\frac{FP}{FP+TN}$) against the true positive rate (TPR=recall). "
   ]
  },
  {
   "cell_type": "code",
   "execution_count": 55,
   "metadata": {
    "hide_input": true
   },
   "outputs": [
    {
     "data": {
      "text/plain": [
       "<matplotlib.legend.Legend at 0x125ca74a8>"
      ]
     },
     "execution_count": 55,
     "metadata": {},
     "output_type": "execute_result"
    },
    {
     "data": {
      "image/png": "[encoded data removed]",
      "text/plain": [
       "<Figure size 432x288 with 1 Axes>"
      ]
     },
     "metadata": {
      "needs_background": "light"
     },
     "output_type": "display_data"
    }
   ],
   "source": [
    "from sklearn.metrics import roc_curve\n",
    "fpr, tpr, thresholds = roc_curve(y_test, clf.decision_function(X_test))\n",
    "plt.plot(fpr, tpr, label=\"ROC Curve\")\n",
    "plt.xlabel(\"FPR\")\n",
    "plt.ylabel(\"TPR (recall)\")\n",
    "# find threshold closest to zero\n",
    "close_zero = np.argmin(np.abs(thresholds))\n",
    "plt.plot(fpr[close_zero], tpr[close_zero], 'o', markersize=10,\n",
    "label=\"threshold zero\", fillstyle=\"none\", c='k', mew=2)\n",
    "plt.legend(loc='best')"
   ]
  },
  {
   "cell_type": "markdown",
   "metadata": {},
   "source": [
    "For the ROC curve the estimator that plots curve close to upper left corner is the best one, as it provides high recall keeping low rate of false positives. The default threshold equals to zero and provides the best threshold in this case.\n",
    "\n",
    "Choice of threshold as other parameter tuning should be done of validation sets before it is tested on the test set.\n",
    "\n",
    "Again, we can compare various classifiers using ROC curves or automate the process by calculating the area under the curve - AUC. AUC is preferable measure for unbalanced datasets."
   ]
  },
  {
   "cell_type": "code",
   "execution_count": 58,
   "metadata": {
    "hide_input": true
   },
   "outputs": [
    {
     "name": "stdout",
     "output_type": "stream",
     "text": [
      "AUC for logit: 0.99\n"
     ]
    }
   ],
   "source": [
    "from sklearn.metrics import roc_auc_score\n",
    "clf_auc = roc_auc_score(y_test, clf.decision_function(X_test))\n",
    "print(\"AUC for logit: {:.2f}\".format(clf_auc))"
   ]
  },
  {
   "cell_type": "markdown",
   "metadata": {},
   "source": [
    "We can search for the model using various model evaluation metric via Grid Search by providing the scoring argument to the function call."
   ]
  }
 ],
 "metadata": {
  "kernelspec": {
   "display_name": "Python 3",
   "language": "python",
   "name": "python3"
  },
  "language_info": {
   "codemirror_mode": {
    "name": "ipython",
    "version": 3
   },
   "file_extension": ".py",
   "mimetype": "text/x-python",
   "name": "python",
   "nbconvert_exporter": "python",
   "pygments_lexer": "ipython3",
   "version": "3.7.6"
  },
  "varInspector": {
   "cols": {
    "lenName": 16,
    "lenType": 16,
    "lenVar": 40
   },
   "kernels_config": {
    "python": {
     "delete_cmd_postfix": "",
     "delete_cmd_prefix": "del ",
     "library": "var_list.py",
     "varRefreshCmd": "print(var_dic_list())"
    },
    "r": {
     "delete_cmd_postfix": ") ",
     "delete_cmd_prefix": "rm(",
     "library": "var_list.r",
     "varRefreshCmd": "cat(var_dic_list()) "
    }
   },
   "types_to_exclude": [
    "module",
    "function",
    "builtin_function_or_method",
    "instance",
    "_Feature"
   ],
   "window_display": false
  }
 },
 "nbformat": 4,
 "nbformat_minor": 2
}
